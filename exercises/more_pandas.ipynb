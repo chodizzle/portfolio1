{
  "nbformat": 4,
  "nbformat_minor": 0,
  "metadata": {
    "colab": {
      "name": "more_pandas.ipynb",
      "provenance": [],
      "mount_file_id": "133CViPEG9ZZGmz4yYKBOd3PxdN6hy9O6",
      "authorship_tag": "ABX9TyN/0c1D7aL+wQWoNjaHsxHw",
      "include_colab_link": true
    },
    "kernelspec": {
      "name": "python3",
      "display_name": "Python 3"
    },
    "language_info": {
      "name": "python"
    }
  },
  "cells": [
    {
      "cell_type": "markdown",
      "metadata": {
        "id": "view-in-github",
        "colab_type": "text"
      },
      "source": [
        "<a href=\"https://colab.research.google.com/github/chodizzle/portfolio1/blob/main/exercises/more_pandas.ipynb\" target=\"_parent\"><img src=\"https://colab.research.google.com/assets/colab-badge.svg\" alt=\"Open In Colab\"/></a>"
      ]
    },
    {
      "cell_type": "code",
      "metadata": {
        "id": "7miGvPNIrIAW"
      },
      "source": [
        "import pandas as pd\n",
        "import numpy as np"
      ],
      "execution_count": null,
      "outputs": []
    },
    {
      "cell_type": "code",
      "metadata": {
        "colab": {
          "base_uri": "https://localhost:8080/"
        },
        "id": "gH6DNQWLraNF",
        "outputId": "076ff00c-fc62-41f7-ad7b-3c14484c4422"
      },
      "source": [
        "%cd drive/MyDrive/Colab\\ Notebooks/developer_survey_2019"
      ],
      "execution_count": null,
      "outputs": [
        {
          "output_type": "stream",
          "text": [
            "/content/drive/MyDrive/Colab Notebooks/developer_survey_2019\n"
          ],
          "name": "stdout"
        }
      ]
    },
    {
      "cell_type": "code",
      "metadata": {
        "colab": {
          "base_uri": "https://localhost:8080/"
        },
        "id": "KprPSqfZs2z-",
        "outputId": "5de30db8-5853-45a1-a1f9-faae650d2651"
      },
      "source": [
        "%ls"
      ],
      "execution_count": null,
      "outputs": [
        {
          "output_type": "stream",
          "text": [
            "\u001b[0m\u001b[01;34m__MACOSX\u001b[0m/        so_survey_2019.pdf         survey_results_schema.csv\n",
            "README_2019.txt  survey_results_public.csv\n"
          ],
          "name": "stdout"
        }
      ]
    },
    {
      "cell_type": "code",
      "metadata": {
        "id": "hx4oxIW9s3Uu"
      },
      "source": [
        "df = pd.read_csv('survey_results_public.csv', index_col='Respondent')\n",
        "schema_df = pd.read_csv('survey_results_schema.csv', index_col='Column')"
      ],
      "execution_count": null,
      "outputs": []
    },
    {
      "cell_type": "code",
      "metadata": {
        "id": "v4hVAICHuYl5"
      },
      "source": [
        "pd.set_option('display.max_columns', 85)\n",
        "pd.set_option('display.max_rows', 85)"
      ],
      "execution_count": null,
      "outputs": []
    },
    {
      "cell_type": "code",
      "metadata": {
        "id": "mm7_ozRWt31Q",
        "colab": {
          "base_uri": "https://localhost:8080/",
          "height": 782
        },
        "outputId": "a2635dcd-611f-48b4-94c1-54b419d40066"
      },
      "source": [
        "df.head()"
      ],
      "execution_count": null,
      "outputs": [
        {
          "output_type": "execute_result",
          "data": {
            "text/html": [
              "<div>\n",
              "<style scoped>\n",
              "    .dataframe tbody tr th:only-of-type {\n",
              "        vertical-align: middle;\n",
              "    }\n",
              "\n",
              "    .dataframe tbody tr th {\n",
              "        vertical-align: top;\n",
              "    }\n",
              "\n",
              "    .dataframe thead th {\n",
              "        text-align: right;\n",
              "    }\n",
              "</style>\n",
              "<table border=\"1\" class=\"dataframe\">\n",
              "  <thead>\n",
              "    <tr style=\"text-align: right;\">\n",
              "      <th></th>\n",
              "      <th>MainBranch</th>\n",
              "      <th>Hobbyist</th>\n",
              "      <th>OpenSourcer</th>\n",
              "      <th>OpenSource</th>\n",
              "      <th>Employment</th>\n",
              "      <th>Country</th>\n",
              "      <th>Student</th>\n",
              "      <th>EdLevel</th>\n",
              "      <th>UndergradMajor</th>\n",
              "      <th>EduOther</th>\n",
              "      <th>OrgSize</th>\n",
              "      <th>DevType</th>\n",
              "      <th>YearsCode</th>\n",
              "      <th>Age1stCode</th>\n",
              "      <th>YearsCodePro</th>\n",
              "      <th>CareerSat</th>\n",
              "      <th>JobSat</th>\n",
              "      <th>MgrIdiot</th>\n",
              "      <th>MgrMoney</th>\n",
              "      <th>MgrWant</th>\n",
              "      <th>JobSeek</th>\n",
              "      <th>LastHireDate</th>\n",
              "      <th>LastInt</th>\n",
              "      <th>FizzBuzz</th>\n",
              "      <th>JobFactors</th>\n",
              "      <th>ResumeUpdate</th>\n",
              "      <th>CurrencySymbol</th>\n",
              "      <th>CurrencyDesc</th>\n",
              "      <th>CompTotal</th>\n",
              "      <th>CompFreq</th>\n",
              "      <th>ConvertedComp</th>\n",
              "      <th>WorkWeekHrs</th>\n",
              "      <th>WorkPlan</th>\n",
              "      <th>WorkChallenge</th>\n",
              "      <th>WorkRemote</th>\n",
              "      <th>WorkLoc</th>\n",
              "      <th>ImpSyn</th>\n",
              "      <th>CodeRev</th>\n",
              "      <th>CodeRevHrs</th>\n",
              "      <th>UnitTests</th>\n",
              "      <th>PurchaseHow</th>\n",
              "      <th>PurchaseWhat</th>\n",
              "      <th>LanguageWorkedWith</th>\n",
              "      <th>LanguageDesireNextYear</th>\n",
              "      <th>DatabaseWorkedWith</th>\n",
              "      <th>DatabaseDesireNextYear</th>\n",
              "      <th>PlatformWorkedWith</th>\n",
              "      <th>PlatformDesireNextYear</th>\n",
              "      <th>WebFrameWorkedWith</th>\n",
              "      <th>WebFrameDesireNextYear</th>\n",
              "      <th>MiscTechWorkedWith</th>\n",
              "      <th>MiscTechDesireNextYear</th>\n",
              "      <th>DevEnviron</th>\n",
              "      <th>OpSys</th>\n",
              "      <th>Containers</th>\n",
              "      <th>BlockchainOrg</th>\n",
              "      <th>BlockchainIs</th>\n",
              "      <th>BetterLife</th>\n",
              "      <th>ITperson</th>\n",
              "      <th>OffOn</th>\n",
              "      <th>SocialMedia</th>\n",
              "      <th>Extraversion</th>\n",
              "      <th>ScreenName</th>\n",
              "      <th>SOVisit1st</th>\n",
              "      <th>SOVisitFreq</th>\n",
              "      <th>SOVisitTo</th>\n",
              "      <th>SOFindAnswer</th>\n",
              "      <th>SOTimeSaved</th>\n",
              "      <th>SOHowMuchTime</th>\n",
              "      <th>SOAccount</th>\n",
              "      <th>SOPartFreq</th>\n",
              "      <th>SOJobs</th>\n",
              "      <th>EntTeams</th>\n",
              "      <th>SOComm</th>\n",
              "      <th>WelcomeChange</th>\n",
              "      <th>SONewContent</th>\n",
              "      <th>Age</th>\n",
              "      <th>Gender</th>\n",
              "      <th>Trans</th>\n",
              "      <th>Sexuality</th>\n",
              "      <th>Ethnicity</th>\n",
              "      <th>Dependents</th>\n",
              "      <th>SurveyLength</th>\n",
              "      <th>SurveyEase</th>\n",
              "    </tr>\n",
              "    <tr>\n",
              "      <th>Respondent</th>\n",
              "      <th></th>\n",
              "      <th></th>\n",
              "      <th></th>\n",
              "      <th></th>\n",
              "      <th></th>\n",
              "      <th></th>\n",
              "      <th></th>\n",
              "      <th></th>\n",
              "      <th></th>\n",
              "      <th></th>\n",
              "      <th></th>\n",
              "      <th></th>\n",
              "      <th></th>\n",
              "      <th></th>\n",
              "      <th></th>\n",
              "      <th></th>\n",
              "      <th></th>\n",
              "      <th></th>\n",
              "      <th></th>\n",
              "      <th></th>\n",
              "      <th></th>\n",
              "      <th></th>\n",
              "      <th></th>\n",
              "      <th></th>\n",
              "      <th></th>\n",
              "      <th></th>\n",
              "      <th></th>\n",
              "      <th></th>\n",
              "      <th></th>\n",
              "      <th></th>\n",
              "      <th></th>\n",
              "      <th></th>\n",
              "      <th></th>\n",
              "      <th></th>\n",
              "      <th></th>\n",
              "      <th></th>\n",
              "      <th></th>\n",
              "      <th></th>\n",
              "      <th></th>\n",
              "      <th></th>\n",
              "      <th></th>\n",
              "      <th></th>\n",
              "      <th></th>\n",
              "      <th></th>\n",
              "      <th></th>\n",
              "      <th></th>\n",
              "      <th></th>\n",
              "      <th></th>\n",
              "      <th></th>\n",
              "      <th></th>\n",
              "      <th></th>\n",
              "      <th></th>\n",
              "      <th></th>\n",
              "      <th></th>\n",
              "      <th></th>\n",
              "      <th></th>\n",
              "      <th></th>\n",
              "      <th></th>\n",
              "      <th></th>\n",
              "      <th></th>\n",
              "      <th></th>\n",
              "      <th></th>\n",
              "      <th></th>\n",
              "      <th></th>\n",
              "      <th></th>\n",
              "      <th></th>\n",
              "      <th></th>\n",
              "      <th></th>\n",
              "      <th></th>\n",
              "      <th></th>\n",
              "      <th></th>\n",
              "      <th></th>\n",
              "      <th></th>\n",
              "      <th></th>\n",
              "      <th></th>\n",
              "      <th></th>\n",
              "      <th></th>\n",
              "      <th></th>\n",
              "      <th></th>\n",
              "      <th></th>\n",
              "      <th></th>\n",
              "      <th></th>\n",
              "      <th></th>\n",
              "      <th></th>\n",
              "    </tr>\n",
              "  </thead>\n",
              "  <tbody>\n",
              "    <tr>\n",
              "      <th>1</th>\n",
              "      <td>I am a student who is learning to code</td>\n",
              "      <td>Yes</td>\n",
              "      <td>Never</td>\n",
              "      <td>The quality of OSS and closed source software ...</td>\n",
              "      <td>Not employed, and not looking for work</td>\n",
              "      <td>United Kingdom</td>\n",
              "      <td>No</td>\n",
              "      <td>Primary/elementary school</td>\n",
              "      <td>NaN</td>\n",
              "      <td>Taught yourself a new language, framework, or ...</td>\n",
              "      <td>NaN</td>\n",
              "      <td>NaN</td>\n",
              "      <td>4</td>\n",
              "      <td>10</td>\n",
              "      <td>NaN</td>\n",
              "      <td>NaN</td>\n",
              "      <td>NaN</td>\n",
              "      <td>NaN</td>\n",
              "      <td>NaN</td>\n",
              "      <td>NaN</td>\n",
              "      <td>NaN</td>\n",
              "      <td>NaN</td>\n",
              "      <td>NaN</td>\n",
              "      <td>NaN</td>\n",
              "      <td>NaN</td>\n",
              "      <td>NaN</td>\n",
              "      <td>NaN</td>\n",
              "      <td>NaN</td>\n",
              "      <td>NaN</td>\n",
              "      <td>NaN</td>\n",
              "      <td>NaN</td>\n",
              "      <td>NaN</td>\n",
              "      <td>NaN</td>\n",
              "      <td>NaN</td>\n",
              "      <td>NaN</td>\n",
              "      <td>NaN</td>\n",
              "      <td>NaN</td>\n",
              "      <td>NaN</td>\n",
              "      <td>NaN</td>\n",
              "      <td>NaN</td>\n",
              "      <td>NaN</td>\n",
              "      <td>NaN</td>\n",
              "      <td>HTML/CSS;Java;JavaScript;Python</td>\n",
              "      <td>C;C++;C#;Go;HTML/CSS;Java;JavaScript;Python;SQL</td>\n",
              "      <td>SQLite</td>\n",
              "      <td>MySQL</td>\n",
              "      <td>MacOS;Windows</td>\n",
              "      <td>Android;Arduino;Windows</td>\n",
              "      <td>Django;Flask</td>\n",
              "      <td>Flask;jQuery</td>\n",
              "      <td>Node.js</td>\n",
              "      <td>Node.js</td>\n",
              "      <td>IntelliJ;Notepad++;PyCharm</td>\n",
              "      <td>Windows</td>\n",
              "      <td>I do not use containers</td>\n",
              "      <td>NaN</td>\n",
              "      <td>NaN</td>\n",
              "      <td>Yes</td>\n",
              "      <td>Fortunately, someone else has that title</td>\n",
              "      <td>Yes</td>\n",
              "      <td>Twitter</td>\n",
              "      <td>Online</td>\n",
              "      <td>Username</td>\n",
              "      <td>2017</td>\n",
              "      <td>A few times per month or weekly</td>\n",
              "      <td>Find answers to specific questions;Learn how t...</td>\n",
              "      <td>3-5 times per week</td>\n",
              "      <td>Stack Overflow was much faster</td>\n",
              "      <td>31-60 minutes</td>\n",
              "      <td>No</td>\n",
              "      <td>NaN</td>\n",
              "      <td>No, I didn't know that Stack Overflow had a jo...</td>\n",
              "      <td>No, and I don't know what those are</td>\n",
              "      <td>Neutral</td>\n",
              "      <td>Just as welcome now as I felt last year</td>\n",
              "      <td>Tech articles written by other developers;Indu...</td>\n",
              "      <td>14.0</td>\n",
              "      <td>Man</td>\n",
              "      <td>No</td>\n",
              "      <td>Straight / Heterosexual</td>\n",
              "      <td>NaN</td>\n",
              "      <td>No</td>\n",
              "      <td>Appropriate in length</td>\n",
              "      <td>Neither easy nor difficult</td>\n",
              "    </tr>\n",
              "    <tr>\n",
              "      <th>2</th>\n",
              "      <td>I am a student who is learning to code</td>\n",
              "      <td>No</td>\n",
              "      <td>Less than once per year</td>\n",
              "      <td>The quality of OSS and closed source software ...</td>\n",
              "      <td>Not employed, but looking for work</td>\n",
              "      <td>Bosnia and Herzegovina</td>\n",
              "      <td>Yes, full-time</td>\n",
              "      <td>Secondary school (e.g. American high school, G...</td>\n",
              "      <td>NaN</td>\n",
              "      <td>Taken an online course in programming or softw...</td>\n",
              "      <td>NaN</td>\n",
              "      <td>Developer, desktop or enterprise applications;...</td>\n",
              "      <td>NaN</td>\n",
              "      <td>17</td>\n",
              "      <td>NaN</td>\n",
              "      <td>NaN</td>\n",
              "      <td>NaN</td>\n",
              "      <td>NaN</td>\n",
              "      <td>NaN</td>\n",
              "      <td>NaN</td>\n",
              "      <td>I am actively looking for a job</td>\n",
              "      <td>I've never had a job</td>\n",
              "      <td>NaN</td>\n",
              "      <td>NaN</td>\n",
              "      <td>Financial performance or funding status of the...</td>\n",
              "      <td>Something else changed (education, award, medi...</td>\n",
              "      <td>NaN</td>\n",
              "      <td>NaN</td>\n",
              "      <td>NaN</td>\n",
              "      <td>NaN</td>\n",
              "      <td>NaN</td>\n",
              "      <td>NaN</td>\n",
              "      <td>NaN</td>\n",
              "      <td>NaN</td>\n",
              "      <td>NaN</td>\n",
              "      <td>NaN</td>\n",
              "      <td>NaN</td>\n",
              "      <td>NaN</td>\n",
              "      <td>NaN</td>\n",
              "      <td>NaN</td>\n",
              "      <td>NaN</td>\n",
              "      <td>NaN</td>\n",
              "      <td>C++;HTML/CSS;Python</td>\n",
              "      <td>C++;HTML/CSS;JavaScript;SQL</td>\n",
              "      <td>NaN</td>\n",
              "      <td>MySQL</td>\n",
              "      <td>Windows</td>\n",
              "      <td>Windows</td>\n",
              "      <td>Django</td>\n",
              "      <td>Django</td>\n",
              "      <td>NaN</td>\n",
              "      <td>NaN</td>\n",
              "      <td>Atom;PyCharm</td>\n",
              "      <td>Windows</td>\n",
              "      <td>I do not use containers</td>\n",
              "      <td>NaN</td>\n",
              "      <td>Useful across many domains and could change ma...</td>\n",
              "      <td>Yes</td>\n",
              "      <td>Yes</td>\n",
              "      <td>Yes</td>\n",
              "      <td>Instagram</td>\n",
              "      <td>Online</td>\n",
              "      <td>Username</td>\n",
              "      <td>2017</td>\n",
              "      <td>Daily or almost daily</td>\n",
              "      <td>Find answers to specific questions;Learn how t...</td>\n",
              "      <td>3-5 times per week</td>\n",
              "      <td>Stack Overflow was much faster</td>\n",
              "      <td>11-30 minutes</td>\n",
              "      <td>Yes</td>\n",
              "      <td>A few times per month or weekly</td>\n",
              "      <td>No, I knew that Stack Overflow had a job board...</td>\n",
              "      <td>No, and I don't know what those are</td>\n",
              "      <td>Yes, somewhat</td>\n",
              "      <td>Just as welcome now as I felt last year</td>\n",
              "      <td>Tech articles written by other developers;Indu...</td>\n",
              "      <td>19.0</td>\n",
              "      <td>Man</td>\n",
              "      <td>No</td>\n",
              "      <td>Straight / Heterosexual</td>\n",
              "      <td>NaN</td>\n",
              "      <td>No</td>\n",
              "      <td>Appropriate in length</td>\n",
              "      <td>Neither easy nor difficult</td>\n",
              "    </tr>\n",
              "    <tr>\n",
              "      <th>3</th>\n",
              "      <td>I am not primarily a developer, but I write co...</td>\n",
              "      <td>Yes</td>\n",
              "      <td>Never</td>\n",
              "      <td>The quality of OSS and closed source software ...</td>\n",
              "      <td>Employed full-time</td>\n",
              "      <td>Thailand</td>\n",
              "      <td>No</td>\n",
              "      <td>Bachelor’s degree (BA, BS, B.Eng., etc.)</td>\n",
              "      <td>Web development or web design</td>\n",
              "      <td>Taught yourself a new language, framework, or ...</td>\n",
              "      <td>100 to 499 employees</td>\n",
              "      <td>Designer;Developer, back-end;Developer, front-...</td>\n",
              "      <td>3</td>\n",
              "      <td>22</td>\n",
              "      <td>1</td>\n",
              "      <td>Slightly satisfied</td>\n",
              "      <td>Slightly satisfied</td>\n",
              "      <td>Not at all confident</td>\n",
              "      <td>Not sure</td>\n",
              "      <td>Not sure</td>\n",
              "      <td>I’m not actively looking, but I am open to new...</td>\n",
              "      <td>1-2 years ago</td>\n",
              "      <td>Interview with people in peer roles</td>\n",
              "      <td>No</td>\n",
              "      <td>Languages, frameworks, and other technologies ...</td>\n",
              "      <td>I was preparing for a job search</td>\n",
              "      <td>THB</td>\n",
              "      <td>Thai baht</td>\n",
              "      <td>23000.0</td>\n",
              "      <td>Monthly</td>\n",
              "      <td>8820.0</td>\n",
              "      <td>40.0</td>\n",
              "      <td>There's no schedule or spec; I work on what se...</td>\n",
              "      <td>Distracting work environment;Inadequate access...</td>\n",
              "      <td>Less than once per month / Never</td>\n",
              "      <td>Home</td>\n",
              "      <td>Average</td>\n",
              "      <td>No</td>\n",
              "      <td>NaN</td>\n",
              "      <td>No, but I think we should</td>\n",
              "      <td>Not sure</td>\n",
              "      <td>I have little or no influence</td>\n",
              "      <td>HTML/CSS</td>\n",
              "      <td>Elixir;HTML/CSS</td>\n",
              "      <td>PostgreSQL</td>\n",
              "      <td>PostgreSQL</td>\n",
              "      <td>NaN</td>\n",
              "      <td>NaN</td>\n",
              "      <td>NaN</td>\n",
              "      <td>Other(s):</td>\n",
              "      <td>NaN</td>\n",
              "      <td>NaN</td>\n",
              "      <td>Vim;Visual Studio Code</td>\n",
              "      <td>Linux-based</td>\n",
              "      <td>I do not use containers</td>\n",
              "      <td>NaN</td>\n",
              "      <td>NaN</td>\n",
              "      <td>Yes</td>\n",
              "      <td>Yes</td>\n",
              "      <td>Yes</td>\n",
              "      <td>Reddit</td>\n",
              "      <td>In real life (in person)</td>\n",
              "      <td>Username</td>\n",
              "      <td>2011</td>\n",
              "      <td>A few times per week</td>\n",
              "      <td>Find answers to specific questions;Learn how t...</td>\n",
              "      <td>6-10 times per week</td>\n",
              "      <td>They were about the same</td>\n",
              "      <td>NaN</td>\n",
              "      <td>Yes</td>\n",
              "      <td>Less than once per month or monthly</td>\n",
              "      <td>Yes</td>\n",
              "      <td>No, I've heard of them, but I am not part of a...</td>\n",
              "      <td>Neutral</td>\n",
              "      <td>Just as welcome now as I felt last year</td>\n",
              "      <td>Tech meetups or events in your area;Courses on...</td>\n",
              "      <td>28.0</td>\n",
              "      <td>Man</td>\n",
              "      <td>No</td>\n",
              "      <td>Straight / Heterosexual</td>\n",
              "      <td>NaN</td>\n",
              "      <td>Yes</td>\n",
              "      <td>Appropriate in length</td>\n",
              "      <td>Neither easy nor difficult</td>\n",
              "    </tr>\n",
              "    <tr>\n",
              "      <th>4</th>\n",
              "      <td>I am a developer by profession</td>\n",
              "      <td>No</td>\n",
              "      <td>Never</td>\n",
              "      <td>The quality of OSS and closed source software ...</td>\n",
              "      <td>Employed full-time</td>\n",
              "      <td>United States</td>\n",
              "      <td>No</td>\n",
              "      <td>Bachelor’s degree (BA, BS, B.Eng., etc.)</td>\n",
              "      <td>Computer science, computer engineering, or sof...</td>\n",
              "      <td>Taken an online course in programming or softw...</td>\n",
              "      <td>100 to 499 employees</td>\n",
              "      <td>Developer, full-stack</td>\n",
              "      <td>3</td>\n",
              "      <td>16</td>\n",
              "      <td>Less than 1 year</td>\n",
              "      <td>Very satisfied</td>\n",
              "      <td>Slightly satisfied</td>\n",
              "      <td>Very confident</td>\n",
              "      <td>No</td>\n",
              "      <td>Not sure</td>\n",
              "      <td>I am not interested in new job opportunities</td>\n",
              "      <td>Less than a year ago</td>\n",
              "      <td>Write code by hand (e.g., on a whiteboard);Int...</td>\n",
              "      <td>No</td>\n",
              "      <td>Languages, frameworks, and other technologies ...</td>\n",
              "      <td>I was preparing for a job search</td>\n",
              "      <td>USD</td>\n",
              "      <td>United States dollar</td>\n",
              "      <td>61000.0</td>\n",
              "      <td>Yearly</td>\n",
              "      <td>61000.0</td>\n",
              "      <td>80.0</td>\n",
              "      <td>There's no schedule or spec; I work on what se...</td>\n",
              "      <td>NaN</td>\n",
              "      <td>Less than once per month / Never</td>\n",
              "      <td>Home</td>\n",
              "      <td>A little below average</td>\n",
              "      <td>No</td>\n",
              "      <td>NaN</td>\n",
              "      <td>No, but I think we should</td>\n",
              "      <td>Developers typically have the most influence o...</td>\n",
              "      <td>I have little or no influence</td>\n",
              "      <td>C;C++;C#;Python;SQL</td>\n",
              "      <td>C;C#;JavaScript;SQL</td>\n",
              "      <td>MySQL;SQLite</td>\n",
              "      <td>MySQL;SQLite</td>\n",
              "      <td>Linux;Windows</td>\n",
              "      <td>Linux;Windows</td>\n",
              "      <td>NaN</td>\n",
              "      <td>NaN</td>\n",
              "      <td>.NET</td>\n",
              "      <td>.NET</td>\n",
              "      <td>Eclipse;Vim;Visual Studio;Visual Studio Code</td>\n",
              "      <td>Windows</td>\n",
              "      <td>I do not use containers</td>\n",
              "      <td>Not at all</td>\n",
              "      <td>Useful for decentralized currency (i.e., Bitcoin)</td>\n",
              "      <td>Yes</td>\n",
              "      <td>SIGH</td>\n",
              "      <td>Yes</td>\n",
              "      <td>Reddit</td>\n",
              "      <td>In real life (in person)</td>\n",
              "      <td>Username</td>\n",
              "      <td>2014</td>\n",
              "      <td>Daily or almost daily</td>\n",
              "      <td>Find answers to specific questions;Pass the ti...</td>\n",
              "      <td>1-2 times per week</td>\n",
              "      <td>Stack Overflow was much faster</td>\n",
              "      <td>31-60 minutes</td>\n",
              "      <td>Yes</td>\n",
              "      <td>Less than once per month or monthly</td>\n",
              "      <td>Yes</td>\n",
              "      <td>No, and I don't know what those are</td>\n",
              "      <td>No, not really</td>\n",
              "      <td>Just as welcome now as I felt last year</td>\n",
              "      <td>Tech articles written by other developers;Indu...</td>\n",
              "      <td>22.0</td>\n",
              "      <td>Man</td>\n",
              "      <td>No</td>\n",
              "      <td>Straight / Heterosexual</td>\n",
              "      <td>White or of European descent</td>\n",
              "      <td>No</td>\n",
              "      <td>Appropriate in length</td>\n",
              "      <td>Easy</td>\n",
              "    </tr>\n",
              "    <tr>\n",
              "      <th>5</th>\n",
              "      <td>I am a developer by profession</td>\n",
              "      <td>Yes</td>\n",
              "      <td>Once a month or more often</td>\n",
              "      <td>OSS is, on average, of HIGHER quality than pro...</td>\n",
              "      <td>Employed full-time</td>\n",
              "      <td>Ukraine</td>\n",
              "      <td>No</td>\n",
              "      <td>Bachelor’s degree (BA, BS, B.Eng., etc.)</td>\n",
              "      <td>Computer science, computer engineering, or sof...</td>\n",
              "      <td>Taken an online course in programming or softw...</td>\n",
              "      <td>10,000 or more employees</td>\n",
              "      <td>Academic researcher;Developer, desktop or ente...</td>\n",
              "      <td>16</td>\n",
              "      <td>14</td>\n",
              "      <td>9</td>\n",
              "      <td>Very dissatisfied</td>\n",
              "      <td>Slightly dissatisfied</td>\n",
              "      <td>Somewhat confident</td>\n",
              "      <td>Yes</td>\n",
              "      <td>No</td>\n",
              "      <td>I am not interested in new job opportunities</td>\n",
              "      <td>Less than a year ago</td>\n",
              "      <td>Write any code;Write code by hand (e.g., on a ...</td>\n",
              "      <td>No</td>\n",
              "      <td>Industry that I'd be working in;Languages, fra...</td>\n",
              "      <td>I was preparing for a job search</td>\n",
              "      <td>UAH</td>\n",
              "      <td>Ukrainian hryvnia</td>\n",
              "      <td>NaN</td>\n",
              "      <td>NaN</td>\n",
              "      <td>NaN</td>\n",
              "      <td>55.0</td>\n",
              "      <td>There is a schedule and/or spec (made by me or...</td>\n",
              "      <td>Being tasked with non-development work;Inadequ...</td>\n",
              "      <td>A few days each month</td>\n",
              "      <td>Office</td>\n",
              "      <td>A little above average</td>\n",
              "      <td>Yes, because I see value in code review</td>\n",
              "      <td>NaN</td>\n",
              "      <td>Yes, it's part of our process</td>\n",
              "      <td>Not sure</td>\n",
              "      <td>I have little or no influence</td>\n",
              "      <td>C++;HTML/CSS;Java;JavaScript;Python;SQL;VBA</td>\n",
              "      <td>HTML/CSS;Java;JavaScript;SQL;WebAssembly</td>\n",
              "      <td>Couchbase;MongoDB;MySQL;Oracle;PostgreSQL;SQLite</td>\n",
              "      <td>Couchbase;Firebase;MongoDB;MySQL;Oracle;Postgr...</td>\n",
              "      <td>Android;Linux;MacOS;Slack;Windows</td>\n",
              "      <td>Android;Docker;Kubernetes;Linux;Slack</td>\n",
              "      <td>Django;Express;Flask;jQuery;React.js;Spring</td>\n",
              "      <td>Flask;jQuery;React.js;Spring</td>\n",
              "      <td>Cordova;Node.js</td>\n",
              "      <td>Apache Spark;Hadoop;Node.js;React Native</td>\n",
              "      <td>IntelliJ;Notepad++;Vim</td>\n",
              "      <td>Linux-based</td>\n",
              "      <td>Outside of work, for personal projects</td>\n",
              "      <td>Not at all</td>\n",
              "      <td>NaN</td>\n",
              "      <td>Yes</td>\n",
              "      <td>Also Yes</td>\n",
              "      <td>Yes</td>\n",
              "      <td>Facebook</td>\n",
              "      <td>In real life (in person)</td>\n",
              "      <td>Username</td>\n",
              "      <td>I don't remember</td>\n",
              "      <td>Multiple times per day</td>\n",
              "      <td>Find answers to specific questions</td>\n",
              "      <td>More than 10 times per week</td>\n",
              "      <td>Stack Overflow was much faster</td>\n",
              "      <td>NaN</td>\n",
              "      <td>Yes</td>\n",
              "      <td>A few times per month or weekly</td>\n",
              "      <td>No, I knew that Stack Overflow had a job board...</td>\n",
              "      <td>No, I've heard of them, but I am not part of a...</td>\n",
              "      <td>Yes, definitely</td>\n",
              "      <td>Just as welcome now as I felt last year</td>\n",
              "      <td>Tech meetups or events in your area;Courses on...</td>\n",
              "      <td>30.0</td>\n",
              "      <td>Man</td>\n",
              "      <td>No</td>\n",
              "      <td>Straight / Heterosexual</td>\n",
              "      <td>White or of European descent;Multiracial</td>\n",
              "      <td>No</td>\n",
              "      <td>Appropriate in length</td>\n",
              "      <td>Easy</td>\n",
              "    </tr>\n",
              "  </tbody>\n",
              "</table>\n",
              "</div>"
            ],
            "text/plain": [
              "                                                   MainBranch Hobbyist  \\\n",
              "Respondent                                                               \n",
              "1                      I am a student who is learning to code      Yes   \n",
              "2                      I am a student who is learning to code       No   \n",
              "3           I am not primarily a developer, but I write co...      Yes   \n",
              "4                              I am a developer by profession       No   \n",
              "5                              I am a developer by profession      Yes   \n",
              "\n",
              "                           OpenSourcer  \\\n",
              "Respondent                               \n",
              "1                                Never   \n",
              "2              Less than once per year   \n",
              "3                                Never   \n",
              "4                                Never   \n",
              "5           Once a month or more often   \n",
              "\n",
              "                                                   OpenSource  \\\n",
              "Respondent                                                      \n",
              "1           The quality of OSS and closed source software ...   \n",
              "2           The quality of OSS and closed source software ...   \n",
              "3           The quality of OSS and closed source software ...   \n",
              "4           The quality of OSS and closed source software ...   \n",
              "5           OSS is, on average, of HIGHER quality than pro...   \n",
              "\n",
              "                                        Employment                 Country  \\\n",
              "Respondent                                                                   \n",
              "1           Not employed, and not looking for work          United Kingdom   \n",
              "2               Not employed, but looking for work  Bosnia and Herzegovina   \n",
              "3                               Employed full-time                Thailand   \n",
              "4                               Employed full-time           United States   \n",
              "5                               Employed full-time                 Ukraine   \n",
              "\n",
              "                   Student                                            EdLevel  \\\n",
              "Respondent                                                                      \n",
              "1                       No                          Primary/elementary school   \n",
              "2           Yes, full-time  Secondary school (e.g. American high school, G...   \n",
              "3                       No           Bachelor’s degree (BA, BS, B.Eng., etc.)   \n",
              "4                       No           Bachelor’s degree (BA, BS, B.Eng., etc.)   \n",
              "5                       No           Bachelor’s degree (BA, BS, B.Eng., etc.)   \n",
              "\n",
              "                                               UndergradMajor  \\\n",
              "Respondent                                                      \n",
              "1                                                         NaN   \n",
              "2                                                         NaN   \n",
              "3                               Web development or web design   \n",
              "4           Computer science, computer engineering, or sof...   \n",
              "5           Computer science, computer engineering, or sof...   \n",
              "\n",
              "                                                     EduOther  \\\n",
              "Respondent                                                      \n",
              "1           Taught yourself a new language, framework, or ...   \n",
              "2           Taken an online course in programming or softw...   \n",
              "3           Taught yourself a new language, framework, or ...   \n",
              "4           Taken an online course in programming or softw...   \n",
              "5           Taken an online course in programming or softw...   \n",
              "\n",
              "                             OrgSize  \\\n",
              "Respondent                             \n",
              "1                                NaN   \n",
              "2                                NaN   \n",
              "3               100 to 499 employees   \n",
              "4               100 to 499 employees   \n",
              "5           10,000 or more employees   \n",
              "\n",
              "                                                      DevType YearsCode  \\\n",
              "Respondent                                                                \n",
              "1                                                         NaN         4   \n",
              "2           Developer, desktop or enterprise applications;...       NaN   \n",
              "3           Designer;Developer, back-end;Developer, front-...         3   \n",
              "4                                       Developer, full-stack         3   \n",
              "5           Academic researcher;Developer, desktop or ente...        16   \n",
              "\n",
              "           Age1stCode      YearsCodePro           CareerSat  \\\n",
              "Respondent                                                    \n",
              "1                  10               NaN                 NaN   \n",
              "2                  17               NaN                 NaN   \n",
              "3                  22                 1  Slightly satisfied   \n",
              "4                  16  Less than 1 year      Very satisfied   \n",
              "5                  14                 9   Very dissatisfied   \n",
              "\n",
              "                           JobSat              MgrIdiot  MgrMoney   MgrWant  \\\n",
              "Respondent                                                                    \n",
              "1                             NaN                   NaN       NaN       NaN   \n",
              "2                             NaN                   NaN       NaN       NaN   \n",
              "3              Slightly satisfied  Not at all confident  Not sure  Not sure   \n",
              "4              Slightly satisfied        Very confident        No  Not sure   \n",
              "5           Slightly dissatisfied    Somewhat confident       Yes        No   \n",
              "\n",
              "                                                      JobSeek  \\\n",
              "Respondent                                                      \n",
              "1                                                         NaN   \n",
              "2                             I am actively looking for a job   \n",
              "3           I’m not actively looking, but I am open to new...   \n",
              "4                I am not interested in new job opportunities   \n",
              "5                I am not interested in new job opportunities   \n",
              "\n",
              "                    LastHireDate  \\\n",
              "Respondent                         \n",
              "1                            NaN   \n",
              "2           I've never had a job   \n",
              "3                  1-2 years ago   \n",
              "4           Less than a year ago   \n",
              "5           Less than a year ago   \n",
              "\n",
              "                                                      LastInt FizzBuzz  \\\n",
              "Respondent                                                               \n",
              "1                                                         NaN      NaN   \n",
              "2                                                         NaN      NaN   \n",
              "3                         Interview with people in peer roles       No   \n",
              "4           Write code by hand (e.g., on a whiteboard);Int...       No   \n",
              "5           Write any code;Write code by hand (e.g., on a ...       No   \n",
              "\n",
              "                                                   JobFactors  \\\n",
              "Respondent                                                      \n",
              "1                                                         NaN   \n",
              "2           Financial performance or funding status of the...   \n",
              "3           Languages, frameworks, and other technologies ...   \n",
              "4           Languages, frameworks, and other technologies ...   \n",
              "5           Industry that I'd be working in;Languages, fra...   \n",
              "\n",
              "                                                 ResumeUpdate CurrencySymbol  \\\n",
              "Respondent                                                                     \n",
              "1                                                         NaN            NaN   \n",
              "2           Something else changed (education, award, medi...            NaN   \n",
              "3                            I was preparing for a job search            THB   \n",
              "4                            I was preparing for a job search            USD   \n",
              "5                            I was preparing for a job search            UAH   \n",
              "\n",
              "                    CurrencyDesc  CompTotal CompFreq  ConvertedComp  \\\n",
              "Respondent                                                            \n",
              "1                            NaN        NaN      NaN            NaN   \n",
              "2                            NaN        NaN      NaN            NaN   \n",
              "3                      Thai baht    23000.0  Monthly         8820.0   \n",
              "4           United States dollar    61000.0   Yearly        61000.0   \n",
              "5              Ukrainian hryvnia        NaN      NaN            NaN   \n",
              "\n",
              "            WorkWeekHrs                                           WorkPlan  \\\n",
              "Respondent                                                                   \n",
              "1                   NaN                                                NaN   \n",
              "2                   NaN                                                NaN   \n",
              "3                  40.0  There's no schedule or spec; I work on what se...   \n",
              "4                  80.0  There's no schedule or spec; I work on what se...   \n",
              "5                  55.0  There is a schedule and/or spec (made by me or...   \n",
              "\n",
              "                                                WorkChallenge  \\\n",
              "Respondent                                                      \n",
              "1                                                         NaN   \n",
              "2                                                         NaN   \n",
              "3           Distracting work environment;Inadequate access...   \n",
              "4                                                         NaN   \n",
              "5           Being tasked with non-development work;Inadequ...   \n",
              "\n",
              "                                  WorkRemote WorkLoc                  ImpSyn  \\\n",
              "Respondent                                                                     \n",
              "1                                        NaN     NaN                     NaN   \n",
              "2                                        NaN     NaN                     NaN   \n",
              "3           Less than once per month / Never    Home                 Average   \n",
              "4           Less than once per month / Never    Home  A little below average   \n",
              "5                      A few days each month  Office  A little above average   \n",
              "\n",
              "                                            CodeRev  CodeRevHrs  \\\n",
              "Respondent                                                        \n",
              "1                                               NaN         NaN   \n",
              "2                                               NaN         NaN   \n",
              "3                                                No         NaN   \n",
              "4                                                No         NaN   \n",
              "5           Yes, because I see value in code review         NaN   \n",
              "\n",
              "                                UnitTests  \\\n",
              "Respondent                                  \n",
              "1                                     NaN   \n",
              "2                                     NaN   \n",
              "3               No, but I think we should   \n",
              "4               No, but I think we should   \n",
              "5           Yes, it's part of our process   \n",
              "\n",
              "                                                  PurchaseHow  \\\n",
              "Respondent                                                      \n",
              "1                                                         NaN   \n",
              "2                                                         NaN   \n",
              "3                                                    Not sure   \n",
              "4           Developers typically have the most influence o...   \n",
              "5                                                    Not sure   \n",
              "\n",
              "                             PurchaseWhat  \\\n",
              "Respondent                                  \n",
              "1                                     NaN   \n",
              "2                                     NaN   \n",
              "3           I have little or no influence   \n",
              "4           I have little or no influence   \n",
              "5           I have little or no influence   \n",
              "\n",
              "                                     LanguageWorkedWith  \\\n",
              "Respondent                                                \n",
              "1                       HTML/CSS;Java;JavaScript;Python   \n",
              "2                                   C++;HTML/CSS;Python   \n",
              "3                                              HTML/CSS   \n",
              "4                                   C;C++;C#;Python;SQL   \n",
              "5           C++;HTML/CSS;Java;JavaScript;Python;SQL;VBA   \n",
              "\n",
              "                                     LanguageDesireNextYear  \\\n",
              "Respondent                                                    \n",
              "1           C;C++;C#;Go;HTML/CSS;Java;JavaScript;Python;SQL   \n",
              "2                               C++;HTML/CSS;JavaScript;SQL   \n",
              "3                                           Elixir;HTML/CSS   \n",
              "4                                       C;C#;JavaScript;SQL   \n",
              "5                  HTML/CSS;Java;JavaScript;SQL;WebAssembly   \n",
              "\n",
              "                                          DatabaseWorkedWith  \\\n",
              "Respondent                                                     \n",
              "1                                                     SQLite   \n",
              "2                                                        NaN   \n",
              "3                                                 PostgreSQL   \n",
              "4                                               MySQL;SQLite   \n",
              "5           Couchbase;MongoDB;MySQL;Oracle;PostgreSQL;SQLite   \n",
              "\n",
              "                                       DatabaseDesireNextYear  \\\n",
              "Respondent                                                      \n",
              "1                                                       MySQL   \n",
              "2                                                       MySQL   \n",
              "3                                                  PostgreSQL   \n",
              "4                                                MySQL;SQLite   \n",
              "5           Couchbase;Firebase;MongoDB;MySQL;Oracle;Postgr...   \n",
              "\n",
              "                           PlatformWorkedWith  \\\n",
              "Respondent                                      \n",
              "1                               MacOS;Windows   \n",
              "2                                     Windows   \n",
              "3                                         NaN   \n",
              "4                               Linux;Windows   \n",
              "5           Android;Linux;MacOS;Slack;Windows   \n",
              "\n",
              "                           PlatformDesireNextYear  \\\n",
              "Respondent                                          \n",
              "1                         Android;Arduino;Windows   \n",
              "2                                         Windows   \n",
              "3                                             NaN   \n",
              "4                                   Linux;Windows   \n",
              "5           Android;Docker;Kubernetes;Linux;Slack   \n",
              "\n",
              "                                     WebFrameWorkedWith  \\\n",
              "Respondent                                                \n",
              "1                                          Django;Flask   \n",
              "2                                                Django   \n",
              "3                                                   NaN   \n",
              "4                                                   NaN   \n",
              "5           Django;Express;Flask;jQuery;React.js;Spring   \n",
              "\n",
              "                  WebFrameDesireNextYear MiscTechWorkedWith  \\\n",
              "Respondent                                                    \n",
              "1                           Flask;jQuery            Node.js   \n",
              "2                                 Django                NaN   \n",
              "3                              Other(s):                NaN   \n",
              "4                                    NaN               .NET   \n",
              "5           Flask;jQuery;React.js;Spring    Cordova;Node.js   \n",
              "\n",
              "                              MiscTechDesireNextYear  \\\n",
              "Respondent                                             \n",
              "1                                            Node.js   \n",
              "2                                                NaN   \n",
              "3                                                NaN   \n",
              "4                                               .NET   \n",
              "5           Apache Spark;Hadoop;Node.js;React Native   \n",
              "\n",
              "                                              DevEnviron        OpSys  \\\n",
              "Respondent                                                              \n",
              "1                             IntelliJ;Notepad++;PyCharm      Windows   \n",
              "2                                           Atom;PyCharm      Windows   \n",
              "3                                 Vim;Visual Studio Code  Linux-based   \n",
              "4           Eclipse;Vim;Visual Studio;Visual Studio Code      Windows   \n",
              "5                                 IntelliJ;Notepad++;Vim  Linux-based   \n",
              "\n",
              "                                        Containers BlockchainOrg  \\\n",
              "Respondent                                                         \n",
              "1                          I do not use containers           NaN   \n",
              "2                          I do not use containers           NaN   \n",
              "3                          I do not use containers           NaN   \n",
              "4                          I do not use containers    Not at all   \n",
              "5           Outside of work, for personal projects    Not at all   \n",
              "\n",
              "                                                 BlockchainIs BetterLife  \\\n",
              "Respondent                                                                 \n",
              "1                                                         NaN        Yes   \n",
              "2           Useful across many domains and could change ma...        Yes   \n",
              "3                                                         NaN        Yes   \n",
              "4           Useful for decentralized currency (i.e., Bitcoin)        Yes   \n",
              "5                                                         NaN        Yes   \n",
              "\n",
              "                                            ITperson OffOn SocialMedia  \\\n",
              "Respondent                                                               \n",
              "1           Fortunately, someone else has that title   Yes     Twitter   \n",
              "2                                                Yes   Yes   Instagram   \n",
              "3                                                Yes   Yes      Reddit   \n",
              "4                                               SIGH   Yes      Reddit   \n",
              "5                                           Also Yes   Yes    Facebook   \n",
              "\n",
              "                        Extraversion ScreenName        SOVisit1st  \\\n",
              "Respondent                                                          \n",
              "1                             Online   Username              2017   \n",
              "2                             Online   Username              2017   \n",
              "3           In real life (in person)   Username              2011   \n",
              "4           In real life (in person)   Username              2014   \n",
              "5           In real life (in person)   Username  I don't remember   \n",
              "\n",
              "                                SOVisitFreq  \\\n",
              "Respondent                                    \n",
              "1           A few times per month or weekly   \n",
              "2                     Daily or almost daily   \n",
              "3                      A few times per week   \n",
              "4                     Daily or almost daily   \n",
              "5                    Multiple times per day   \n",
              "\n",
              "                                                    SOVisitTo  \\\n",
              "Respondent                                                      \n",
              "1           Find answers to specific questions;Learn how t...   \n",
              "2           Find answers to specific questions;Learn how t...   \n",
              "3           Find answers to specific questions;Learn how t...   \n",
              "4           Find answers to specific questions;Pass the ti...   \n",
              "5                          Find answers to specific questions   \n",
              "\n",
              "                           SOFindAnswer                     SOTimeSaved  \\\n",
              "Respondent                                                                \n",
              "1                    3-5 times per week  Stack Overflow was much faster   \n",
              "2                    3-5 times per week  Stack Overflow was much faster   \n",
              "3                   6-10 times per week        They were about the same   \n",
              "4                    1-2 times per week  Stack Overflow was much faster   \n",
              "5           More than 10 times per week  Stack Overflow was much faster   \n",
              "\n",
              "            SOHowMuchTime SOAccount                           SOPartFreq  \\\n",
              "Respondent                                                                 \n",
              "1           31-60 minutes        No                                  NaN   \n",
              "2           11-30 minutes       Yes      A few times per month or weekly   \n",
              "3                     NaN       Yes  Less than once per month or monthly   \n",
              "4           31-60 minutes       Yes  Less than once per month or monthly   \n",
              "5                     NaN       Yes      A few times per month or weekly   \n",
              "\n",
              "                                                       SOJobs  \\\n",
              "Respondent                                                      \n",
              "1           No, I didn't know that Stack Overflow had a jo...   \n",
              "2           No, I knew that Stack Overflow had a job board...   \n",
              "3                                                         Yes   \n",
              "4                                                         Yes   \n",
              "5           No, I knew that Stack Overflow had a job board...   \n",
              "\n",
              "                                                     EntTeams  \\\n",
              "Respondent                                                      \n",
              "1                         No, and I don't know what those are   \n",
              "2                         No, and I don't know what those are   \n",
              "3           No, I've heard of them, but I am not part of a...   \n",
              "4                         No, and I don't know what those are   \n",
              "5           No, I've heard of them, but I am not part of a...   \n",
              "\n",
              "                     SOComm                            WelcomeChange  \\\n",
              "Respondent                                                             \n",
              "1                   Neutral  Just as welcome now as I felt last year   \n",
              "2             Yes, somewhat  Just as welcome now as I felt last year   \n",
              "3                   Neutral  Just as welcome now as I felt last year   \n",
              "4            No, not really  Just as welcome now as I felt last year   \n",
              "5           Yes, definitely  Just as welcome now as I felt last year   \n",
              "\n",
              "                                                 SONewContent   Age Gender  \\\n",
              "Respondent                                                                   \n",
              "1           Tech articles written by other developers;Indu...  14.0    Man   \n",
              "2           Tech articles written by other developers;Indu...  19.0    Man   \n",
              "3           Tech meetups or events in your area;Courses on...  28.0    Man   \n",
              "4           Tech articles written by other developers;Indu...  22.0    Man   \n",
              "5           Tech meetups or events in your area;Courses on...  30.0    Man   \n",
              "\n",
              "           Trans                Sexuality  \\\n",
              "Respondent                                  \n",
              "1             No  Straight / Heterosexual   \n",
              "2             No  Straight / Heterosexual   \n",
              "3             No  Straight / Heterosexual   \n",
              "4             No  Straight / Heterosexual   \n",
              "5             No  Straight / Heterosexual   \n",
              "\n",
              "                                           Ethnicity Dependents  \\\n",
              "Respondent                                                        \n",
              "1                                                NaN         No   \n",
              "2                                                NaN         No   \n",
              "3                                                NaN        Yes   \n",
              "4                       White or of European descent         No   \n",
              "5           White or of European descent;Multiracial         No   \n",
              "\n",
              "                     SurveyLength                  SurveyEase  \n",
              "Respondent                                                     \n",
              "1           Appropriate in length  Neither easy nor difficult  \n",
              "2           Appropriate in length  Neither easy nor difficult  \n",
              "3           Appropriate in length  Neither easy nor difficult  \n",
              "4           Appropriate in length                        Easy  \n",
              "5           Appropriate in length                        Easy  "
            ]
          },
          "metadata": {
            "tags": []
          },
          "execution_count": 84
        }
      ]
    },
    {
      "cell_type": "code",
      "metadata": {
        "id": "YAXMEjJ6va_w",
        "colab": {
          "base_uri": "https://localhost:8080/",
          "height": 1000
        },
        "outputId": "9204b404-d54b-4d6d-aaec-15dd0bf6ce07"
      },
      "source": [
        "schema_df"
      ],
      "execution_count": null,
      "outputs": [
        {
          "output_type": "execute_result",
          "data": {
            "text/html": [
              "<div>\n",
              "<style scoped>\n",
              "    .dataframe tbody tr th:only-of-type {\n",
              "        vertical-align: middle;\n",
              "    }\n",
              "\n",
              "    .dataframe tbody tr th {\n",
              "        vertical-align: top;\n",
              "    }\n",
              "\n",
              "    .dataframe thead th {\n",
              "        text-align: right;\n",
              "    }\n",
              "</style>\n",
              "<table border=\"1\" class=\"dataframe\">\n",
              "  <thead>\n",
              "    <tr style=\"text-align: right;\">\n",
              "      <th></th>\n",
              "      <th>Column</th>\n",
              "      <th>QuestionText</th>\n",
              "    </tr>\n",
              "  </thead>\n",
              "  <tbody>\n",
              "    <tr>\n",
              "      <th>0</th>\n",
              "      <td>Respondent</td>\n",
              "      <td>Randomized respondent ID number (not in order ...</td>\n",
              "    </tr>\n",
              "    <tr>\n",
              "      <th>1</th>\n",
              "      <td>MainBranch</td>\n",
              "      <td>Which of the following options best describes ...</td>\n",
              "    </tr>\n",
              "    <tr>\n",
              "      <th>2</th>\n",
              "      <td>Hobbyist</td>\n",
              "      <td>Do you code as a hobby?</td>\n",
              "    </tr>\n",
              "    <tr>\n",
              "      <th>3</th>\n",
              "      <td>OpenSourcer</td>\n",
              "      <td>How often do you contribute to open source?</td>\n",
              "    </tr>\n",
              "    <tr>\n",
              "      <th>4</th>\n",
              "      <td>OpenSource</td>\n",
              "      <td>How do you feel about the quality of open sour...</td>\n",
              "    </tr>\n",
              "    <tr>\n",
              "      <th>5</th>\n",
              "      <td>Employment</td>\n",
              "      <td>Which of the following best describes your cur...</td>\n",
              "    </tr>\n",
              "    <tr>\n",
              "      <th>6</th>\n",
              "      <td>Country</td>\n",
              "      <td>In which country do you currently reside?</td>\n",
              "    </tr>\n",
              "    <tr>\n",
              "      <th>7</th>\n",
              "      <td>Student</td>\n",
              "      <td>Are you currently enrolled in a formal, degree...</td>\n",
              "    </tr>\n",
              "    <tr>\n",
              "      <th>8</th>\n",
              "      <td>EdLevel</td>\n",
              "      <td>Which of the following best describes the high...</td>\n",
              "    </tr>\n",
              "    <tr>\n",
              "      <th>9</th>\n",
              "      <td>UndergradMajor</td>\n",
              "      <td>What was your main or most important field of ...</td>\n",
              "    </tr>\n",
              "    <tr>\n",
              "      <th>10</th>\n",
              "      <td>EduOther</td>\n",
              "      <td>Which of the following types of non-degree edu...</td>\n",
              "    </tr>\n",
              "    <tr>\n",
              "      <th>11</th>\n",
              "      <td>OrgSize</td>\n",
              "      <td>Approximately how many people are employed by ...</td>\n",
              "    </tr>\n",
              "    <tr>\n",
              "      <th>12</th>\n",
              "      <td>DevType</td>\n",
              "      <td>Which of the following describe you? Please se...</td>\n",
              "    </tr>\n",
              "    <tr>\n",
              "      <th>13</th>\n",
              "      <td>YearsCode</td>\n",
              "      <td>Including any education, how many years have y...</td>\n",
              "    </tr>\n",
              "    <tr>\n",
              "      <th>14</th>\n",
              "      <td>Age1stCode</td>\n",
              "      <td>At what age did you write your first line of c...</td>\n",
              "    </tr>\n",
              "    <tr>\n",
              "      <th>15</th>\n",
              "      <td>YearsCodePro</td>\n",
              "      <td>How many years have you coded professionally (...</td>\n",
              "    </tr>\n",
              "    <tr>\n",
              "      <th>16</th>\n",
              "      <td>CareerSat</td>\n",
              "      <td>Overall, how satisfied are you with your caree...</td>\n",
              "    </tr>\n",
              "    <tr>\n",
              "      <th>17</th>\n",
              "      <td>JobSat</td>\n",
              "      <td>How satisfied are you with your current job? (...</td>\n",
              "    </tr>\n",
              "    <tr>\n",
              "      <th>18</th>\n",
              "      <td>MgrIdiot</td>\n",
              "      <td>How confident are you that your manager knows ...</td>\n",
              "    </tr>\n",
              "    <tr>\n",
              "      <th>19</th>\n",
              "      <td>MgrMoney</td>\n",
              "      <td>Do you believe that you need to be a manager t...</td>\n",
              "    </tr>\n",
              "    <tr>\n",
              "      <th>20</th>\n",
              "      <td>MgrWant</td>\n",
              "      <td>Do you want to become a manager yourself in th...</td>\n",
              "    </tr>\n",
              "    <tr>\n",
              "      <th>21</th>\n",
              "      <td>JobSeek</td>\n",
              "      <td>Which of the following best describes your cur...</td>\n",
              "    </tr>\n",
              "    <tr>\n",
              "      <th>22</th>\n",
              "      <td>LastHireDate</td>\n",
              "      <td>When was the last time that you took a job wit...</td>\n",
              "    </tr>\n",
              "    <tr>\n",
              "      <th>23</th>\n",
              "      <td>LastInt</td>\n",
              "      <td>In your most recent successful job interview (...</td>\n",
              "    </tr>\n",
              "    <tr>\n",
              "      <th>24</th>\n",
              "      <td>FizzBuzz</td>\n",
              "      <td>Have you ever been asked to solve FizzBuzz in ...</td>\n",
              "    </tr>\n",
              "    <tr>\n",
              "      <th>25</th>\n",
              "      <td>JobFactors</td>\n",
              "      <td>Imagine that you are deciding between two job ...</td>\n",
              "    </tr>\n",
              "    <tr>\n",
              "      <th>26</th>\n",
              "      <td>ResumeUpdate</td>\n",
              "      <td>Think back to the last time you updated your r...</td>\n",
              "    </tr>\n",
              "    <tr>\n",
              "      <th>27</th>\n",
              "      <td>CurrencySymbol</td>\n",
              "      <td>Which currency do you use day-to-day? If your ...</td>\n",
              "    </tr>\n",
              "    <tr>\n",
              "      <th>28</th>\n",
              "      <td>CurrencyDesc</td>\n",
              "      <td>Which currency do you use day-to-day? If your ...</td>\n",
              "    </tr>\n",
              "    <tr>\n",
              "      <th>29</th>\n",
              "      <td>CompTotal</td>\n",
              "      <td>What is your current total compensation (salar...</td>\n",
              "    </tr>\n",
              "    <tr>\n",
              "      <th>30</th>\n",
              "      <td>CompFreq</td>\n",
              "      <td>Is that compensation weekly, monthly, or yearly?</td>\n",
              "    </tr>\n",
              "    <tr>\n",
              "      <th>31</th>\n",
              "      <td>ConvertedComp</td>\n",
              "      <td>Salary converted to annual USD salaries using ...</td>\n",
              "    </tr>\n",
              "    <tr>\n",
              "      <th>32</th>\n",
              "      <td>WorkWeekHrs</td>\n",
              "      <td>On average, how many hours per week do you work?</td>\n",
              "    </tr>\n",
              "    <tr>\n",
              "      <th>33</th>\n",
              "      <td>WorkPlan</td>\n",
              "      <td>How structured or planned is your work?</td>\n",
              "    </tr>\n",
              "    <tr>\n",
              "      <th>34</th>\n",
              "      <td>WorkChallenge</td>\n",
              "      <td>Of these options, what are your greatest chall...</td>\n",
              "    </tr>\n",
              "    <tr>\n",
              "      <th>35</th>\n",
              "      <td>WorkRemote</td>\n",
              "      <td>How often do you work remotely?</td>\n",
              "    </tr>\n",
              "    <tr>\n",
              "      <th>36</th>\n",
              "      <td>WorkLoc</td>\n",
              "      <td>Where would you prefer to work?</td>\n",
              "    </tr>\n",
              "    <tr>\n",
              "      <th>37</th>\n",
              "      <td>ImpSyn</td>\n",
              "      <td>For the specific work you do, and the years of...</td>\n",
              "    </tr>\n",
              "    <tr>\n",
              "      <th>38</th>\n",
              "      <td>CodeRev</td>\n",
              "      <td>Do you review code as part of your work?</td>\n",
              "    </tr>\n",
              "    <tr>\n",
              "      <th>39</th>\n",
              "      <td>CodeRevHrs</td>\n",
              "      <td>On average, how many hours per week do you spe...</td>\n",
              "    </tr>\n",
              "    <tr>\n",
              "      <th>40</th>\n",
              "      <td>UnitTests</td>\n",
              "      <td>Does your company regularly employ unit tests ...</td>\n",
              "    </tr>\n",
              "    <tr>\n",
              "      <th>41</th>\n",
              "      <td>PurchaseHow</td>\n",
              "      <td>How does your company make decisions about pur...</td>\n",
              "    </tr>\n",
              "    <tr>\n",
              "      <th>42</th>\n",
              "      <td>PurchaseWhat</td>\n",
              "      <td>What level of influence do you, personally, ha...</td>\n",
              "    </tr>\n",
              "    <tr>\n",
              "      <th>43</th>\n",
              "      <td>LanguageWorkedWith</td>\n",
              "      <td>Which of the following programming, scripting,...</td>\n",
              "    </tr>\n",
              "    <tr>\n",
              "      <th>44</th>\n",
              "      <td>LanguageDesireNextYear</td>\n",
              "      <td>Which of the following programming, scripting,...</td>\n",
              "    </tr>\n",
              "    <tr>\n",
              "      <th>45</th>\n",
              "      <td>DatabaseWorkedWith</td>\n",
              "      <td>Which of the following database environments h...</td>\n",
              "    </tr>\n",
              "    <tr>\n",
              "      <th>46</th>\n",
              "      <td>DatabaseDesireNextYear</td>\n",
              "      <td>Which of the following database environments h...</td>\n",
              "    </tr>\n",
              "    <tr>\n",
              "      <th>47</th>\n",
              "      <td>PlatformWorkedWith</td>\n",
              "      <td>Which of the following platforms have you done...</td>\n",
              "    </tr>\n",
              "    <tr>\n",
              "      <th>48</th>\n",
              "      <td>PlatformDesireNextYear</td>\n",
              "      <td>Which of the following platforms have you done...</td>\n",
              "    </tr>\n",
              "    <tr>\n",
              "      <th>49</th>\n",
              "      <td>WebFrameWorkedWith</td>\n",
              "      <td>Which of the following web frameworks have you...</td>\n",
              "    </tr>\n",
              "    <tr>\n",
              "      <th>50</th>\n",
              "      <td>WebFrameDesireNextYear</td>\n",
              "      <td>Which of the following web frameworks have you...</td>\n",
              "    </tr>\n",
              "    <tr>\n",
              "      <th>51</th>\n",
              "      <td>MiscTechWorkedWith</td>\n",
              "      <td>Which of the following other frameworks, libra...</td>\n",
              "    </tr>\n",
              "    <tr>\n",
              "      <th>52</th>\n",
              "      <td>MiscTechDesireNextYear</td>\n",
              "      <td>Which of the following other frameworks, libra...</td>\n",
              "    </tr>\n",
              "    <tr>\n",
              "      <th>53</th>\n",
              "      <td>DevEnviron</td>\n",
              "      <td>Which development environment(s) do you use re...</td>\n",
              "    </tr>\n",
              "    <tr>\n",
              "      <th>54</th>\n",
              "      <td>OpSys</td>\n",
              "      <td>What is the primary operating system in which ...</td>\n",
              "    </tr>\n",
              "    <tr>\n",
              "      <th>55</th>\n",
              "      <td>Containers</td>\n",
              "      <td>How do you use containers (Docker, Open Contai...</td>\n",
              "    </tr>\n",
              "    <tr>\n",
              "      <th>56</th>\n",
              "      <td>BlockchainOrg</td>\n",
              "      <td>How is your organization thinking about or imp...</td>\n",
              "    </tr>\n",
              "    <tr>\n",
              "      <th>57</th>\n",
              "      <td>BlockchainIs</td>\n",
              "      <td>Blockchain / cryptocurrency technology is prim...</td>\n",
              "    </tr>\n",
              "    <tr>\n",
              "      <th>58</th>\n",
              "      <td>BetterLife</td>\n",
              "      <td>Do you think people born today will have a bet...</td>\n",
              "    </tr>\n",
              "    <tr>\n",
              "      <th>59</th>\n",
              "      <td>ITperson</td>\n",
              "      <td>Are you the \"IT support person\" for your family?</td>\n",
              "    </tr>\n",
              "    <tr>\n",
              "      <th>60</th>\n",
              "      <td>OffOn</td>\n",
              "      <td>Have you tried turning it off and on again?</td>\n",
              "    </tr>\n",
              "    <tr>\n",
              "      <th>61</th>\n",
              "      <td>SocialMedia</td>\n",
              "      <td>What social media site do you use the most?</td>\n",
              "    </tr>\n",
              "    <tr>\n",
              "      <th>62</th>\n",
              "      <td>Extraversion</td>\n",
              "      <td>Do you prefer online chat or IRL conversations?</td>\n",
              "    </tr>\n",
              "    <tr>\n",
              "      <th>63</th>\n",
              "      <td>ScreenName</td>\n",
              "      <td>What do you call it?</td>\n",
              "    </tr>\n",
              "    <tr>\n",
              "      <th>64</th>\n",
              "      <td>SOVisit1st</td>\n",
              "      <td>To the best of your memory, when did you first...</td>\n",
              "    </tr>\n",
              "    <tr>\n",
              "      <th>65</th>\n",
              "      <td>SOVisitFreq</td>\n",
              "      <td>How frequently would you say you visit Stack O...</td>\n",
              "    </tr>\n",
              "    <tr>\n",
              "      <th>66</th>\n",
              "      <td>SOVisitTo</td>\n",
              "      <td>I visit Stack Overflow to... (check all that a...</td>\n",
              "    </tr>\n",
              "    <tr>\n",
              "      <th>67</th>\n",
              "      <td>SOFindAnswer</td>\n",
              "      <td>On average, how many times a week do you find ...</td>\n",
              "    </tr>\n",
              "    <tr>\n",
              "      <th>68</th>\n",
              "      <td>SOTimeSaved</td>\n",
              "      <td>Think back to the last time you solved a codin...</td>\n",
              "    </tr>\n",
              "    <tr>\n",
              "      <th>69</th>\n",
              "      <td>SOHowMuchTime</td>\n",
              "      <td>About how much time did you save? If you're no...</td>\n",
              "    </tr>\n",
              "    <tr>\n",
              "      <th>70</th>\n",
              "      <td>SOAccount</td>\n",
              "      <td>Do you have a Stack Overflow account?</td>\n",
              "    </tr>\n",
              "    <tr>\n",
              "      <th>71</th>\n",
              "      <td>SOPartFreq</td>\n",
              "      <td>How frequently would you say you participate i...</td>\n",
              "    </tr>\n",
              "    <tr>\n",
              "      <th>72</th>\n",
              "      <td>SOJobs</td>\n",
              "      <td>Have you ever used or visited Stack Overflow J...</td>\n",
              "    </tr>\n",
              "    <tr>\n",
              "      <th>73</th>\n",
              "      <td>EntTeams</td>\n",
              "      <td>Have you ever used Stack Overflow for Enterpri...</td>\n",
              "    </tr>\n",
              "    <tr>\n",
              "      <th>74</th>\n",
              "      <td>SOComm</td>\n",
              "      <td>Do you consider yourself a member of the Stack...</td>\n",
              "    </tr>\n",
              "    <tr>\n",
              "      <th>75</th>\n",
              "      <td>WelcomeChange</td>\n",
              "      <td>Compared to last year, how welcome do you feel...</td>\n",
              "    </tr>\n",
              "    <tr>\n",
              "      <th>76</th>\n",
              "      <td>SONewContent</td>\n",
              "      <td>Would you like to see any of the following on ...</td>\n",
              "    </tr>\n",
              "    <tr>\n",
              "      <th>77</th>\n",
              "      <td>Age</td>\n",
              "      <td>What is your age (in years)? If you prefer not...</td>\n",
              "    </tr>\n",
              "    <tr>\n",
              "      <th>78</th>\n",
              "      <td>Gender</td>\n",
              "      <td>Which of the following do you currently identi...</td>\n",
              "    </tr>\n",
              "    <tr>\n",
              "      <th>79</th>\n",
              "      <td>Trans</td>\n",
              "      <td>Do you identify as transgender?</td>\n",
              "    </tr>\n",
              "    <tr>\n",
              "      <th>80</th>\n",
              "      <td>Sexuality</td>\n",
              "      <td>Which of the following do you currently identi...</td>\n",
              "    </tr>\n",
              "    <tr>\n",
              "      <th>81</th>\n",
              "      <td>Ethnicity</td>\n",
              "      <td>Which of the following do you identify as? Ple...</td>\n",
              "    </tr>\n",
              "    <tr>\n",
              "      <th>82</th>\n",
              "      <td>Dependents</td>\n",
              "      <td>Do you have any dependents (e.g., children, el...</td>\n",
              "    </tr>\n",
              "    <tr>\n",
              "      <th>83</th>\n",
              "      <td>SurveyLength</td>\n",
              "      <td>How do you feel about the length of the survey...</td>\n",
              "    </tr>\n",
              "    <tr>\n",
              "      <th>84</th>\n",
              "      <td>SurveyEase</td>\n",
              "      <td>How easy or difficult was this survey to compl...</td>\n",
              "    </tr>\n",
              "  </tbody>\n",
              "</table>\n",
              "</div>"
            ],
            "text/plain": [
              "                    Column                                       QuestionText\n",
              "0               Respondent  Randomized respondent ID number (not in order ...\n",
              "1               MainBranch  Which of the following options best describes ...\n",
              "2                 Hobbyist                            Do you code as a hobby?\n",
              "3              OpenSourcer        How often do you contribute to open source?\n",
              "4               OpenSource  How do you feel about the quality of open sour...\n",
              "5               Employment  Which of the following best describes your cur...\n",
              "6                  Country          In which country do you currently reside?\n",
              "7                  Student  Are you currently enrolled in a formal, degree...\n",
              "8                  EdLevel  Which of the following best describes the high...\n",
              "9           UndergradMajor  What was your main or most important field of ...\n",
              "10                EduOther  Which of the following types of non-degree edu...\n",
              "11                 OrgSize  Approximately how many people are employed by ...\n",
              "12                 DevType  Which of the following describe you? Please se...\n",
              "13               YearsCode  Including any education, how many years have y...\n",
              "14              Age1stCode  At what age did you write your first line of c...\n",
              "15            YearsCodePro  How many years have you coded professionally (...\n",
              "16               CareerSat  Overall, how satisfied are you with your caree...\n",
              "17                  JobSat  How satisfied are you with your current job? (...\n",
              "18                MgrIdiot  How confident are you that your manager knows ...\n",
              "19                MgrMoney  Do you believe that you need to be a manager t...\n",
              "20                 MgrWant  Do you want to become a manager yourself in th...\n",
              "21                 JobSeek  Which of the following best describes your cur...\n",
              "22            LastHireDate  When was the last time that you took a job wit...\n",
              "23                 LastInt  In your most recent successful job interview (...\n",
              "24                FizzBuzz  Have you ever been asked to solve FizzBuzz in ...\n",
              "25              JobFactors  Imagine that you are deciding between two job ...\n",
              "26            ResumeUpdate  Think back to the last time you updated your r...\n",
              "27          CurrencySymbol  Which currency do you use day-to-day? If your ...\n",
              "28            CurrencyDesc  Which currency do you use day-to-day? If your ...\n",
              "29               CompTotal  What is your current total compensation (salar...\n",
              "30                CompFreq   Is that compensation weekly, monthly, or yearly?\n",
              "31           ConvertedComp  Salary converted to annual USD salaries using ...\n",
              "32             WorkWeekHrs   On average, how many hours per week do you work?\n",
              "33                WorkPlan            How structured or planned is your work?\n",
              "34           WorkChallenge  Of these options, what are your greatest chall...\n",
              "35              WorkRemote                    How often do you work remotely?\n",
              "36                 WorkLoc                    Where would you prefer to work?\n",
              "37                  ImpSyn  For the specific work you do, and the years of...\n",
              "38                 CodeRev           Do you review code as part of your work?\n",
              "39              CodeRevHrs  On average, how many hours per week do you spe...\n",
              "40               UnitTests  Does your company regularly employ unit tests ...\n",
              "41             PurchaseHow  How does your company make decisions about pur...\n",
              "42            PurchaseWhat  What level of influence do you, personally, ha...\n",
              "43      LanguageWorkedWith  Which of the following programming, scripting,...\n",
              "44  LanguageDesireNextYear  Which of the following programming, scripting,...\n",
              "45      DatabaseWorkedWith  Which of the following database environments h...\n",
              "46  DatabaseDesireNextYear  Which of the following database environments h...\n",
              "47      PlatformWorkedWith  Which of the following platforms have you done...\n",
              "48  PlatformDesireNextYear  Which of the following platforms have you done...\n",
              "49      WebFrameWorkedWith  Which of the following web frameworks have you...\n",
              "50  WebFrameDesireNextYear  Which of the following web frameworks have you...\n",
              "51      MiscTechWorkedWith  Which of the following other frameworks, libra...\n",
              "52  MiscTechDesireNextYear  Which of the following other frameworks, libra...\n",
              "53              DevEnviron  Which development environment(s) do you use re...\n",
              "54                   OpSys  What is the primary operating system in which ...\n",
              "55              Containers  How do you use containers (Docker, Open Contai...\n",
              "56           BlockchainOrg  How is your organization thinking about or imp...\n",
              "57            BlockchainIs  Blockchain / cryptocurrency technology is prim...\n",
              "58              BetterLife  Do you think people born today will have a bet...\n",
              "59                ITperson   Are you the \"IT support person\" for your family?\n",
              "60                   OffOn        Have you tried turning it off and on again?\n",
              "61             SocialMedia        What social media site do you use the most?\n",
              "62            Extraversion    Do you prefer online chat or IRL conversations?\n",
              "63              ScreenName                               What do you call it?\n",
              "64              SOVisit1st  To the best of your memory, when did you first...\n",
              "65             SOVisitFreq  How frequently would you say you visit Stack O...\n",
              "66               SOVisitTo  I visit Stack Overflow to... (check all that a...\n",
              "67            SOFindAnswer  On average, how many times a week do you find ...\n",
              "68             SOTimeSaved  Think back to the last time you solved a codin...\n",
              "69           SOHowMuchTime  About how much time did you save? If you're no...\n",
              "70               SOAccount              Do you have a Stack Overflow account?\n",
              "71              SOPartFreq  How frequently would you say you participate i...\n",
              "72                  SOJobs  Have you ever used or visited Stack Overflow J...\n",
              "73                EntTeams  Have you ever used Stack Overflow for Enterpri...\n",
              "74                  SOComm  Do you consider yourself a member of the Stack...\n",
              "75           WelcomeChange  Compared to last year, how welcome do you feel...\n",
              "76            SONewContent  Would you like to see any of the following on ...\n",
              "77                     Age  What is your age (in years)? If you prefer not...\n",
              "78                  Gender  Which of the following do you currently identi...\n",
              "79                   Trans                    Do you identify as transgender?\n",
              "80               Sexuality  Which of the following do you currently identi...\n",
              "81               Ethnicity  Which of the following do you identify as? Ple...\n",
              "82              Dependents  Do you have any dependents (e.g., children, el...\n",
              "83            SurveyLength  How do you feel about the length of the survey...\n",
              "84              SurveyEase  How easy or difficult was this survey to compl..."
            ]
          },
          "metadata": {
            "tags": []
          },
          "execution_count": 7
        }
      ]
    },
    {
      "cell_type": "code",
      "metadata": {
        "id": "OHB1HLCw2sm-"
      },
      "source": [
        "# whats a DF in terms of Python datastructures?\n",
        "person = {\n",
        "    \"first\" : \"Corey\",\n",
        "    \"last\" : \"Schafer\",\n",
        "    \"email\": \"CoreyMScafer@gmail.com\"\n",
        "}\n",
        "\n",
        "people = {\n",
        "    \"first\" : [\"Corey\"],\n",
        "    \"last\" : [\"Schafer\"],\n",
        "    \"email\": [\"CoreyMScafer@gmail.com\"]\n",
        "}\n",
        "\n",
        "people = {\n",
        "    \"first\" : [\"Corey\", 'Jane', 'John'],\n",
        "    \"last\" : [\"Schafer\", 'Doe', 'Doe'],\n",
        "    \"email\": [\"CoreyMScafer@gmail.com\", 'janedoe@gmail.com', 'johndoe@gmail.com']\n",
        "}"
      ],
      "execution_count": null,
      "outputs": []
    },
    {
      "cell_type": "code",
      "metadata": {
        "colab": {
          "base_uri": "https://localhost:8080/"
        },
        "id": "8xtpA_Vp2qt9",
        "outputId": "d985c87a-8385-4fbb-a5aa-9523367818f3"
      },
      "source": [
        "people['email']"
      ],
      "execution_count": null,
      "outputs": [
        {
          "output_type": "execute_result",
          "data": {
            "text/plain": [
              "['CoreyMScafer@gmail.com', 'janedoe@gmail.com', 'johndoe@gmail.com']"
            ]
          },
          "metadata": {
            "tags": []
          },
          "execution_count": 9
        }
      ]
    },
    {
      "cell_type": "code",
      "metadata": {
        "colab": {
          "base_uri": "https://localhost:8080/"
        },
        "id": "GMPAayOY3qu-",
        "outputId": "cabdb98e-4959-4e3e-c079-10762ca6e443"
      },
      "source": [
        "people\n",
        "# rooks berry ugry unlike the df version berow"
      ],
      "execution_count": null,
      "outputs": [
        {
          "output_type": "execute_result",
          "data": {
            "text/plain": [
              "{'email': ['CoreyMScafer@gmail.com', 'janedoe@gmail.com', 'johndoe@gmail.com'],\n",
              " 'first': ['Corey', 'Jane', 'John'],\n",
              " 'last': ['Schafer', 'Doe', 'Doe']}"
            ]
          },
          "metadata": {
            "tags": []
          },
          "execution_count": 10
        }
      ]
    },
    {
      "cell_type": "code",
      "metadata": {
        "id": "t4Oo-5Al3eDL"
      },
      "source": [
        "people_df = pd.DataFrame(people)"
      ],
      "execution_count": null,
      "outputs": []
    },
    {
      "cell_type": "code",
      "metadata": {
        "colab": {
          "base_uri": "https://localhost:8080/",
          "height": 142
        },
        "id": "uhaJ7PCO3l1e",
        "outputId": "54a85123-114e-4abb-a53e-8d43139ef2a3"
      },
      "source": [
        "people_df"
      ],
      "execution_count": null,
      "outputs": [
        {
          "output_type": "execute_result",
          "data": {
            "text/html": [
              "<div>\n",
              "<style scoped>\n",
              "    .dataframe tbody tr th:only-of-type {\n",
              "        vertical-align: middle;\n",
              "    }\n",
              "\n",
              "    .dataframe tbody tr th {\n",
              "        vertical-align: top;\n",
              "    }\n",
              "\n",
              "    .dataframe thead th {\n",
              "        text-align: right;\n",
              "    }\n",
              "</style>\n",
              "<table border=\"1\" class=\"dataframe\">\n",
              "  <thead>\n",
              "    <tr style=\"text-align: right;\">\n",
              "      <th></th>\n",
              "      <th>first</th>\n",
              "      <th>last</th>\n",
              "      <th>email</th>\n",
              "    </tr>\n",
              "  </thead>\n",
              "  <tbody>\n",
              "    <tr>\n",
              "      <th>0</th>\n",
              "      <td>Corey</td>\n",
              "      <td>Schafer</td>\n",
              "      <td>CoreyMScafer@gmail.com</td>\n",
              "    </tr>\n",
              "    <tr>\n",
              "      <th>1</th>\n",
              "      <td>Jane</td>\n",
              "      <td>Doe</td>\n",
              "      <td>janedoe@gmail.com</td>\n",
              "    </tr>\n",
              "    <tr>\n",
              "      <th>2</th>\n",
              "      <td>John</td>\n",
              "      <td>Doe</td>\n",
              "      <td>johndoe@gmail.com</td>\n",
              "    </tr>\n",
              "  </tbody>\n",
              "</table>\n",
              "</div>"
            ],
            "text/plain": [
              "   first     last                   email\n",
              "0  Corey  Schafer  CoreyMScafer@gmail.com\n",
              "1   Jane      Doe       janedoe@gmail.com\n",
              "2   John      Doe       johndoe@gmail.com"
            ]
          },
          "metadata": {
            "tags": []
          },
          "execution_count": 12
        }
      ]
    },
    {
      "cell_type": "code",
      "metadata": {
        "colab": {
          "base_uri": "https://localhost:8080/"
        },
        "id": "KZR3uQ1C-Nr5",
        "outputId": "85b53e7e-daeb-41b6-ac1a-64d2b6447cb9"
      },
      "source": [
        "people_df['email'], people_df.email\n",
        "# these are the same!\n",
        "# cs likes the brackets because... if column_name == df.attr, then we can't access data using . notation\n",
        "# for example, column name is 'count'. then people_df.count runs the method instead of retrieving column data"
      ],
      "execution_count": null,
      "outputs": [
        {
          "output_type": "execute_result",
          "data": {
            "text/plain": [
              "(0    CoreyMScafer@gmail.com\n",
              " 1         janedoe@gmail.com\n",
              " 2         johndoe@gmail.com\n",
              " Name: email, dtype: object, 0    CoreyMScafer@gmail.com\n",
              " 1         janedoe@gmail.com\n",
              " 2         johndoe@gmail.com\n",
              " Name: email, dtype: object)"
            ]
          },
          "metadata": {
            "tags": []
          },
          "execution_count": 13
        }
      ]
    },
    {
      "cell_type": "code",
      "metadata": {
        "colab": {
          "base_uri": "https://localhost:8080/"
        },
        "id": "Hh_pUvN1-Y2H",
        "outputId": "2b25278b-8964-4625-b184-df6312094510"
      },
      "source": [
        "type(people_df['email'])"
      ],
      "execution_count": null,
      "outputs": [
        {
          "output_type": "execute_result",
          "data": {
            "text/plain": [
              "pandas.core.series.Series"
            ]
          },
          "metadata": {
            "tags": []
          },
          "execution_count": 14
        }
      ]
    },
    {
      "cell_type": "code",
      "metadata": {
        "colab": {
          "base_uri": "https://localhost:8080/",
          "height": 142
        },
        "id": "mSVmhl39-lxr",
        "outputId": "9be76cfa-0d4c-4db2-9add-cbd06a017d88"
      },
      "source": [
        "people_df[['last', 'email']]\n",
        "# feeding list into brackets to get multiple columns. MULTI-INDEXING"
      ],
      "execution_count": null,
      "outputs": [
        {
          "output_type": "execute_result",
          "data": {
            "text/html": [
              "<div>\n",
              "<style scoped>\n",
              "    .dataframe tbody tr th:only-of-type {\n",
              "        vertical-align: middle;\n",
              "    }\n",
              "\n",
              "    .dataframe tbody tr th {\n",
              "        vertical-align: top;\n",
              "    }\n",
              "\n",
              "    .dataframe thead th {\n",
              "        text-align: right;\n",
              "    }\n",
              "</style>\n",
              "<table border=\"1\" class=\"dataframe\">\n",
              "  <thead>\n",
              "    <tr style=\"text-align: right;\">\n",
              "      <th></th>\n",
              "      <th>last</th>\n",
              "      <th>email</th>\n",
              "    </tr>\n",
              "  </thead>\n",
              "  <tbody>\n",
              "    <tr>\n",
              "      <th>0</th>\n",
              "      <td>Schafer</td>\n",
              "      <td>CoreyMScafer@gmail.com</td>\n",
              "    </tr>\n",
              "    <tr>\n",
              "      <th>1</th>\n",
              "      <td>Doe</td>\n",
              "      <td>janedoe@gmail.com</td>\n",
              "    </tr>\n",
              "    <tr>\n",
              "      <th>2</th>\n",
              "      <td>Doe</td>\n",
              "      <td>johndoe@gmail.com</td>\n",
              "    </tr>\n",
              "  </tbody>\n",
              "</table>\n",
              "</div>"
            ],
            "text/plain": [
              "      last                   email\n",
              "0  Schafer  CoreyMScafer@gmail.com\n",
              "1      Doe       janedoe@gmail.com\n",
              "2      Doe       johndoe@gmail.com"
            ]
          },
          "metadata": {
            "tags": []
          },
          "execution_count": 15
        }
      ]
    },
    {
      "cell_type": "code",
      "metadata": {
        "colab": {
          "base_uri": "https://localhost:8080/"
        },
        "id": "8LIyY9Jx_wQf",
        "outputId": "78125702-df36-4968-87dd-de9b507f6566"
      },
      "source": [
        "# to get rows, use loc and iloc\n",
        "people_df.iloc[0] #this returns a series\n",
        "# index of the result is the column name"
      ],
      "execution_count": null,
      "outputs": [
        {
          "output_type": "execute_result",
          "data": {
            "text/plain": [
              "first                     Corey\n",
              "last                    Schafer\n",
              "email    CoreyMScafer@gmail.com\n",
              "Name: 0, dtype: object"
            ]
          },
          "metadata": {
            "tags": []
          },
          "execution_count": 16
        }
      ]
    },
    {
      "cell_type": "code",
      "metadata": {
        "colab": {
          "base_uri": "https://localhost:8080/",
          "height": 111
        },
        "id": "eo81svrw_mzN",
        "outputId": "68550b46-2907-4488-9974-215c773a5333"
      },
      "source": [
        "people_df.iloc[[0, 1]]\n",
        "# returns a df with rows 0 and 1"
      ],
      "execution_count": null,
      "outputs": [
        {
          "output_type": "execute_result",
          "data": {
            "text/html": [
              "<div>\n",
              "<style scoped>\n",
              "    .dataframe tbody tr th:only-of-type {\n",
              "        vertical-align: middle;\n",
              "    }\n",
              "\n",
              "    .dataframe tbody tr th {\n",
              "        vertical-align: top;\n",
              "    }\n",
              "\n",
              "    .dataframe thead th {\n",
              "        text-align: right;\n",
              "    }\n",
              "</style>\n",
              "<table border=\"1\" class=\"dataframe\">\n",
              "  <thead>\n",
              "    <tr style=\"text-align: right;\">\n",
              "      <th></th>\n",
              "      <th>first</th>\n",
              "      <th>last</th>\n",
              "      <th>email</th>\n",
              "    </tr>\n",
              "  </thead>\n",
              "  <tbody>\n",
              "    <tr>\n",
              "      <th>0</th>\n",
              "      <td>Corey</td>\n",
              "      <td>Schafer</td>\n",
              "      <td>CoreyMScafer@gmail.com</td>\n",
              "    </tr>\n",
              "    <tr>\n",
              "      <th>1</th>\n",
              "      <td>Jane</td>\n",
              "      <td>Doe</td>\n",
              "      <td>janedoe@gmail.com</td>\n",
              "    </tr>\n",
              "  </tbody>\n",
              "</table>\n",
              "</div>"
            ],
            "text/plain": [
              "   first     last                   email\n",
              "0  Corey  Schafer  CoreyMScafer@gmail.com\n",
              "1   Jane      Doe       janedoe@gmail.com"
            ]
          },
          "metadata": {
            "tags": []
          },
          "execution_count": 17
        }
      ]
    },
    {
      "cell_type": "code",
      "metadata": {
        "colab": {
          "base_uri": "https://localhost:8080/"
        },
        "id": "CVVlBVdCAhVM",
        "outputId": "c86f7321-ff1a-405d-86cf-dbceccea4375"
      },
      "source": [
        "people_df.iloc[[0,1], 2], type(people_df.iloc[[0,1], 2])"
      ],
      "execution_count": null,
      "outputs": [
        {
          "output_type": "execute_result",
          "data": {
            "text/plain": [
              "(0    CoreyMScafer@gmail.com\n",
              " 1         janedoe@gmail.com\n",
              " Name: email, dtype: object, pandas.core.series.Series)"
            ]
          },
          "metadata": {
            "tags": []
          },
          "execution_count": 18
        }
      ]
    },
    {
      "cell_type": "code",
      "metadata": {
        "colab": {
          "base_uri": "https://localhost:8080/"
        },
        "id": "KM2ru4lhArNv",
        "outputId": "d5f17626-d313-4f16-c386-223034e031c7"
      },
      "source": [
        "people_df.iloc[[0,1], [2]], type(people_df.iloc[[0,1], [2]])"
      ],
      "execution_count": null,
      "outputs": [
        {
          "output_type": "execute_result",
          "data": {
            "text/plain": [
              "(                    email\n",
              " 0  CoreyMScafer@gmail.com\n",
              " 1       janedoe@gmail.com, pandas.core.frame.DataFrame)"
            ]
          },
          "metadata": {
            "tags": []
          },
          "execution_count": 19
        }
      ]
    },
    {
      "cell_type": "code",
      "metadata": {
        "colab": {
          "base_uri": "https://localhost:8080/"
        },
        "id": "t--OFvn4A24k",
        "outputId": "371557df-0140-414c-b2b7-1abbc8c8088f"
      },
      "source": [
        "people_df.loc[0]\n",
        "# 0 works as reference as the index name is 0 for row 0..."
      ],
      "execution_count": null,
      "outputs": [
        {
          "output_type": "execute_result",
          "data": {
            "text/plain": [
              "first                     Corey\n",
              "last                    Schafer\n",
              "email    CoreyMScafer@gmail.com\n",
              "Name: 0, dtype: object"
            ]
          },
          "metadata": {
            "tags": []
          },
          "execution_count": 20
        }
      ]
    },
    {
      "cell_type": "code",
      "metadata": {
        "colab": {
          "base_uri": "https://localhost:8080/",
          "height": 111
        },
        "id": "abq4rnc6A9Il",
        "outputId": "4265f0a6-45ff-494d-98cb-71edb5e11587"
      },
      "source": [
        "people_df.loc[[0, 1]]"
      ],
      "execution_count": null,
      "outputs": [
        {
          "output_type": "execute_result",
          "data": {
            "text/html": [
              "<div>\n",
              "<style scoped>\n",
              "    .dataframe tbody tr th:only-of-type {\n",
              "        vertical-align: middle;\n",
              "    }\n",
              "\n",
              "    .dataframe tbody tr th {\n",
              "        vertical-align: top;\n",
              "    }\n",
              "\n",
              "    .dataframe thead th {\n",
              "        text-align: right;\n",
              "    }\n",
              "</style>\n",
              "<table border=\"1\" class=\"dataframe\">\n",
              "  <thead>\n",
              "    <tr style=\"text-align: right;\">\n",
              "      <th></th>\n",
              "      <th>first</th>\n",
              "      <th>last</th>\n",
              "      <th>email</th>\n",
              "    </tr>\n",
              "  </thead>\n",
              "  <tbody>\n",
              "    <tr>\n",
              "      <th>0</th>\n",
              "      <td>Corey</td>\n",
              "      <td>Schafer</td>\n",
              "      <td>CoreyMScafer@gmail.com</td>\n",
              "    </tr>\n",
              "    <tr>\n",
              "      <th>1</th>\n",
              "      <td>Jane</td>\n",
              "      <td>Doe</td>\n",
              "      <td>janedoe@gmail.com</td>\n",
              "    </tr>\n",
              "  </tbody>\n",
              "</table>\n",
              "</div>"
            ],
            "text/plain": [
              "   first     last                   email\n",
              "0  Corey  Schafer  CoreyMScafer@gmail.com\n",
              "1   Jane      Doe       janedoe@gmail.com"
            ]
          },
          "metadata": {
            "tags": []
          },
          "execution_count": 21
        }
      ]
    },
    {
      "cell_type": "code",
      "metadata": {
        "colab": {
          "base_uri": "https://localhost:8080/"
        },
        "id": "J28r8cPEBJuY",
        "outputId": "7aa8042a-9b23-4709-9f86-0354f7a53beb"
      },
      "source": [
        "people_df.loc[[0,1], 'email']\n",
        "# we have to pass in column NAME not position because LOC"
      ],
      "execution_count": null,
      "outputs": [
        {
          "output_type": "execute_result",
          "data": {
            "text/plain": [
              "0    CoreyMScafer@gmail.com\n",
              "1         janedoe@gmail.com\n",
              "Name: email, dtype: object"
            ]
          },
          "metadata": {
            "tags": []
          },
          "execution_count": 22
        }
      ]
    },
    {
      "cell_type": "code",
      "metadata": {
        "colab": {
          "base_uri": "https://localhost:8080/",
          "height": 111
        },
        "id": "77OfmdDRBNOJ",
        "outputId": "387ca067-2fd7-4b7d-faae-17aab171e3ba"
      },
      "source": [
        "people_df.loc[[0,1], ['email', 'last']]"
      ],
      "execution_count": null,
      "outputs": [
        {
          "output_type": "execute_result",
          "data": {
            "text/html": [
              "<div>\n",
              "<style scoped>\n",
              "    .dataframe tbody tr th:only-of-type {\n",
              "        vertical-align: middle;\n",
              "    }\n",
              "\n",
              "    .dataframe tbody tr th {\n",
              "        vertical-align: top;\n",
              "    }\n",
              "\n",
              "    .dataframe thead th {\n",
              "        text-align: right;\n",
              "    }\n",
              "</style>\n",
              "<table border=\"1\" class=\"dataframe\">\n",
              "  <thead>\n",
              "    <tr style=\"text-align: right;\">\n",
              "      <th></th>\n",
              "      <th>email</th>\n",
              "      <th>last</th>\n",
              "    </tr>\n",
              "  </thead>\n",
              "  <tbody>\n",
              "    <tr>\n",
              "      <th>0</th>\n",
              "      <td>CoreyMScafer@gmail.com</td>\n",
              "      <td>Schafer</td>\n",
              "    </tr>\n",
              "    <tr>\n",
              "      <th>1</th>\n",
              "      <td>janedoe@gmail.com</td>\n",
              "      <td>Doe</td>\n",
              "    </tr>\n",
              "  </tbody>\n",
              "</table>\n",
              "</div>"
            ],
            "text/plain": [
              "                    email     last\n",
              "0  CoreyMScafer@gmail.com  Schafer\n",
              "1       janedoe@gmail.com      Doe"
            ]
          },
          "metadata": {
            "tags": []
          },
          "execution_count": 23
        }
      ]
    },
    {
      "cell_type": "markdown",
      "metadata": {
        "id": "rjLhHuwKBWqs"
      },
      "source": [
        "back to main df from stackoverflow survey results\n"
      ]
    },
    {
      "cell_type": "code",
      "metadata": {
        "colab": {
          "base_uri": "https://localhost:8080/"
        },
        "id": "cpWo7KHtBu1i",
        "outputId": "da56814a-e2f3-431b-c2e4-45c9633be596"
      },
      "source": [
        "df.shape"
      ],
      "execution_count": null,
      "outputs": [
        {
          "output_type": "execute_result",
          "data": {
            "text/plain": [
              "(88883, 85)"
            ]
          },
          "metadata": {
            "tags": []
          },
          "execution_count": 24
        }
      ]
    },
    {
      "cell_type": "code",
      "metadata": {
        "colab": {
          "base_uri": "https://localhost:8080/"
        },
        "id": "2NNcJH21CNBs",
        "outputId": "4ddf71cd-fa80-44a7-893d-5f2455c58817"
      },
      "source": [
        "df.columns"
      ],
      "execution_count": null,
      "outputs": [
        {
          "output_type": "execute_result",
          "data": {
            "text/plain": [
              "Index(['Respondent', 'MainBranch', 'Hobbyist', 'OpenSourcer', 'OpenSource',\n",
              "       'Employment', 'Country', 'Student', 'EdLevel', 'UndergradMajor',\n",
              "       'EduOther', 'OrgSize', 'DevType', 'YearsCode', 'Age1stCode',\n",
              "       'YearsCodePro', 'CareerSat', 'JobSat', 'MgrIdiot', 'MgrMoney',\n",
              "       'MgrWant', 'JobSeek', 'LastHireDate', 'LastInt', 'FizzBuzz',\n",
              "       'JobFactors', 'ResumeUpdate', 'CurrencySymbol', 'CurrencyDesc',\n",
              "       'CompTotal', 'CompFreq', 'ConvertedComp', 'WorkWeekHrs', 'WorkPlan',\n",
              "       'WorkChallenge', 'WorkRemote', 'WorkLoc', 'ImpSyn', 'CodeRev',\n",
              "       'CodeRevHrs', 'UnitTests', 'PurchaseHow', 'PurchaseWhat',\n",
              "       'LanguageWorkedWith', 'LanguageDesireNextYear', 'DatabaseWorkedWith',\n",
              "       'DatabaseDesireNextYear', 'PlatformWorkedWith',\n",
              "       'PlatformDesireNextYear', 'WebFrameWorkedWith',\n",
              "       'WebFrameDesireNextYear', 'MiscTechWorkedWith',\n",
              "       'MiscTechDesireNextYear', 'DevEnviron', 'OpSys', 'Containers',\n",
              "       'BlockchainOrg', 'BlockchainIs', 'BetterLife', 'ITperson', 'OffOn',\n",
              "       'SocialMedia', 'Extraversion', 'ScreenName', 'SOVisit1st',\n",
              "       'SOVisitFreq', 'SOVisitTo', 'SOFindAnswer', 'SOTimeSaved',\n",
              "       'SOHowMuchTime', 'SOAccount', 'SOPartFreq', 'SOJobs', 'EntTeams',\n",
              "       'SOComm', 'WelcomeChange', 'SONewContent', 'Age', 'Gender', 'Trans',\n",
              "       'Sexuality', 'Ethnicity', 'Dependents', 'SurveyLength', 'SurveyEase'],\n",
              "      dtype='object')"
            ]
          },
          "metadata": {
            "tags": []
          },
          "execution_count": 25
        }
      ]
    },
    {
      "cell_type": "code",
      "metadata": {
        "colab": {
          "base_uri": "https://localhost:8080/"
        },
        "id": "I9ywTjZGB2ck",
        "outputId": "ecea1dcd-bcb6-4b45-8a22-78b31e06a0cd"
      },
      "source": [
        "df['Hobbyist']"
      ],
      "execution_count": null,
      "outputs": [
        {
          "output_type": "execute_result",
          "data": {
            "text/plain": [
              "0        Yes\n",
              "1         No\n",
              "2        Yes\n",
              "3         No\n",
              "4        Yes\n",
              "        ... \n",
              "88878    Yes\n",
              "88879     No\n",
              "88880     No\n",
              "88881     No\n",
              "88882    Yes\n",
              "Name: Hobbyist, Length: 88883, dtype: object"
            ]
          },
          "metadata": {
            "tags": []
          },
          "execution_count": 26
        }
      ]
    },
    {
      "cell_type": "code",
      "metadata": {
        "colab": {
          "base_uri": "https://localhost:8080/"
        },
        "id": "toWbEx3pCYd-",
        "outputId": "07f7d077-46d9-43a3-b5d3-16ba4bcc2622"
      },
      "source": [
        "df['Hobbyist'].value_counts() / df.shape[0] * 100"
      ],
      "execution_count": null,
      "outputs": [
        {
          "output_type": "execute_result",
          "data": {
            "text/plain": [
              "Yes    80.169436\n",
              "No     19.830564\n",
              "Name: Hobbyist, dtype: float64"
            ]
          },
          "metadata": {
            "tags": []
          },
          "execution_count": 27
        }
      ]
    },
    {
      "cell_type": "code",
      "metadata": {
        "colab": {
          "base_uri": "https://localhost:8080/"
        },
        "id": "W24O-0BaCmki",
        "outputId": "8a6016f4-f6f5-406f-f603-2e361517457d"
      },
      "source": [
        "df.loc[[0,1,2], 'Hobbyist']"
      ],
      "execution_count": null,
      "outputs": [
        {
          "output_type": "execute_result",
          "data": {
            "text/plain": [
              "0    Yes\n",
              "1     No\n",
              "2    Yes\n",
              "Name: Hobbyist, dtype: object"
            ]
          },
          "metadata": {
            "tags": []
          },
          "execution_count": 28
        }
      ]
    },
    {
      "cell_type": "code",
      "metadata": {
        "colab": {
          "base_uri": "https://localhost:8080/",
          "height": 142
        },
        "id": "7PZbSIMGDJ9c",
        "outputId": "bc2f1211-bc54-419a-ee7c-2f1d05b8ab59"
      },
      "source": [
        "df.loc[0:2, 'Hobbyist':'Employment']\n",
        "# loc is inclusive for slices. Slicing is INCLUSIVE on loc because we use names in columns... and it'd be a pain to check \n",
        "# column name every single time we needed to see up to what column we need to specify name for"
      ],
      "execution_count": null,
      "outputs": [
        {
          "output_type": "execute_result",
          "data": {
            "text/html": [
              "<div>\n",
              "<style scoped>\n",
              "    .dataframe tbody tr th:only-of-type {\n",
              "        vertical-align: middle;\n",
              "    }\n",
              "\n",
              "    .dataframe tbody tr th {\n",
              "        vertical-align: top;\n",
              "    }\n",
              "\n",
              "    .dataframe thead th {\n",
              "        text-align: right;\n",
              "    }\n",
              "</style>\n",
              "<table border=\"1\" class=\"dataframe\">\n",
              "  <thead>\n",
              "    <tr style=\"text-align: right;\">\n",
              "      <th></th>\n",
              "      <th>Hobbyist</th>\n",
              "      <th>OpenSourcer</th>\n",
              "      <th>OpenSource</th>\n",
              "      <th>Employment</th>\n",
              "    </tr>\n",
              "  </thead>\n",
              "  <tbody>\n",
              "    <tr>\n",
              "      <th>0</th>\n",
              "      <td>Yes</td>\n",
              "      <td>Never</td>\n",
              "      <td>The quality of OSS and closed source software ...</td>\n",
              "      <td>Not employed, and not looking for work</td>\n",
              "    </tr>\n",
              "    <tr>\n",
              "      <th>1</th>\n",
              "      <td>No</td>\n",
              "      <td>Less than once per year</td>\n",
              "      <td>The quality of OSS and closed source software ...</td>\n",
              "      <td>Not employed, but looking for work</td>\n",
              "    </tr>\n",
              "    <tr>\n",
              "      <th>2</th>\n",
              "      <td>Yes</td>\n",
              "      <td>Never</td>\n",
              "      <td>The quality of OSS and closed source software ...</td>\n",
              "      <td>Employed full-time</td>\n",
              "    </tr>\n",
              "  </tbody>\n",
              "</table>\n",
              "</div>"
            ],
            "text/plain": [
              "  Hobbyist              OpenSourcer  \\\n",
              "0      Yes                    Never   \n",
              "1       No  Less than once per year   \n",
              "2      Yes                    Never   \n",
              "\n",
              "                                          OpenSource  \\\n",
              "0  The quality of OSS and closed source software ...   \n",
              "1  The quality of OSS and closed source software ...   \n",
              "2  The quality of OSS and closed source software ...   \n",
              "\n",
              "                               Employment  \n",
              "0  Not employed, and not looking for work  \n",
              "1      Not employed, but looking for work  \n",
              "2                      Employed full-time  "
            ]
          },
          "metadata": {
            "tags": []
          },
          "execution_count": 29
        }
      ]
    },
    {
      "cell_type": "code",
      "metadata": {
        "colab": {
          "base_uri": "https://localhost:8080/"
        },
        "id": "1L4VWPUyDrp1",
        "outputId": "dd043caf-5340-4949-b83d-874d38c88f28"
      },
      "source": [
        "people_df['email']"
      ],
      "execution_count": null,
      "outputs": [
        {
          "output_type": "execute_result",
          "data": {
            "text/plain": [
              "0    CoreyMScafer@gmail.com\n",
              "1         janedoe@gmail.com\n",
              "2         johndoe@gmail.com\n",
              "Name: email, dtype: object"
            ]
          },
          "metadata": {
            "tags": []
          },
          "execution_count": 30
        }
      ]
    },
    {
      "cell_type": "code",
      "metadata": {
        "id": "gJnDqj-4FLqg"
      },
      "source": [
        "people_df.set_index('email', inplace=True)\n",
        "# remember, pd is immutable first. Use dat inplace"
      ],
      "execution_count": null,
      "outputs": []
    },
    {
      "cell_type": "code",
      "metadata": {
        "colab": {
          "base_uri": "https://localhost:8080/"
        },
        "id": "JL7lUXWIFae0",
        "outputId": "983723e9-2a5c-4103-80ae-eede3bcca1d6"
      },
      "source": [
        "people_df.index\n",
        "# so... this is neat cause we can use .loc to find rows"
      ],
      "execution_count": null,
      "outputs": [
        {
          "output_type": "execute_result",
          "data": {
            "text/plain": [
              "Index(['CoreyMScafer@gmail.com', 'janedoe@gmail.com', 'johndoe@gmail.com'], dtype='object', name='email')"
            ]
          },
          "metadata": {
            "tags": []
          },
          "execution_count": 32
        }
      ]
    },
    {
      "cell_type": "code",
      "metadata": {
        "colab": {
          "base_uri": "https://localhost:8080/",
          "height": 35
        },
        "id": "s1eM9fLoFrXJ",
        "outputId": "084b5eec-97bd-46a9-d701-886eaa9c7bfb"
      },
      "source": [
        "people_df.loc['CoreyMScafer@gmail.com', 'last']\n",
        "# people_df.loc[0] no longer works as the index is named with email instead of integers"
      ],
      "execution_count": null,
      "outputs": [
        {
          "output_type": "execute_result",
          "data": {
            "application/vnd.google.colaboratory.intrinsic+json": {
              "type": "string"
            },
            "text/plain": [
              "'Schafer'"
            ]
          },
          "metadata": {
            "tags": []
          },
          "execution_count": 33
        }
      ]
    },
    {
      "cell_type": "code",
      "metadata": {
        "id": "Nb7tiymdHIzs"
      },
      "source": [
        "people_df.reset_index(inplace=True)"
      ],
      "execution_count": null,
      "outputs": []
    },
    {
      "cell_type": "code",
      "metadata": {
        "id": "lMpex7w3HQbF"
      },
      "source": [
        "df = pd.read_csv('survey_results_public.csv', index_col='Respondent')\n",
        "schema_df = pd.read_csv('survey_results_schema.csv', index_col='Column')"
      ],
      "execution_count": null,
      "outputs": []
    },
    {
      "cell_type": "code",
      "metadata": {
        "colab": {
          "base_uri": "https://localhost:8080/"
        },
        "id": "F9rIeL15IX3p",
        "outputId": "1f6b8a00-4a50-4928-a05b-bc82275ac972"
      },
      "source": [
        "print(schema_df.loc['MgrIdiot'].values)\n",
        "print(schema_df.loc['MgrIdiot', 'QuestionText'])\n",
        "# 2 ways to get full text"
      ],
      "execution_count": null,
      "outputs": [
        {
          "output_type": "stream",
          "text": [
            "['How confident are you that your manager knows what they’re doing?']\n",
            "How confident are you that your manager knows what they’re doing?\n"
          ],
          "name": "stdout"
        }
      ]
    },
    {
      "cell_type": "code",
      "metadata": {
        "id": "lPFPUbppIY6K"
      },
      "source": [
        "schema_df.sort_index(inplace=True, ascending=False)\n",
        "# schema_df is now alphabetically sorted on index"
      ],
      "execution_count": null,
      "outputs": []
    },
    {
      "cell_type": "code",
      "metadata": {
        "id": "8FJr_pKWJfyv"
      },
      "source": [
        "# mask = (people_df['last'] == 'Doe')\n",
        "# making masks again. () for readability"
      ],
      "execution_count": null,
      "outputs": []
    },
    {
      "cell_type": "code",
      "metadata": {
        "colab": {
          "base_uri": "https://localhost:8080/",
          "height": 180
        },
        "id": "By0VU0yeKv2F",
        "outputId": "5d148d93-b392-4d92-cbab-c0ec1a1b6b47"
      },
      "source": [
        "people_df[mask]\n",
        "people_df[people_df['last'] == 'Doe'] #also works"
      ],
      "execution_count": null,
      "outputs": [
        {
          "output_type": "error",
          "ename": "NameError",
          "evalue": "ignored",
          "traceback": [
            "\u001b[0;31m---------------------------------------------------------------------------\u001b[0m",
            "\u001b[0;31mNameError\u001b[0m                                 Traceback (most recent call last)",
            "\u001b[0;32m<ipython-input-39-041e7f95d44f>\u001b[0m in \u001b[0;36m<module>\u001b[0;34m()\u001b[0m\n\u001b[0;32m----> 1\u001b[0;31m \u001b[0mpeople_df\u001b[0m\u001b[0;34m[\u001b[0m\u001b[0mmask\u001b[0m\u001b[0;34m]\u001b[0m\u001b[0;34m\u001b[0m\u001b[0;34m\u001b[0m\u001b[0m\n\u001b[0m\u001b[1;32m      2\u001b[0m \u001b[0mpeople_df\u001b[0m\u001b[0;34m[\u001b[0m\u001b[0mpeople_df\u001b[0m\u001b[0;34m[\u001b[0m\u001b[0;34m'last'\u001b[0m\u001b[0;34m]\u001b[0m \u001b[0;34m==\u001b[0m \u001b[0;34m'Doe'\u001b[0m\u001b[0;34m]\u001b[0m \u001b[0;31m#also works\u001b[0m\u001b[0;34m\u001b[0m\u001b[0;34m\u001b[0m\u001b[0m\n",
            "\u001b[0;31mNameError\u001b[0m: name 'mask' is not defined"
          ]
        }
      ]
    },
    {
      "cell_type": "code",
      "metadata": {
        "id": "BSoQKm01K9f5"
      },
      "source": [
        "people_df.loc[mask, 'email']\n",
        "# also works AND has the added benefit of being able to call column by name cause we're in .loc!!!"
      ],
      "execution_count": null,
      "outputs": []
    },
    {
      "cell_type": "code",
      "metadata": {
        "id": "-tjbFGIGAYrG"
      },
      "source": [
        "mask = schema_df['QuestionText'].str.contains('salary', case=False)\n",
        "schema_df.loc[mask, 'QuestionText']\n"
      ],
      "execution_count": null,
      "outputs": []
    },
    {
      "cell_type": "code",
      "metadata": {
        "id": "E0E41c4MBrY8"
      },
      "source": [
        "high_salary = df['ConvertedComp'] > 70000"
      ],
      "execution_count": null,
      "outputs": []
    },
    {
      "cell_type": "code",
      "metadata": {
        "id": "tuh8UDbwEPcb"
      },
      "source": [
        "countries = ['United States', 'India', 'United Kingdom', 'Germany', 'Canada']\n",
        "in_country = df['Country'].isin(countries)"
      ],
      "execution_count": null,
      "outputs": []
    },
    {
      "cell_type": "code",
      "metadata": {
        "id": "m7VNXR8TE1Q1"
      },
      "source": [
        "langfilt = df['LanguageWorkedWith'].str.contains('Python', na=False)"
      ],
      "execution_count": null,
      "outputs": []
    },
    {
      "cell_type": "code",
      "metadata": {
        "id": "nrWCwv8xEhqv"
      },
      "source": [
        "df.loc[langfilt, 'LanguageWorkedWith']"
      ],
      "execution_count": null,
      "outputs": []
    },
    {
      "cell_type": "code",
      "metadata": {
        "id": "1NLWl2drDnf5"
      },
      "source": [
        "df.loc[high_salary, ['Country', 'LanguageWorkedWith', 'ConvertedComp']]"
      ],
      "execution_count": null,
      "outputs": []
    },
    {
      "cell_type": "markdown",
      "metadata": {
        "id": "q0_tBnJ9MOoZ"
      },
      "source": [
        "**SOME 1337 H4XX**"
      ]
    },
    {
      "cell_type": "code",
      "metadata": {
        "id": "L-guRGxQDpHg"
      },
      "source": [
        "# people_df = people_df.loc[:, ~people_df.columns.duplicated()]\n",
        "# people_df = people_df.reindex(columns=sorted(people_df.columns))\n",
        "# people_df = people_df.reindex(columns=(['first'] + [x for x in people_df.columns if x != 'first']))"
      ],
      "execution_count": null,
      "outputs": []
    },
    {
      "cell_type": "code",
      "metadata": {
        "id": "O__ASKDhGs5V"
      },
      "source": [
        "people_df.columns = ['first_name', 'last_name', 'email']"
      ],
      "execution_count": null,
      "outputs": []
    },
    {
      "cell_type": "code",
      "metadata": {
        "id": "7AKech0-IPyU"
      },
      "source": [
        "people_df.columns = [x.lower() for x in people_df.columns]"
      ],
      "execution_count": null,
      "outputs": []
    },
    {
      "cell_type": "code",
      "metadata": {
        "id": "l9D6_sAOMnOw"
      },
      "source": [
        "people_df.columns = people_df.columns.str.replace(' ', '_')"
      ],
      "execution_count": null,
      "outputs": []
    },
    {
      "cell_type": "code",
      "metadata": {
        "id": "wsbEV9qkM4bF"
      },
      "source": [
        "people_df"
      ],
      "execution_count": null,
      "outputs": []
    },
    {
      "cell_type": "code",
      "metadata": {
        "id": "ieax27d7NGAo"
      },
      "source": [
        "people_df.rename(columns={'first_name':'first', 'last_name':'last'}, inplace=True)"
      ],
      "execution_count": null,
      "outputs": []
    },
    {
      "cell_type": "code",
      "metadata": {
        "id": "ObcLQiyZNWj8"
      },
      "source": [
        "people_df.loc[2] = ['John', 'Smith', 'JohnSmith@email.com']"
      ],
      "execution_count": null,
      "outputs": []
    },
    {
      "cell_type": "code",
      "metadata": {
        "id": "dTzzH6d2RHxl"
      },
      "source": [
        "people_df.loc[2, 'last'] = 'Smith'"
      ],
      "execution_count": null,
      "outputs": []
    },
    {
      "cell_type": "code",
      "metadata": {
        "id": "fjlNoWHYRUXj"
      },
      "source": [
        "people_df.at[2, 'last']\n",
        "# at only does single values at row/column intersections, but is MUCH MUCH faster than using loc/iloc"
      ],
      "execution_count": null,
      "outputs": []
    },
    {
      "cell_type": "code",
      "metadata": {
        "id": "L-d5BJMfRar2"
      },
      "source": [
        "filt = (people_df['email'] == 'JohnDoe@gmail.com')\n",
        "filt"
      ],
      "execution_count": null,
      "outputs": []
    },
    {
      "cell_type": "code",
      "metadata": {
        "id": "vsCbYa0OTzXA"
      },
      "source": [
        "people_df[filt]['last'] = 'Doe'\n",
        "# !!! the copy error. Moral of the story: use .loc or .at to set values. Derp"
      ],
      "execution_count": null,
      "outputs": []
    },
    {
      "cell_type": "code",
      "metadata": {
        "id": "gBrp3XNnT9Dy"
      },
      "source": [
        "people_df['email'] = people_df['email'].str.lower()"
      ],
      "execution_count": null,
      "outputs": []
    },
    {
      "cell_type": "code",
      "metadata": {
        "id": "nMV1HfjVT_xy"
      },
      "source": [
        "# we gon do apply, map, applymap, and replace!!!"
      ],
      "execution_count": null,
      "outputs": []
    },
    {
      "cell_type": "code",
      "metadata": {
        "id": "32AbQTizU2PS"
      },
      "source": [
        "people_df['email'].apply(str.upper)"
      ],
      "execution_count": null,
      "outputs": []
    },
    {
      "cell_type": "code",
      "metadata": {
        "id": "dHKB7AfTH_E6"
      },
      "source": [
        "def update_email(email):\n",
        "  return email.upper()"
      ],
      "execution_count": null,
      "outputs": []
    },
    {
      "cell_type": "code",
      "metadata": {
        "id": "ofYb-NBPIeLb"
      },
      "source": [
        "people_df['email'] = people_df['email'].apply(update_email)"
      ],
      "execution_count": null,
      "outputs": []
    },
    {
      "cell_type": "code",
      "metadata": {
        "id": "2BQGa16RIjcz"
      },
      "source": [
        "people_df['email'] = people_df['email'].apply(lambda x: x.lower())"
      ],
      "execution_count": null,
      "outputs": []
    },
    {
      "cell_type": "code",
      "metadata": {
        "id": "U4BoH4UzIrK1"
      },
      "source": [
        "people_df"
      ],
      "execution_count": null,
      "outputs": []
    },
    {
      "cell_type": "code",
      "metadata": {
        "id": "tX0osRYOIz9I"
      },
      "source": [
        "people_df.apply(len, axis=0)\n",
        "# when we apply fns to dfs, it uses the fn on the rows or columns depending on axis"
      ],
      "execution_count": null,
      "outputs": []
    },
    {
      "cell_type": "code",
      "metadata": {
        "id": "TSXmW_BAJPf_"
      },
      "source": [
        "people_df.apply(lambda x: x.min())\n",
        "# use SERIES fns to apply fn to all rows/columns"
      ],
      "execution_count": null,
      "outputs": []
    },
    {
      "cell_type": "code",
      "metadata": {
        "id": "dvm-Xd8zJ1g9"
      },
      "source": [
        "# but how do we apply a fn to every element in the DF? >>> apply.map. Only works on DF, not series"
      ],
      "execution_count": null,
      "outputs": []
    },
    {
      "cell_type": "code",
      "metadata": {
        "id": "_0uU8p__LEwg"
      },
      "source": [
        "people_df.applymap(len)\n",
        "# oh ghee buttersnaps!"
      ],
      "execution_count": null,
      "outputs": []
    },
    {
      "cell_type": "code",
      "metadata": {
        "id": "jUXNmlADLRrE"
      },
      "source": [
        "# map is used on SERIES to substitute values within the SERIES\n",
        "people_df['first'].map({'Corey':'Chris', 'Jane':'Mary'})\n",
        "# oh snaps. Unmapped values are NaN by default :( :( :("
      ],
      "execution_count": null,
      "outputs": []
    },
    {
      "cell_type": "code",
      "metadata": {
        "id": "LXYA25iEL4K9"
      },
      "source": [
        "# if we want to sub, but keep unmapped stuff as is... use replace!\n",
        "people_df['first'].replace({'Corey':'Chris', 'Jane':'Mary'})\n",
        "# tada!!!"
      ],
      "execution_count": null,
      "outputs": []
    },
    {
      "cell_type": "code",
      "metadata": {
        "id": "7kRotoXDMJw0"
      },
      "source": [
        "df.rename(columns=({'ConvertedComp': 'SalaryUSD'}), inplace=True)"
      ],
      "execution_count": null,
      "outputs": []
    },
    {
      "cell_type": "code",
      "metadata": {
        "id": "pxQySaK1NLk4"
      },
      "source": [
        "df.SalaryUSD"
      ],
      "execution_count": null,
      "outputs": []
    },
    {
      "cell_type": "code",
      "metadata": {
        "id": "4H0I62muNYvc"
      },
      "source": [
        "df['Hobbyist'] = df['Hobbyist'].map({'Yes': True, 'No': False})"
      ],
      "execution_count": null,
      "outputs": []
    },
    {
      "cell_type": "code",
      "metadata": {
        "id": "Y3Vp0V3MNg8c"
      },
      "source": [
        "df"
      ],
      "execution_count": null,
      "outputs": []
    },
    {
      "cell_type": "code",
      "metadata": {
        "id": "szUOe0fcOvAA"
      },
      "source": [
        "people_df['first'] + ' ' + people_df['last']"
      ],
      "execution_count": null,
      "outputs": []
    },
    {
      "cell_type": "code",
      "metadata": {
        "id": "dJf7YOWhOIEp"
      },
      "source": [
        "people_df['full_name'] = people_df['first'] + ' ' + people_df['last']\n",
        "# . notation does not work for making new columns"
      ],
      "execution_count": null,
      "outputs": []
    },
    {
      "cell_type": "code",
      "metadata": {
        "id": "0b2Onl_sO2F0"
      },
      "source": [
        "people_df"
      ],
      "execution_count": null,
      "outputs": []
    },
    {
      "cell_type": "code",
      "metadata": {
        "id": "8n5Lm0CCO6il"
      },
      "source": [
        "people_df.drop(columns=['first', 'last'], inplace=True)\n",
        "# drop multi columns using list!"
      ],
      "execution_count": null,
      "outputs": []
    },
    {
      "cell_type": "code",
      "metadata": {
        "id": "H6gySWToPB_X"
      },
      "source": [
        "people_df['full_name'].str.split(' ', expand=True)\n",
        "# dat expand tho!!!!"
      ],
      "execution_count": null,
      "outputs": []
    },
    {
      "cell_type": "code",
      "metadata": {
        "id": "z-oByORdPIzp"
      },
      "source": [
        "people_df[['first', 'last']] = people_df['full_name'].str.split(' ', expand=True)"
      ],
      "execution_count": null,
      "outputs": []
    },
    {
      "cell_type": "code",
      "metadata": {
        "id": "upb0J38oPmxB"
      },
      "source": [
        "people_df"
      ],
      "execution_count": null,
      "outputs": []
    },
    {
      "cell_type": "code",
      "metadata": {
        "id": "ZwwK1uzBPpEi"
      },
      "source": [
        "people_df = people_df.append({'first': 'Tony'}, ignore_index=True)\n",
        "# derp error cause no index"
      ],
      "execution_count": null,
      "outputs": []
    },
    {
      "cell_type": "code",
      "metadata": {
        "id": "URldjmnHPs7z"
      },
      "source": [
        "people_df.drop(index=3)"
      ],
      "execution_count": null,
      "outputs": []
    },
    {
      "cell_type": "code",
      "metadata": {
        "id": "4tDD2zIgQ2Wo"
      },
      "source": [
        "people_df.drop(people_df.index[-1])"
      ],
      "execution_count": null,
      "outputs": []
    },
    {
      "cell_type": "code",
      "metadata": {
        "id": "q7J32ErhR98M"
      },
      "source": [
        "people_df = people_df[0:-1]"
      ],
      "execution_count": null,
      "outputs": []
    },
    {
      "cell_type": "code",
      "metadata": {
        "id": "3-k8XiAwSfwl"
      },
      "source": [
        "people = {\n",
        "    \"first\" : [\"Tony\", 'Steve'],\n",
        "    \"last\" : ['Stark', 'Rogers'],\n",
        "    \"email\": ['IronMan@avenge.com', 'Cap@avenge.com']\n",
        "}\n",
        "df2 = pd.DataFrame(people)"
      ],
      "execution_count": null,
      "outputs": []
    },
    {
      "cell_type": "code",
      "metadata": {
        "id": "NptQzJ9bSkc1"
      },
      "source": [
        "df2"
      ],
      "execution_count": null,
      "outputs": []
    },
    {
      "cell_type": "code",
      "metadata": {
        "id": "0MFXj6eITF_P"
      },
      "source": [
        "people_df = people_df.append(df2, ignore_index=True)"
      ],
      "execution_count": null,
      "outputs": []
    },
    {
      "cell_type": "code",
      "metadata": {
        "id": "2wOq4-6rTKjA"
      },
      "source": [
        "people_df.drop(index=4)"
      ],
      "execution_count": null,
      "outputs": []
    },
    {
      "cell_type": "code",
      "metadata": {
        "id": "1xSbrsHITeol"
      },
      "source": [
        "people_df.drop(index=people_df[people_df['last'] == 'Doe'].index)\n",
        "# Corey don't like having the conditional in the drop... it's hard to read... I agree"
      ],
      "execution_count": null,
      "outputs": []
    },
    {
      "cell_type": "code",
      "metadata": {
        "id": "iAtDHOGnUClA"
      },
      "source": [
        "filt = people_df['last'] == 'Doe'\n",
        "people_df.drop(index=people_df[filt].index)"
      ],
      "execution_count": null,
      "outputs": []
    },
    {
      "cell_type": "code",
      "metadata": {
        "id": "6P9VLiNEUUey"
      },
      "source": [
        "people_df.sort_values(by='last', ascending=False)"
      ],
      "execution_count": null,
      "outputs": []
    },
    {
      "cell_type": "code",
      "metadata": {
        "id": "7qrss9rHU32A"
      },
      "source": [
        "people_df.sort_values(by=['last', 'first'], ascending=False)"
      ],
      "execution_count": null,
      "outputs": []
    },
    {
      "cell_type": "code",
      "metadata": {
        "id": "0ASi5IMWVMPF"
      },
      "source": [
        "people_df = people_df.append({'first': 'Adam', 'last': 'Doe', 'email': 'A@gmail.com'}, ignore_index=True)"
      ],
      "execution_count": null,
      "outputs": []
    },
    {
      "cell_type": "code",
      "metadata": {
        "id": "fv5XGJSiVbmb"
      },
      "source": [
        "people_df.sort_values(by=['last', 'first'], ascending=[False, True])"
      ],
      "execution_count": null,
      "outputs": []
    },
    {
      "cell_type": "code",
      "metadata": {
        "id": "23RcMF4eVhJL"
      },
      "source": [
        "people_df.sort_index()"
      ],
      "execution_count": null,
      "outputs": []
    },
    {
      "cell_type": "code",
      "metadata": {
        "id": "tzWi_Mr5VuCx"
      },
      "source": [
        "people_df['last'].sort_values()\n",
        "# sort values werks on SERIES as well as DFs"
      ],
      "execution_count": null,
      "outputs": []
    },
    {
      "cell_type": "code",
      "metadata": {
        "id": "lXTcAXdlVz4R"
      },
      "source": [
        "df.sort_values(by=['Country', 'SalaryUSD'], ascending=[True, False], inplace=True)"
      ],
      "execution_count": null,
      "outputs": []
    },
    {
      "cell_type": "code",
      "metadata": {
        "id": "ujisGpTUW3mC"
      },
      "source": [
        "df[['Country', 'SalaryUSD']].head(50)"
      ],
      "execution_count": null,
      "outputs": []
    },
    {
      "cell_type": "code",
      "metadata": {
        "id": "7cdtb3lzXCg2"
      },
      "source": [
        "df['SalaryUSD'].nlargest(10)"
      ],
      "execution_count": null,
      "outputs": []
    },
    {
      "cell_type": "code",
      "metadata": {
        "id": "7W3jZWM-X7Zm"
      },
      "source": [
        "df.nlargest(10, 'SalaryUSD')"
      ],
      "execution_count": null,
      "outputs": []
    },
    {
      "cell_type": "code",
      "metadata": {
        "id": "I0FCvLwGYNna"
      },
      "source": [
        "df.nsmallest(10, 'SalaryUSD')"
      ],
      "execution_count": null,
      "outputs": []
    },
    {
      "cell_type": "code",
      "metadata": {
        "id": "-MaDs3hoYexg"
      },
      "source": [
        "df['SalaryUSD'].mean(), df['SalaryUSD'].median()"
      ],
      "execution_count": null,
      "outputs": []
    },
    {
      "cell_type": "code",
      "metadata": {
        "id": "IO2sxFO8ZHAa"
      },
      "source": [
        "df.describe()\n",
        "# 50% is just the median"
      ],
      "execution_count": null,
      "outputs": []
    },
    {
      "cell_type": "code",
      "metadata": {
        "id": "oJtFM6YTZgnU"
      },
      "source": [
        "df['Hobbyist'].value_counts()\n",
        "# i just realized what value counts means.... OMFGBBQWTFPWN"
      ],
      "execution_count": null,
      "outputs": []
    },
    {
      "cell_type": "code",
      "metadata": {
        "id": "DHLqOkiUagtk"
      },
      "source": [
        "df['SocialMedia'].value_counts(normalize=True)"
      ],
      "execution_count": null,
      "outputs": []
    },
    {
      "cell_type": "code",
      "metadata": {
        "id": "JiBC7ylSa42a"
      },
      "source": [
        "schema_df.set_index('Column', inplace=True)"
      ],
      "execution_count": null,
      "outputs": []
    },
    {
      "cell_type": "code",
      "metadata": {
        "id": "-F3Rwg8GbDmc"
      },
      "source": [
        "schema_df.loc['SocialMedia']"
      ],
      "execution_count": null,
      "outputs": []
    },
    {
      "cell_type": "code",
      "metadata": {
        "id": "fwe8fKFebNCA"
      },
      "source": [
        "df['Country'].value_counts()"
      ],
      "execution_count": null,
      "outputs": []
    },
    {
      "cell_type": "code",
      "metadata": {
        "id": "iIBF73skcCWw"
      },
      "source": [
        "country_grp = df.groupby(['Country'])"
      ],
      "execution_count": null,
      "outputs": []
    },
    {
      "cell_type": "code",
      "metadata": {
        "id": "AIc_EYtGcaDV"
      },
      "source": [
        "country_grp.get_group('India')"
      ],
      "execution_count": null,
      "outputs": []
    },
    {
      "cell_type": "code",
      "metadata": {
        "id": "3MBDcVslcsjK"
      },
      "source": [
        "country_grp['SocialMedia'].value_counts(normalize=True).unstack()"
      ],
      "execution_count": null,
      "outputs": []
    },
    {
      "cell_type": "code",
      "metadata": {
        "id": "J0nmpr0bdo2L"
      },
      "source": [
        "country_grp['SalaryUSD'].median().loc['India']"
      ],
      "execution_count": null,
      "outputs": []
    },
    {
      "cell_type": "code",
      "metadata": {
        "id": "MDNe_6Nfd0qv"
      },
      "source": [
        "country_grp['SalaryUSD'].agg(['median', 'mean'])\n",
        "# ohhh legit"
      ],
      "execution_count": null,
      "outputs": []
    },
    {
      "cell_type": "code",
      "metadata": {
        "id": "Sh_Qd13sfHHN"
      },
      "source": [
        "filt = df['Country'] == 'India'\n",
        "df.loc[filt]['LanguageWorkedWith'].str.contains('Python').value_counts()"
      ],
      "execution_count": null,
      "outputs": []
    },
    {
      "cell_type": "code",
      "metadata": {
        "id": "3rqM2VoNfe-9"
      },
      "source": [
        "country_grp['LanguageWorkedWith'].apply(lambda x: x.str.contains('Python').value_counts(normalize=True))"
      ],
      "execution_count": null,
      "outputs": []
    },
    {
      "cell_type": "code",
      "metadata": {
        "id": "DQSd3NjHf0d8"
      },
      "source": [
        "country_grp['LanguageWorkedWith'].apply(lambda x: x.str.contains('Python').sum()) / country_grp['Country'].count()"
      ],
      "execution_count": null,
      "outputs": []
    },
    {
      "cell_type": "code",
      "metadata": {
        "id": "vp-iUAj9hJoD"
      },
      "source": [
        "country_resp = df['Country'].value_counts()\n",
        "country_python = country_grp['LanguageWorkedWith'].apply(lambda x: x.str.contains('Python').sum())\n",
        "(country_python/country_resp).sort_values(ascending=False)"
      ],
      "execution_count": null,
      "outputs": []
    },
    {
      "cell_type": "code",
      "metadata": {
        "id": "68NVzfn7hh7R"
      },
      "source": [
        "python_df = pd.concat([country_resp, country_python], axis=1)\n",
        "python_df.rename(columns={'Country':'Respondents', 'LanguageWorkedWith':'NumKnowsPython'}, inplace=True)\n",
        "python_df"
      ],
      "execution_count": null,
      "outputs": []
    },
    {
      "cell_type": "code",
      "metadata": {
        "id": "fflVE00oh_15"
      },
      "source": [
        "python_df['PctKnowsPython'] = python_df['NumKnowsPython']/python_df['Respondents'] * 100"
      ],
      "execution_count": null,
      "outputs": []
    },
    {
      "cell_type": "code",
      "metadata": {
        "id": "C1cePBP9i4Xj"
      },
      "source": [
        "python_df.sort_values('PctKnowsPython', ascending=False)"
      ],
      "execution_count": null,
      "outputs": []
    },
    {
      "cell_type": "code",
      "metadata": {
        "id": "kYnUA7iYjHx_"
      },
      "source": [
        "people = {\n",
        "    'first': ['Corey', 'Jane', 'John', 'Chris', np.nan, None, 'NA'],\n",
        "    'last': ['Schafer', 'Doe', 'Doe', 'Schafer', np.nan, np.nan, 'Missing'],\n",
        "    'email': ['CoreyMSchafer@gmail.com', 'JaneDoe@email.com', 'JohnDoe@email.com', None, np.nan, 'Anonymous@email.com', 'NA' ],\n",
        "    'age': ['33', '55', '63', '36', None, None, 'Missing']\n",
        "}"
      ],
      "execution_count": null,
      "outputs": []
    },
    {
      "cell_type": "code",
      "metadata": {
        "id": "W_fAe6-MNkiJ"
      },
      "source": [
        "df = pd.DataFrame(people)\n",
        "\n",
        "df.replace(['NA', 'Missing', None] , np.nan, inplace=True)"
      ],
      "execution_count": null,
      "outputs": []
    },
    {
      "cell_type": "code",
      "metadata": {
        "colab": {
          "base_uri": "https://localhost:8080/",
          "height": 266
        },
        "id": "J-aASPRNNrl1",
        "outputId": "531e0397-d197-4e06-96d7-3cc355bbbe8a"
      },
      "source": [
        "df"
      ],
      "execution_count": null,
      "outputs": [
        {
          "output_type": "execute_result",
          "data": {
            "text/html": [
              "<div>\n",
              "<style scoped>\n",
              "    .dataframe tbody tr th:only-of-type {\n",
              "        vertical-align: middle;\n",
              "    }\n",
              "\n",
              "    .dataframe tbody tr th {\n",
              "        vertical-align: top;\n",
              "    }\n",
              "\n",
              "    .dataframe thead th {\n",
              "        text-align: right;\n",
              "    }\n",
              "</style>\n",
              "<table border=\"1\" class=\"dataframe\">\n",
              "  <thead>\n",
              "    <tr style=\"text-align: right;\">\n",
              "      <th></th>\n",
              "      <th>first</th>\n",
              "      <th>last</th>\n",
              "      <th>email</th>\n",
              "      <th>age</th>\n",
              "    </tr>\n",
              "  </thead>\n",
              "  <tbody>\n",
              "    <tr>\n",
              "      <th>0</th>\n",
              "      <td>Corey</td>\n",
              "      <td>Schafer</td>\n",
              "      <td>CoreyMSchafer@gmail.com</td>\n",
              "      <td>33</td>\n",
              "    </tr>\n",
              "    <tr>\n",
              "      <th>1</th>\n",
              "      <td>Jane</td>\n",
              "      <td>Doe</td>\n",
              "      <td>JaneDoe@email.com</td>\n",
              "      <td>55</td>\n",
              "    </tr>\n",
              "    <tr>\n",
              "      <th>2</th>\n",
              "      <td>John</td>\n",
              "      <td>Doe</td>\n",
              "      <td>JohnDoe@email.com</td>\n",
              "      <td>63</td>\n",
              "    </tr>\n",
              "    <tr>\n",
              "      <th>3</th>\n",
              "      <td>Chris</td>\n",
              "      <td>Schafer</td>\n",
              "      <td>NaN</td>\n",
              "      <td>36</td>\n",
              "    </tr>\n",
              "    <tr>\n",
              "      <th>4</th>\n",
              "      <td>NaN</td>\n",
              "      <td>NaN</td>\n",
              "      <td>NaN</td>\n",
              "      <td>NaN</td>\n",
              "    </tr>\n",
              "    <tr>\n",
              "      <th>5</th>\n",
              "      <td>NaN</td>\n",
              "      <td>NaN</td>\n",
              "      <td>Anonymous@email.com</td>\n",
              "      <td>NaN</td>\n",
              "    </tr>\n",
              "    <tr>\n",
              "      <th>6</th>\n",
              "      <td>NaN</td>\n",
              "      <td>NaN</td>\n",
              "      <td>NaN</td>\n",
              "      <td>NaN</td>\n",
              "    </tr>\n",
              "  </tbody>\n",
              "</table>\n",
              "</div>"
            ],
            "text/plain": [
              "   first     last                    email  age\n",
              "0  Corey  Schafer  CoreyMSchafer@gmail.com   33\n",
              "1   Jane      Doe        JaneDoe@email.com   55\n",
              "2   John      Doe        JohnDoe@email.com   63\n",
              "3  Chris  Schafer                      NaN   36\n",
              "4    NaN      NaN                      NaN  NaN\n",
              "5    NaN      NaN      Anonymous@email.com  NaN\n",
              "6    NaN      NaN                      NaN  NaN"
            ]
          },
          "metadata": {
            "tags": []
          },
          "execution_count": 66
        }
      ]
    },
    {
      "cell_type": "code",
      "metadata": {
        "colab": {
          "base_uri": "https://localhost:8080/",
          "height": 142
        },
        "id": "6VQmRJHLNr8n",
        "outputId": "7f70d932-6f15-480f-b42c-024941c89aed"
      },
      "source": [
        "df.dropna() #default args is axis=0 and how='any'"
      ],
      "execution_count": null,
      "outputs": [
        {
          "output_type": "execute_result",
          "data": {
            "text/html": [
              "<div>\n",
              "<style scoped>\n",
              "    .dataframe tbody tr th:only-of-type {\n",
              "        vertical-align: middle;\n",
              "    }\n",
              "\n",
              "    .dataframe tbody tr th {\n",
              "        vertical-align: top;\n",
              "    }\n",
              "\n",
              "    .dataframe thead th {\n",
              "        text-align: right;\n",
              "    }\n",
              "</style>\n",
              "<table border=\"1\" class=\"dataframe\">\n",
              "  <thead>\n",
              "    <tr style=\"text-align: right;\">\n",
              "      <th></th>\n",
              "      <th>first</th>\n",
              "      <th>last</th>\n",
              "      <th>email</th>\n",
              "      <th>age</th>\n",
              "    </tr>\n",
              "  </thead>\n",
              "  <tbody>\n",
              "    <tr>\n",
              "      <th>0</th>\n",
              "      <td>Corey</td>\n",
              "      <td>Schafer</td>\n",
              "      <td>CoreyMSchafer@gmail.com</td>\n",
              "      <td>33.0</td>\n",
              "    </tr>\n",
              "    <tr>\n",
              "      <th>1</th>\n",
              "      <td>Jane</td>\n",
              "      <td>Doe</td>\n",
              "      <td>JaneDoe@email.com</td>\n",
              "      <td>55.0</td>\n",
              "    </tr>\n",
              "    <tr>\n",
              "      <th>2</th>\n",
              "      <td>John</td>\n",
              "      <td>Doe</td>\n",
              "      <td>JohnDoe@email.com</td>\n",
              "      <td>63.0</td>\n",
              "    </tr>\n",
              "  </tbody>\n",
              "</table>\n",
              "</div>"
            ],
            "text/plain": [
              "   first     last                    email   age\n",
              "0  Corey  Schafer  CoreyMSchafer@gmail.com  33.0\n",
              "1   Jane      Doe        JaneDoe@email.com  55.0\n",
              "2   John      Doe        JohnDoe@email.com  63.0"
            ]
          },
          "metadata": {
            "tags": []
          },
          "execution_count": 59
        }
      ]
    },
    {
      "cell_type": "code",
      "metadata": {
        "colab": {
          "base_uri": "https://localhost:8080/",
          "height": 204
        },
        "id": "8s-0VxpEOEnN",
        "outputId": "e68f0f40-15be-4209-9db9-8a7cf1043c46"
      },
      "source": [
        "df.dropna(axis=0, how='any',  thresh=2)"
      ],
      "execution_count": null,
      "outputs": [
        {
          "output_type": "execute_result",
          "data": {
            "text/html": [
              "<div>\n",
              "<style scoped>\n",
              "    .dataframe tbody tr th:only-of-type {\n",
              "        vertical-align: middle;\n",
              "    }\n",
              "\n",
              "    .dataframe tbody tr th {\n",
              "        vertical-align: top;\n",
              "    }\n",
              "\n",
              "    .dataframe thead th {\n",
              "        text-align: right;\n",
              "    }\n",
              "</style>\n",
              "<table border=\"1\" class=\"dataframe\">\n",
              "  <thead>\n",
              "    <tr style=\"text-align: right;\">\n",
              "      <th></th>\n",
              "      <th>first</th>\n",
              "      <th>last</th>\n",
              "      <th>email</th>\n",
              "      <th>age</th>\n",
              "    </tr>\n",
              "  </thead>\n",
              "  <tbody>\n",
              "    <tr>\n",
              "      <th>0</th>\n",
              "      <td>Corey</td>\n",
              "      <td>Schafer</td>\n",
              "      <td>CoreyMSchafer@gmail.com</td>\n",
              "      <td>33</td>\n",
              "    </tr>\n",
              "    <tr>\n",
              "      <th>1</th>\n",
              "      <td>Jane</td>\n",
              "      <td>Doe</td>\n",
              "      <td>JaneDoe@email.com</td>\n",
              "      <td>55</td>\n",
              "    </tr>\n",
              "    <tr>\n",
              "      <th>2</th>\n",
              "      <td>John</td>\n",
              "      <td>Doe</td>\n",
              "      <td>JohnDoe@email.com</td>\n",
              "      <td>63</td>\n",
              "    </tr>\n",
              "    <tr>\n",
              "      <th>3</th>\n",
              "      <td>Chris</td>\n",
              "      <td>Schafer</td>\n",
              "      <td>None</td>\n",
              "      <td>36</td>\n",
              "    </tr>\n",
              "    <tr>\n",
              "      <th>6</th>\n",
              "      <td>NA</td>\n",
              "      <td>Missing</td>\n",
              "      <td>NA</td>\n",
              "      <td>Missing</td>\n",
              "    </tr>\n",
              "  </tbody>\n",
              "</table>\n",
              "</div>"
            ],
            "text/plain": [
              "   first     last                    email      age\n",
              "0  Corey  Schafer  CoreyMSchafer@gmail.com       33\n",
              "1   Jane      Doe        JaneDoe@email.com       55\n",
              "2   John      Doe        JohnDoe@email.com       63\n",
              "3  Chris  Schafer                     None       36\n",
              "6     NA  Missing                       NA  Missing"
            ]
          },
          "metadata": {
            "tags": []
          },
          "execution_count": 50
        }
      ]
    },
    {
      "cell_type": "code",
      "metadata": {
        "colab": {
          "base_uri": "https://localhost:8080/",
          "height": 204
        },
        "id": "mC4F37SPOVwT",
        "outputId": "97442722-25e2-4704-c771-92b3d349f8c7"
      },
      "source": [
        "df.dropna(axis=0, how='all', subset=['email', 'last'])"
      ],
      "execution_count": null,
      "outputs": [
        {
          "output_type": "execute_result",
          "data": {
            "text/html": [
              "<div>\n",
              "<style scoped>\n",
              "    .dataframe tbody tr th:only-of-type {\n",
              "        vertical-align: middle;\n",
              "    }\n",
              "\n",
              "    .dataframe tbody tr th {\n",
              "        vertical-align: top;\n",
              "    }\n",
              "\n",
              "    .dataframe thead th {\n",
              "        text-align: right;\n",
              "    }\n",
              "</style>\n",
              "<table border=\"1\" class=\"dataframe\">\n",
              "  <thead>\n",
              "    <tr style=\"text-align: right;\">\n",
              "      <th></th>\n",
              "      <th>first</th>\n",
              "      <th>last</th>\n",
              "      <th>email</th>\n",
              "      <th>age</th>\n",
              "    </tr>\n",
              "  </thead>\n",
              "  <tbody>\n",
              "    <tr>\n",
              "      <th>0</th>\n",
              "      <td>Corey</td>\n",
              "      <td>Schafer</td>\n",
              "      <td>CoreyMSchafer@gmail.com</td>\n",
              "      <td>33.0</td>\n",
              "    </tr>\n",
              "    <tr>\n",
              "      <th>1</th>\n",
              "      <td>Jane</td>\n",
              "      <td>Doe</td>\n",
              "      <td>JaneDoe@email.com</td>\n",
              "      <td>55.0</td>\n",
              "    </tr>\n",
              "    <tr>\n",
              "      <th>2</th>\n",
              "      <td>John</td>\n",
              "      <td>Doe</td>\n",
              "      <td>JohnDoe@email.com</td>\n",
              "      <td>63.0</td>\n",
              "    </tr>\n",
              "    <tr>\n",
              "      <th>3</th>\n",
              "      <td>Chris</td>\n",
              "      <td>Schafer</td>\n",
              "      <td>NaN</td>\n",
              "      <td>36.0</td>\n",
              "    </tr>\n",
              "    <tr>\n",
              "      <th>5</th>\n",
              "      <td>NaN</td>\n",
              "      <td>NaN</td>\n",
              "      <td>Anonymous@email.com</td>\n",
              "      <td>NaN</td>\n",
              "    </tr>\n",
              "  </tbody>\n",
              "</table>\n",
              "</div>"
            ],
            "text/plain": [
              "   first     last                    email   age\n",
              "0  Corey  Schafer  CoreyMSchafer@gmail.com  33.0\n",
              "1   Jane      Doe        JaneDoe@email.com  55.0\n",
              "2   John      Doe        JohnDoe@email.com  63.0\n",
              "3  Chris  Schafer                      NaN  36.0\n",
              "5    NaN      NaN      Anonymous@email.com   NaN"
            ]
          },
          "metadata": {
            "tags": []
          },
          "execution_count": 60
        }
      ]
    },
    {
      "cell_type": "code",
      "metadata": {
        "id": "LIXlbZK4PVM7"
      },
      "source": [
        "# whatdo custom missing values like 'NA' and 'Missing'\n",
        "# df.replace(derp)"
      ],
      "execution_count": null,
      "outputs": []
    },
    {
      "cell_type": "code",
      "metadata": {
        "colab": {
          "base_uri": "https://localhost:8080/",
          "height": 266
        },
        "id": "UR-i43Rpdd4L",
        "outputId": "17c858ca-f50a-48b1-f0e5-daff5c47989e"
      },
      "source": [
        "df.isna()\n",
        "# checking what is null or not"
      ],
      "execution_count": null,
      "outputs": [
        {
          "output_type": "execute_result",
          "data": {
            "text/html": [
              "<div>\n",
              "<style scoped>\n",
              "    .dataframe tbody tr th:only-of-type {\n",
              "        vertical-align: middle;\n",
              "    }\n",
              "\n",
              "    .dataframe tbody tr th {\n",
              "        vertical-align: top;\n",
              "    }\n",
              "\n",
              "    .dataframe thead th {\n",
              "        text-align: right;\n",
              "    }\n",
              "</style>\n",
              "<table border=\"1\" class=\"dataframe\">\n",
              "  <thead>\n",
              "    <tr style=\"text-align: right;\">\n",
              "      <th></th>\n",
              "      <th>first</th>\n",
              "      <th>last</th>\n",
              "      <th>email</th>\n",
              "      <th>age</th>\n",
              "    </tr>\n",
              "  </thead>\n",
              "  <tbody>\n",
              "    <tr>\n",
              "      <th>0</th>\n",
              "      <td>False</td>\n",
              "      <td>False</td>\n",
              "      <td>False</td>\n",
              "      <td>False</td>\n",
              "    </tr>\n",
              "    <tr>\n",
              "      <th>1</th>\n",
              "      <td>False</td>\n",
              "      <td>False</td>\n",
              "      <td>False</td>\n",
              "      <td>False</td>\n",
              "    </tr>\n",
              "    <tr>\n",
              "      <th>2</th>\n",
              "      <td>False</td>\n",
              "      <td>False</td>\n",
              "      <td>False</td>\n",
              "      <td>False</td>\n",
              "    </tr>\n",
              "    <tr>\n",
              "      <th>3</th>\n",
              "      <td>False</td>\n",
              "      <td>False</td>\n",
              "      <td>True</td>\n",
              "      <td>False</td>\n",
              "    </tr>\n",
              "    <tr>\n",
              "      <th>4</th>\n",
              "      <td>True</td>\n",
              "      <td>True</td>\n",
              "      <td>True</td>\n",
              "      <td>True</td>\n",
              "    </tr>\n",
              "    <tr>\n",
              "      <th>5</th>\n",
              "      <td>True</td>\n",
              "      <td>True</td>\n",
              "      <td>False</td>\n",
              "      <td>True</td>\n",
              "    </tr>\n",
              "    <tr>\n",
              "      <th>6</th>\n",
              "      <td>True</td>\n",
              "      <td>True</td>\n",
              "      <td>True</td>\n",
              "      <td>True</td>\n",
              "    </tr>\n",
              "  </tbody>\n",
              "</table>\n",
              "</div>"
            ],
            "text/plain": [
              "   first   last  email    age\n",
              "0  False  False  False  False\n",
              "1  False  False  False  False\n",
              "2  False  False  False  False\n",
              "3  False  False   True  False\n",
              "4   True   True   True   True\n",
              "5   True   True  False   True\n",
              "6   True   True   True   True"
            ]
          },
          "metadata": {
            "tags": []
          },
          "execution_count": 61
        }
      ]
    },
    {
      "cell_type": "code",
      "metadata": {
        "colab": {
          "base_uri": "https://localhost:8080/",
          "height": 266
        },
        "id": "1hDytITdde0p",
        "outputId": "4370ed20-de41-44fe-d65d-c1a5568d965d"
      },
      "source": [
        "df.fillna(0) \n",
        "# can pass in string or numbers"
      ],
      "execution_count": null,
      "outputs": [
        {
          "output_type": "execute_result",
          "data": {
            "text/html": [
              "<div>\n",
              "<style scoped>\n",
              "    .dataframe tbody tr th:only-of-type {\n",
              "        vertical-align: middle;\n",
              "    }\n",
              "\n",
              "    .dataframe tbody tr th {\n",
              "        vertical-align: top;\n",
              "    }\n",
              "\n",
              "    .dataframe thead th {\n",
              "        text-align: right;\n",
              "    }\n",
              "</style>\n",
              "<table border=\"1\" class=\"dataframe\">\n",
              "  <thead>\n",
              "    <tr style=\"text-align: right;\">\n",
              "      <th></th>\n",
              "      <th>first</th>\n",
              "      <th>last</th>\n",
              "      <th>email</th>\n",
              "      <th>age</th>\n",
              "    </tr>\n",
              "  </thead>\n",
              "  <tbody>\n",
              "    <tr>\n",
              "      <th>0</th>\n",
              "      <td>Corey</td>\n",
              "      <td>Schafer</td>\n",
              "      <td>CoreyMSchafer@gmail.com</td>\n",
              "      <td>33.0</td>\n",
              "    </tr>\n",
              "    <tr>\n",
              "      <th>1</th>\n",
              "      <td>Jane</td>\n",
              "      <td>Doe</td>\n",
              "      <td>JaneDoe@email.com</td>\n",
              "      <td>55.0</td>\n",
              "    </tr>\n",
              "    <tr>\n",
              "      <th>2</th>\n",
              "      <td>John</td>\n",
              "      <td>Doe</td>\n",
              "      <td>JohnDoe@email.com</td>\n",
              "      <td>63.0</td>\n",
              "    </tr>\n",
              "    <tr>\n",
              "      <th>3</th>\n",
              "      <td>Chris</td>\n",
              "      <td>Schafer</td>\n",
              "      <td>0</td>\n",
              "      <td>36.0</td>\n",
              "    </tr>\n",
              "    <tr>\n",
              "      <th>4</th>\n",
              "      <td>0</td>\n",
              "      <td>0</td>\n",
              "      <td>0</td>\n",
              "      <td>0.0</td>\n",
              "    </tr>\n",
              "    <tr>\n",
              "      <th>5</th>\n",
              "      <td>0</td>\n",
              "      <td>0</td>\n",
              "      <td>Anonymous@email.com</td>\n",
              "      <td>0.0</td>\n",
              "    </tr>\n",
              "    <tr>\n",
              "      <th>6</th>\n",
              "      <td>0</td>\n",
              "      <td>0</td>\n",
              "      <td>0</td>\n",
              "      <td>0.0</td>\n",
              "    </tr>\n",
              "  </tbody>\n",
              "</table>\n",
              "</div>"
            ],
            "text/plain": [
              "   first     last                    email   age\n",
              "0  Corey  Schafer  CoreyMSchafer@gmail.com  33.0\n",
              "1   Jane      Doe        JaneDoe@email.com  55.0\n",
              "2   John      Doe        JohnDoe@email.com  63.0\n",
              "3  Chris  Schafer                        0  36.0\n",
              "4      0        0                        0   0.0\n",
              "5      0        0      Anonymous@email.com   0.0\n",
              "6      0        0                        0   0.0"
            ]
          },
          "metadata": {
            "tags": []
          },
          "execution_count": 63
        }
      ]
    },
    {
      "cell_type": "code",
      "metadata": {
        "colab": {
          "base_uri": "https://localhost:8080/"
        },
        "id": "eK3RPKd4dt7c",
        "outputId": "32ec1696-2c58-4f9c-80f0-24dd8b8c51fc"
      },
      "source": [
        "# casting datatypes!!! I'm a weezard... derp\n",
        "df.dtypes\n",
        "# note that age is a string(object)"
      ],
      "execution_count": null,
      "outputs": [
        {
          "output_type": "execute_result",
          "data": {
            "text/plain": [
              "first    object\n",
              "last     object\n",
              "email    object\n",
              "age      object\n",
              "dtype: object"
            ]
          },
          "metadata": {
            "tags": []
          },
          "execution_count": 67
        }
      ]
    },
    {
      "cell_type": "code",
      "metadata": {
        "colab": {
          "base_uri": "https://localhost:8080/",
          "height": 306
        },
        "id": "4dwcssRQeKGU",
        "outputId": "f0088941-8b5e-4759-d31a-3ce3ff1039af"
      },
      "source": [
        "df['age'].mean()"
      ],
      "execution_count": null,
      "outputs": [
        {
          "output_type": "error",
          "ename": "TypeError",
          "evalue": "ignored",
          "traceback": [
            "\u001b[0;31m---------------------------------------------------------------------------\u001b[0m",
            "\u001b[0;31mTypeError\u001b[0m                                 Traceback (most recent call last)",
            "\u001b[0;32m<ipython-input-68-f17fc7aadc36>\u001b[0m in \u001b[0;36m<module>\u001b[0;34m()\u001b[0m\n\u001b[0;32m----> 1\u001b[0;31m \u001b[0mdf\u001b[0m\u001b[0;34m[\u001b[0m\u001b[0;34m'age'\u001b[0m\u001b[0;34m]\u001b[0m\u001b[0;34m.\u001b[0m\u001b[0mmean\u001b[0m\u001b[0;34m(\u001b[0m\u001b[0;34m)\u001b[0m\u001b[0;34m\u001b[0m\u001b[0;34m\u001b[0m\u001b[0m\n\u001b[0m",
            "\u001b[0;32m/usr/local/lib/python3.7/dist-packages/pandas/core/generic.py\u001b[0m in \u001b[0;36mstat_func\u001b[0;34m(self, axis, skipna, level, numeric_only, **kwargs)\u001b[0m\n\u001b[1;32m  11473\u001b[0m             \u001b[0;32mreturn\u001b[0m \u001b[0mself\u001b[0m\u001b[0;34m.\u001b[0m\u001b[0m_agg_by_level\u001b[0m\u001b[0;34m(\u001b[0m\u001b[0mname\u001b[0m\u001b[0;34m,\u001b[0m \u001b[0maxis\u001b[0m\u001b[0;34m=\u001b[0m\u001b[0maxis\u001b[0m\u001b[0;34m,\u001b[0m \u001b[0mlevel\u001b[0m\u001b[0;34m=\u001b[0m\u001b[0mlevel\u001b[0m\u001b[0;34m,\u001b[0m \u001b[0mskipna\u001b[0m\u001b[0;34m=\u001b[0m\u001b[0mskipna\u001b[0m\u001b[0;34m)\u001b[0m\u001b[0;34m\u001b[0m\u001b[0;34m\u001b[0m\u001b[0m\n\u001b[1;32m  11474\u001b[0m         return self._reduce(\n\u001b[0;32m> 11475\u001b[0;31m             \u001b[0mfunc\u001b[0m\u001b[0;34m,\u001b[0m \u001b[0mname\u001b[0m\u001b[0;34m=\u001b[0m\u001b[0mname\u001b[0m\u001b[0;34m,\u001b[0m \u001b[0maxis\u001b[0m\u001b[0;34m=\u001b[0m\u001b[0maxis\u001b[0m\u001b[0;34m,\u001b[0m \u001b[0mskipna\u001b[0m\u001b[0;34m=\u001b[0m\u001b[0mskipna\u001b[0m\u001b[0;34m,\u001b[0m \u001b[0mnumeric_only\u001b[0m\u001b[0;34m=\u001b[0m\u001b[0mnumeric_only\u001b[0m\u001b[0;34m\u001b[0m\u001b[0;34m\u001b[0m\u001b[0m\n\u001b[0m\u001b[1;32m  11476\u001b[0m         )\n\u001b[1;32m  11477\u001b[0m \u001b[0;34m\u001b[0m\u001b[0m\n",
            "\u001b[0;32m/usr/local/lib/python3.7/dist-packages/pandas/core/series.py\u001b[0m in \u001b[0;36m_reduce\u001b[0;34m(self, op, name, axis, skipna, numeric_only, filter_type, **kwds)\u001b[0m\n\u001b[1;32m   4247\u001b[0m                 )\n\u001b[1;32m   4248\u001b[0m             \u001b[0;32mwith\u001b[0m \u001b[0mnp\u001b[0m\u001b[0;34m.\u001b[0m\u001b[0merrstate\u001b[0m\u001b[0;34m(\u001b[0m\u001b[0mall\u001b[0m\u001b[0;34m=\u001b[0m\u001b[0;34m\"ignore\"\u001b[0m\u001b[0;34m)\u001b[0m\u001b[0;34m:\u001b[0m\u001b[0;34m\u001b[0m\u001b[0;34m\u001b[0m\u001b[0m\n\u001b[0;32m-> 4249\u001b[0;31m                 \u001b[0;32mreturn\u001b[0m \u001b[0mop\u001b[0m\u001b[0;34m(\u001b[0m\u001b[0mdelegate\u001b[0m\u001b[0;34m,\u001b[0m \u001b[0mskipna\u001b[0m\u001b[0;34m=\u001b[0m\u001b[0mskipna\u001b[0m\u001b[0;34m,\u001b[0m \u001b[0;34m**\u001b[0m\u001b[0mkwds\u001b[0m\u001b[0;34m)\u001b[0m\u001b[0;34m\u001b[0m\u001b[0;34m\u001b[0m\u001b[0m\n\u001b[0m\u001b[1;32m   4250\u001b[0m \u001b[0;34m\u001b[0m\u001b[0m\n\u001b[1;32m   4251\u001b[0m     \u001b[0;32mdef\u001b[0m \u001b[0m_reindex_indexer\u001b[0m\u001b[0;34m(\u001b[0m\u001b[0mself\u001b[0m\u001b[0;34m,\u001b[0m \u001b[0mnew_index\u001b[0m\u001b[0;34m,\u001b[0m \u001b[0mindexer\u001b[0m\u001b[0;34m,\u001b[0m \u001b[0mcopy\u001b[0m\u001b[0;34m)\u001b[0m\u001b[0;34m:\u001b[0m\u001b[0;34m\u001b[0m\u001b[0;34m\u001b[0m\u001b[0m\n",
            "\u001b[0;32m/usr/local/lib/python3.7/dist-packages/pandas/core/nanops.py\u001b[0m in \u001b[0;36m_f\u001b[0;34m(*args, **kwargs)\u001b[0m\n\u001b[1;32m     69\u001b[0m             \u001b[0;32mtry\u001b[0m\u001b[0;34m:\u001b[0m\u001b[0;34m\u001b[0m\u001b[0;34m\u001b[0m\u001b[0m\n\u001b[1;32m     70\u001b[0m                 \u001b[0;32mwith\u001b[0m \u001b[0mnp\u001b[0m\u001b[0;34m.\u001b[0m\u001b[0merrstate\u001b[0m\u001b[0;34m(\u001b[0m\u001b[0minvalid\u001b[0m\u001b[0;34m=\u001b[0m\u001b[0;34m\"ignore\"\u001b[0m\u001b[0;34m)\u001b[0m\u001b[0;34m:\u001b[0m\u001b[0;34m\u001b[0m\u001b[0;34m\u001b[0m\u001b[0m\n\u001b[0;32m---> 71\u001b[0;31m                     \u001b[0;32mreturn\u001b[0m \u001b[0mf\u001b[0m\u001b[0;34m(\u001b[0m\u001b[0;34m*\u001b[0m\u001b[0margs\u001b[0m\u001b[0;34m,\u001b[0m \u001b[0;34m**\u001b[0m\u001b[0mkwargs\u001b[0m\u001b[0;34m)\u001b[0m\u001b[0;34m\u001b[0m\u001b[0;34m\u001b[0m\u001b[0m\n\u001b[0m\u001b[1;32m     72\u001b[0m             \u001b[0;32mexcept\u001b[0m \u001b[0mValueError\u001b[0m \u001b[0;32mas\u001b[0m \u001b[0me\u001b[0m\u001b[0;34m:\u001b[0m\u001b[0;34m\u001b[0m\u001b[0;34m\u001b[0m\u001b[0m\n\u001b[1;32m     73\u001b[0m                 \u001b[0;31m# we want to transform an object array\u001b[0m\u001b[0;34m\u001b[0m\u001b[0;34m\u001b[0m\u001b[0;34m\u001b[0m\u001b[0m\n",
            "\u001b[0;32m/usr/local/lib/python3.7/dist-packages/pandas/core/nanops.py\u001b[0m in \u001b[0;36mf\u001b[0;34m(values, axis, skipna, **kwds)\u001b[0m\n\u001b[1;32m    127\u001b[0m                     \u001b[0mresult\u001b[0m \u001b[0;34m=\u001b[0m \u001b[0malt\u001b[0m\u001b[0;34m(\u001b[0m\u001b[0mvalues\u001b[0m\u001b[0;34m,\u001b[0m \u001b[0maxis\u001b[0m\u001b[0;34m=\u001b[0m\u001b[0maxis\u001b[0m\u001b[0;34m,\u001b[0m \u001b[0mskipna\u001b[0m\u001b[0;34m=\u001b[0m\u001b[0mskipna\u001b[0m\u001b[0;34m,\u001b[0m \u001b[0;34m**\u001b[0m\u001b[0mkwds\u001b[0m\u001b[0;34m)\u001b[0m\u001b[0;34m\u001b[0m\u001b[0;34m\u001b[0m\u001b[0m\n\u001b[1;32m    128\u001b[0m             \u001b[0;32melse\u001b[0m\u001b[0;34m:\u001b[0m\u001b[0;34m\u001b[0m\u001b[0;34m\u001b[0m\u001b[0m\n\u001b[0;32m--> 129\u001b[0;31m                 \u001b[0mresult\u001b[0m \u001b[0;34m=\u001b[0m \u001b[0malt\u001b[0m\u001b[0;34m(\u001b[0m\u001b[0mvalues\u001b[0m\u001b[0;34m,\u001b[0m \u001b[0maxis\u001b[0m\u001b[0;34m=\u001b[0m\u001b[0maxis\u001b[0m\u001b[0;34m,\u001b[0m \u001b[0mskipna\u001b[0m\u001b[0;34m=\u001b[0m\u001b[0mskipna\u001b[0m\u001b[0;34m,\u001b[0m \u001b[0;34m**\u001b[0m\u001b[0mkwds\u001b[0m\u001b[0;34m)\u001b[0m\u001b[0;34m\u001b[0m\u001b[0;34m\u001b[0m\u001b[0m\n\u001b[0m\u001b[1;32m    130\u001b[0m \u001b[0;34m\u001b[0m\u001b[0m\n\u001b[1;32m    131\u001b[0m             \u001b[0;32mreturn\u001b[0m \u001b[0mresult\u001b[0m\u001b[0;34m\u001b[0m\u001b[0;34m\u001b[0m\u001b[0m\n",
            "\u001b[0;32m/usr/local/lib/python3.7/dist-packages/pandas/core/nanops.py\u001b[0m in \u001b[0;36mnanmean\u001b[0;34m(values, axis, skipna, mask)\u001b[0m\n\u001b[1;32m    561\u001b[0m         \u001b[0mdtype_count\u001b[0m \u001b[0;34m=\u001b[0m \u001b[0mdtype\u001b[0m\u001b[0;34m\u001b[0m\u001b[0;34m\u001b[0m\u001b[0m\n\u001b[1;32m    562\u001b[0m     \u001b[0mcount\u001b[0m \u001b[0;34m=\u001b[0m \u001b[0m_get_counts\u001b[0m\u001b[0;34m(\u001b[0m\u001b[0mvalues\u001b[0m\u001b[0;34m.\u001b[0m\u001b[0mshape\u001b[0m\u001b[0;34m,\u001b[0m \u001b[0mmask\u001b[0m\u001b[0;34m,\u001b[0m \u001b[0maxis\u001b[0m\u001b[0;34m,\u001b[0m \u001b[0mdtype\u001b[0m\u001b[0;34m=\u001b[0m\u001b[0mdtype_count\u001b[0m\u001b[0;34m)\u001b[0m\u001b[0;34m\u001b[0m\u001b[0;34m\u001b[0m\u001b[0m\n\u001b[0;32m--> 563\u001b[0;31m     \u001b[0mthe_sum\u001b[0m \u001b[0;34m=\u001b[0m \u001b[0m_ensure_numeric\u001b[0m\u001b[0;34m(\u001b[0m\u001b[0mvalues\u001b[0m\u001b[0;34m.\u001b[0m\u001b[0msum\u001b[0m\u001b[0;34m(\u001b[0m\u001b[0maxis\u001b[0m\u001b[0;34m,\u001b[0m \u001b[0mdtype\u001b[0m\u001b[0;34m=\u001b[0m\u001b[0mdtype_sum\u001b[0m\u001b[0;34m)\u001b[0m\u001b[0;34m)\u001b[0m\u001b[0;34m\u001b[0m\u001b[0;34m\u001b[0m\u001b[0m\n\u001b[0m\u001b[1;32m    564\u001b[0m \u001b[0;34m\u001b[0m\u001b[0m\n\u001b[1;32m    565\u001b[0m     \u001b[0;32mif\u001b[0m \u001b[0maxis\u001b[0m \u001b[0;32mis\u001b[0m \u001b[0;32mnot\u001b[0m \u001b[0;32mNone\u001b[0m \u001b[0;32mand\u001b[0m \u001b[0mgetattr\u001b[0m\u001b[0;34m(\u001b[0m\u001b[0mthe_sum\u001b[0m\u001b[0;34m,\u001b[0m \u001b[0;34m\"ndim\"\u001b[0m\u001b[0;34m,\u001b[0m \u001b[0;32mFalse\u001b[0m\u001b[0;34m)\u001b[0m\u001b[0;34m:\u001b[0m\u001b[0;34m\u001b[0m\u001b[0;34m\u001b[0m\u001b[0m\n",
            "\u001b[0;32m/usr/local/lib/python3.7/dist-packages/numpy/core/_methods.py\u001b[0m in \u001b[0;36m_sum\u001b[0;34m(a, axis, dtype, out, keepdims, initial, where)\u001b[0m\n\u001b[1;32m     45\u001b[0m def _sum(a, axis=None, dtype=None, out=None, keepdims=False,\n\u001b[1;32m     46\u001b[0m          initial=_NoValue, where=True):\n\u001b[0;32m---> 47\u001b[0;31m     \u001b[0;32mreturn\u001b[0m \u001b[0mumr_sum\u001b[0m\u001b[0;34m(\u001b[0m\u001b[0ma\u001b[0m\u001b[0;34m,\u001b[0m \u001b[0maxis\u001b[0m\u001b[0;34m,\u001b[0m \u001b[0mdtype\u001b[0m\u001b[0;34m,\u001b[0m \u001b[0mout\u001b[0m\u001b[0;34m,\u001b[0m \u001b[0mkeepdims\u001b[0m\u001b[0;34m,\u001b[0m \u001b[0minitial\u001b[0m\u001b[0;34m,\u001b[0m \u001b[0mwhere\u001b[0m\u001b[0;34m)\u001b[0m\u001b[0;34m\u001b[0m\u001b[0;34m\u001b[0m\u001b[0m\n\u001b[0m\u001b[1;32m     48\u001b[0m \u001b[0;34m\u001b[0m\u001b[0m\n\u001b[1;32m     49\u001b[0m def _prod(a, axis=None, dtype=None, out=None, keepdims=False,\n",
            "\u001b[0;31mTypeError\u001b[0m: can only concatenate str (not \"int\") to str"
          ]
        }
      ]
    },
    {
      "cell_type": "code",
      "metadata": {
        "colab": {
          "base_uri": "https://localhost:8080/"
        },
        "id": "KHpXyLYDeUKY",
        "outputId": "9cfc00b1-3de5-4695-f561-887028579da7"
      },
      "source": [
        "type(np.NaN)\n",
        "# !!! np.nan is a float under the hood"
      ],
      "execution_count": null,
      "outputs": [
        {
          "output_type": "execute_result",
          "data": {
            "text/plain": [
              "float"
            ]
          },
          "metadata": {
            "tags": []
          },
          "execution_count": 69
        }
      ]
    },
    {
      "cell_type": "code",
      "metadata": {
        "id": "04j0eq-1egzL"
      },
      "source": [
        "# df['age'] = df['age'].astype(int) BAD\n",
        "# does not work cause np.nan is a float derp\n",
        "# we can convert np.nan to 0 (most a bad idea for stats) or convert to float instead of int\n",
        "df['age'] = df['age'].astype(float)"
      ],
      "execution_count": null,
      "outputs": []
    },
    {
      "cell_type": "code",
      "metadata": {
        "colab": {
          "base_uri": "https://localhost:8080/"
        },
        "id": "eDLCRf_3fFIm",
        "outputId": "fec6337d-428d-42d6-b536-f8b9ce0e3035"
      },
      "source": [
        "df.dtypes\n",
        "# nice"
      ],
      "execution_count": null,
      "outputs": [
        {
          "output_type": "execute_result",
          "data": {
            "text/plain": [
              "first     object\n",
              "last      object\n",
              "email     object\n",
              "age      float64\n",
              "dtype: object"
            ]
          },
          "metadata": {
            "tags": []
          },
          "execution_count": 79
        }
      ]
    },
    {
      "cell_type": "code",
      "metadata": {
        "colab": {
          "base_uri": "https://localhost:8080/"
        },
        "id": "0IWyDwCdenv9",
        "outputId": "5fe732a0-de2e-4de2-97c1-9935a0591952"
      },
      "source": [
        "df['age'].mean()"
      ],
      "execution_count": null,
      "outputs": [
        {
          "output_type": "execute_result",
          "data": {
            "text/plain": [
              "46.75"
            ]
          },
          "metadata": {
            "tags": []
          },
          "execution_count": 77
        }
      ]
    },
    {
      "cell_type": "markdown",
      "metadata": {
        "id": "YKSFFkCXe9WF"
      },
      "source": [
        "back to stackoverflow survey"
      ]
    },
    {
      "cell_type": "code",
      "metadata": {
        "id": "FGmPQWYQfbKs"
      },
      "source": [
        "# na_vals = ['NA', 'Missing']\n",
        "# df = pd.read_csv('survey_results_public.csv', index_col='Respondent', na_values=na_vals)\n",
        "# last argument written above to deal with weird ass na vals"
      ],
      "execution_count": null,
      "outputs": []
    },
    {
      "cell_type": "code",
      "metadata": {
        "colab": {
          "base_uri": "https://localhost:8080/"
        },
        "id": "brrs9I4af1ZV",
        "outputId": "b7ef9abe-d15e-4fb0-9bba-ba419ee6e5cb"
      },
      "source": [
        "df.columns"
      ],
      "execution_count": null,
      "outputs": [
        {
          "output_type": "execute_result",
          "data": {
            "text/plain": [
              "Index(['first', 'last', 'email', 'age'], dtype='object')"
            ]
          },
          "metadata": {
            "tags": []
          },
          "execution_count": 81
        }
      ]
    },
    {
      "cell_type": "code",
      "metadata": {
        "colab": {
          "base_uri": "https://localhost:8080/"
        },
        "id": "HXWjz-H6gwkD",
        "outputId": "65d2f042-81d2-4196-f3ea-d5fa947a70f7"
      },
      "source": [
        "df['YearsCode'].head(10)"
      ],
      "execution_count": null,
      "outputs": [
        {
          "output_type": "execute_result",
          "data": {
            "text/plain": [
              "Respondent\n",
              "1       4\n",
              "2     NaN\n",
              "3       3\n",
              "4       3\n",
              "5      16\n",
              "6      13\n",
              "7       6\n",
              "8       8\n",
              "9      12\n",
              "10     12\n",
              "Name: YearsCode, dtype: object"
            ]
          },
          "metadata": {
            "tags": []
          },
          "execution_count": 88
        }
      ]
    },
    {
      "cell_type": "code",
      "metadata": {
        "colab": {
          "base_uri": "https://localhost:8080/"
        },
        "id": "106i8xd5hAXX",
        "outputId": "62cd3fa7-4f48-4a2a-c64f-c0860de9cb4f"
      },
      "source": [
        "df['YearsCode'].unique()"
      ],
      "execution_count": null,
      "outputs": [
        {
          "output_type": "execute_result",
          "data": {
            "text/plain": [
              "array(['4', nan, '3', '16', '13', '6', '8', '12', '2', '5', '17', '10',\n",
              "       '14', '35', '7', 0, '30', '9', '26', '40', '19', '15', '20', '28',\n",
              "       '25', '1', '22', '11', '33', '50', '41', '18', '34', '24', '23',\n",
              "       '42', '27', '21', '36', '32', '39', '38', '31', '37', 51, '29',\n",
              "       '44', '45', '48', '46', '43', '47', '49'], dtype=object)"
            ]
          },
          "metadata": {
            "tags": []
          },
          "execution_count": 96
        }
      ]
    },
    {
      "cell_type": "code",
      "metadata": {
        "id": "6l9xGNRGhT9N"
      },
      "source": [
        "df['YearsCode'].replace(['Less than 1 year', 'More than 50 years'], [0, 51], inplace=True)"
      ],
      "execution_count": null,
      "outputs": []
    },
    {
      "cell_type": "code",
      "metadata": {
        "id": "tNtq9LsNiGED"
      },
      "source": [
        "df['YearsCode'] = df['YearsCode'].astype(float)"
      ],
      "execution_count": null,
      "outputs": []
    },
    {
      "cell_type": "code",
      "metadata": {
        "colab": {
          "base_uri": "https://localhost:8080/"
        },
        "id": "4SHSaYZgiYJC",
        "outputId": "03925990-32b9-4f2e-e692-7c3367bc2561"
      },
      "source": [
        "df['YearsCode'].mean()"
      ],
      "execution_count": null,
      "outputs": [
        {
          "output_type": "execute_result",
          "data": {
            "text/plain": [
              "11.662114216834588"
            ]
          },
          "metadata": {
            "tags": []
          },
          "execution_count": 100
        }
      ]
    },
    {
      "cell_type": "code",
      "metadata": {
        "id": "A587kbVpibOw"
      },
      "source": [
        ""
      ],
      "execution_count": null,
      "outputs": []
    }
  ]
}