{
  "nbformat": 4,
  "nbformat_minor": 0,
  "metadata": {
    "colab": {
      "name": "scrape_practice.ipynb",
      "provenance": [],
      "authorship_tag": "ABX9TyONPaYeGjJtfO2QZTm6Mski",
      "include_colab_link": true
    },
    "kernelspec": {
      "display_name": "Python 3",
      "name": "python3"
    },
    "language_info": {
      "name": "python"
    }
  },
  "cells": [
    {
      "cell_type": "markdown",
      "metadata": {
        "id": "view-in-github",
        "colab_type": "text"
      },
      "source": [
        "<a href=\"https://colab.research.google.com/github/chodizzle/portfolio1/blob/main/exercises/scrape_practice.ipynb\" target=\"_parent\"><img src=\"https://colab.research.google.com/assets/colab-badge.svg\" alt=\"Open In Colab\"/></a>"
      ]
    },
    {
      "cell_type": "code",
      "metadata": {
        "colab": {
          "background_save": true,
          "base_uri": "https://localhost:8080/"
        },
        "id": "1kMYHp1eXof_",
        "outputId": "92c18d76-fa1e-465f-f9d2-7d2a60fe1fe6"
      },
      "source": [
        "!pip install fake_useragent"
      ],
      "execution_count": null,
      "outputs": [
        {
          "output_type": "stream",
          "text": [
            "Collecting fake_useragent\n",
            "  Downloading https://files.pythonhosted.org/packages/d1/79/af647635d6968e2deb57a208d309f6069d31cb138066d7e821e575112a80/fake-useragent-0.1.11.tar.gz\n",
            "Building wheels for collected packages: fake-useragent\n",
            "  Building wheel for fake-useragent (setup.py) ... \u001b[?25l\u001b[?25hdone\n",
            "  Created wheel for fake-useragent: filename=fake_useragent-0.1.11-cp37-none-any.whl size=13485 sha256=42573b58c91815b9b46f5a316c5d9cb4a0adc55e2ecad90d266b386faf8c0019\n",
            "  Stored in directory: /root/.cache/pip/wheels/5e/63/09/d1dc15179f175357d3f5c00cbffbac37f9e8690d80545143ff\n",
            "Successfully built fake-useragent\n",
            "Installing collected packages: fake-useragent\n",
            "Successfully installed fake-useragent-0.1.11\n"
          ],
          "name": "stdout"
        }
      ]
    },
    {
      "cell_type": "code",
      "metadata": {
        "colab": {
          "background_save": true
        },
        "id": "Vh-5ADXc2uLP"
      },
      "source": [
        "import requests\n",
        "from bs4 import BeautifulSoup\n",
        "import pandas as pd\n",
        "from fake_useragent import UserAgent"
      ],
      "execution_count": null,
      "outputs": []
    },
    {
      "cell_type": "code",
      "metadata": {
        "colab": {
          "background_save": true
        },
        "id": "O0IqsFRVXv8A"
      },
      "source": [
        "ua = UserAgent()\n",
        "user = ua.chrome"
      ],
      "execution_count": null,
      "outputs": []
    },
    {
      "cell_type": "code",
      "metadata": {
        "colab": {
          "background_save": true
        },
        "id": "wbB2U72TMv1L"
      },
      "source": [
        "baseurl = 'https://www.thewhiskyexchange.com/'\n",
        "headers = {'User-Agent': user}\n"
      ],
      "execution_count": null,
      "outputs": []
    },
    {
      "cell_type": "code",
      "metadata": {
        "colab": {
          "background_save": true,
          "base_uri": "https://localhost:8080/",
          "height": 35
        },
        "id": "kkw09xlF1plE",
        "outputId": "6c241659-e5a0-4f2d-ce9e-2f0f675907e6"
      },
      "source": [
        "baseurl + 'c/35/japanese-whisky'"
      ],
      "execution_count": null,
      "outputs": [
        {
          "output_type": "execute_result",
          "data": {
            "application/vnd.google.colaboratory.intrinsic+json": {
              "type": "string"
            },
            "text/plain": [
              "'https://www.thewhiskyexchange.com/c/35/japanese-whisky'"
            ]
          },
          "metadata": {
            "tags": []
          },
          "execution_count": 0
        }
      ]
    },
    {
      "cell_type": "code",
      "metadata": {
        "colab": {
          "background_save": true
        },
        "id": "gBLUUN6xQUHg"
      },
      "source": [
        "r = requests.get(baseurl, headers=headers)"
      ],
      "execution_count": null,
      "outputs": []
    },
    {
      "cell_type": "code",
      "metadata": {
        "colab": {
          "background_save": true,
          "base_uri": "https://localhost:8080/"
        },
        "id": "2g03b9exNmcf",
        "outputId": "5e698b3f-209c-40d7-a310-aff05b9c19c2"
      },
      "source": [
        "k = requests.get('https://www.thewhiskyexchange.com/c/35/japanese-whisky').text\n",
        "soup=BeautifulSoup(k, 'html.parser')\n",
        "productlist = soup.find_all('li', {'class':'product-grid__item'})\n",
        "productlist"
      ],
      "execution_count": null,
      "outputs": [
        {
          "output_type": "execute_result",
          "data": {
            "text/plain": [
              "[<li class=\"product-grid__item\"><a class=\"product-card\" href=\"/p/49821/hatozaki-blended-japanese-whisky\" onclick=\"_gaq.push(['_trackEvent', 'Products-GridView', 'click', '49821 : Hatozaki Blended Japanese Whisky'])\" title=\"Hatozaki Blended Japanese Whisky\"><div class=\"product-card__image-container\"><img alt=\"Hatozaki Blended Japanese Whisky\" class=\"product-card__image lazy\" data-original=\"https://img.thewhiskyexchange.com/480/japan_hat1.jpg\" src=\"https://img.thewhiskyexchange.com/ph.png\"/><div class=\"product-extras product-extras--grid\"><div class=\"product-extras-flash product-extras-flash--purple\"><p class=\"product-extras-flash__content\"> Save<br/>£4.50 </p></div></div></div><div class=\"product-card__content\"><p class=\"product-card__name\"> Hatozaki Blended Japanese Whisky </p><p class=\"product-card__meta\"> 70cl / 40% </p></div><div class=\"product-card__data\"><p class=\"product-card__price\"> £29.45 </p><p class=\"product-card__unit-price\"> (£42.07 per litre) </p></div></a></li>,\n",
              " <li class=\"product-grid__item\"><a class=\"product-card\" href=\"/p/37325/suntory-torys-classic\" onclick=\"_gaq.push(['_trackEvent', 'Products-GridView', 'click', '37325 : Suntory Torys Classic'])\" title=\"Suntory Torys Classic\"><div class=\"product-card__image-container\"><img alt=\"Suntory Torys Classic\" class=\"product-card__image lazy\" data-original=\"https://img.thewhiskyexchange.com/480/japan_sun20.jpg\" src=\"https://img.thewhiskyexchange.com/ph.png\"/></div><div class=\"product-card__content\"><p class=\"product-card__name\"> Suntory Torys Classic </p><p class=\"product-card__meta\"> 70cl / 37% </p></div><div class=\"product-card__data\"><p class=\"product-card__price\"> £30.45 </p><p class=\"product-card__unit-price\"> (£43.50 per litre) </p></div></a></li>,\n",
              " <li class=\"product-grid__item\"><a class=\"product-card\" href=\"/p/36362/suntory-toki\" onclick=\"_gaq.push(['_trackEvent', 'Products-GridView', 'click', '36362 : Suntory Toki'])\" title=\"Suntory Toki\"><div class=\"product-card__image-container\"><img alt=\"Suntory Toki\" class=\"product-card__image lazy\" data-original=\"https://img.thewhiskyexchange.com/480/japan_sun15.jpg\" src=\"https://img.thewhiskyexchange.com/ph.png\"/></div><div class=\"product-card__content\"><p class=\"product-card__name\"> Suntory Toki </p><p class=\"product-card__meta\"> 70cl / 43% </p></div><div class=\"product-card__data\"><p class=\"product-card__price\"> £31.95 </p><p class=\"product-card__unit-price\"> (£45.64 per litre) </p></div></a></li>,\n",
              " <li class=\"product-grid__item\"><a class=\"product-card\" href=\"/p/16917/akashi-blended-whisky\" onclick=\"_gaq.push(['_trackEvent', 'Products-GridView', 'click', '16917 : Akashi Blended Whisky'])\" title=\"Akashi Blended Whisky\"><div class=\"product-card__image-container\"><img alt=\"Akashi Blended Whisky\" class=\"product-card__image lazy\" data-original=\"https://img.thewhiskyexchange.com/480/japan_aka1.jpg\" src=\"https://img.thewhiskyexchange.com/ph.png\"/></div><div class=\"product-card__content\"><p class=\"product-card__name\"> Akashi Blended Whisky </p><p class=\"product-card__meta\"> 50cl / 40% </p></div><div class=\"product-card__data\"><p class=\"product-card__price\"> £32.75 </p><p class=\"product-card__unit-price\"> (£65.50 per litre) </p></div></a></li>,\n",
              " <li class=\"product-grid__item\"><a class=\"product-card\" href=\"/p/49001/tokinoka-white-blended-whisky\" onclick=\"_gaq.push(['_trackEvent', 'Products-GridView', 'click', '49001 : Tokinoka White Blended Whisky'])\" title=\"Tokinoka White Blended Whisky\"><div class=\"product-card__image-container\"><img alt=\"Tokinoka White Blended Whisky\" class=\"product-card__image lazy\" data-original=\"https://img.thewhiskyexchange.com/480/japan_tok2.jpg\" src=\"https://img.thewhiskyexchange.com/ph.png\"/></div><div class=\"product-card__content\"><p class=\"product-card__name\"> Tokinoka White Blended Whisky </p><p class=\"product-card__meta\"> 50cl / 40% </p></div><div class=\"product-card__data\"><p class=\"product-card__price\"> £32.95 </p><p class=\"product-card__unit-price\"> (£65.90 per litre) </p></div></a></li>,\n",
              " <li class=\"product-grid__item\"><a class=\"product-card\" href=\"/p/57521/suntory-toki-glass-pack\" onclick=\"_gaq.push(['_trackEvent', 'Products-GridView', 'click', '57521 : Suntory Toki / Glass Pack'])\" title=\" Suntory Toki Glass Pack\"><div class=\"product-card__image-container\"><img alt=\" Suntory TokiGlass Pack\" class=\"product-card__image lazy\" data-original=\"https://img.thewhiskyexchange.com/480/japan_sun34.jpg\" src=\"https://img.thewhiskyexchange.com/ph.png\"/></div><div class=\"product-card__content\"><p class=\"product-card__name\"> Suntory Toki<span class=\"product-card__name-secondary\">Glass Pack</span></p><p class=\"product-card__meta\"> 70cl / 43% </p></div><div class=\"product-card__data\"><p class=\"product-card__price\"> £34.95 </p><p class=\"product-card__unit-price\"> (£49.93 per litre) </p></div></a></li>,\n",
              " <li class=\"product-grid__item\"><a class=\"product-card\" href=\"/p/45577/nikka-days\" onclick=\"_gaq.push(['_trackEvent', 'Products-GridView', 'click', '45577 : Nikka Days'])\" title=\"Nikka Days\"><div class=\"product-card__image-container\"><img alt=\"Nikka Days\" class=\"product-card__image lazy\" data-original=\"https://img.thewhiskyexchange.com/480/japan_nik47.jpg\" src=\"https://img.thewhiskyexchange.com/ph.png\"/></div><div class=\"product-card__content\"><p class=\"product-card__name\"> Nikka Days </p><p class=\"product-card__meta\"> 70cl / 40% </p></div><div class=\"product-card__data\"><p class=\"product-card__price\"> £38.95 </p><p class=\"product-card__unit-price\"> (£55.64 per litre) </p></div></a></li>,\n",
              " <li class=\"product-grid__item\"><a class=\"product-card\" href=\"/p/48272/mars-kasei-blended-whisky\" onclick=\"_gaq.push(['_trackEvent', 'Products-GridView', 'click', '48272 : Mars Kasei Blended Whisky'])\" title=\"Mars Kasei Blended Whisky\"><div class=\"product-card__image-container\"><img alt=\"Mars Kasei Blended Whisky\" class=\"product-card__image lazy\" data-original=\"https://img.thewhiskyexchange.com/480/japan_mar8.jpg\" src=\"https://img.thewhiskyexchange.com/ph.png\"/></div><div class=\"product-card__content\"><p class=\"product-card__name\"> Mars Kasei Blended Whisky </p><p class=\"product-card__meta\"> 70cl / 40% </p></div><div class=\"product-card__data\"><p class=\"product-card__price\"> £42.95 </p><p class=\"product-card__unit-price\"> (£61.36 per litre) </p></div></a></li>,\n",
              " <li class=\"product-grid__item\"><a class=\"product-card\" href=\"/p/2928/nikka-from-the-barrel\" onclick=\"_gaq.push(['_trackEvent', 'Products-GridView', 'click', '2928 : Nikka From the Barrel'])\" title=\"Nikka From the Barrel\"><div class=\"product-card__image-container\"><img alt=\"Nikka From the Barrel\" class=\"product-card__image lazy\" data-original=\"https://img.thewhiskyexchange.com/480/japan_nik10.jpg\" src=\"https://img.thewhiskyexchange.com/ph.png\"/></div><div class=\"product-card__content\"><p class=\"product-card__name\"> Nikka From the Barrel </p><p class=\"product-card__meta\"> 50cl / 51.4% </p></div><div class=\"product-card__data\"><p class=\"product-card__price\"> £42.95 </p><p class=\"product-card__unit-price\"> (£85.90 per litre) </p></div></a></li>,\n",
              " <li class=\"product-grid__item\"><a class=\"product-card\" href=\"/p/24587/togouchi-premium-blended-whisky\" onclick=\"_gaq.push(['_trackEvent', 'Products-GridView', 'click', '24587 : Togouchi Premium Blended Whisky'])\" title=\"Togouchi Premium Blended Whisky\"><div class=\"product-card__image-container\"><img alt=\"Togouchi Premium Blended Whisky\" class=\"product-card__image lazy\" data-original=\"https://img.thewhiskyexchange.com/480/japan_tog1.jpg\" src=\"https://img.thewhiskyexchange.com/ph.png\"/></div><div class=\"product-card__content\"><p class=\"product-card__name\"> Togouchi Premium Blended Whisky </p><p class=\"product-card__meta\"> 70cl / 40% </p></div><div class=\"product-card__data\"><p class=\"product-card__price\"> £44.95 </p><p class=\"product-card__unit-price\"> (£64.21 per litre) </p></div></a></li>,\n",
              " <li class=\"product-grid__item\"><a class=\"product-card\" href=\"/p/2935/nikka-pure-malt-red\" onclick=\"_gaq.push(['_trackEvent', 'Products-GridView', 'click', '2935 : Nikka Pure Malt Red'])\" title=\"Nikka Pure Malt Red\"><div class=\"product-card__image-container\"><img alt=\"Nikka Pure Malt Red\" class=\"product-card__image lazy\" data-original=\"https://img.thewhiskyexchange.com/480/japan_nik8.jpg\" src=\"https://img.thewhiskyexchange.com/ph.png\"/></div><div class=\"product-card__content\"><p class=\"product-card__name\"> Nikka Pure Malt Red </p><p class=\"product-card__meta\"> 50cl / 43% </p></div><div class=\"product-card__data\"><p class=\"product-card__price\"> £46.45 </p><p class=\"product-card__unit-price\"> (£92.90 per litre) </p></div></a></li>,\n",
              " <li class=\"product-grid__item\"><a class=\"product-card\" href=\"/p/49822/hatozaki-pure-malt-japanese-whisky\" onclick=\"_gaq.push(['_trackEvent', 'Products-GridView', 'click', '49822 : Hatozaki Pure Malt Japanese Whisky'])\" title=\"Hatozaki Pure Malt Japanese Whisky\"><div class=\"product-card__image-container\"><img alt=\"Hatozaki Pure Malt Japanese Whisky\" class=\"product-card__image lazy\" data-original=\"https://img.thewhiskyexchange.com/480/japan_hat2.jpg\" src=\"https://img.thewhiskyexchange.com/ph.png\"/></div><div class=\"product-card__content\"><p class=\"product-card__name\"> Hatozaki Pure Malt Japanese Whisky </p><p class=\"product-card__meta\"> 70cl / 46% </p></div><div class=\"product-card__data\"><p class=\"product-card__price\"> £47.45 </p><p class=\"product-card__unit-price\"> (£67.79 per litre) </p></div></a></li>,\n",
              " <li class=\"product-grid__item\"><a class=\"product-card\" href=\"/p/34970/tokinoka-black-blended-whisky\" onclick=\"_gaq.push(['_trackEvent', 'Products-GridView', 'click', '34970 : Tokinoka Black Blended Whisky'])\" title=\"Tokinoka Black Blended Whisky\"><div class=\"product-card__image-container\"><img alt=\"Tokinoka Black Blended Whisky\" class=\"product-card__image lazy\" data-original=\"https://img.thewhiskyexchange.com/480/japan_tok1.jpg\" src=\"https://img.thewhiskyexchange.com/ph.png\"/></div><div class=\"product-card__content\"><p class=\"product-card__name\"> Tokinoka Black Blended Whisky </p><p class=\"product-card__meta\"> 50cl / 50% </p></div><div class=\"product-card__data\"><p class=\"product-card__price\"> £47.95 </p><p class=\"product-card__unit-price\"> (£95.90 per litre) </p></div></a></li>,\n",
              " <li class=\"product-grid__item\"><a class=\"product-card\" href=\"/p/37317/suntory-chita-whisky\" onclick=\"_gaq.push(['_trackEvent', 'Products-GridView', 'click', '37317 : Suntory Chita Whisky'])\" title=\"Suntory Chita Whisky\"><div class=\"product-card__image-container\"><img alt=\"Suntory Chita Whisky\" class=\"product-card__image lazy\" data-original=\"https://img.thewhiskyexchange.com/480/japan_sun17.jpg\" src=\"https://img.thewhiskyexchange.com/ph.png\"/></div><div class=\"product-card__content\"><p class=\"product-card__name\"> Suntory Chita Whisky </p><p class=\"product-card__meta\"> 70cl / 43% </p></div><div class=\"product-card__data\"><p class=\"product-card__price\"> £49.95 </p><p class=\"product-card__unit-price\"> (£71.36 per litre) </p></div></a></li>,\n",
              " <li class=\"product-grid__item\"><a class=\"product-card\" href=\"/p/30377/super-nikka-rare-old\" onclick=\"_gaq.push(['_trackEvent', 'Products-GridView', 'click', '30377 : Super Nikka / Rare Old'])\" title=\" Super Nikka Rare Old\"><div class=\"product-card__image-container\"><img alt=\" Super NikkaRare Old\" class=\"product-card__image lazy\" data-original=\"https://img.thewhiskyexchange.com/480/japan_nik35.jpg\" src=\"https://img.thewhiskyexchange.com/ph.png\"/></div><div class=\"product-card__content\"><p class=\"product-card__name\"> Super Nikka<span class=\"product-card__name-secondary\">Rare Old</span></p><p class=\"product-card__meta\"> 70cl / 43% </p></div><div class=\"product-card__data\"><p class=\"product-card__price\"> £50.25 </p><p class=\"product-card__unit-price\"> (£71.79 per litre) </p></div></a></li>,\n",
              " <li class=\"product-grid__item\"><a class=\"product-card\" href=\"/p/23928/nikka-coffey-grain-whisky\" onclick=\"_gaq.push(['_trackEvent', 'Products-GridView', 'click', '23928 : Nikka Coffey Grain Whisky'])\" title=\"Nikka Coffey Grain Whisky\"><div class=\"product-card__image-container\"><img alt=\"Nikka Coffey Grain Whisky\" class=\"product-card__image lazy\" data-original=\"https://img.thewhiskyexchange.com/480/japan_nik24.jpg\" src=\"https://img.thewhiskyexchange.com/ph.png\"/><div class=\"product-extras product-extras--grid\"><div class=\"product-extras-banner\"><img alt=\"Available with Engraving\" class=\"product-extras-banner__image\" src=\"/media/rtwe/assets/application/images/widgets/engraving-sm.png\"/></div></div></div><div class=\"product-card__content\"><p class=\"product-card__name\"> Nikka Coffey Grain Whisky </p><p class=\"product-card__meta\"> 70cl / 45% </p></div><div class=\"product-card__data\"><p class=\"product-card__price\"> £54.95 </p><p class=\"product-card__unit-price\"> (£78.50 per litre) </p></div></a></li>,\n",
              " <li class=\"product-grid__item\"><a class=\"product-card\" href=\"/p/57245/enso-japanese-whisky\" onclick=\"_gaq.push(['_trackEvent', 'Products-GridView', 'click', '57245 : Enso Japanese Whisky'])\" title=\"Enso Japanese Whisky\"><div class=\"product-card__image-container\"><img alt=\"Enso Japanese Whisky\" class=\"product-card__image lazy\" data-original=\"https://img.thewhiskyexchange.com/480/japan_ens1.jpg\" src=\"https://img.thewhiskyexchange.com/ph.png\"/></div><div class=\"product-card__content\"><p class=\"product-card__name\"> Enso Japanese Whisky </p><p class=\"product-card__meta\"> 70cl / 40% </p></div><div class=\"product-card__data\"><p class=\"product-card__price\"> £55.95 </p><p class=\"product-card__unit-price\"> (£79.93 per litre) </p></div></a></li>,\n",
              " <li class=\"product-grid__item\"><a class=\"product-card\" href=\"/p/29679/mars-maltage-cosmo\" onclick=\"_gaq.push(['_trackEvent', 'Products-GridView', 'click', '29679 : Mars Maltage Cosmo'])\" title=\"Mars Maltage Cosmo\"><div class=\"product-card__image-container\"><img alt=\"Mars Maltage Cosmo\" class=\"product-card__image lazy\" data-original=\"https://img.thewhiskyexchange.com/480/japan_mar4.jpg\" src=\"https://img.thewhiskyexchange.com/ph.png\"/></div><div class=\"product-card__content\"><p class=\"product-card__name\"> Mars Maltage Cosmo </p><p class=\"product-card__meta\"> 70cl / 43% </p></div><div class=\"product-card__data\"><p class=\"product-card__price\"> £55.95 </p><p class=\"product-card__unit-price\"> (£79.93 per litre) </p></div></a></li>,\n",
              " <li class=\"product-grid__item\"><a class=\"product-card\" href=\"/p/24156/nikka-coffey-malt-whisky\" onclick=\"_gaq.push(['_trackEvent', 'Products-GridView', 'click', '24156 : Nikka Coffey Malt Whisky'])\" title=\"Nikka Coffey Malt Whisky\"><div class=\"product-card__image-container\"><img alt=\"Nikka Coffey Malt Whisky\" class=\"product-card__image lazy\" data-original=\"https://img.thewhiskyexchange.com/480/japan_nik25.jpg\" src=\"https://img.thewhiskyexchange.com/ph.png\"/></div><div class=\"product-card__content\"><p class=\"product-card__name\"> Nikka Coffey Malt Whisky </p><p class=\"product-card__meta\"> 70cl / 45% </p></div><div class=\"product-card__data\"><p class=\"product-card__price\"> £58.45 </p><p class=\"product-card__unit-price\"> (£83.50 per litre) </p></div></a></li>,\n",
              " <li class=\"product-grid__item\"><a class=\"product-card\" href=\"/p/33964/suntory-kakubin-yellow-label\" onclick=\"_gaq.push(['_trackEvent', 'Products-GridView', 'click', '33964 : Suntory Kakubin Yellow Label'])\" title=\"Suntory Kakubin Yellow Label\"><div class=\"product-card__image-container\"><img alt=\"Suntory Kakubin Yellow Label\" class=\"product-card__image lazy\" data-original=\"https://img.thewhiskyexchange.com/480/japan_sun13.jpg\" src=\"https://img.thewhiskyexchange.com/ph.png\"/></div><div class=\"product-card__content\"><p class=\"product-card__name\"> Suntory Kakubin Yellow Label </p><p class=\"product-card__meta\"> 70cl / 40% </p></div><div class=\"product-card__data\"><p class=\"product-card__price\"> £59.45 </p><p class=\"product-card__unit-price\"> (£84.93 per litre) </p></div></a></li>,\n",
              " <li class=\"product-grid__item\"><a class=\"product-card\" href=\"/p/56192/nikka-taketsuru-pure-malt-2020-release\" onclick=\"_gaq.push(['_trackEvent', 'Products-GridView', 'click', '56192 : Nikka Taketsuru Pure Malt / 2020 Release'])\" title=\" Nikka Taketsuru Pure Malt 2020 Release\"><div class=\"product-card__image-container\"><img alt=\" Nikka Taketsuru Pure Malt2020 Release\" class=\"product-card__image lazy\" data-original=\"https://img.thewhiskyexchange.com/480/japan_tak13.jpg\" src=\"https://img.thewhiskyexchange.com/ph.png\"/></div><div class=\"product-card__content\"><p class=\"product-card__name\"> Nikka Taketsuru Pure Malt<span class=\"product-card__name-secondary\">2020 Release</span></p><p class=\"product-card__meta\"> 70cl / 43% </p></div><div class=\"product-card__data\"><p class=\"product-card__price\"> £59.95 </p><p class=\"product-card__unit-price\"> (£85.64 per litre) </p></div></a></li>,\n",
              " <li class=\"product-grid__item\"><a class=\"product-card\" href=\"/p/48233/ichiros-malt-grain-japanese-whisky\" onclick=\"_gaq.push(['_trackEvent', 'Products-GridView', 'click', '48233 : Ichiros Malt &amp; Grain Japanese Whisky'])\" title=\"Ichiro's Malt &amp; Grain Japanese Whisky\"><div class=\"product-card__image-container\"><img alt=\"Ichiro's Malt &amp; Grain Japanese Whisky\" class=\"product-card__image lazy\" data-original=\"https://img.thewhiskyexchange.com/480/japan_ich13.jpg\" src=\"https://img.thewhiskyexchange.com/ph.png\"/><div class=\"product-extras product-extras--grid\"><div class=\"product-extras-flash product-extras-flash--purple\"><p class=\"product-extras-flash__content\"> Save<br/>£8 </p></div></div></div><div class=\"product-card__content\"><p class=\"product-card__name\"> Ichiro's Malt &amp; Grain Japanese Whisky </p><p class=\"product-card__meta\"> 70cl / 46.5% </p></div><div class=\"product-card__data\"><p class=\"product-card__price\"> £61.95 </p><p class=\"product-card__unit-price\"> (£88.50 per litre) </p></div></a></li>,\n",
              " <li class=\"product-grid__item\"><a class=\"product-card\" href=\"/p/23771/suntory-hakushu-distillers-reserve\" onclick=\"_gaq.push(['_trackEvent', 'Products-GridView', 'click', '23771 : Suntory Hakushu Distillers Reserve'])\" title=\"Suntory Hakushu Distiller's Reserve\"><div class=\"product-card__image-container\"><img alt=\"Suntory Hakushu Distiller's Reserve\" class=\"product-card__image lazy\" data-original=\"https://img.thewhiskyexchange.com/480/japan_hak16.jpg\" src=\"https://img.thewhiskyexchange.com/ph.png\"/><div class=\"product-extras product-extras--grid\"><div class=\"product-extras-banner\"><img alt=\"Available with Engraving\" class=\"product-extras-banner__image\" src=\"/media/rtwe/assets/application/images/widgets/engraving-sm.png\"/></div></div></div><div class=\"product-card__content\"><p class=\"product-card__name\"> Suntory Hakushu Distiller's Reserve </p><p class=\"product-card__meta\"> 70cl / 43% </p></div><div class=\"product-card__data\"><p class=\"product-card__price\"> £66.95 </p><p class=\"product-card__unit-price\"> (£95.64 per litre) </p></div></a></li>,\n",
              " <li class=\"product-grid__item\"><a class=\"product-card\" href=\"/p/31531/akashi-single-malt-whisky\" onclick=\"_gaq.push(['_trackEvent', 'Products-GridView', 'click', '31531 : Akashi Single Malt Whisky'])\" title=\"Akashi Single Malt Whisky\"><div class=\"product-card__image-container\"><img alt=\"Akashi Single Malt Whisky\" class=\"product-card__image lazy\" data-original=\"https://img.thewhiskyexchange.com/480/japan_aka2.jpg\" src=\"https://img.thewhiskyexchange.com/ph.png\"/></div><div class=\"product-card__content\"><p class=\"product-card__name\"> Akashi Single Malt Whisky </p><p class=\"product-card__meta\"> 50cl / 46% </p></div><div class=\"product-card__data\"><p class=\"product-card__price\"> £73.59 </p><p class=\"product-card__unit-price\"> (£147.18 per litre) </p></div></a></li>]"
            ]
          },
          "metadata": {
            "tags": []
          },
          "execution_count": 0
        }
      ]
    },
    {
      "cell_type": "code",
      "metadata": {
        "colab": {
          "background_save": true
        },
        "id": "JdegJSF5NnBP"
      },
      "source": [
        "productlinks = []\n",
        "for product in productlist:\n",
        "  link = product.find('a', {'class':'product-card'}).get('href')\n",
        "  productlinks.append(baseurl + link)"
      ],
      "execution_count": null,
      "outputs": []
    },
    {
      "cell_type": "code",
      "metadata": {
        "colab": {
          "background_save": true,
          "base_uri": "https://localhost:8080/"
        },
        "id": "evrGypeX2oVV",
        "outputId": "9b399e49-0cca-4a1c-ba60-76519fb09551"
      },
      "source": [
        "productlinks"
      ],
      "execution_count": null,
      "outputs": [
        {
          "output_type": "execute_result",
          "data": {
            "text/plain": [
              "['https://www.thewhiskyexchange.com//p/49821/hatozaki-blended-japanese-whisky',\n",
              " 'https://www.thewhiskyexchange.com//p/37325/suntory-torys-classic',\n",
              " 'https://www.thewhiskyexchange.com//p/36362/suntory-toki',\n",
              " 'https://www.thewhiskyexchange.com//p/16917/akashi-blended-whisky',\n",
              " 'https://www.thewhiskyexchange.com//p/49001/tokinoka-white-blended-whisky',\n",
              " 'https://www.thewhiskyexchange.com//p/57521/suntory-toki-glass-pack',\n",
              " 'https://www.thewhiskyexchange.com//p/45577/nikka-days',\n",
              " 'https://www.thewhiskyexchange.com//p/48272/mars-kasei-blended-whisky',\n",
              " 'https://www.thewhiskyexchange.com//p/2928/nikka-from-the-barrel',\n",
              " 'https://www.thewhiskyexchange.com//p/24587/togouchi-premium-blended-whisky',\n",
              " 'https://www.thewhiskyexchange.com//p/2935/nikka-pure-malt-red',\n",
              " 'https://www.thewhiskyexchange.com//p/49822/hatozaki-pure-malt-japanese-whisky',\n",
              " 'https://www.thewhiskyexchange.com//p/34970/tokinoka-black-blended-whisky',\n",
              " 'https://www.thewhiskyexchange.com//p/37317/suntory-chita-whisky',\n",
              " 'https://www.thewhiskyexchange.com//p/30377/super-nikka-rare-old',\n",
              " 'https://www.thewhiskyexchange.com//p/23928/nikka-coffey-grain-whisky',\n",
              " 'https://www.thewhiskyexchange.com//p/57245/enso-japanese-whisky',\n",
              " 'https://www.thewhiskyexchange.com//p/29679/mars-maltage-cosmo',\n",
              " 'https://www.thewhiskyexchange.com//p/24156/nikka-coffey-malt-whisky',\n",
              " 'https://www.thewhiskyexchange.com//p/33964/suntory-kakubin-yellow-label',\n",
              " 'https://www.thewhiskyexchange.com//p/56192/nikka-taketsuru-pure-malt-2020-release',\n",
              " 'https://www.thewhiskyexchange.com//p/48233/ichiros-malt-grain-japanese-whisky',\n",
              " 'https://www.thewhiskyexchange.com//p/23771/suntory-hakushu-distillers-reserve',\n",
              " 'https://www.thewhiskyexchange.com//p/31531/akashi-single-malt-whisky']"
            ]
          },
          "metadata": {
            "tags": []
          },
          "execution_count": 0
        }
      ]
    },
    {
      "cell_type": "code",
      "metadata": {
        "colab": {
          "background_save": true
        },
        "id": "pN01j65G2p2l"
      },
      "source": [
        "productlinks = []\n",
        "for x in range(1, 6):\n",
        "  k = requests.get('https://www.thewhiskyexchange.com/c/35/japanese-whisky?pg={}&psize=24&sort=pasc'.format(x)).text\n",
        "  soup=BeautifulSoup(k, 'html.parser')\n",
        "  productlist = soup.find_all('li', {'class':'product-grid__item'})\n",
        "  for product in productlist:\n",
        "    link = product.find('a', {'class':'product-card'}).get('href')\n",
        "    productlinks.append(baseurl + link)\n"
      ],
      "execution_count": null,
      "outputs": []
    },
    {
      "cell_type": "code",
      "metadata": {
        "colab": {
          "background_save": true,
          "base_uri": "https://localhost:8080/"
        },
        "id": "1hJFs4qX4O_S",
        "outputId": "c41f251f-d0cb-43df-888c-8a004116b79d"
      },
      "source": [
        "len(productlinks)"
      ],
      "execution_count": null,
      "outputs": [
        {
          "output_type": "execute_result",
          "data": {
            "text/plain": [
              "115"
            ]
          },
          "metadata": {
            "tags": []
          },
          "execution_count": 0
        }
      ]
    },
    {
      "cell_type": "code",
      "metadata": {
        "colab": {
          "background_save": true
        },
        "id": "Jz5MObCb9QHq"
      },
      "source": [
        "datas = []\n",
        "\n",
        "for link in productlinks:\n",
        "  res = requests.get(link, headers=headers).text\n",
        "  salad = BeautifulSoup(res, 'html.parser')\n",
        "  \n",
        "  try:\n",
        "    price = salad.find('p', {'class':'product-action__price'}).text.replace('\\n', '')\n",
        "  except:\n",
        "    price = None\n",
        "  \n",
        "  try:\n",
        "    aboot = salad.find('div', {'class', 'product-main__description'}).text.replace('\\n', '')\n",
        "  except:\n",
        "    aboot = None\n",
        "\n",
        "  try:\n",
        "    rating = salad.find('div', {'class':'review-overview'}).text.replace('\\n', '')\n",
        "  except:\n",
        "    rating = None\n",
        "\n",
        "  try:\n",
        "    name=salad.find('h1', {'class':'product-main__name'}).text.replace('\\n', '')\n",
        "  except:\n",
        "    name = None\n",
        "  \n",
        "  whisky = {'name':name, 'price':price, 'rating':rating, 'aboot':aboot}\n",
        "\n",
        "  datas.append(whisky)"
      ],
      "execution_count": null,
      "outputs": []
    },
    {
      "cell_type": "code",
      "metadata": {
        "colab": {
          "background_save": true,
          "base_uri": "https://localhost:8080/",
          "height": 419
        },
        "id": "0rTds21Z-CHr",
        "outputId": "5f08466b-1bd7-4a07-f9ce-80e59021b0ff"
      },
      "source": [
        "df = pd.DataFrame(datas)\n",
        "df"
      ],
      "execution_count": null,
      "outputs": [
        {
          "output_type": "execute_result",
          "data": {
            "text/html": [
              "<div>\n",
              "<style scoped>\n",
              "    .dataframe tbody tr th:only-of-type {\n",
              "        vertical-align: middle;\n",
              "    }\n",
              "\n",
              "    .dataframe tbody tr th {\n",
              "        vertical-align: top;\n",
              "    }\n",
              "\n",
              "    .dataframe thead th {\n",
              "        text-align: right;\n",
              "    }\n",
              "</style>\n",
              "<table border=\"1\" class=\"dataframe\">\n",
              "  <thead>\n",
              "    <tr style=\"text-align: right;\">\n",
              "      <th></th>\n",
              "      <th>name</th>\n",
              "      <th>price</th>\n",
              "      <th>rating</th>\n",
              "      <th>aboot</th>\n",
              "    </tr>\n",
              "  </thead>\n",
              "  <tbody>\n",
              "    <tr>\n",
              "      <th>0</th>\n",
              "      <td>Hatozaki Blended Japanese Whisky</td>\n",
              "      <td>£29.45</td>\n",
              "      <td>3(3 Reviews)</td>\n",
              "      <td>Named after the oldest stone lighthouse in Jap...</td>\n",
              "    </tr>\n",
              "    <tr>\n",
              "      <th>1</th>\n",
              "      <td>Suntory Torys Classic</td>\n",
              "      <td>£30.45</td>\n",
              "      <td>3.5(2 Reviews)</td>\n",
              "      <td>Suntory Torys Classic is a light and easy-drin...</td>\n",
              "    </tr>\n",
              "    <tr>\n",
              "      <th>2</th>\n",
              "      <td>Suntory Toki</td>\n",
              "      <td>£31.95</td>\n",
              "      <td>4(30 Reviews)</td>\n",
              "      <td>Toki is a blended whisky from Suntory's three ...</td>\n",
              "    </tr>\n",
              "    <tr>\n",
              "      <th>3</th>\n",
              "      <td>Akashi Blended Whisky</td>\n",
              "      <td>£32.75</td>\n",
              "      <td>3.5(19 Reviews)</td>\n",
              "      <td>A lesser-known whisky outside the local Japane...</td>\n",
              "    </tr>\n",
              "    <tr>\n",
              "      <th>4</th>\n",
              "      <td>Tokinoka White Blended Whisky</td>\n",
              "      <td>£32.95</td>\n",
              "      <td>None</td>\n",
              "      <td>A Japanese blended whisky from White Oak disti...</td>\n",
              "    </tr>\n",
              "    <tr>\n",
              "      <th>...</th>\n",
              "      <td>...</td>\n",
              "      <td>...</td>\n",
              "      <td>...</td>\n",
              "      <td>...</td>\n",
              "    </tr>\n",
              "    <tr>\n",
              "      <th>110</th>\n",
              "      <td>Karuizawa 30 Year OldSherry Cask #5347</td>\n",
              "      <td>£20,000</td>\n",
              "      <td>None</td>\n",
              "      <td>The sherried half of a pair of Karuizawas laun...</td>\n",
              "    </tr>\n",
              "    <tr>\n",
              "      <th>111</th>\n",
              "      <td>Karuizawa 196742 Year Old Cask #6426 TWE 10th ...</td>\n",
              "      <td>£20,000</td>\n",
              "      <td>None</td>\n",
              "      <td>Here it is - the legendary Karuizawa 1967 42yo...</td>\n",
              "    </tr>\n",
              "    <tr>\n",
              "      <th>112</th>\n",
              "      <td>Hanyu 1990Queen of Hearts Cask #9102</td>\n",
              "      <td>£25,000</td>\n",
              "      <td>None</td>\n",
              "      <td>One of a series of really terrific Japanese ma...</td>\n",
              "    </tr>\n",
              "    <tr>\n",
              "      <th>113</th>\n",
              "      <td>Karuizawa 37 Year OldPearl Geisha</td>\n",
              "      <td>£35,000</td>\n",
              "      <td>None</td>\n",
              "      <td></td>\n",
              "    </tr>\n",
              "    <tr>\n",
              "      <th>114</th>\n",
              "      <td>Hanyu 1985 The JokerMonochrome Label</td>\n",
              "      <td>£60,000</td>\n",
              "      <td>None</td>\n",
              "      <td>The last and final release from the Ichiro's M...</td>\n",
              "    </tr>\n",
              "  </tbody>\n",
              "</table>\n",
              "<p>115 rows × 4 columns</p>\n",
              "</div>"
            ],
            "text/plain": [
              "                                                  name  ...                                              aboot\n",
              "0                     Hatozaki Blended Japanese Whisky  ...  Named after the oldest stone lighthouse in Jap...\n",
              "1                                Suntory Torys Classic  ...  Suntory Torys Classic is a light and easy-drin...\n",
              "2                                         Suntory Toki  ...  Toki is a blended whisky from Suntory's three ...\n",
              "3                                Akashi Blended Whisky  ...  A lesser-known whisky outside the local Japane...\n",
              "4                        Tokinoka White Blended Whisky  ...  A Japanese blended whisky from White Oak disti...\n",
              "..                                                 ...  ...                                                ...\n",
              "110             Karuizawa 30 Year OldSherry Cask #5347  ...  The sherried half of a pair of Karuizawas laun...\n",
              "111  Karuizawa 196742 Year Old Cask #6426 TWE 10th ...  ...  Here it is - the legendary Karuizawa 1967 42yo...\n",
              "112               Hanyu 1990Queen of Hearts Cask #9102  ...  One of a series of really terrific Japanese ma...\n",
              "113                  Karuizawa 37 Year OldPearl Geisha  ...                                                   \n",
              "114               Hanyu 1985 The JokerMonochrome Label  ...  The last and final release from the Ichiro's M...\n",
              "\n",
              "[115 rows x 4 columns]"
            ]
          },
          "metadata": {
            "tags": []
          },
          "execution_count": 0
        }
      ]
    },
    {
      "cell_type": "code",
      "metadata": {
        "colab": {
          "background_save": true
        },
        "id": "H2-cRMCsSnQk"
      },
      "source": [
        "recipe_url = 'https://www.seriouseats.com/'"
      ],
      "execution_count": null,
      "outputs": []
    },
    {
      "cell_type": "code",
      "metadata": {
        "colab": {
          "background_save": true,
          "base_uri": "https://localhost:8080/"
        },
        "id": "JY-6TsQsYNsA",
        "outputId": "7cf55d12-8c4a-4218-d3e3-d21a3f4a1b2b"
      },
      "source": [
        "rec = requests.get('https://www.seriouseats.com/recipes/topics/meal/quick-dinners?page={}#recipes'.format(1)).text\n",
        "supersoup = BeautifulSoup(rec, 'html.parser')\n",
        "recipes = supersoup.find_all('a', {'class':'o-link-wrapper'}, href=True)\n",
        "for a in recipes:\n",
        "  print(a['href'])"
      ],
      "execution_count": null,
      "outputs": [
        {
          "output_type": "stream",
          "text": [
            "https://www.seriouseats.com/recipes/2011/12/serious-eats-halal-cart-style-chicken-and-rice-white-sauce-recipe.html\n",
            "https://www.seriouseats.com/recipes/2011/12/serious-eats-halal-cart-style-chicken-and-rice-white-sauce-recipe.html\n",
            "https://www.seriouseats.com/recipes/2016/02/easy-vegetable-fried-rice-recipe.html\n",
            "https://www.seriouseats.com/recipes/2016/02/easy-vegetable-fried-rice-recipe.html\n",
            "https://www.seriouseats.com/recipes/2016/02/easy-vegetable-fried-rice-recipe.html\n",
            "https://www.seriouseats.com/recipes/2013/01/foolproof-pan-pizza-recipe.html\n",
            "https://www.seriouseats.com/recipes/2013/01/foolproof-pan-pizza-recipe.html\n",
            "https://www.seriouseats.com/recipes/2013/01/foolproof-pan-pizza-recipe.html\n",
            "https://www.seriouseats.com/recipes/2014/03/the-best-black-bean-burger-recipe.html\n",
            "https://www.seriouseats.com/recipes/2014/03/the-best-black-bean-burger-recipe.html\n",
            "https://www.seriouseats.com/recipes/2014/03/the-best-black-bean-burger-recipe.html\n",
            "https://www.seriouseats.com/recipes/2017/01/3-ingredient-stovetop-mac-and-cheese-recipe.html\n",
            "https://www.seriouseats.com/recipes/2017/01/3-ingredient-stovetop-mac-and-cheese-recipe.html\n",
            "https://www.seriouseats.com/recipes/2017/01/3-ingredient-stovetop-mac-and-cheese-recipe.html\n",
            "https://www.seriouseats.com/recipes/2018/02/pan-seared-duck-breast.html\n",
            "https://www.seriouseats.com/recipes/2018/02/pan-seared-duck-breast.html\n",
            "https://www.seriouseats.com/recipes/2018/02/pan-seared-duck-breast.html\n",
            "https://www.seriouseats.com/recipes/2020/04/pasta-with-vodka-sauce.html\n",
            "https://www.seriouseats.com/recipes/2020/04/pasta-with-vodka-sauce.html\n",
            "https://www.seriouseats.com/recipes/2020/04/pasta-with-vodka-sauce.html\n",
            "https://www.seriouseats.com/recipes/2016/08/oyakodon-japanese-chicken-and-egg-rice-bowl-recipe.html\n",
            "https://www.seriouseats.com/recipes/2016/08/oyakodon-japanese-chicken-and-egg-rice-bowl-recipe.html\n",
            "https://www.seriouseats.com/recipes/2016/08/oyakodon-japanese-chicken-and-egg-rice-bowl-recipe.html\n",
            "https://www.seriouseats.com/recipes/2016/02/spaghetti-puttanesca-pasta-week-capers-olives-anchovies-recipe.html\n",
            "https://www.seriouseats.com/recipes/2016/02/spaghetti-puttanesca-pasta-week-capers-olives-anchovies-recipe.html\n",
            "https://www.seriouseats.com/recipes/2016/02/spaghetti-puttanesca-pasta-week-capers-olives-anchovies-recipe.html\n",
            "https://www.seriouseats.com/recipes/2015/04/pressure-cooker-fast-and-easy-chicken-chile-verde-recipe.html\n",
            "https://www.seriouseats.com/recipes/2015/04/pressure-cooker-fast-and-easy-chicken-chile-verde-recipe.html\n",
            "https://www.seriouseats.com/recipes/2015/04/pressure-cooker-fast-and-easy-chicken-chile-verde-recipe.html\n",
            "https://www.seriouseats.com/recipes/2016/07/gyudon-japanese-simmered-beef-and-rice-bowl-recipe.html\n",
            "https://www.seriouseats.com/recipes/2016/07/gyudon-japanese-simmered-beef-and-rice-bowl-recipe.html\n",
            "https://www.seriouseats.com/recipes/2016/07/gyudon-japanese-simmered-beef-and-rice-bowl-recipe.html\n",
            "https://www.seriouseats.com/recipes/2021/03/pasta-e-ceci-pasta-with-chickpeas.html\n",
            "https://www.seriouseats.com/recipes/2021/03/pasta-e-ceci-pasta-with-chickpeas.html\n",
            "https://www.seriouseats.com/recipes/2021/03/pasta-e-ceci-pasta-with-chickpeas.html\n",
            "https://www.seriouseats.com/recipes/2019/03/peruvian-tiradito-with-aji-amarillo-and-lime.html\n",
            "https://www.seriouseats.com/recipes/2019/03/peruvian-tiradito-with-aji-amarillo-and-lime.html\n",
            "https://www.seriouseats.com/recipes/2019/03/peruvian-tiradito-with-aji-amarillo-and-lime.html\n",
            "https://www.seriouseats.com/recipes/2015/12/pasta-carbonara-sauce-recipe.html\n",
            "https://www.seriouseats.com/recipes/2015/12/pasta-carbonara-sauce-recipe.html\n",
            "https://www.seriouseats.com/recipes/2015/12/pasta-carbonara-sauce-recipe.html\n",
            "https://www.seriouseats.com/recipes/2019/06/nasi-goreng-recipe.html\n",
            "https://www.seriouseats.com/recipes/2019/06/nasi-goreng-recipe.html\n",
            "https://www.seriouseats.com/recipes/2019/06/nasi-goreng-recipe.html\n",
            "https://www.seriouseats.com/recipes/2016/09/shakshuka-north-african-shirred-eggs-tomato-pepper-recipe.html\n",
            "https://www.seriouseats.com/recipes/2016/09/shakshuka-north-african-shirred-eggs-tomato-pepper-recipe.html\n",
            "https://www.seriouseats.com/recipes/2016/09/shakshuka-north-african-shirred-eggs-tomato-pepper-recipe.html\n",
            "https://www.seriouseats.com/recipes/2019/11/filipino-style-chicken-adobo-recipe.html\n",
            "https://www.seriouseats.com/recipes/2019/11/filipino-style-chicken-adobo-recipe.html\n",
            "https://www.seriouseats.com/recipes/2019/11/filipino-style-chicken-adobo-recipe.html\n",
            "https://www.seriouseats.com/recipes/2021/03/pasta-alla-norcina-creamy-pasta-with-sausage.html\n",
            "https://www.seriouseats.com/recipes/2021/03/pasta-alla-norcina-creamy-pasta-with-sausage.html\n",
            "https://www.seriouseats.com/recipes/2021/03/pasta-alla-norcina-creamy-pasta-with-sausage.html\n",
            "https://www.seriouseats.com/recipes/2016/08/vietnamese-grilled-pork-chop-thit-heo-nuong-xa-recipe.html\n",
            "https://www.seriouseats.com/recipes/2016/08/vietnamese-grilled-pork-chop-thit-heo-nuong-xa-recipe.html\n",
            "https://www.seriouseats.com/recipes/2016/08/vietnamese-grilled-pork-chop-thit-heo-nuong-xa-recipe.html\n",
            "https://www.seriouseats.com/recipes/2014/11/the-best-moules-mariniere-sailor-style-mussels-recipe.html\n",
            "https://www.seriouseats.com/recipes/2014/11/the-best-moules-mariniere-sailor-style-mussels-recipe.html\n",
            "https://www.seriouseats.com/recipes/2014/11/the-best-moules-mariniere-sailor-style-mussels-recipe.html\n",
            "https://www.seriouseats.com/recipes/2017/08/gong-bao-ji-ding-sichuan-kung-pow-chicken-recipe.html\n",
            "https://www.seriouseats.com/recipes/2017/08/gong-bao-ji-ding-sichuan-kung-pow-chicken-recipe.html\n",
            "https://www.seriouseats.com/recipes/2017/08/gong-bao-ji-ding-sichuan-kung-pow-chicken-recipe.html\n",
            "https://www.seriouseats.com/recipes/2015/03/ricotta-gnocchi-homemade-food-lab-recipe.html\n",
            "https://www.seriouseats.com/recipes/2015/03/ricotta-gnocchi-homemade-food-lab-recipe.html\n",
            "https://www.seriouseats.com/recipes/2015/03/ricotta-gnocchi-homemade-food-lab-recipe.html\n",
            "https://www.seriouseats.com/recipes/2021/03/pasta-chi-vruoccoli-arriminati-sicilian-pasta-with-cauliflower.html\n",
            "https://www.seriouseats.com/recipes/2021/03/pasta-chi-vruoccoli-arriminati-sicilian-pasta-with-cauliflower.html\n",
            "https://www.seriouseats.com/recipes/2021/03/pasta-chi-vruoccoli-arriminati-sicilian-pasta-with-cauliflower.html\n",
            "https://www.seriouseats.com/recipes/2017/01/chicken-scarpariello-sweet-and-sour-chicken-italian-recipe.html\n",
            "https://www.seriouseats.com/recipes/2017/01/chicken-scarpariello-sweet-and-sour-chicken-italian-recipe.html\n",
            "https://www.seriouseats.com/recipes/2017/01/chicken-scarpariello-sweet-and-sour-chicken-italian-recipe.html\n",
            "https://www.seriouseats.com/recipes/2014/02/vegan-experience-crispy-tofu-broccoli-stir-fry.html\n",
            "https://www.seriouseats.com/recipes/2014/02/vegan-experience-crispy-tofu-broccoli-stir-fry.html\n",
            "https://www.seriouseats.com/recipes/2014/02/vegan-experience-crispy-tofu-broccoli-stir-fry.html\n",
            "https://www.seriouseats.com/recipes/2011/12/serious-eats-halal-cart-style-chicken-and-rice-white-sauce-recipe.html\n",
            "https://www.seriouseats.com/recipes/2011/12/serious-eats-halal-cart-style-chicken-and-rice-white-sauce-recipe.html\n",
            "https://www.seriouseats.com/recipes/2016/02/easy-vegetable-fried-rice-recipe.html\n",
            "https://www.seriouseats.com/recipes/2016/02/easy-vegetable-fried-rice-recipe.html\n",
            "https://www.seriouseats.com/recipes/2016/02/easy-vegetable-fried-rice-recipe.html\n",
            "https://www.seriouseats.com/recipes/2013/01/foolproof-pan-pizza-recipe.html\n",
            "https://www.seriouseats.com/recipes/2013/01/foolproof-pan-pizza-recipe.html\n",
            "https://www.seriouseats.com/recipes/2013/01/foolproof-pan-pizza-recipe.html\n",
            "https://www.seriouseats.com/recipes/2014/03/the-best-black-bean-burger-recipe.html\n",
            "https://www.seriouseats.com/recipes/2014/03/the-best-black-bean-burger-recipe.html\n",
            "https://www.seriouseats.com/recipes/2014/03/the-best-black-bean-burger-recipe.html\n",
            "https://www.seriouseats.com/recipes/2017/01/3-ingredient-stovetop-mac-and-cheese-recipe.html\n",
            "https://www.seriouseats.com/recipes/2017/01/3-ingredient-stovetop-mac-and-cheese-recipe.html\n",
            "https://www.seriouseats.com/recipes/2017/01/3-ingredient-stovetop-mac-and-cheese-recipe.html\n",
            "https://www.seriouseats.com/recipes/2018/02/pan-seared-duck-breast.html\n",
            "https://www.seriouseats.com/recipes/2018/02/pan-seared-duck-breast.html\n",
            "https://www.seriouseats.com/recipes/2018/02/pan-seared-duck-breast.html\n",
            "https://www.seriouseats.com/recipes/2020/04/pasta-with-vodka-sauce.html\n",
            "https://www.seriouseats.com/recipes/2020/04/pasta-with-vodka-sauce.html\n",
            "https://www.seriouseats.com/recipes/2020/04/pasta-with-vodka-sauce.html\n",
            "https://www.seriouseats.com/recipes/2016/08/oyakodon-japanese-chicken-and-egg-rice-bowl-recipe.html\n",
            "https://www.seriouseats.com/recipes/2016/08/oyakodon-japanese-chicken-and-egg-rice-bowl-recipe.html\n",
            "https://www.seriouseats.com/recipes/2016/08/oyakodon-japanese-chicken-and-egg-rice-bowl-recipe.html\n",
            "https://www.seriouseats.com/recipes/2016/02/spaghetti-puttanesca-pasta-week-capers-olives-anchovies-recipe.html\n",
            "https://www.seriouseats.com/recipes/2016/02/spaghetti-puttanesca-pasta-week-capers-olives-anchovies-recipe.html\n",
            "https://www.seriouseats.com/recipes/2016/02/spaghetti-puttanesca-pasta-week-capers-olives-anchovies-recipe.html\n",
            "https://www.seriouseats.com/recipes/2015/04/pressure-cooker-fast-and-easy-chicken-chile-verde-recipe.html\n",
            "https://www.seriouseats.com/recipes/2015/04/pressure-cooker-fast-and-easy-chicken-chile-verde-recipe.html\n",
            "https://www.seriouseats.com/recipes/2015/04/pressure-cooker-fast-and-easy-chicken-chile-verde-recipe.html\n",
            "https://www.seriouseats.com/recipes/2016/07/gyudon-japanese-simmered-beef-and-rice-bowl-recipe.html\n",
            "https://www.seriouseats.com/recipes/2016/07/gyudon-japanese-simmered-beef-and-rice-bowl-recipe.html\n",
            "https://www.seriouseats.com/recipes/2016/07/gyudon-japanese-simmered-beef-and-rice-bowl-recipe.html\n",
            "https://www.seriouseats.com/recipes/2021/03/pasta-e-ceci-pasta-with-chickpeas.html\n",
            "https://www.seriouseats.com/recipes/2021/03/pasta-e-ceci-pasta-with-chickpeas.html\n",
            "https://www.seriouseats.com/recipes/2021/03/pasta-e-ceci-pasta-with-chickpeas.html\n",
            "https://www.seriouseats.com/recipes/2019/03/peruvian-tiradito-with-aji-amarillo-and-lime.html\n",
            "https://www.seriouseats.com/recipes/2019/03/peruvian-tiradito-with-aji-amarillo-and-lime.html\n",
            "https://www.seriouseats.com/recipes/2019/03/peruvian-tiradito-with-aji-amarillo-and-lime.html\n",
            "https://www.seriouseats.com/recipes/2015/12/pasta-carbonara-sauce-recipe.html\n",
            "https://www.seriouseats.com/recipes/2015/12/pasta-carbonara-sauce-recipe.html\n",
            "https://www.seriouseats.com/recipes/2015/12/pasta-carbonara-sauce-recipe.html\n",
            "https://www.seriouseats.com/recipes/2019/06/nasi-goreng-recipe.html\n",
            "https://www.seriouseats.com/recipes/2019/06/nasi-goreng-recipe.html\n",
            "https://www.seriouseats.com/recipes/2019/06/nasi-goreng-recipe.html\n",
            "https://www.seriouseats.com/recipes/2016/09/shakshuka-north-african-shirred-eggs-tomato-pepper-recipe.html\n",
            "https://www.seriouseats.com/recipes/2016/09/shakshuka-north-african-shirred-eggs-tomato-pepper-recipe.html\n",
            "https://www.seriouseats.com/recipes/2016/09/shakshuka-north-african-shirred-eggs-tomato-pepper-recipe.html\n",
            "https://www.seriouseats.com/recipes/2019/11/filipino-style-chicken-adobo-recipe.html\n",
            "https://www.seriouseats.com/recipes/2019/11/filipino-style-chicken-adobo-recipe.html\n",
            "https://www.seriouseats.com/recipes/2019/11/filipino-style-chicken-adobo-recipe.html\n",
            "https://www.seriouseats.com/recipes/2021/03/pasta-alla-norcina-creamy-pasta-with-sausage.html\n",
            "https://www.seriouseats.com/recipes/2021/03/pasta-alla-norcina-creamy-pasta-with-sausage.html\n",
            "https://www.seriouseats.com/recipes/2021/03/pasta-alla-norcina-creamy-pasta-with-sausage.html\n",
            "https://www.seriouseats.com/recipes/2016/08/vietnamese-grilled-pork-chop-thit-heo-nuong-xa-recipe.html\n",
            "https://www.seriouseats.com/recipes/2016/08/vietnamese-grilled-pork-chop-thit-heo-nuong-xa-recipe.html\n",
            "https://www.seriouseats.com/recipes/2016/08/vietnamese-grilled-pork-chop-thit-heo-nuong-xa-recipe.html\n",
            "https://www.seriouseats.com/recipes/2014/11/the-best-moules-mariniere-sailor-style-mussels-recipe.html\n",
            "https://www.seriouseats.com/recipes/2014/11/the-best-moules-mariniere-sailor-style-mussels-recipe.html\n",
            "https://www.seriouseats.com/recipes/2014/11/the-best-moules-mariniere-sailor-style-mussels-recipe.html\n",
            "https://www.seriouseats.com/recipes/2017/08/gong-bao-ji-ding-sichuan-kung-pow-chicken-recipe.html\n",
            "https://www.seriouseats.com/recipes/2017/08/gong-bao-ji-ding-sichuan-kung-pow-chicken-recipe.html\n",
            "https://www.seriouseats.com/recipes/2017/08/gong-bao-ji-ding-sichuan-kung-pow-chicken-recipe.html\n",
            "https://www.seriouseats.com/recipes/2015/03/ricotta-gnocchi-homemade-food-lab-recipe.html\n",
            "https://www.seriouseats.com/recipes/2015/03/ricotta-gnocchi-homemade-food-lab-recipe.html\n",
            "https://www.seriouseats.com/recipes/2015/03/ricotta-gnocchi-homemade-food-lab-recipe.html\n",
            "https://www.seriouseats.com/recipes/2021/03/pasta-chi-vruoccoli-arriminati-sicilian-pasta-with-cauliflower.html\n",
            "https://www.seriouseats.com/recipes/2021/03/pasta-chi-vruoccoli-arriminati-sicilian-pasta-with-cauliflower.html\n",
            "https://www.seriouseats.com/recipes/2021/03/pasta-chi-vruoccoli-arriminati-sicilian-pasta-with-cauliflower.html\n",
            "https://www.seriouseats.com/recipes/2017/01/chicken-scarpariello-sweet-and-sour-chicken-italian-recipe.html\n",
            "https://www.seriouseats.com/recipes/2017/01/chicken-scarpariello-sweet-and-sour-chicken-italian-recipe.html\n",
            "https://www.seriouseats.com/recipes/2017/01/chicken-scarpariello-sweet-and-sour-chicken-italian-recipe.html\n",
            "https://www.seriouseats.com/recipes/2014/02/vegan-experience-crispy-tofu-broccoli-stir-fry.html\n",
            "https://www.seriouseats.com/recipes/2014/02/vegan-experience-crispy-tofu-broccoli-stir-fry.html\n",
            "https://www.seriouseats.com/recipes/2014/02/vegan-experience-crispy-tofu-broccoli-stir-fry.html\n"
          ],
          "name": "stdout"
        }
      ]
    },
    {
      "cell_type": "code",
      "metadata": {
        "colab": {
          "background_save": true
        },
        "id": "IrrDJCQYYXC6"
      },
      "source": [
        ""
      ],
      "execution_count": null,
      "outputs": []
    }
  ]
}