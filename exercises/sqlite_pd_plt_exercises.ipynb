{
  "nbformat": 4,
  "nbformat_minor": 0,
  "metadata": {
    "kernelspec": {
      "display_name": "Python 3",
      "language": "python",
      "name": "python3"
    },
    "language_info": {
      "codemirror_mode": {
        "name": "ipython",
        "version": 3
      },
      "file_extension": ".py",
      "mimetype": "text/x-python",
      "name": "python",
      "nbconvert_exporter": "python",
      "pygments_lexer": "ipython3",
      "version": "3.6.8"
    },
    "colab": {
      "name": "sqlite_pd_plt_exercises.ipynb",
      "provenance": [],
      "include_colab_link": true
    }
  },
  "cells": [
    {
      "cell_type": "markdown",
      "metadata": {
        "id": "view-in-github",
        "colab_type": "text"
      },
      "source": [
        "<a href=\"https://colab.research.google.com/github/chodizzle/portfolio1/blob/main/exercises/sqlite_pd_plt_exercises.ipynb\" target=\"_parent\"><img src=\"https://colab.research.google.com/assets/colab-badge.svg\" alt=\"Open In Colab\"/></a>"
      ]
    },
    {
      "cell_type": "markdown",
      "metadata": {
        "id": "2-IkhXpC7wNI"
      },
      "source": [
        "![rmotr](https://user-images.githubusercontent.com/7065401/52071918-bda15380-2562-11e9-828c-7f95297e4a82.png)\n",
        "<hr style=\"margin-bottom: 40px;\">\n",
        "\n",
        "# Exercises\n",
        "## The Sakila Database\n",
        "\n",
        "One of the best example databases out there is the <a href=\"https://dev.mysql.com/doc/sakila/en/\">Sakila Database</a>, which was originally created by MySQL and has been open sourced under the terms of the BSD License.\n",
        "\n",
        "The Sakila database is a nicely normalised schema modelling a DVD rental store, featuring things like films, actors, film-actor relationships, and a central inventory table that connects films, stores, and rentals.\n",
        "\n",
        "<img width=\"1200px\" src=\"https://user-images.githubusercontent.com/7065401/58504872-fa243b00-8161-11e9-85ed-4b7d8d7ce9f7.png\" />"
      ]
    },
    {
      "cell_type": "markdown",
      "metadata": {
        "id": "tL7qq-nD7wNU"
      },
      "source": [
        "![purple-divider](https://user-images.githubusercontent.com/7065401/52071927-c1cd7100-2562-11e9-908a-dde91ba14e59.png)\n",
        "\n",
        "## Hands on! "
      ]
    },
    {
      "cell_type": "code",
      "metadata": {
        "id": "9UfgeJiK7wNV",
        "colab": {
          "base_uri": "https://localhost:8080/"
        },
        "outputId": "5e46ebd1-abc7-447e-c352-db5098f7bea7"
      },
      "source": [
        "import numpy as np\n",
        "import pandas as pd\n",
        "import matplotlib.pyplot as plt\n",
        "import sqlite3\n",
        "from google.colab import drive\n",
        "\n",
        "%matplotlib inline\n",
        "drive.mount('/gdrive')\n",
        "%cd /gdrive"
      ],
      "execution_count": null,
      "outputs": [
        {
          "output_type": "stream",
          "text": [
            "Mounted at /gdrive\n",
            "/gdrive\n"
          ],
          "name": "stdout"
        }
      ]
    },
    {
      "cell_type": "code",
      "metadata": {
        "id": "MWnVb5oi7wNV"
      },
      "source": [
        "conn = sqlite3.connect('MyDrive/Colab Notebooks/sakila.db')\n",
        "\n",
        "df = pd.read_sql('''\n",
        "    SELECT\n",
        "        rental.rental_id, rental.rental_date, rental.return_date,\n",
        "        customer.last_name AS customer_lastname,\n",
        "        store.store_id,\n",
        "        city.city AS rental_store_city,\n",
        "        film.title AS film_title, film.rental_duration AS film_rental_duration,\n",
        "        film.rental_rate AS film_rental_rate, film.replacement_cost AS film_replacement_cost,\n",
        "        film.rating AS film_rating\n",
        "    FROM rental\n",
        "    INNER JOIN customer ON rental.customer_id == customer.customer_id\n",
        "    INNER JOIN inventory ON rental.inventory_id == inventory.inventory_id\n",
        "    INNER JOIN store ON inventory.store_id == store.store_id\n",
        "    INNER JOIN address ON store.address_id == address.address_id\n",
        "    INNER JOIN city ON address.city_id == city.city_id\n",
        "    INNER JOIN film ON inventory.film_id == film.film_id\n",
        "    ;\n",
        "''', conn, index_col='rental_id', parse_dates=['rental_date', 'return_date'])"
      ],
      "execution_count": null,
      "outputs": []
    },
    {
      "cell_type": "code",
      "metadata": {
        "id": "uA96Kau97wNW",
        "colab": {
          "base_uri": "https://localhost:8080/",
          "height": 235
        },
        "outputId": "15820176-0e6e-4b2e-ba5f-adccbfb5332b"
      },
      "source": [
        "df.head()"
      ],
      "execution_count": null,
      "outputs": [
        {
          "output_type": "execute_result",
          "data": {
            "text/html": [
              "<div>\n",
              "<style scoped>\n",
              "    .dataframe tbody tr th:only-of-type {\n",
              "        vertical-align: middle;\n",
              "    }\n",
              "\n",
              "    .dataframe tbody tr th {\n",
              "        vertical-align: top;\n",
              "    }\n",
              "\n",
              "    .dataframe thead th {\n",
              "        text-align: right;\n",
              "    }\n",
              "</style>\n",
              "<table border=\"1\" class=\"dataframe\">\n",
              "  <thead>\n",
              "    <tr style=\"text-align: right;\">\n",
              "      <th></th>\n",
              "      <th>rental_date</th>\n",
              "      <th>return_date</th>\n",
              "      <th>customer_lastname</th>\n",
              "      <th>store_id</th>\n",
              "      <th>rental_store_city</th>\n",
              "      <th>film_title</th>\n",
              "      <th>film_rental_duration</th>\n",
              "      <th>film_rental_rate</th>\n",
              "      <th>film_replacement_cost</th>\n",
              "      <th>film_rating</th>\n",
              "    </tr>\n",
              "    <tr>\n",
              "      <th>rental_id</th>\n",
              "      <th></th>\n",
              "      <th></th>\n",
              "      <th></th>\n",
              "      <th></th>\n",
              "      <th></th>\n",
              "      <th></th>\n",
              "      <th></th>\n",
              "      <th></th>\n",
              "      <th></th>\n",
              "      <th></th>\n",
              "    </tr>\n",
              "  </thead>\n",
              "  <tbody>\n",
              "    <tr>\n",
              "      <th>1</th>\n",
              "      <td>2005-05-24 22:53:30</td>\n",
              "      <td>2005-05-26 22:04:30</td>\n",
              "      <td>HUNTER</td>\n",
              "      <td>1</td>\n",
              "      <td>Lethbridge</td>\n",
              "      <td>BLANKET BEVERLY</td>\n",
              "      <td>7</td>\n",
              "      <td>2.99</td>\n",
              "      <td>21.99</td>\n",
              "      <td>G</td>\n",
              "    </tr>\n",
              "    <tr>\n",
              "      <th>2</th>\n",
              "      <td>2005-05-24 22:54:33</td>\n",
              "      <td>2005-05-28 19:40:33</td>\n",
              "      <td>COLLAZO</td>\n",
              "      <td>2</td>\n",
              "      <td>Woodridge</td>\n",
              "      <td>FREAKY POCUS</td>\n",
              "      <td>7</td>\n",
              "      <td>2.99</td>\n",
              "      <td>16.99</td>\n",
              "      <td>R</td>\n",
              "    </tr>\n",
              "    <tr>\n",
              "      <th>3</th>\n",
              "      <td>2005-05-24 23:03:39</td>\n",
              "      <td>2005-06-01 22:12:39</td>\n",
              "      <td>MURRELL</td>\n",
              "      <td>2</td>\n",
              "      <td>Woodridge</td>\n",
              "      <td>GRADUATE LORD</td>\n",
              "      <td>7</td>\n",
              "      <td>2.99</td>\n",
              "      <td>14.99</td>\n",
              "      <td>G</td>\n",
              "    </tr>\n",
              "    <tr>\n",
              "      <th>4</th>\n",
              "      <td>2005-05-24 23:04:41</td>\n",
              "      <td>2005-06-03 01:43:41</td>\n",
              "      <td>PURDY</td>\n",
              "      <td>1</td>\n",
              "      <td>Lethbridge</td>\n",
              "      <td>LOVE SUICIDES</td>\n",
              "      <td>6</td>\n",
              "      <td>0.99</td>\n",
              "      <td>21.99</td>\n",
              "      <td>R</td>\n",
              "    </tr>\n",
              "    <tr>\n",
              "      <th>5</th>\n",
              "      <td>2005-05-24 23:05:21</td>\n",
              "      <td>2005-06-02 04:33:21</td>\n",
              "      <td>HANSEN</td>\n",
              "      <td>2</td>\n",
              "      <td>Woodridge</td>\n",
              "      <td>IDOLS SNATCHERS</td>\n",
              "      <td>5</td>\n",
              "      <td>2.99</td>\n",
              "      <td>29.99</td>\n",
              "      <td>NC-17</td>\n",
              "    </tr>\n",
              "  </tbody>\n",
              "</table>\n",
              "</div>"
            ],
            "text/plain": [
              "                  rental_date  ... film_rating\n",
              "rental_id                      ...            \n",
              "1         2005-05-24 22:53:30  ...           G\n",
              "2         2005-05-24 22:54:33  ...           R\n",
              "3         2005-05-24 23:03:39  ...           G\n",
              "4         2005-05-24 23:04:41  ...           R\n",
              "5         2005-05-24 23:05:21  ...       NC-17\n",
              "\n",
              "[5 rows x 10 columns]"
            ]
          },
          "metadata": {
            "tags": []
          },
          "execution_count": 3
        }
      ]
    },
    {
      "cell_type": "markdown",
      "metadata": {
        "id": "MgA5h5OJ7wNX"
      },
      "source": [
        "![green-divider](https://user-images.githubusercontent.com/7065401/52071924-c003ad80-2562-11e9-8297-1c6595f8a7ff.png)\n",
        "\n",
        "### What's the mean of `film_rental_duration`?"
      ]
    },
    {
      "cell_type": "code",
      "metadata": {
        "id": "QMbGB3NZ7wNX",
        "colab": {
          "base_uri": "https://localhost:8080/"
        },
        "outputId": "0b04dc6b-87d2-4053-bf12-278622f23db8"
      },
      "source": [
        "# your code goes here\n",
        "df['film_rental_duration'].mean()"
      ],
      "execution_count": null,
      "outputs": [
        {
          "output_type": "execute_result",
          "data": {
            "text/plain": [
              "4.935489902767389"
            ]
          },
          "metadata": {
            "tags": []
          },
          "execution_count": 4
        }
      ]
    },
    {
      "cell_type": "code",
      "metadata": {
        "cell_type": "solution",
        "id": "337Mdteq7wNY",
        "colab": {
          "base_uri": "https://localhost:8080/"
        },
        "outputId": "887528e8-ed9a-427a-fb3d-b0a9e690b497"
      },
      "source": [
        "df['film_rental_duration'].mean()"
      ],
      "execution_count": null,
      "outputs": [
        {
          "output_type": "execute_result",
          "data": {
            "text/plain": [
              "4.935489902767389"
            ]
          },
          "metadata": {
            "tags": []
          },
          "execution_count": 5
        }
      ]
    },
    {
      "cell_type": "markdown",
      "metadata": {
        "id": "85GLzHXA7wNY"
      },
      "source": [
        "![green-divider](https://user-images.githubusercontent.com/7065401/52071924-c003ad80-2562-11e9-8297-1c6595f8a7ff.png)\n",
        "\n",
        "### What's the most common rental duration?\n",
        "\n",
        "Show a <b>bar plot</b> with all the durations."
      ]
    },
    {
      "cell_type": "code",
      "metadata": {
        "id": "FQXRdcyY7wNY",
        "colab": {
          "base_uri": "https://localhost:8080/",
          "height": 387
        },
        "outputId": "2c8fb76e-3553-4a99-974c-6e100f92878c"
      },
      "source": [
        "df['film_rental_duration'].value_counts().plot(kind='bar', figsize=(14,6))\n"
      ],
      "execution_count": null,
      "outputs": [
        {
          "output_type": "execute_result",
          "data": {
            "text/plain": [
              "<matplotlib.axes._subplots.AxesSubplot at 0x7f6a110d3590>"
            ]
          },
          "metadata": {
            "tags": []
          },
          "execution_count": 7
        },
        {
          "output_type": "display_data",
          "data": {
            "image/png": "[encoded data removed]",
            "text/plain": [
              "<Figure size 1008x432 with 1 Axes>"
            ]
          },
          "metadata": {
            "tags": [],
            "needs_background": "light"
          }
        }
      ]
    },
    {
      "cell_type": "code",
      "metadata": {
        "cell_type": "solution",
        "id": "CKsGIbeM7wNZ",
        "colab": {
          "base_uri": "https://localhost:8080/",
          "height": 387
        },
        "outputId": "4818cea7-d37c-4714-c85a-0f03efa0f405"
      },
      "source": [
        "df['film_rental_duration'].value_counts().plot(kind='bar', figsize=(14,6))"
      ],
      "execution_count": null,
      "outputs": [
        {
          "output_type": "execute_result",
          "data": {
            "text/plain": [
              "<matplotlib.axes._subplots.AxesSubplot at 0x7f6a10ff0a50>"
            ]
          },
          "metadata": {
            "tags": []
          },
          "execution_count": 8
        },
        {
          "output_type": "display_data",
          "data": {
            "image/png": "[encoded data removed]",
            "text/plain": [
              "<Figure size 1008x432 with 1 Axes>"
            ]
          },
          "metadata": {
            "tags": [],
            "needs_background": "light"
          }
        }
      ]
    },
    {
      "cell_type": "markdown",
      "metadata": {
        "id": "5YWn2kI17wNZ"
      },
      "source": [
        "![green-divider](https://user-images.githubusercontent.com/7065401/52071924-c003ad80-2562-11e9-8297-1c6595f8a7ff.png)\n",
        "\n",
        "### What is the most common rental rate?\n",
        "\n",
        "- Show a <b>pie plot</b> with all possible rental rates.\n",
        "- Show a <b>bar plot</b> with all possible rental rates.\n",
        "- Which plot you think fits the best in this case? Why?"
      ]
    },
    {
      "cell_type": "code",
      "metadata": {
        "id": "vp_fdtMh7wNZ",
        "colab": {
          "base_uri": "https://localhost:8080/",
          "height": 423
        },
        "outputId": "53831c03-13e3-4ded-c709-d7ea5e4d2e19"
      },
      "source": [
        "df['film_rental_rate'].value_counts().plot(kind='pie', figsize=(6.9,6.9))"
      ],
      "execution_count": null,
      "outputs": [
        {
          "output_type": "execute_result",
          "data": {
            "text/plain": [
              "<matplotlib.axes._subplots.AxesSubplot at 0x7f6a10835190>"
            ]
          },
          "metadata": {
            "tags": []
          },
          "execution_count": 9
        },
        {
          "output_type": "display_data",
          "data": {
            "image/png": "[encoded data removed]",
            "text/plain": [
              "<Figure size 496.8x496.8 with 1 Axes>"
            ]
          },
          "metadata": {
            "tags": []
          }
        }
      ]
    },
    {
      "cell_type": "code",
      "metadata": {
        "cell_type": "solution",
        "id": "RG4FuiJJ7wNa",
        "colab": {
          "base_uri": "https://localhost:8080/",
          "height": 374
        },
        "outputId": "f05c5f0f-eadb-4400-b20d-f48a4cb7fd13"
      },
      "source": [
        "df['film_rental_rate'].value_counts().plot(kind='pie', figsize=(6,6))"
      ],
      "execution_count": null,
      "outputs": [
        {
          "output_type": "execute_result",
          "data": {
            "text/plain": [
              "<matplotlib.axes._subplots.AxesSubplot at 0x7f6a10005950>"
            ]
          },
          "metadata": {
            "tags": []
          },
          "execution_count": 10
        },
        {
          "output_type": "display_data",
          "data": {
            "image/png": "[encoded data removed]",
            "text/plain": [
              "<Figure size 432x432 with 1 Axes>"
            ]
          },
          "metadata": {
            "tags": []
          }
        }
      ]
    },
    {
      "cell_type": "code",
      "metadata": {
        "id": "qIB9f_b47wNa",
        "colab": {
          "base_uri": "https://localhost:8080/",
          "height": 403
        },
        "outputId": "4c8a2acf-2f74-4f50-8193-148812663aa7"
      },
      "source": [
        "df['film_rental_rate'].value_counts().plot(kind='bar', figsize=(14,6))"
      ],
      "execution_count": null,
      "outputs": [
        {
          "output_type": "execute_result",
          "data": {
            "text/plain": [
              "<matplotlib.axes._subplots.AxesSubplot at 0x7f6a10006e90>"
            ]
          },
          "metadata": {
            "tags": []
          },
          "execution_count": 11
        },
        {
          "output_type": "display_data",
          "data": {
            "image/png": "[encoded data removed]",
            "text/plain": [
              "<Figure size 1008x432 with 1 Axes>"
            ]
          },
          "metadata": {
            "tags": [],
            "needs_background": "light"
          }
        }
      ]
    },
    {
      "cell_type": "code",
      "metadata": {
        "cell_type": "solution",
        "id": "V09IlD--7wNa",
        "colab": {
          "base_uri": "https://localhost:8080/",
          "height": 403
        },
        "outputId": "a26392e9-0bed-484f-906d-622e067fdeef"
      },
      "source": [
        "df['film_rental_rate'].value_counts().plot(kind='bar', figsize=(14,6))"
      ],
      "execution_count": null,
      "outputs": [
        {
          "output_type": "execute_result",
          "data": {
            "text/plain": [
              "<matplotlib.axes._subplots.AxesSubplot at 0x7f6a0ffa06d0>"
            ]
          },
          "metadata": {
            "tags": []
          },
          "execution_count": 12
        },
        {
          "output_type": "display_data",
          "data": {
            "image/png": "[encoded data removed]",
            "text/plain": [
              "<Figure size 1008x432 with 1 Axes>"
            ]
          },
          "metadata": {
            "tags": [],
            "needs_background": "light"
          }
        }
      ]
    },
    {
      "cell_type": "markdown",
      "metadata": {
        "id": "GPeqQ8u39TSf"
      },
      "source": [
        "The better chart to use is the bar chart. It's harder to see the differences between the rental rates in the pie chart when the counts are so large and close to each other."
      ]
    },
    {
      "cell_type": "markdown",
      "metadata": {
        "id": "BI_Zw--l7wNb"
      },
      "source": [
        "![green-divider](https://user-images.githubusercontent.com/7065401/52071924-c003ad80-2562-11e9-8297-1c6595f8a7ff.png)\n",
        "\n",
        "### How is the replacement cost distributed?\n",
        "\n",
        "- Show a <b>box plot</b> of the replacement costs.\n",
        "- Show a <b>density plot</b> of the replacement costs.\n",
        "- Add a red line on the <b>mean</b>.\n",
        "- Add a green line on the median <b>median</b>."
      ]
    },
    {
      "cell_type": "code",
      "metadata": {
        "id": "oQ4PtKo-7wNb",
        "colab": {
          "base_uri": "https://localhost:8080/",
          "height": 283
        },
        "outputId": "91ecc7f0-d8bb-4d4b-9c4f-9d162ceb23a3"
      },
      "source": [
        "df['film_replacement_cost'].plot(kind='box')"
      ],
      "execution_count": null,
      "outputs": [
        {
          "output_type": "execute_result",
          "data": {
            "text/plain": [
              "<matplotlib.axes._subplots.AxesSubplot at 0x7f6a0fe37cd0>"
            ]
          },
          "metadata": {
            "tags": []
          },
          "execution_count": 14
        },
        {
          "output_type": "display_data",
          "data": {
            "image/png": "[encoded data removed]",
            "text/plain": [
              "<Figure size 432x288 with 1 Axes>"
            ]
          },
          "metadata": {
            "tags": [],
            "needs_background": "light"
          }
        }
      ]
    },
    {
      "cell_type": "code",
      "metadata": {
        "cell_type": "solution",
        "id": "3-KbjM017wNc",
        "colab": {
          "base_uri": "https://localhost:8080/",
          "height": 391
        },
        "outputId": "7bc9ed77-4654-467d-eb24-e0b0b9371c27"
      },
      "source": [
        "df['film_replacement_cost'].plot(kind='box', vert=False, figsize=(14,6))"
      ],
      "execution_count": null,
      "outputs": [
        {
          "output_type": "execute_result",
          "data": {
            "text/plain": [
              "<matplotlib.axes._subplots.AxesSubplot at 0x7f6a10b06790>"
            ]
          },
          "metadata": {
            "tags": []
          },
          "execution_count": 15
        },
        {
          "output_type": "display_data",
          "data": {
            "image/png": "[encoded data removed]",
            "text/plain": [
              "<Figure size 1008x432 with 1 Axes>"
            ]
          },
          "metadata": {
            "tags": [],
            "needs_background": "light"
          }
        }
      ]
    },
    {
      "cell_type": "code",
      "metadata": {
        "id": "Rvwppk7_7wNc",
        "colab": {
          "base_uri": "https://localhost:8080/",
          "height": 391
        },
        "outputId": "b5c26de7-3c70-4a18-c0af-5e71999d7c96"
      },
      "source": [
        "rpc = df['film_replacement_cost'].plot(kind='density', figsize=(14,6))\n",
        "rpc.axvline(df['film_replacement_cost'].mean(), color='red')\n",
        "rpc.axvline(df['film_replacement_cost'].median(), color='green')"
      ],
      "execution_count": null,
      "outputs": [
        {
          "output_type": "execute_result",
          "data": {
            "text/plain": [
              "<matplotlib.lines.Line2D at 0x7f69f6d78850>"
            ]
          },
          "metadata": {
            "tags": []
          },
          "execution_count": 27
        },
        {
          "output_type": "display_data",
          "data": {
            "image/png": "[encoded data removed]",
            "text/plain": [
              "<Figure size 1008x432 with 1 Axes>"
            ]
          },
          "metadata": {
            "tags": [],
            "needs_background": "light"
          }
        }
      ]
    },
    {
      "cell_type": "code",
      "metadata": {
        "cell_type": "solution",
        "id": "Zw9_4ymJ7wNd",
        "colab": {
          "base_uri": "https://localhost:8080/",
          "height": 391
        },
        "outputId": "2c4d71a4-f6c0-43c4-db44-9da29f10d408"
      },
      "source": [
        "ax = df['film_replacement_cost'].plot(kind='density', figsize=(14,6))\n",
        "ax.axvline(df['film_replacement_cost'].mean(), color='red')\n",
        "ax.axvline(df['film_replacement_cost'].median(), color='green')"
      ],
      "execution_count": null,
      "outputs": [
        {
          "output_type": "execute_result",
          "data": {
            "text/plain": [
              "<matplotlib.lines.Line2D at 0x7f69f6d7f310>"
            ]
          },
          "metadata": {
            "tags": []
          },
          "execution_count": 28
        },
        {
          "output_type": "display_data",
          "data": {
            "image/png": "[encoded data removed]",
            "text/plain": [
              "<Figure size 1008x432 with 1 Axes>"
            ]
          },
          "metadata": {
            "tags": [],
            "needs_background": "light"
          }
        }
      ]
    },
    {
      "cell_type": "markdown",
      "metadata": {
        "id": "_EzvVQDB7wNe"
      },
      "source": [
        "![green-divider](https://user-images.githubusercontent.com/7065401/52071924-c003ad80-2562-11e9-8297-1c6595f8a7ff.png)\n",
        "\n",
        "### How many films of each rating do we have?\n",
        "\n",
        "- Show the raw count of each film rating.\n",
        "- Show a <b>bar plot</b> with all possible film ratings."
      ]
    },
    {
      "cell_type": "code",
      "metadata": {
        "id": "LXm_q1g87wNe",
        "colab": {
          "base_uri": "https://localhost:8080/"
        },
        "outputId": "ae004d00-33e5-4e65-ff0b-3d7ccc376def"
      },
      "source": [
        "df['film_rating'].value_counts()"
      ],
      "execution_count": null,
      "outputs": [
        {
          "output_type": "execute_result",
          "data": {
            "text/plain": [
              "PG-13    3585\n",
              "NC-17    3293\n",
              "PG       3212\n",
              "R        3181\n",
              "G        2773\n",
              "Name: film_rating, dtype: int64"
            ]
          },
          "metadata": {
            "tags": []
          },
          "execution_count": 29
        }
      ]
    },
    {
      "cell_type": "code",
      "metadata": {
        "cell_type": "solution",
        "id": "BBTktYYp7wNe",
        "colab": {
          "base_uri": "https://localhost:8080/"
        },
        "outputId": "a9f8f0bc-696c-4689-eb33-d3f2a0a6d9d7"
      },
      "source": [
        "df['film_rating'].value_counts()"
      ],
      "execution_count": null,
      "outputs": [
        {
          "output_type": "execute_result",
          "data": {
            "text/plain": [
              "PG-13    3585\n",
              "NC-17    3293\n",
              "PG       3212\n",
              "R        3181\n",
              "G        2773\n",
              "Name: film_rating, dtype: int64"
            ]
          },
          "metadata": {
            "tags": []
          },
          "execution_count": 30
        }
      ]
    },
    {
      "cell_type": "code",
      "metadata": {
        "id": "qjvEp94L7wNf",
        "colab": {
          "base_uri": "https://localhost:8080/",
          "height": 412
        },
        "outputId": "bb07a0d7-964a-4f47-e98c-656fde1f1b8d"
      },
      "source": [
        "df['film_rating'].value_counts().plot(kind='bar', figsize=(14,6))"
      ],
      "execution_count": null,
      "outputs": [
        {
          "output_type": "execute_result",
          "data": {
            "text/plain": [
              "<matplotlib.axes._subplots.AxesSubplot at 0x7f69f6cd5b10>"
            ]
          },
          "metadata": {
            "tags": []
          },
          "execution_count": 31
        },
        {
          "output_type": "display_data",
          "data": {
            "image/png": "[encoded data removed]",
            "text/plain": [
              "<Figure size 1008x432 with 1 Axes>"
            ]
          },
          "metadata": {
            "tags": [],
            "needs_background": "light"
          }
        }
      ]
    },
    {
      "cell_type": "code",
      "metadata": {
        "cell_type": "solution",
        "id": "nPNphRTb7wNg",
        "colab": {
          "base_uri": "https://localhost:8080/",
          "height": 412
        },
        "outputId": "c9e6481c-c15d-430b-8627-31e3c425e1d3"
      },
      "source": [
        "df['film_rating'].value_counts().plot(kind='bar', figsize=(14,6))"
      ],
      "execution_count": null,
      "outputs": [
        {
          "output_type": "execute_result",
          "data": {
            "text/plain": [
              "<matplotlib.axes._subplots.AxesSubplot at 0x7f69f6c86910>"
            ]
          },
          "metadata": {
            "tags": []
          },
          "execution_count": 32
        },
        {
          "output_type": "display_data",
          "data": {
            "image/png": "[encoded data removed]",
            "text/plain": [
              "<Figure size 1008x432 with 1 Axes>"
            ]
          },
          "metadata": {
            "tags": [],
            "needs_background": "light"
          }
        }
      ]
    },
    {
      "cell_type": "markdown",
      "metadata": {
        "id": "BFCB2NTj7wNg"
      },
      "source": [
        "![green-divider](https://user-images.githubusercontent.com/7065401/52071924-c003ad80-2562-11e9-8297-1c6595f8a7ff.png)\n",
        "\n",
        "### Does the film replacement cost vary depending on film rating?\n",
        "\n",
        "In the United States, film classification is a voluntary process with the ratings issued by the Motion Picture Association of America (MPAA) via the Classification and Rating Administration (CARA).\n",
        "\n",
        "- G (General Audiences): All Ages are Admitted.\n",
        "- PG (Parental Guidance Suggested): Some Material May Not Be Suitable for Children.\n",
        "- PG-13 (Parents Strongly Cautioned): Some Material May Be Inappropriate for Children Under 13.\n",
        "- R (Restricted): Under 17 Requires Accompanying Parent or Adult Guardian.\n",
        "- NC-17 (Adults Only): No One 17 and Under Admitted.\n",
        "\n",
        "Show a <b>grouped box plot</b> per film rating with the film replacement costs."
      ]
    },
    {
      "cell_type": "code",
      "metadata": {
        "id": "9P3U5QVa7wNh",
        "colab": {
          "base_uri": "https://localhost:8080/",
          "height": 373
        },
        "outputId": "1bbcea30-432c-4250-edbe-b5bb7bbdca6d"
      },
      "source": [
        "df[['film_rating', 'film_replacement_cost']].boxplot(by='film_rating')"
      ],
      "execution_count": null,
      "outputs": [
        {
          "output_type": "stream",
          "text": [
            "/usr/local/lib/python3.7/dist-packages/numpy/core/_asarray.py:83: VisibleDeprecationWarning: Creating an ndarray from ragged nested sequences (which is a list-or-tuple of lists-or-tuples-or ndarrays with different lengths or shapes) is deprecated. If you meant to do this, you must specify 'dtype=object' when creating the ndarray\n",
            "  return array(a, dtype, copy=False, order=order)\n"
          ],
          "name": "stderr"
        },
        {
          "output_type": "execute_result",
          "data": {
            "text/plain": [
              "<matplotlib.axes._subplots.AxesSubplot at 0x7f69f6b68890>"
            ]
          },
          "metadata": {
            "tags": []
          },
          "execution_count": 35
        },
        {
          "output_type": "display_data",
          "data": {
            "image/png": "[encoded data removed]",
            "text/plain": [
              "<Figure size 432x288 with 1 Axes>"
            ]
          },
          "metadata": {
            "tags": [],
            "needs_background": "light"
          }
        }
      ]
    },
    {
      "cell_type": "code",
      "metadata": {
        "cell_type": "solution",
        "id": "72rDUkjy7wNi",
        "colab": {
          "base_uri": "https://localhost:8080/",
          "height": 492
        },
        "outputId": "fe2fe9aa-1076-4bb4-d2ff-dbfb4d7780ca"
      },
      "source": [
        "df[['film_replacement_cost', 'film_rating']].boxplot(by='film_rating', figsize=(14,6))"
      ],
      "execution_count": null,
      "outputs": [
        {
          "output_type": "stream",
          "text": [
            "/usr/local/lib/python3.7/dist-packages/numpy/core/_asarray.py:83: VisibleDeprecationWarning: Creating an ndarray from ragged nested sequences (which is a list-or-tuple of lists-or-tuples-or ndarrays with different lengths or shapes) is deprecated. If you meant to do this, you must specify 'dtype=object' when creating the ndarray\n",
            "  return array(a, dtype, copy=False, order=order)\n"
          ],
          "name": "stderr"
        },
        {
          "output_type": "execute_result",
          "data": {
            "text/plain": [
              "<matplotlib.axes._subplots.AxesSubplot at 0x7f69f69f3650>"
            ]
          },
          "metadata": {
            "tags": []
          },
          "execution_count": 36
        },
        {
          "output_type": "display_data",
          "data": {
            "image/png": "[encoded data removed]",
            "text/plain": [
              "<Figure size 1008x432 with 1 Axes>"
            ]
          },
          "metadata": {
            "tags": [],
            "needs_background": "light"
          }
        }
      ]
    },
    {
      "cell_type": "markdown",
      "metadata": {
        "id": "klA3qFnk7wNi"
      },
      "source": [
        "![green-divider](https://user-images.githubusercontent.com/7065401/52071924-c003ad80-2562-11e9-8297-1c6595f8a7ff.png)\n",
        "\n",
        "### Add and calculate a new `rental_days` column\n",
        "\n",
        "This numeric column should have the count of days between `rental_date` and `return_date`."
      ]
    },
    {
      "cell_type": "code",
      "metadata": {
        "id": "J8bGfmJs7wNi",
        "colab": {
          "base_uri": "https://localhost:8080/"
        },
        "outputId": "d23670b0-e74d-4ab9-c39d-22b9f9ef0afb"
      },
      "source": [
        "# df['rental_days'] = (df['return_date'] - df['rental_date']).dt.days\n",
        "# df['rental_days'] = df['rental_days'].dt.days\n",
        "# df['rental_days'].head()\n",
        "df['rental_days'] = df[['rental_date', 'return_date']].apply(lambda x: (x[1] - x[0]).days, axis=1)\n",
        "df['rental_days'].head()"
      ],
      "execution_count": null,
      "outputs": [
        {
          "output_type": "execute_result",
          "data": {
            "text/plain": [
              "rental_id\n",
              "1    1.0\n",
              "2    3.0\n",
              "3    7.0\n",
              "4    9.0\n",
              "5    8.0\n",
              "Name: rental_days, dtype: float64"
            ]
          },
          "metadata": {
            "tags": []
          },
          "execution_count": 53
        }
      ]
    },
    {
      "cell_type": "code",
      "metadata": {
        "cell_type": "solution",
        "id": "axI8k6ls7wNj",
        "colab": {
          "base_uri": "https://localhost:8080/"
        },
        "outputId": "6e2002de-e434-484f-9a1a-c304c602faaf"
      },
      "source": [
        "df['rental_days'] = df[['rental_date', 'return_date']].apply(lambda x: (x[1] - x[0]).days, axis=1)\n",
        "\n",
        "df['rental_days'].head()"
      ],
      "execution_count": null,
      "outputs": [
        {
          "output_type": "execute_result",
          "data": {
            "text/plain": [
              "rental_id\n",
              "1    1.0\n",
              "2    3.0\n",
              "3    7.0\n",
              "4    9.0\n",
              "5    8.0\n",
              "Name: rental_days, dtype: float64"
            ]
          },
          "metadata": {
            "tags": []
          },
          "execution_count": 40
        }
      ]
    },
    {
      "cell_type": "markdown",
      "metadata": {
        "id": "PhAtxXzO7wNj"
      },
      "source": [
        "![green-divider](https://user-images.githubusercontent.com/7065401/52071924-c003ad80-2562-11e9-8297-1c6595f8a7ff.png)\n",
        "\n",
        "### Analyze the distribution of `rental_days`\n",
        "\n",
        "- Calculate the mean of `rental_days`.\n",
        "- Show a <b>density (KDE)</b> of `rental_days`."
      ]
    },
    {
      "cell_type": "code",
      "metadata": {
        "id": "Olz2seot7wNj",
        "colab": {
          "base_uri": "https://localhost:8080/"
        },
        "outputId": "b42db5f7-76fc-4aa6-9e11-e27b1f1af746"
      },
      "source": [
        "df['rental_days'].mean()"
      ],
      "execution_count": null,
      "outputs": [
        {
          "output_type": "execute_result",
          "data": {
            "text/plain": [
              "4.525944139713763"
            ]
          },
          "metadata": {
            "tags": []
          },
          "execution_count": 54
        }
      ]
    },
    {
      "cell_type": "code",
      "metadata": {
        "cell_type": "solution",
        "id": "MAfI8yS-7wNk",
        "colab": {
          "base_uri": "https://localhost:8080/"
        },
        "outputId": "081c86b7-7896-4d55-cba1-d67cf67dfb1c"
      },
      "source": [
        "df['rental_days'].mean()"
      ],
      "execution_count": null,
      "outputs": [
        {
          "output_type": "execute_result",
          "data": {
            "text/plain": [
              "4.525944139713763"
            ]
          },
          "metadata": {
            "tags": []
          },
          "execution_count": 55
        }
      ]
    },
    {
      "cell_type": "code",
      "metadata": {
        "id": "OZZ2Uq8M7wNk",
        "colab": {
          "base_uri": "https://localhost:8080/",
          "height": 282
        },
        "outputId": "707e1a65-8c06-47a1-f429-28f1de3c1d19"
      },
      "source": [
        "den = df['rental_days'].plot(kind='density')\n",
        "den.axvline(df['rental_days'].mean(), color='red')"
      ],
      "execution_count": null,
      "outputs": [
        {
          "output_type": "execute_result",
          "data": {
            "text/plain": [
              "<matplotlib.lines.Line2D at 0x7f69f7142090>"
            ]
          },
          "metadata": {
            "tags": []
          },
          "execution_count": 61
        },
        {
          "output_type": "display_data",
          "data": {
            "image/png": "[encoded data removed]",
            "text/plain": [
              "<Figure size 432x288 with 1 Axes>"
            ]
          },
          "metadata": {
            "tags": [],
            "needs_background": "light"
          }
        }
      ]
    },
    {
      "cell_type": "code",
      "metadata": {
        "cell_type": "solution",
        "id": "WAJbNDsR7wNl",
        "colab": {
          "base_uri": "https://localhost:8080/",
          "height": 391
        },
        "outputId": "fb326408-436a-4838-f6f2-15f748688a64"
      },
      "source": [
        "ax = df['rental_days'].plot(kind='density', figsize=(14,6))\n",
        "ax.axvline(df['rental_days'].mean(), color='red')"
      ],
      "execution_count": null,
      "outputs": [
        {
          "output_type": "execute_result",
          "data": {
            "text/plain": [
              "<matplotlib.lines.Line2D at 0x7f69f6d59ad0>"
            ]
          },
          "metadata": {
            "tags": []
          },
          "execution_count": 62
        },
        {
          "output_type": "display_data",
          "data": {
            "image/png": "[encoded data removed]",
            "text/plain": [
              "<Figure size 1008x432 with 1 Axes>"
            ]
          },
          "metadata": {
            "tags": [],
            "needs_background": "light"
          }
        }
      ]
    },
    {
      "cell_type": "markdown",
      "metadata": {
        "id": "6PsPUvrx7wNm"
      },
      "source": [
        "![green-divider](https://user-images.githubusercontent.com/7065401/52071924-c003ad80-2562-11e9-8297-1c6595f8a7ff.png)\n",
        "\n",
        "### Add and calculate a new `film_daily_rental_rate` column\n",
        "\n",
        "This value should be the division of `film_rental_rate` by `film_rental_duration`."
      ]
    },
    {
      "cell_type": "code",
      "metadata": {
        "id": "gPhH3n0I7wNn",
        "colab": {
          "base_uri": "https://localhost:8080/"
        },
        "outputId": "87419bd9-e177-4c8a-fb88-a4e04faa5745"
      },
      "source": [
        "df['film_daily_rental_rate'] = df[['film_rental_rate', 'film_rental_duration']].apply(lambda x: x[0]/x[1], axis=1)\n",
        "df['film_daily_rental_rate'].head()"
      ],
      "execution_count": null,
      "outputs": [
        {
          "output_type": "execute_result",
          "data": {
            "text/plain": [
              "rental_id\n",
              "1    0.427143\n",
              "2    0.427143\n",
              "3    0.427143\n",
              "4    0.165000\n",
              "5    0.598000\n",
              "Name: film_daily_rental_rate, dtype: float64"
            ]
          },
          "metadata": {
            "tags": []
          },
          "execution_count": 64
        }
      ]
    },
    {
      "cell_type": "code",
      "metadata": {
        "cell_type": "solution",
        "id": "GTz78TsY7wNn",
        "colab": {
          "base_uri": "https://localhost:8080/"
        },
        "outputId": "96edc590-f1ad-4a4e-9593-d68581d34231"
      },
      "source": [
        "df['film_daily_rental_rate'] = df['film_rental_rate'] / df['film_rental_duration']\n",
        "\n",
        "df['film_daily_rental_rate'].head()"
      ],
      "execution_count": null,
      "outputs": [
        {
          "output_type": "execute_result",
          "data": {
            "text/plain": [
              "rental_id\n",
              "1    0.427143\n",
              "2    0.427143\n",
              "3    0.427143\n",
              "4    0.165000\n",
              "5    0.598000\n",
              "Name: film_daily_rental_rate, dtype: float64"
            ]
          },
          "metadata": {
            "tags": []
          },
          "execution_count": 65
        }
      ]
    },
    {
      "cell_type": "markdown",
      "metadata": {
        "id": "VMky58lP7wNn"
      },
      "source": [
        "![green-divider](https://user-images.githubusercontent.com/7065401/52071924-c003ad80-2562-11e9-8297-1c6595f8a7ff.png)\n",
        "\n",
        "### Analyze the distribution of `film_daily_rental_rate`\n",
        "\n",
        "- Calculate the mean of `film_daily_rental_rate`.\n",
        "- Show a <b>density (KDE)</b> of `film_daily_rental_rate`."
      ]
    },
    {
      "cell_type": "code",
      "metadata": {
        "id": "KlAKzr2K7wNn",
        "colab": {
          "base_uri": "https://localhost:8080/"
        },
        "outputId": "b954308e-a45d-4b85-d742-db8751aaaf8b"
      },
      "source": [
        "df['film_daily_rental_rate'].mean()"
      ],
      "execution_count": null,
      "outputs": [
        {
          "output_type": "execute_result",
          "data": {
            "text/plain": [
              "0.6458262471655172"
            ]
          },
          "metadata": {
            "tags": []
          },
          "execution_count": 66
        }
      ]
    },
    {
      "cell_type": "code",
      "metadata": {
        "cell_type": "solution",
        "id": "yOWs8Htu7wNo",
        "colab": {
          "base_uri": "https://localhost:8080/"
        },
        "outputId": "565aa861-813e-40fd-fd80-c27eb42a1b81"
      },
      "source": [
        "df['film_daily_rental_rate'].mean()"
      ],
      "execution_count": null,
      "outputs": [
        {
          "output_type": "execute_result",
          "data": {
            "text/plain": [
              "0.6458262471655172"
            ]
          },
          "metadata": {
            "tags": []
          },
          "execution_count": 67
        }
      ]
    },
    {
      "cell_type": "code",
      "metadata": {
        "id": "1Z89RGq57wNo",
        "colab": {
          "base_uri": "https://localhost:8080/",
          "height": 282
        },
        "outputId": "b27670c1-611a-4952-ac1d-cb98410952e3"
      },
      "source": [
        "fdrr = df['film_daily_rental_rate'].plot(kind='density')\n",
        "fdrr.axvline(df['film_daily_rental_rate'].mean(), color='purple')"
      ],
      "execution_count": null,
      "outputs": [
        {
          "output_type": "execute_result",
          "data": {
            "text/plain": [
              "<matplotlib.lines.Line2D at 0x7f69f68c5610>"
            ]
          },
          "metadata": {
            "tags": []
          },
          "execution_count": 69
        },
        {
          "output_type": "display_data",
          "data": {
            "image/png": "[encoded data removed]",
            "text/plain": [
              "<Figure size 432x288 with 1 Axes>"
            ]
          },
          "metadata": {
            "tags": [],
            "needs_background": "light"
          }
        }
      ]
    },
    {
      "cell_type": "code",
      "metadata": {
        "cell_type": "solution",
        "id": "B6lltAKY7wNo",
        "colab": {
          "base_uri": "https://localhost:8080/",
          "height": 391
        },
        "outputId": "dd651e5b-f7be-42d7-c95f-52b73174dc0d"
      },
      "source": [
        "ax = df['film_daily_rental_rate'].plot(kind='density', figsize=(14,6))\n",
        "ax.axvline(df['film_daily_rental_rate'].mean(), color='red')"
      ],
      "execution_count": null,
      "outputs": [
        {
          "output_type": "execute_result",
          "data": {
            "text/plain": [
              "<matplotlib.lines.Line2D at 0x7f69f66ac690>"
            ]
          },
          "metadata": {
            "tags": []
          },
          "execution_count": 70
        },
        {
          "output_type": "display_data",
          "data": {
            "image/png": "[encoded data removed]",
            "text/plain": [
              "<Figure size 1008x432 with 1 Axes>"
            ]
          },
          "metadata": {
            "tags": [],
            "needs_background": "light"
          }
        }
      ]
    },
    {
      "cell_type": "markdown",
      "metadata": {
        "id": "tLTKXQB17wNp"
      },
      "source": [
        "![green-divider](https://user-images.githubusercontent.com/7065401/52071924-c003ad80-2562-11e9-8297-1c6595f8a7ff.png)\n",
        "\n",
        "### List 10 films with the lowest daily rental rate"
      ]
    },
    {
      "cell_type": "code",
      "metadata": {
        "id": "80f1Oy2S7wNp",
        "colab": {
          "base_uri": "https://localhost:8080/",
          "height": 580
        },
        "outputId": "42d7fe89-82c0-4d9e-adae-b68a36996e3d"
      },
      "source": [
        "df.loc[df['film_daily_rental_rate'] == df['film_daily_rental_rate'].min()].head(10)"
      ],
      "execution_count": null,
      "outputs": [
        {
          "output_type": "execute_result",
          "data": {
            "text/html": [
              "<div>\n",
              "<style scoped>\n",
              "    .dataframe tbody tr th:only-of-type {\n",
              "        vertical-align: middle;\n",
              "    }\n",
              "\n",
              "    .dataframe tbody tr th {\n",
              "        vertical-align: top;\n",
              "    }\n",
              "\n",
              "    .dataframe thead th {\n",
              "        text-align: right;\n",
              "    }\n",
              "</style>\n",
              "<table border=\"1\" class=\"dataframe\">\n",
              "  <thead>\n",
              "    <tr style=\"text-align: right;\">\n",
              "      <th></th>\n",
              "      <th>rental_date</th>\n",
              "      <th>return_date</th>\n",
              "      <th>customer_lastname</th>\n",
              "      <th>store_id</th>\n",
              "      <th>rental_store_city</th>\n",
              "      <th>film_title</th>\n",
              "      <th>film_rental_duration</th>\n",
              "      <th>film_rental_rate</th>\n",
              "      <th>film_replacement_cost</th>\n",
              "      <th>film_rating</th>\n",
              "      <th>rental_days</th>\n",
              "      <th>film_daily_rental_rate</th>\n",
              "    </tr>\n",
              "    <tr>\n",
              "      <th>rental_id</th>\n",
              "      <th></th>\n",
              "      <th></th>\n",
              "      <th></th>\n",
              "      <th></th>\n",
              "      <th></th>\n",
              "      <th></th>\n",
              "      <th></th>\n",
              "      <th></th>\n",
              "      <th></th>\n",
              "      <th></th>\n",
              "      <th></th>\n",
              "      <th></th>\n",
              "    </tr>\n",
              "  </thead>\n",
              "  <tbody>\n",
              "    <tr>\n",
              "      <th>18</th>\n",
              "      <td>2005-05-25 01:10:47</td>\n",
              "      <td>2005-05-31 06:35:47</td>\n",
              "      <td>MARTINEZ</td>\n",
              "      <td>1</td>\n",
              "      <td>Lethbridge</td>\n",
              "      <td>ROMAN PUNK</td>\n",
              "      <td>7</td>\n",
              "      <td>0.99</td>\n",
              "      <td>28.99</td>\n",
              "      <td>NC-17</td>\n",
              "      <td>6.0</td>\n",
              "      <td>0.141429</td>\n",
              "    </tr>\n",
              "    <tr>\n",
              "      <th>37</th>\n",
              "      <td>2005-05-25 04:44:31</td>\n",
              "      <td>2005-05-29 01:03:31</td>\n",
              "      <td>ELROD</td>\n",
              "      <td>2</td>\n",
              "      <td>Woodridge</td>\n",
              "      <td>BORROWERS BEDAZZLED</td>\n",
              "      <td>7</td>\n",
              "      <td>0.99</td>\n",
              "      <td>22.99</td>\n",
              "      <td>G</td>\n",
              "      <td>3.0</td>\n",
              "      <td>0.141429</td>\n",
              "    </tr>\n",
              "    <tr>\n",
              "      <th>48</th>\n",
              "      <td>2005-05-25 06:20:46</td>\n",
              "      <td>2005-06-02 05:42:46</td>\n",
              "      <td>CASTRO</td>\n",
              "      <td>1</td>\n",
              "      <td>Lethbridge</td>\n",
              "      <td>GUN BONNIE</td>\n",
              "      <td>7</td>\n",
              "      <td>0.99</td>\n",
              "      <td>27.99</td>\n",
              "      <td>G</td>\n",
              "      <td>7.0</td>\n",
              "      <td>0.141429</td>\n",
              "    </tr>\n",
              "    <tr>\n",
              "      <th>74</th>\n",
              "      <td>2005-05-25 11:09:48</td>\n",
              "      <td>2005-05-26 12:23:48</td>\n",
              "      <td>TERRY</td>\n",
              "      <td>2</td>\n",
              "      <td>Woodridge</td>\n",
              "      <td>GREEDY ROOTS</td>\n",
              "      <td>7</td>\n",
              "      <td>0.99</td>\n",
              "      <td>14.99</td>\n",
              "      <td>R</td>\n",
              "      <td>1.0</td>\n",
              "      <td>0.141429</td>\n",
              "    </tr>\n",
              "    <tr>\n",
              "      <th>76</th>\n",
              "      <td>2005-05-25 11:30:37</td>\n",
              "      <td>2005-06-03 12:00:37</td>\n",
              "      <td>SMITH</td>\n",
              "      <td>2</td>\n",
              "      <td>Woodridge</td>\n",
              "      <td>PATIENT SISTER</td>\n",
              "      <td>7</td>\n",
              "      <td>0.99</td>\n",
              "      <td>29.99</td>\n",
              "      <td>NC-17</td>\n",
              "      <td>9.0</td>\n",
              "      <td>0.141429</td>\n",
              "    </tr>\n",
              "    <tr>\n",
              "      <th>87</th>\n",
              "      <td>2005-05-25 13:52:43</td>\n",
              "      <td>2005-05-29 11:12:43</td>\n",
              "      <td>ROBERT</td>\n",
              "      <td>2</td>\n",
              "      <td>Woodridge</td>\n",
              "      <td>GANDHI KWAI</td>\n",
              "      <td>7</td>\n",
              "      <td>0.99</td>\n",
              "      <td>9.99</td>\n",
              "      <td>PG-13</td>\n",
              "      <td>3.0</td>\n",
              "      <td>0.141429</td>\n",
              "    </tr>\n",
              "    <tr>\n",
              "      <th>117</th>\n",
              "      <td>2005-05-25 19:30:46</td>\n",
              "      <td>2005-05-31 23:59:46</td>\n",
              "      <td>MILLER</td>\n",
              "      <td>2</td>\n",
              "      <td>Woodridge</td>\n",
              "      <td>VALENTINE VANISHING</td>\n",
              "      <td>7</td>\n",
              "      <td>0.99</td>\n",
              "      <td>9.99</td>\n",
              "      <td>PG-13</td>\n",
              "      <td>6.0</td>\n",
              "      <td>0.141429</td>\n",
              "    </tr>\n",
              "    <tr>\n",
              "      <th>133</th>\n",
              "      <td>2005-05-25 21:48:30</td>\n",
              "      <td>2005-05-30 00:26:30</td>\n",
              "      <td>GILBERT</td>\n",
              "      <td>1</td>\n",
              "      <td>Lethbridge</td>\n",
              "      <td>BORROWERS BEDAZZLED</td>\n",
              "      <td>7</td>\n",
              "      <td>0.99</td>\n",
              "      <td>22.99</td>\n",
              "      <td>G</td>\n",
              "      <td>4.0</td>\n",
              "      <td>0.141429</td>\n",
              "    </tr>\n",
              "    <tr>\n",
              "      <th>148</th>\n",
              "      <td>2005-05-26 00:25:23</td>\n",
              "      <td>2005-06-01 19:29:23</td>\n",
              "      <td>BURNS</td>\n",
              "      <td>2</td>\n",
              "      <td>Woodridge</td>\n",
              "      <td>UNFORGIVEN ZOOLANDER</td>\n",
              "      <td>7</td>\n",
              "      <td>0.99</td>\n",
              "      <td>15.99</td>\n",
              "      <td>PG</td>\n",
              "      <td>6.0</td>\n",
              "      <td>0.141429</td>\n",
              "    </tr>\n",
              "    <tr>\n",
              "      <th>158</th>\n",
              "      <td>2005-05-26 01:27:11</td>\n",
              "      <td>2005-06-03 00:30:11</td>\n",
              "      <td>NGO</td>\n",
              "      <td>1</td>\n",
              "      <td>Lethbridge</td>\n",
              "      <td>LIGHTS DEER</td>\n",
              "      <td>7</td>\n",
              "      <td>0.99</td>\n",
              "      <td>21.99</td>\n",
              "      <td>R</td>\n",
              "      <td>7.0</td>\n",
              "      <td>0.141429</td>\n",
              "    </tr>\n",
              "  </tbody>\n",
              "</table>\n",
              "</div>"
            ],
            "text/plain": [
              "                  rental_date  ... film_daily_rental_rate\n",
              "rental_id                      ...                       \n",
              "18        2005-05-25 01:10:47  ...               0.141429\n",
              "37        2005-05-25 04:44:31  ...               0.141429\n",
              "48        2005-05-25 06:20:46  ...               0.141429\n",
              "74        2005-05-25 11:09:48  ...               0.141429\n",
              "76        2005-05-25 11:30:37  ...               0.141429\n",
              "87        2005-05-25 13:52:43  ...               0.141429\n",
              "117       2005-05-25 19:30:46  ...               0.141429\n",
              "133       2005-05-25 21:48:30  ...               0.141429\n",
              "148       2005-05-26 00:25:23  ...               0.141429\n",
              "158       2005-05-26 01:27:11  ...               0.141429\n",
              "\n",
              "[10 rows x 12 columns]"
            ]
          },
          "metadata": {
            "tags": []
          },
          "execution_count": 80
        }
      ]
    },
    {
      "cell_type": "code",
      "metadata": {
        "cell_type": "solution",
        "id": "hP-Q2gBv7wNp",
        "colab": {
          "base_uri": "https://localhost:8080/",
          "height": 580
        },
        "outputId": "857a3dec-517f-4ba4-832d-7c849a43ef9b"
      },
      "source": [
        "df.loc[df['film_daily_rental_rate'] == df['film_daily_rental_rate'].min()].head(10)"
      ],
      "execution_count": null,
      "outputs": [
        {
          "output_type": "execute_result",
          "data": {
            "text/html": [
              "<div>\n",
              "<style scoped>\n",
              "    .dataframe tbody tr th:only-of-type {\n",
              "        vertical-align: middle;\n",
              "    }\n",
              "\n",
              "    .dataframe tbody tr th {\n",
              "        vertical-align: top;\n",
              "    }\n",
              "\n",
              "    .dataframe thead th {\n",
              "        text-align: right;\n",
              "    }\n",
              "</style>\n",
              "<table border=\"1\" class=\"dataframe\">\n",
              "  <thead>\n",
              "    <tr style=\"text-align: right;\">\n",
              "      <th></th>\n",
              "      <th>rental_date</th>\n",
              "      <th>return_date</th>\n",
              "      <th>customer_lastname</th>\n",
              "      <th>store_id</th>\n",
              "      <th>rental_store_city</th>\n",
              "      <th>film_title</th>\n",
              "      <th>film_rental_duration</th>\n",
              "      <th>film_rental_rate</th>\n",
              "      <th>film_replacement_cost</th>\n",
              "      <th>film_rating</th>\n",
              "      <th>rental_days</th>\n",
              "      <th>film_daily_rental_rate</th>\n",
              "    </tr>\n",
              "    <tr>\n",
              "      <th>rental_id</th>\n",
              "      <th></th>\n",
              "      <th></th>\n",
              "      <th></th>\n",
              "      <th></th>\n",
              "      <th></th>\n",
              "      <th></th>\n",
              "      <th></th>\n",
              "      <th></th>\n",
              "      <th></th>\n",
              "      <th></th>\n",
              "      <th></th>\n",
              "      <th></th>\n",
              "    </tr>\n",
              "  </thead>\n",
              "  <tbody>\n",
              "    <tr>\n",
              "      <th>18</th>\n",
              "      <td>2005-05-25 01:10:47</td>\n",
              "      <td>2005-05-31 06:35:47</td>\n",
              "      <td>MARTINEZ</td>\n",
              "      <td>1</td>\n",
              "      <td>Lethbridge</td>\n",
              "      <td>ROMAN PUNK</td>\n",
              "      <td>7</td>\n",
              "      <td>0.99</td>\n",
              "      <td>28.99</td>\n",
              "      <td>NC-17</td>\n",
              "      <td>6.0</td>\n",
              "      <td>0.141429</td>\n",
              "    </tr>\n",
              "    <tr>\n",
              "      <th>37</th>\n",
              "      <td>2005-05-25 04:44:31</td>\n",
              "      <td>2005-05-29 01:03:31</td>\n",
              "      <td>ELROD</td>\n",
              "      <td>2</td>\n",
              "      <td>Woodridge</td>\n",
              "      <td>BORROWERS BEDAZZLED</td>\n",
              "      <td>7</td>\n",
              "      <td>0.99</td>\n",
              "      <td>22.99</td>\n",
              "      <td>G</td>\n",
              "      <td>3.0</td>\n",
              "      <td>0.141429</td>\n",
              "    </tr>\n",
              "    <tr>\n",
              "      <th>48</th>\n",
              "      <td>2005-05-25 06:20:46</td>\n",
              "      <td>2005-06-02 05:42:46</td>\n",
              "      <td>CASTRO</td>\n",
              "      <td>1</td>\n",
              "      <td>Lethbridge</td>\n",
              "      <td>GUN BONNIE</td>\n",
              "      <td>7</td>\n",
              "      <td>0.99</td>\n",
              "      <td>27.99</td>\n",
              "      <td>G</td>\n",
              "      <td>7.0</td>\n",
              "      <td>0.141429</td>\n",
              "    </tr>\n",
              "    <tr>\n",
              "      <th>74</th>\n",
              "      <td>2005-05-25 11:09:48</td>\n",
              "      <td>2005-05-26 12:23:48</td>\n",
              "      <td>TERRY</td>\n",
              "      <td>2</td>\n",
              "      <td>Woodridge</td>\n",
              "      <td>GREEDY ROOTS</td>\n",
              "      <td>7</td>\n",
              "      <td>0.99</td>\n",
              "      <td>14.99</td>\n",
              "      <td>R</td>\n",
              "      <td>1.0</td>\n",
              "      <td>0.141429</td>\n",
              "    </tr>\n",
              "    <tr>\n",
              "      <th>76</th>\n",
              "      <td>2005-05-25 11:30:37</td>\n",
              "      <td>2005-06-03 12:00:37</td>\n",
              "      <td>SMITH</td>\n",
              "      <td>2</td>\n",
              "      <td>Woodridge</td>\n",
              "      <td>PATIENT SISTER</td>\n",
              "      <td>7</td>\n",
              "      <td>0.99</td>\n",
              "      <td>29.99</td>\n",
              "      <td>NC-17</td>\n",
              "      <td>9.0</td>\n",
              "      <td>0.141429</td>\n",
              "    </tr>\n",
              "    <tr>\n",
              "      <th>87</th>\n",
              "      <td>2005-05-25 13:52:43</td>\n",
              "      <td>2005-05-29 11:12:43</td>\n",
              "      <td>ROBERT</td>\n",
              "      <td>2</td>\n",
              "      <td>Woodridge</td>\n",
              "      <td>GANDHI KWAI</td>\n",
              "      <td>7</td>\n",
              "      <td>0.99</td>\n",
              "      <td>9.99</td>\n",
              "      <td>PG-13</td>\n",
              "      <td>3.0</td>\n",
              "      <td>0.141429</td>\n",
              "    </tr>\n",
              "    <tr>\n",
              "      <th>117</th>\n",
              "      <td>2005-05-25 19:30:46</td>\n",
              "      <td>2005-05-31 23:59:46</td>\n",
              "      <td>MILLER</td>\n",
              "      <td>2</td>\n",
              "      <td>Woodridge</td>\n",
              "      <td>VALENTINE VANISHING</td>\n",
              "      <td>7</td>\n",
              "      <td>0.99</td>\n",
              "      <td>9.99</td>\n",
              "      <td>PG-13</td>\n",
              "      <td>6.0</td>\n",
              "      <td>0.141429</td>\n",
              "    </tr>\n",
              "    <tr>\n",
              "      <th>133</th>\n",
              "      <td>2005-05-25 21:48:30</td>\n",
              "      <td>2005-05-30 00:26:30</td>\n",
              "      <td>GILBERT</td>\n",
              "      <td>1</td>\n",
              "      <td>Lethbridge</td>\n",
              "      <td>BORROWERS BEDAZZLED</td>\n",
              "      <td>7</td>\n",
              "      <td>0.99</td>\n",
              "      <td>22.99</td>\n",
              "      <td>G</td>\n",
              "      <td>4.0</td>\n",
              "      <td>0.141429</td>\n",
              "    </tr>\n",
              "    <tr>\n",
              "      <th>148</th>\n",
              "      <td>2005-05-26 00:25:23</td>\n",
              "      <td>2005-06-01 19:29:23</td>\n",
              "      <td>BURNS</td>\n",
              "      <td>2</td>\n",
              "      <td>Woodridge</td>\n",
              "      <td>UNFORGIVEN ZOOLANDER</td>\n",
              "      <td>7</td>\n",
              "      <td>0.99</td>\n",
              "      <td>15.99</td>\n",
              "      <td>PG</td>\n",
              "      <td>6.0</td>\n",
              "      <td>0.141429</td>\n",
              "    </tr>\n",
              "    <tr>\n",
              "      <th>158</th>\n",
              "      <td>2005-05-26 01:27:11</td>\n",
              "      <td>2005-06-03 00:30:11</td>\n",
              "      <td>NGO</td>\n",
              "      <td>1</td>\n",
              "      <td>Lethbridge</td>\n",
              "      <td>LIGHTS DEER</td>\n",
              "      <td>7</td>\n",
              "      <td>0.99</td>\n",
              "      <td>21.99</td>\n",
              "      <td>R</td>\n",
              "      <td>7.0</td>\n",
              "      <td>0.141429</td>\n",
              "    </tr>\n",
              "  </tbody>\n",
              "</table>\n",
              "</div>"
            ],
            "text/plain": [
              "                  rental_date  ... film_daily_rental_rate\n",
              "rental_id                      ...                       \n",
              "18        2005-05-25 01:10:47  ...               0.141429\n",
              "37        2005-05-25 04:44:31  ...               0.141429\n",
              "48        2005-05-25 06:20:46  ...               0.141429\n",
              "74        2005-05-25 11:09:48  ...               0.141429\n",
              "76        2005-05-25 11:30:37  ...               0.141429\n",
              "87        2005-05-25 13:52:43  ...               0.141429\n",
              "117       2005-05-25 19:30:46  ...               0.141429\n",
              "133       2005-05-25 21:48:30  ...               0.141429\n",
              "148       2005-05-26 00:25:23  ...               0.141429\n",
              "158       2005-05-26 01:27:11  ...               0.141429\n",
              "\n",
              "[10 rows x 12 columns]"
            ]
          },
          "metadata": {
            "tags": []
          },
          "execution_count": 75
        }
      ]
    },
    {
      "cell_type": "markdown",
      "metadata": {
        "id": "drpr2lQ37wNq"
      },
      "source": [
        "![green-divider](https://user-images.githubusercontent.com/7065401/52071924-c003ad80-2562-11e9-8297-1c6595f8a7ff.png)\n",
        "\n",
        "### List 10 films with the highest daily rental rate"
      ]
    },
    {
      "cell_type": "code",
      "metadata": {
        "id": "ddb2zKqg7wNq",
        "colab": {
          "base_uri": "https://localhost:8080/",
          "height": 580
        },
        "outputId": "0b352fb0-717c-4214-ea92-57b6550c7b9b"
      },
      "source": [
        "df.loc[df['film_daily_rental_rate'] == df['film_daily_rental_rate'].max()].head(10)"
      ],
      "execution_count": null,
      "outputs": [
        {
          "output_type": "execute_result",
          "data": {
            "text/html": [
              "<div>\n",
              "<style scoped>\n",
              "    .dataframe tbody tr th:only-of-type {\n",
              "        vertical-align: middle;\n",
              "    }\n",
              "\n",
              "    .dataframe tbody tr th {\n",
              "        vertical-align: top;\n",
              "    }\n",
              "\n",
              "    .dataframe thead th {\n",
              "        text-align: right;\n",
              "    }\n",
              "</style>\n",
              "<table border=\"1\" class=\"dataframe\">\n",
              "  <thead>\n",
              "    <tr style=\"text-align: right;\">\n",
              "      <th></th>\n",
              "      <th>rental_date</th>\n",
              "      <th>return_date</th>\n",
              "      <th>customer_lastname</th>\n",
              "      <th>store_id</th>\n",
              "      <th>rental_store_city</th>\n",
              "      <th>film_title</th>\n",
              "      <th>film_rental_duration</th>\n",
              "      <th>film_rental_rate</th>\n",
              "      <th>film_replacement_cost</th>\n",
              "      <th>film_rating</th>\n",
              "      <th>rental_days</th>\n",
              "      <th>film_daily_rental_rate</th>\n",
              "    </tr>\n",
              "    <tr>\n",
              "      <th>rental_id</th>\n",
              "      <th></th>\n",
              "      <th></th>\n",
              "      <th></th>\n",
              "      <th></th>\n",
              "      <th></th>\n",
              "      <th></th>\n",
              "      <th></th>\n",
              "      <th></th>\n",
              "      <th></th>\n",
              "      <th></th>\n",
              "      <th></th>\n",
              "      <th></th>\n",
              "    </tr>\n",
              "  </thead>\n",
              "  <tbody>\n",
              "    <tr>\n",
              "      <th>13</th>\n",
              "      <td>2005-05-25 00:22:55</td>\n",
              "      <td>2005-05-30 04:28:55</td>\n",
              "      <td>MCWHORTER</td>\n",
              "      <td>1</td>\n",
              "      <td>Lethbridge</td>\n",
              "      <td>KING EVOLUTION</td>\n",
              "      <td>3</td>\n",
              "      <td>4.99</td>\n",
              "      <td>24.99</td>\n",
              "      <td>NC-17</td>\n",
              "      <td>5.0</td>\n",
              "      <td>1.663333</td>\n",
              "    </tr>\n",
              "    <tr>\n",
              "      <th>40</th>\n",
              "      <td>2005-05-25 05:09:04</td>\n",
              "      <td>2005-05-27 23:12:04</td>\n",
              "      <td>YEE</td>\n",
              "      <td>1</td>\n",
              "      <td>Lethbridge</td>\n",
              "      <td>MINDS TRUMAN</td>\n",
              "      <td>3</td>\n",
              "      <td>4.99</td>\n",
              "      <td>22.99</td>\n",
              "      <td>PG-13</td>\n",
              "      <td>2.0</td>\n",
              "      <td>1.663333</td>\n",
              "    </tr>\n",
              "    <tr>\n",
              "      <th>68</th>\n",
              "      <td>2005-05-25 09:47:31</td>\n",
              "      <td>2005-05-31 10:20:31</td>\n",
              "      <td>ORTIZ</td>\n",
              "      <td>2</td>\n",
              "      <td>Woodridge</td>\n",
              "      <td>TEEN APOLLO</td>\n",
              "      <td>3</td>\n",
              "      <td>4.99</td>\n",
              "      <td>25.99</td>\n",
              "      <td>G</td>\n",
              "      <td>6.0</td>\n",
              "      <td>1.663333</td>\n",
              "    </tr>\n",
              "    <tr>\n",
              "      <th>106</th>\n",
              "      <td>2005-05-25 18:18:19</td>\n",
              "      <td>2005-06-04 00:01:19</td>\n",
              "      <td>AUSTIN</td>\n",
              "      <td>2</td>\n",
              "      <td>Woodridge</td>\n",
              "      <td>SHOW LORD</td>\n",
              "      <td>3</td>\n",
              "      <td>4.99</td>\n",
              "      <td>24.99</td>\n",
              "      <td>PG-13</td>\n",
              "      <td>9.0</td>\n",
              "      <td>1.663333</td>\n",
              "    </tr>\n",
              "    <tr>\n",
              "      <th>116</th>\n",
              "      <td>2005-05-25 19:27:51</td>\n",
              "      <td>2005-05-26 16:23:51</td>\n",
              "      <td>GARCIA</td>\n",
              "      <td>1</td>\n",
              "      <td>Lethbridge</td>\n",
              "      <td>WIFE TURN</td>\n",
              "      <td>3</td>\n",
              "      <td>4.99</td>\n",
              "      <td>27.99</td>\n",
              "      <td>NC-17</td>\n",
              "      <td>0.0</td>\n",
              "      <td>1.663333</td>\n",
              "    </tr>\n",
              "    <tr>\n",
              "      <th>124</th>\n",
              "      <td>2005-05-25 20:46:11</td>\n",
              "      <td>2005-05-30 00:47:11</td>\n",
              "      <td>MENDOZA</td>\n",
              "      <td>1</td>\n",
              "      <td>Lethbridge</td>\n",
              "      <td>BACKLASH UNDEFEATED</td>\n",
              "      <td>3</td>\n",
              "      <td>4.99</td>\n",
              "      <td>24.99</td>\n",
              "      <td>PG-13</td>\n",
              "      <td>4.0</td>\n",
              "      <td>1.663333</td>\n",
              "    </tr>\n",
              "    <tr>\n",
              "      <th>135</th>\n",
              "      <td>2005-05-25 21:58:58</td>\n",
              "      <td>2005-06-03 17:50:58</td>\n",
              "      <td>ROYAL</td>\n",
              "      <td>1</td>\n",
              "      <td>Lethbridge</td>\n",
              "      <td>AMERICAN CIRCUS</td>\n",
              "      <td>3</td>\n",
              "      <td>4.99</td>\n",
              "      <td>17.99</td>\n",
              "      <td>R</td>\n",
              "      <td>8.0</td>\n",
              "      <td>1.663333</td>\n",
              "    </tr>\n",
              "    <tr>\n",
              "      <th>152</th>\n",
              "      <td>2005-05-26 00:41:10</td>\n",
              "      <td>2005-06-03 06:05:10</td>\n",
              "      <td>MORGAN</td>\n",
              "      <td>1</td>\n",
              "      <td>Lethbridge</td>\n",
              "      <td>MIDSUMMER GROUNDHOG</td>\n",
              "      <td>3</td>\n",
              "      <td>4.99</td>\n",
              "      <td>27.99</td>\n",
              "      <td>G</td>\n",
              "      <td>8.0</td>\n",
              "      <td>1.663333</td>\n",
              "    </tr>\n",
              "    <tr>\n",
              "      <th>155</th>\n",
              "      <td>2005-05-26 01:15:05</td>\n",
              "      <td>2005-06-01 00:03:05</td>\n",
              "      <td>BARBEE</td>\n",
              "      <td>2</td>\n",
              "      <td>Woodridge</td>\n",
              "      <td>BEHAVIOR RUNAWAY</td>\n",
              "      <td>3</td>\n",
              "      <td>4.99</td>\n",
              "      <td>20.99</td>\n",
              "      <td>PG</td>\n",
              "      <td>5.0</td>\n",
              "      <td>1.663333</td>\n",
              "    </tr>\n",
              "    <tr>\n",
              "      <th>163</th>\n",
              "      <td>2005-05-26 02:26:23</td>\n",
              "      <td>2005-06-04 06:36:23</td>\n",
              "      <td>GRAHAM</td>\n",
              "      <td>1</td>\n",
              "      <td>Lethbridge</td>\n",
              "      <td>KISSING DOLLS</td>\n",
              "      <td>3</td>\n",
              "      <td>4.99</td>\n",
              "      <td>9.99</td>\n",
              "      <td>R</td>\n",
              "      <td>9.0</td>\n",
              "      <td>1.663333</td>\n",
              "    </tr>\n",
              "  </tbody>\n",
              "</table>\n",
              "</div>"
            ],
            "text/plain": [
              "                  rental_date  ... film_daily_rental_rate\n",
              "rental_id                      ...                       \n",
              "13        2005-05-25 00:22:55  ...               1.663333\n",
              "40        2005-05-25 05:09:04  ...               1.663333\n",
              "68        2005-05-25 09:47:31  ...               1.663333\n",
              "106       2005-05-25 18:18:19  ...               1.663333\n",
              "116       2005-05-25 19:27:51  ...               1.663333\n",
              "124       2005-05-25 20:46:11  ...               1.663333\n",
              "135       2005-05-25 21:58:58  ...               1.663333\n",
              "152       2005-05-26 00:41:10  ...               1.663333\n",
              "155       2005-05-26 01:15:05  ...               1.663333\n",
              "163       2005-05-26 02:26:23  ...               1.663333\n",
              "\n",
              "[10 rows x 12 columns]"
            ]
          },
          "metadata": {
            "tags": []
          },
          "execution_count": 86
        }
      ]
    },
    {
      "cell_type": "code",
      "metadata": {
        "cell_type": "solution",
        "id": "rPi0Rabd7wNq",
        "colab": {
          "base_uri": "https://localhost:8080/",
          "height": 580
        },
        "outputId": "66aa4070-0710-4b07-b681-98ba3ea72e00"
      },
      "source": [
        "df.loc[df['film_daily_rental_rate'] == df['film_daily_rental_rate'].max()].head(10)"
      ],
      "execution_count": null,
      "outputs": [
        {
          "output_type": "execute_result",
          "data": {
            "text/html": [
              "<div>\n",
              "<style scoped>\n",
              "    .dataframe tbody tr th:only-of-type {\n",
              "        vertical-align: middle;\n",
              "    }\n",
              "\n",
              "    .dataframe tbody tr th {\n",
              "        vertical-align: top;\n",
              "    }\n",
              "\n",
              "    .dataframe thead th {\n",
              "        text-align: right;\n",
              "    }\n",
              "</style>\n",
              "<table border=\"1\" class=\"dataframe\">\n",
              "  <thead>\n",
              "    <tr style=\"text-align: right;\">\n",
              "      <th></th>\n",
              "      <th>rental_date</th>\n",
              "      <th>return_date</th>\n",
              "      <th>customer_lastname</th>\n",
              "      <th>store_id</th>\n",
              "      <th>rental_store_city</th>\n",
              "      <th>film_title</th>\n",
              "      <th>film_rental_duration</th>\n",
              "      <th>film_rental_rate</th>\n",
              "      <th>film_replacement_cost</th>\n",
              "      <th>film_rating</th>\n",
              "      <th>rental_days</th>\n",
              "      <th>film_daily_rental_rate</th>\n",
              "    </tr>\n",
              "    <tr>\n",
              "      <th>rental_id</th>\n",
              "      <th></th>\n",
              "      <th></th>\n",
              "      <th></th>\n",
              "      <th></th>\n",
              "      <th></th>\n",
              "      <th></th>\n",
              "      <th></th>\n",
              "      <th></th>\n",
              "      <th></th>\n",
              "      <th></th>\n",
              "      <th></th>\n",
              "      <th></th>\n",
              "    </tr>\n",
              "  </thead>\n",
              "  <tbody>\n",
              "    <tr>\n",
              "      <th>13</th>\n",
              "      <td>2005-05-25 00:22:55</td>\n",
              "      <td>2005-05-30 04:28:55</td>\n",
              "      <td>MCWHORTER</td>\n",
              "      <td>1</td>\n",
              "      <td>Lethbridge</td>\n",
              "      <td>KING EVOLUTION</td>\n",
              "      <td>3</td>\n",
              "      <td>4.99</td>\n",
              "      <td>24.99</td>\n",
              "      <td>NC-17</td>\n",
              "      <td>5.0</td>\n",
              "      <td>1.663333</td>\n",
              "    </tr>\n",
              "    <tr>\n",
              "      <th>40</th>\n",
              "      <td>2005-05-25 05:09:04</td>\n",
              "      <td>2005-05-27 23:12:04</td>\n",
              "      <td>YEE</td>\n",
              "      <td>1</td>\n",
              "      <td>Lethbridge</td>\n",
              "      <td>MINDS TRUMAN</td>\n",
              "      <td>3</td>\n",
              "      <td>4.99</td>\n",
              "      <td>22.99</td>\n",
              "      <td>PG-13</td>\n",
              "      <td>2.0</td>\n",
              "      <td>1.663333</td>\n",
              "    </tr>\n",
              "    <tr>\n",
              "      <th>68</th>\n",
              "      <td>2005-05-25 09:47:31</td>\n",
              "      <td>2005-05-31 10:20:31</td>\n",
              "      <td>ORTIZ</td>\n",
              "      <td>2</td>\n",
              "      <td>Woodridge</td>\n",
              "      <td>TEEN APOLLO</td>\n",
              "      <td>3</td>\n",
              "      <td>4.99</td>\n",
              "      <td>25.99</td>\n",
              "      <td>G</td>\n",
              "      <td>6.0</td>\n",
              "      <td>1.663333</td>\n",
              "    </tr>\n",
              "    <tr>\n",
              "      <th>106</th>\n",
              "      <td>2005-05-25 18:18:19</td>\n",
              "      <td>2005-06-04 00:01:19</td>\n",
              "      <td>AUSTIN</td>\n",
              "      <td>2</td>\n",
              "      <td>Woodridge</td>\n",
              "      <td>SHOW LORD</td>\n",
              "      <td>3</td>\n",
              "      <td>4.99</td>\n",
              "      <td>24.99</td>\n",
              "      <td>PG-13</td>\n",
              "      <td>9.0</td>\n",
              "      <td>1.663333</td>\n",
              "    </tr>\n",
              "    <tr>\n",
              "      <th>116</th>\n",
              "      <td>2005-05-25 19:27:51</td>\n",
              "      <td>2005-05-26 16:23:51</td>\n",
              "      <td>GARCIA</td>\n",
              "      <td>1</td>\n",
              "      <td>Lethbridge</td>\n",
              "      <td>WIFE TURN</td>\n",
              "      <td>3</td>\n",
              "      <td>4.99</td>\n",
              "      <td>27.99</td>\n",
              "      <td>NC-17</td>\n",
              "      <td>0.0</td>\n",
              "      <td>1.663333</td>\n",
              "    </tr>\n",
              "    <tr>\n",
              "      <th>124</th>\n",
              "      <td>2005-05-25 20:46:11</td>\n",
              "      <td>2005-05-30 00:47:11</td>\n",
              "      <td>MENDOZA</td>\n",
              "      <td>1</td>\n",
              "      <td>Lethbridge</td>\n",
              "      <td>BACKLASH UNDEFEATED</td>\n",
              "      <td>3</td>\n",
              "      <td>4.99</td>\n",
              "      <td>24.99</td>\n",
              "      <td>PG-13</td>\n",
              "      <td>4.0</td>\n",
              "      <td>1.663333</td>\n",
              "    </tr>\n",
              "    <tr>\n",
              "      <th>135</th>\n",
              "      <td>2005-05-25 21:58:58</td>\n",
              "      <td>2005-06-03 17:50:58</td>\n",
              "      <td>ROYAL</td>\n",
              "      <td>1</td>\n",
              "      <td>Lethbridge</td>\n",
              "      <td>AMERICAN CIRCUS</td>\n",
              "      <td>3</td>\n",
              "      <td>4.99</td>\n",
              "      <td>17.99</td>\n",
              "      <td>R</td>\n",
              "      <td>8.0</td>\n",
              "      <td>1.663333</td>\n",
              "    </tr>\n",
              "    <tr>\n",
              "      <th>152</th>\n",
              "      <td>2005-05-26 00:41:10</td>\n",
              "      <td>2005-06-03 06:05:10</td>\n",
              "      <td>MORGAN</td>\n",
              "      <td>1</td>\n",
              "      <td>Lethbridge</td>\n",
              "      <td>MIDSUMMER GROUNDHOG</td>\n",
              "      <td>3</td>\n",
              "      <td>4.99</td>\n",
              "      <td>27.99</td>\n",
              "      <td>G</td>\n",
              "      <td>8.0</td>\n",
              "      <td>1.663333</td>\n",
              "    </tr>\n",
              "    <tr>\n",
              "      <th>155</th>\n",
              "      <td>2005-05-26 01:15:05</td>\n",
              "      <td>2005-06-01 00:03:05</td>\n",
              "      <td>BARBEE</td>\n",
              "      <td>2</td>\n",
              "      <td>Woodridge</td>\n",
              "      <td>BEHAVIOR RUNAWAY</td>\n",
              "      <td>3</td>\n",
              "      <td>4.99</td>\n",
              "      <td>20.99</td>\n",
              "      <td>PG</td>\n",
              "      <td>5.0</td>\n",
              "      <td>1.663333</td>\n",
              "    </tr>\n",
              "    <tr>\n",
              "      <th>163</th>\n",
              "      <td>2005-05-26 02:26:23</td>\n",
              "      <td>2005-06-04 06:36:23</td>\n",
              "      <td>GRAHAM</td>\n",
              "      <td>1</td>\n",
              "      <td>Lethbridge</td>\n",
              "      <td>KISSING DOLLS</td>\n",
              "      <td>3</td>\n",
              "      <td>4.99</td>\n",
              "      <td>9.99</td>\n",
              "      <td>R</td>\n",
              "      <td>9.0</td>\n",
              "      <td>1.663333</td>\n",
              "    </tr>\n",
              "  </tbody>\n",
              "</table>\n",
              "</div>"
            ],
            "text/plain": [
              "                  rental_date  ... film_daily_rental_rate\n",
              "rental_id                      ...                       \n",
              "13        2005-05-25 00:22:55  ...               1.663333\n",
              "40        2005-05-25 05:09:04  ...               1.663333\n",
              "68        2005-05-25 09:47:31  ...               1.663333\n",
              "106       2005-05-25 18:18:19  ...               1.663333\n",
              "116       2005-05-25 19:27:51  ...               1.663333\n",
              "124       2005-05-25 20:46:11  ...               1.663333\n",
              "135       2005-05-25 21:58:58  ...               1.663333\n",
              "152       2005-05-26 00:41:10  ...               1.663333\n",
              "155       2005-05-26 01:15:05  ...               1.663333\n",
              "163       2005-05-26 02:26:23  ...               1.663333\n",
              "\n",
              "[10 rows x 12 columns]"
            ]
          },
          "metadata": {
            "tags": []
          },
          "execution_count": 82
        }
      ]
    },
    {
      "cell_type": "markdown",
      "metadata": {
        "id": "-gyAMAHw7wNq"
      },
      "source": [
        "![green-divider](https://user-images.githubusercontent.com/7065401/52071924-c003ad80-2562-11e9-8297-1c6595f8a7ff.png)\n",
        "\n",
        "### How many rentals were made in Lethbridge city?"
      ]
    },
    {
      "cell_type": "code",
      "metadata": {
        "id": "MkkAwcr57wNq",
        "colab": {
          "base_uri": "https://localhost:8080/"
        },
        "outputId": "17781a1c-e254-4407-8728-bbda449ef9e9"
      },
      "source": [
        "df['rental_store_city'][df['rental_store_city'] == 'Lethbridge'].count()\n"
      ],
      "execution_count": null,
      "outputs": [
        {
          "output_type": "execute_result",
          "data": {
            "text/plain": [
              "7923"
            ]
          },
          "metadata": {
            "tags": []
          },
          "execution_count": 97
        }
      ]
    },
    {
      "cell_type": "code",
      "metadata": {
        "cell_type": "solution",
        "id": "Nlm2JLl37wNr",
        "colab": {
          "base_uri": "https://localhost:8080/"
        },
        "outputId": "0c6a4ab1-04e7-4372-c726-bfa2ceebf93a"
      },
      "source": [
        "df.loc[df['rental_store_city'] == 'Lethbridge'].shape[0]"
      ],
      "execution_count": null,
      "outputs": [
        {
          "output_type": "execute_result",
          "data": {
            "text/plain": [
              "7923"
            ]
          },
          "metadata": {
            "tags": []
          },
          "execution_count": 95
        }
      ]
    },
    {
      "cell_type": "markdown",
      "metadata": {
        "id": "Hswe0KyG7wNr"
      },
      "source": [
        "![green-divider](https://user-images.githubusercontent.com/7065401/52071924-c003ad80-2562-11e9-8297-1c6595f8a7ff.png)\n",
        "\n",
        "### How many rentals of each film rating were made in Lethbridge city?\n",
        "\n",
        "Show a <b>bar plot</b> with each film rating count."
      ]
    },
    {
      "cell_type": "code",
      "metadata": {
        "id": "NNn3jKt07wNr",
        "colab": {
          "base_uri": "https://localhost:8080/",
          "height": 303
        },
        "outputId": "8b16d33c-a888-4a1f-a533-cfbd4f43034a"
      },
      "source": [
        "df.loc[df['rental_store_city'] == 'Lethbridge', 'film_rating'].value_counts().plot(kind='bar')"
      ],
      "execution_count": null,
      "outputs": [
        {
          "output_type": "execute_result",
          "data": {
            "text/plain": [
              "<matplotlib.axes._subplots.AxesSubplot at 0x7f69f676ea90>"
            ]
          },
          "metadata": {
            "tags": []
          },
          "execution_count": 102
        },
        {
          "output_type": "display_data",
          "data": {
            "image/png": "[encoded data removed]",
            "text/plain": [
              "<Figure size 432x288 with 1 Axes>"
            ]
          },
          "metadata": {
            "tags": [],
            "needs_background": "light"
          }
        }
      ]
    },
    {
      "cell_type": "code",
      "metadata": {
        "cell_type": "solution",
        "id": "RLLdJku_7wNr",
        "colab": {
          "base_uri": "https://localhost:8080/"
        },
        "outputId": "51a17d03-5db3-493c-ed8e-4f4c2f9ea828"
      },
      "source": [
        "df.loc[df['rental_store_city'] == 'Lethbridge', 'film_rating'].value_counts()"
      ],
      "execution_count": null,
      "outputs": [
        {
          "output_type": "execute_result",
          "data": {
            "text/plain": [
              "PG-13    1849\n",
              "NC-17    1625\n",
              "R        1537\n",
              "PG       1535\n",
              "G        1377\n",
              "Name: film_rating, dtype: int64"
            ]
          },
          "metadata": {
            "tags": []
          },
          "execution_count": 99
        }
      ]
    },
    {
      "cell_type": "code",
      "metadata": {
        "cell_type": "solution",
        "id": "ztvCmR177wNu",
        "colab": {
          "base_uri": "https://localhost:8080/",
          "height": 412
        },
        "outputId": "ff91eb13-fa85-4a21-e934-187fc3ed176d"
      },
      "source": [
        "df.loc[df['rental_store_city'] == 'Lethbridge', 'film_rating'].value_counts().plot(kind='bar', figsize=(14,6))"
      ],
      "execution_count": null,
      "outputs": [
        {
          "output_type": "execute_result",
          "data": {
            "text/plain": [
              "<matplotlib.axes._subplots.AxesSubplot at 0x7f69f657ba90>"
            ]
          },
          "metadata": {
            "tags": []
          },
          "execution_count": 103
        },
        {
          "output_type": "display_data",
          "data": {
            "image/png": "[encoded data removed]",
            "text/plain": [
              "<Figure size 1008x432 with 1 Axes>"
            ]
          },
          "metadata": {
            "tags": [],
            "needs_background": "light"
          }
        }
      ]
    },
    {
      "cell_type": "markdown",
      "metadata": {
        "id": "PeCz0DdK7wNu"
      },
      "source": [
        "![green-divider](https://user-images.githubusercontent.com/7065401/52071924-c003ad80-2562-11e9-8297-1c6595f8a7ff.png)\n",
        "\n",
        "### How many rentals were made in Woodridge city with rental duration higher than 5 days?"
      ]
    },
    {
      "cell_type": "code",
      "metadata": {
        "id": "h07Ri6jc7wNv",
        "colab": {
          "base_uri": "https://localhost:8080/"
        },
        "outputId": "689d9752-7f01-4d08-e8e3-68330df1c500"
      },
      "source": [
        "df.loc[(df['rental_store_city'] == 'Woodridge') & (df['film_rental_duration'] > 5)].shape[0]"
      ],
      "execution_count": null,
      "outputs": [
        {
          "output_type": "execute_result",
          "data": {
            "text/plain": [
              "3186"
            ]
          },
          "metadata": {
            "tags": []
          },
          "execution_count": 110
        }
      ]
    },
    {
      "cell_type": "code",
      "metadata": {
        "cell_type": "solution",
        "id": "3V86AmuG7wNv",
        "colab": {
          "base_uri": "https://localhost:8080/"
        },
        "outputId": "a7bede8d-c112-4591-a2de-0d7e0d8d1a8c"
      },
      "source": [
        "df.loc[(df['rental_store_city'] == 'Woodridge') & (df['film_rental_duration'] > 5)].shape[0]"
      ],
      "execution_count": null,
      "outputs": [
        {
          "output_type": "execute_result",
          "data": {
            "text/plain": [
              "3186"
            ]
          },
          "metadata": {
            "tags": []
          },
          "execution_count": 105
        }
      ]
    },
    {
      "cell_type": "markdown",
      "metadata": {
        "id": "Kb0vs-eL7wNw"
      },
      "source": [
        "![green-divider](https://user-images.githubusercontent.com/7065401/52071924-c003ad80-2562-11e9-8297-1c6595f8a7ff.png)\n",
        "\n",
        "### How many rentals were made at the store with id 2 or with replacement cost lower than 10.99 USD?"
      ]
    },
    {
      "cell_type": "code",
      "metadata": {
        "id": "bHNWkj9h7wNw",
        "colab": {
          "base_uri": "https://localhost:8080/"
        },
        "outputId": "f2553968-1ae7-45ad-9992-015c53d1fd50"
      },
      "source": [
        "df.loc[(df['store_id'] == 2) | (df['film_replacement_cost'] < 10.99)].shape[0]"
      ],
      "execution_count": null,
      "outputs": [
        {
          "output_type": "execute_result",
          "data": {
            "text/plain": [
              "8444"
            ]
          },
          "metadata": {
            "tags": []
          },
          "execution_count": 113
        }
      ]
    },
    {
      "cell_type": "code",
      "metadata": {
        "cell_type": "solution",
        "id": "Bgr6O2ni7wNw",
        "colab": {
          "base_uri": "https://localhost:8080/"
        },
        "outputId": "9db08a1e-af93-4e2e-fd41-4dd4a6a12239"
      },
      "source": [
        "df.loc[(df['store_id'] == 2) | (df['film_replacement_cost'] < 10.99)].shape[0]"
      ],
      "execution_count": null,
      "outputs": [
        {
          "output_type": "execute_result",
          "data": {
            "text/plain": [
              "8444"
            ]
          },
          "metadata": {
            "tags": []
          },
          "execution_count": 114
        }
      ]
    },
    {
      "cell_type": "markdown",
      "metadata": {
        "id": "RlMj3l6Q7wNx"
      },
      "source": [
        "![purple-divider](https://user-images.githubusercontent.com/7065401/52071927-c1cd7100-2562-11e9-908a-dde91ba14e59.png)"
      ]
    }
  ]
}