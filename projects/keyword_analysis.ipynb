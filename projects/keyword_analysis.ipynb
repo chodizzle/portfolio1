{
  "nbformat": 4,
  "nbformat_minor": 0,
  "metadata": {
    "colab": {
      "name": "keyword_analysis.ipynb",
      "provenance": [],
      "mount_file_id": "1_2NvpvRYufO69eJG0RRLAuNCxhbOYOW_",
      "authorship_tag": "ABX9TyPoXLIteBzEL8vcCfmPcBXy",
      "include_colab_link": true
    },
    "kernelspec": {
      "name": "python3",
      "display_name": "Python 3"
    },
    "language_info": {
      "name": "python"
    }
  },
  "cells": [
    {
      "cell_type": "markdown",
      "metadata": {
        "id": "view-in-github",
        "colab_type": "text"
      },
      "source": [
        "<a href=\"https://colab.research.google.com/github/chodizzle/portfolio1/blob/main/projects/keyword_analysis.ipynb\" target=\"_parent\"><img src=\"https://colab.research.google.com/assets/colab-badge.svg\" alt=\"Open In Colab\"/></a>"
      ]
    },
    {
      "cell_type": "code",
      "metadata": {
        "id": "F-vRMJCShS53"
      },
      "source": [
        "import pandas as pd\n",
        "import numpy as np\n",
        "import matplotlib.pyplot as plt\n",
        "from matplotlib.pyplot import figure\n",
        "import seaborn as sns\n",
        "import re"
      ],
      "execution_count": null,
      "outputs": []
    },
    {
      "cell_type": "code",
      "metadata": {
        "colab": {
          "base_uri": "https://localhost:8080/"
        },
        "id": "zrRAN6echqWE",
        "outputId": "cd173597-5bfe-4033-ba2c-0e65b422d4ae"
      },
      "source": [
        "%cd drive/MyDrive/"
      ],
      "execution_count": null,
      "outputs": [
        {
          "output_type": "stream",
          "text": [
            "/content/drive/MyDrive\n"
          ],
          "name": "stdout"
        }
      ]
    },
    {
      "cell_type": "markdown",
      "metadata": {
        "id": "4gejdVLqi2Vw"
      },
      "source": [
        "<h1> Setup 3 Dataframes from outputs of keyword script </h2>"
      ]
    },
    {
      "cell_type": "code",
      "metadata": {
        "id": "NUf2OeuVi3Jw"
      },
      "source": [
        "df1 = pd.read_csv('tfidf_meats.csv', index_col=0)\n",
        "df2 = pd.read_csv('tfidf_meats2.csv', index_col=0)\n",
        "df3 = pd.read_csv('tfidf_meats3.csv', index_col=0)"
      ],
      "execution_count": null,
      "outputs": []
    },
    {
      "cell_type": "code",
      "metadata": {
        "id": "x4E6bX5kjKBL"
      },
      "source": [
        "df1['version'] = 1\n",
        "df2['version'] = 2\n",
        "df3['version'] = 3"
      ],
      "execution_count": null,
      "outputs": []
    },
    {
      "cell_type": "code",
      "metadata": {
        "id": "ZCcnK1h8jKum"
      },
      "source": [
        "df1 = df1.append([df2, df3])"
      ],
      "execution_count": null,
      "outputs": []
    },
    {
      "cell_type": "code",
      "metadata": {
        "id": "qd27-A5Qjg_t"
      },
      "source": [
        "df1.reset_index(drop=True, inplace=True)"
      ],
      "execution_count": null,
      "outputs": []
    },
    {
      "cell_type": "code",
      "metadata": {
        "id": "aQ5GWS95jzFR"
      },
      "source": [
        "derp = df1.groupby(['category', 'keyword']).size().unstack(fill_value=0).sum().to_frame()"
      ],
      "execution_count": null,
      "outputs": []
    },
    {
      "cell_type": "code",
      "metadata": {
        "id": "0u4FouDiqIyV"
      },
      "source": [
        "derp.rename(columns={0:'count'}, inplace=True)"
      ],
      "execution_count": null,
      "outputs": []
    },
    {
      "cell_type": "code",
      "metadata": {
        "id": "CYgJXOuFrnG_"
      },
      "source": [
        "singles = derp[derp['count'] == 1].index"
      ],
      "execution_count": null,
      "outputs": []
    },
    {
      "cell_type": "code",
      "metadata": {
        "id": "PCEC_1Vhr2V1"
      },
      "source": [
        "df_trim = df1[df1['counts'] > 25]"
      ],
      "execution_count": null,
      "outputs": []
    },
    {
      "cell_type": "code",
      "metadata": {
        "colab": {
          "base_uri": "https://localhost:8080/",
          "height": 419
        },
        "id": "jpFoOQN6swt0",
        "outputId": "4ee0bf7c-4a21-421b-be99-527b25ac4a43"
      },
      "source": [
        "gb = df_trim[df_trim['category'] == 'Ground Beef']\n",
        "gb"
      ],
      "execution_count": null,
      "outputs": [
        {
          "output_type": "execute_result",
          "data": {
            "text/html": [
              "<div>\n",
              "<style scoped>\n",
              "    .dataframe tbody tr th:only-of-type {\n",
              "        vertical-align: middle;\n",
              "    }\n",
              "\n",
              "    .dataframe tbody tr th {\n",
              "        vertical-align: top;\n",
              "    }\n",
              "\n",
              "    .dataframe thead th {\n",
              "        text-align: right;\n",
              "    }\n",
              "</style>\n",
              "<table border=\"1\" class=\"dataframe\">\n",
              "  <thead>\n",
              "    <tr style=\"text-align: right;\">\n",
              "      <th></th>\n",
              "      <th>keyword</th>\n",
              "      <th>tfidf</th>\n",
              "      <th>counts</th>\n",
              "      <th>category</th>\n",
              "      <th>version</th>\n",
              "    </tr>\n",
              "  </thead>\n",
              "  <tbody>\n",
              "    <tr>\n",
              "      <th>0</th>\n",
              "      <td>fine raw</td>\n",
              "      <td>0.406718</td>\n",
              "      <td>362</td>\n",
              "      <td>Ground Beef</td>\n",
              "      <td>1</td>\n",
              "    </tr>\n",
              "    <tr>\n",
              "      <th>1</th>\n",
              "      <td>chub</td>\n",
              "      <td>0.351619</td>\n",
              "      <td>524</td>\n",
              "      <td>Ground Beef</td>\n",
              "      <td>1</td>\n",
              "    </tr>\n",
              "    <tr>\n",
              "      <th>2</th>\n",
              "      <td>fine</td>\n",
              "      <td>0.284917</td>\n",
              "      <td>634</td>\n",
              "      <td>Ground Beef</td>\n",
              "      <td>1</td>\n",
              "    </tr>\n",
              "    <tr>\n",
              "      <th>3</th>\n",
              "      <td>raw</td>\n",
              "      <td>0.248513</td>\n",
              "      <td>715</td>\n",
              "      <td>Ground Beef</td>\n",
              "      <td>1</td>\n",
              "    </tr>\n",
              "    <tr>\n",
              "      <th>4</th>\n",
              "      <td>fireclsbulk</td>\n",
              "      <td>0.247374</td>\n",
              "      <td>222</td>\n",
              "      <td>Ground Beef</td>\n",
              "      <td>1</td>\n",
              "    </tr>\n",
              "    <tr>\n",
              "      <th>...</th>\n",
              "      <td>...</td>\n",
              "      <td>...</td>\n",
              "      <td>...</td>\n",
              "      <td>...</td>\n",
              "      <td>...</td>\n",
              "    </tr>\n",
              "    <tr>\n",
              "      <th>3544</th>\n",
              "      <td>8mm chk</td>\n",
              "      <td>0.035986</td>\n",
              "      <td>38</td>\n",
              "      <td>Ground Beef</td>\n",
              "      <td>3</td>\n",
              "    </tr>\n",
              "    <tr>\n",
              "      <th>3545</th>\n",
              "      <td>chk rl</td>\n",
              "      <td>0.035986</td>\n",
              "      <td>38</td>\n",
              "      <td>Ground Beef</td>\n",
              "      <td>3</td>\n",
              "    </tr>\n",
              "    <tr>\n",
              "      <th>3547</th>\n",
              "      <td>rl bulgogi</td>\n",
              "      <td>0.035039</td>\n",
              "      <td>37</td>\n",
              "      <td>Ground Beef</td>\n",
              "      <td>3</td>\n",
              "    </tr>\n",
              "    <tr>\n",
              "      <th>3548</th>\n",
              "      <td>bf psmo</td>\n",
              "      <td>0.034750</td>\n",
              "      <td>46</td>\n",
              "      <td>Ground Beef</td>\n",
              "      <td>3</td>\n",
              "    </tr>\n",
              "    <tr>\n",
              "      <th>3549</th>\n",
              "      <td>chk flp</td>\n",
              "      <td>0.034092</td>\n",
              "      <td>36</td>\n",
              "      <td>Ground Beef</td>\n",
              "      <td>3</td>\n",
              "    </tr>\n",
              "  </tbody>\n",
              "</table>\n",
              "<p>133 rows × 5 columns</p>\n",
              "</div>"
            ],
            "text/plain": [
              "          keyword     tfidf  counts     category  version\n",
              "0        fine raw  0.406718     362  Ground Beef        1\n",
              "1            chub  0.351619     524  Ground Beef        1\n",
              "2            fine  0.284917     634  Ground Beef        1\n",
              "3             raw  0.248513     715  Ground Beef        1\n",
              "4     fireclsbulk  0.247374     222  Ground Beef        1\n",
              "...           ...       ...     ...          ...      ...\n",
              "3544      8mm chk  0.035986      38  Ground Beef        3\n",
              "3545       chk rl  0.035986      38  Ground Beef        3\n",
              "3547   rl bulgogi  0.035039      37  Ground Beef        3\n",
              "3548      bf psmo  0.034750      46  Ground Beef        3\n",
              "3549      chk flp  0.034092      36  Ground Beef        3\n",
              "\n",
              "[133 rows x 5 columns]"
            ]
          },
          "metadata": {
            "tags": []
          },
          "execution_count": 60
        }
      ]
    },
    {
      "cell_type": "code",
      "metadata": {
        "colab": {
          "base_uri": "https://localhost:8080/",
          "height": 407
        },
        "id": "FVrZYE8kwww1",
        "outputId": "765920f1-9c31-417c-8959-f194ce176b10"
      },
      "source": [
        "fig, ax = plt.subplots(nrows=1, ncols=2, figsize=(24,6))\n",
        "\n",
        "gb['counts'].plot.bar(ax=ax[0])\n",
        "gb['tfidf'].plot.bar(ax=ax[1], color='green')\n",
        "\n",
        "# show that tfidf and counts basically correlate. Since we  chose only the top \n",
        "# tfidf scores and have tfidf-count correlation, we can focus on large count \n",
        "# items for most effective keywords to use for cleaning"
      ],
      "execution_count": null,
      "outputs": [
        {
          "output_type": "execute_result",
          "data": {
            "text/plain": [
              "<matplotlib.axes._subplots.AxesSubplot at 0x7fef3620f690>"
            ]
          },
          "metadata": {
            "tags": []
          },
          "execution_count": 88
        },
        {
          "output_type": "display_data",
          "data": {
            "image/png": "[encoded data removed]",
            "text/plain": [
              "<Figure size 1728x432 with 2 Axes>"
            ]
          },
          "metadata": {
            "tags": [],
            "needs_background": "light"
          }
        }
      ]
    },
    {
      "cell_type": "code",
      "metadata": {
        "id": "pAAft3opyaZ6"
      },
      "source": [
        "gb.to_csv('gb.csv')"
      ],
      "execution_count": null,
      "outputs": []
    },
    {
      "cell_type": "code",
      "metadata": {
        "id": "CQJBp38T52Fi"
      },
      "source": [
        ""
      ],
      "execution_count": null,
      "outputs": []
    }
  ]
}