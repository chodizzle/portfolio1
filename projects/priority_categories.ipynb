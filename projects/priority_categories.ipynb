{
  "nbformat": 4,
  "nbformat_minor": 0,
  "metadata": {
    "colab": {
      "name": "priority_categories.ipynb",
      "provenance": [],
      "mount_file_id": "1zFLAukXZI_vRPuYClzrfhWdsFusPrvwO",
      "authorship_tag": "ABX9TyPCVEGIccpOjEMyvjWP9ziT",
      "include_colab_link": true
    },
    "kernelspec": {
      "name": "python3",
      "display_name": "Python 3"
    },
    "language_info": {
      "name": "python"
    }
  },
  "cells": [
    {
      "cell_type": "markdown",
      "metadata": {
        "id": "view-in-github",
        "colab_type": "text"
      },
      "source": [
        "<a href=\"https://colab.research.google.com/github/chodizzle/portfolio1/blob/main/projects/priority_categories.ipynb\" target=\"_parent\"><img src=\"https://colab.research.google.com/assets/colab-badge.svg\" alt=\"Open In Colab\"/></a>"
      ]
    },
    {
      "cell_type": "code",
      "metadata": {
        "colab": {
          "base_uri": "https://localhost:8080/"
        },
        "id": "vg6ABbOldhHy",
        "outputId": "bef1d5f1-5829-48cf-f2b6-402ceb0ea51f"
      },
      "source": [
        "!pip install fuzzywuzzy\n",
        "!pip install python-Levenshtein"
      ],
      "execution_count": null,
      "outputs": [
        {
          "output_type": "stream",
          "text": [
            "Collecting fuzzywuzzy\n",
            "  Downloading https://files.pythonhosted.org/packages/43/ff/74f23998ad2f93b945c0309f825be92e04e0348e062026998b5eefef4c33/fuzzywuzzy-0.18.0-py2.py3-none-any.whl\n",
            "Installing collected packages: fuzzywuzzy\n",
            "Successfully installed fuzzywuzzy-0.18.0\n",
            "Collecting python-Levenshtein\n",
            "\u001b[?25l  Downloading https://files.pythonhosted.org/packages/2a/dc/97f2b63ef0fa1fd78dcb7195aca577804f6b2b51e712516cc0e902a9a201/python-Levenshtein-0.12.2.tar.gz (50kB)\n",
            "\u001b[K     |████████████████████████████████| 51kB 2.0MB/s \n",
            "\u001b[?25hRequirement already satisfied: setuptools in /usr/local/lib/python3.7/dist-packages (from python-Levenshtein) (56.1.0)\n",
            "Building wheels for collected packages: python-Levenshtein\n",
            "  Building wheel for python-Levenshtein (setup.py) ... \u001b[?25l\u001b[?25hdone\n",
            "  Created wheel for python-Levenshtein: filename=python_Levenshtein-0.12.2-cp37-cp37m-linux_x86_64.whl size=149803 sha256=6d61fdc1e60944a057ecefd4d580ce4ea20ac72852340ba7f0715d837c28a619\n",
            "  Stored in directory: /root/.cache/pip/wheels/b3/26/73/4b48503bac73f01cf18e52cd250947049a7f339e940c5df8fc\n",
            "Successfully built python-Levenshtein\n",
            "Installing collected packages: python-Levenshtein\n",
            "Successfully installed python-Levenshtein-0.12.2\n"
          ],
          "name": "stdout"
        }
      ]
    },
    {
      "cell_type": "code",
      "metadata": {
        "id": "X4h21WGCYo-U"
      },
      "source": [
        "import pandas as pd\n",
        "import numpy as np\n",
        "import string\n",
        "from fuzzywuzzy import fuzz\n",
        "from fuzzywuzzy import process\n",
        "from sklearn.metrics.pairwise import cosine_similarity\n",
        "from sklearn.feature_extraction.text import CountVectorizer\n",
        "import nltk\n",
        "from nltk.util import ngrams\n",
        "from collections import Counter"
      ],
      "execution_count": null,
      "outputs": []
    },
    {
      "cell_type": "code",
      "metadata": {
        "id": "w_IkfEMdcoUj"
      },
      "source": [
        "# df = pd.read_csv('/content/drive/MyDrive/UntitledChart_2021-5-17_1458.csv', index_col='item_id')"
      ],
      "execution_count": null,
      "outputs": []
    },
    {
      "cell_type": "code",
      "metadata": {
        "id": "cwGS8ZPgh4RB"
      },
      "source": [
        "# cats = df['category'].unique()"
      ],
      "execution_count": null,
      "outputs": []
    },
    {
      "cell_type": "code",
      "metadata": {
        "id": "RQD7HObRiCUz"
      },
      "source": [
        "# cats_sample = cats[0:2]\n",
        "\n",
        "df_concat = pd.DataFrame()\n",
        "counter = len(cats)\n",
        "\n",
        "for cat in cats:\n",
        "  print('Processing:', cat)\n",
        "  counter = counter - 1\n",
        "  print(counter, 'left')\n",
        "  df_temp = df[df['category'] == cat]\n",
        "\n",
        "  list = []\n",
        "  for name in df_temp['name'].values:\n",
        "    name = name.strip()\n",
        "    name = name.lower()\n",
        "    list.append(name)\n",
        "    \n",
        "  vectorizer = CountVectorizer().fit_transform(list)\n",
        "  vectors = vectorizer.toarray()\n",
        "  \n",
        "  csim = cosine_similarity(vectors)\n",
        "  \n",
        "  csim_mean = []\n",
        "  for c in csim:\n",
        "    csim_mean.append(c.mean())\n",
        "  df_temp['csim'] = csim_mean\n",
        "  \n",
        "  df_concat = df_concat.append(df_temp)"
      ],
      "execution_count": null,
      "outputs": []
    },
    {
      "cell_type": "code",
      "metadata": {
        "id": "6xudHnS-x1gj"
      },
      "source": [
        "# df_concat['item_fuzz_score'] = df_concat[['name', 'category']].apply(lambda x: fuzz.token_set_ratio(x[0], x[1]), axis=1)"
      ],
      "execution_count": null,
      "outputs": []
    },
    {
      "cell_type": "code",
      "metadata": {
        "id": "DI_KnTpWy5am"
      },
      "source": [
        "# df_concat['csim_mean'] = df_concat.groupby('category')['csim'].transform('mean')\n",
        "# df_concat['fuzz_mean'] = df_concat.groupby('category')['item_fuzz_score'].transform('mean')"
      ],
      "execution_count": null,
      "outputs": []
    },
    {
      "cell_type": "code",
      "metadata": {
        "id": "Uu86GFwdzh4E"
      },
      "source": [
        "df_concat.to_csv('scored_meats.csv',  index=True, index_label='item_id')"
      ],
      "execution_count": null,
      "outputs": []
    },
    {
      "cell_type": "code",
      "metadata": {
        "colab": {
          "base_uri": "https://localhost:8080/"
        },
        "id": "FgUIKJyazw-F",
        "outputId": "3163f292-bc88-4274-d1b6-466744e8abf1"
      },
      "source": [
        "!pwd"
      ],
      "execution_count": null,
      "outputs": [
        {
          "output_type": "stream",
          "text": [
            "/content/drive/My Drive\n"
          ],
          "name": "stdout"
        }
      ]
    },
    {
      "cell_type": "code",
      "metadata": {
        "colab": {
          "base_uri": "https://localhost:8080/"
        },
        "id": "XDf207Fl45yC",
        "outputId": "e8ea126a-7e1f-4fc6-bffc-10f58d0865f7"
      },
      "source": [
        "%cd drive/MyDrive/"
      ],
      "execution_count": null,
      "outputs": [
        {
          "output_type": "stream",
          "text": [
            "/content/drive/MyDrive\n"
          ],
          "name": "stdout"
        }
      ]
    },
    {
      "cell_type": "code",
      "metadata": {
        "id": "VkHE6tv04rGO"
      },
      "source": [
        "df = pd.read_csv('scored_meats.csv', index_col='item_id')\n",
        "df_cats = pd.read_csv('cat_metrics.csv')\n",
        "df_keywords = pd.read_csv('keywords.csv')"
      ],
      "execution_count": null,
      "outputs": []
    },
    {
      "cell_type": "code",
      "metadata": {
        "colab": {
          "base_uri": "https://localhost:8080/"
        },
        "id": "h63WWLax6JHH",
        "outputId": "93614769-ae72-43e8-c758-d0a5d638cb39"
      },
      "source": [
        "df.head(), '\\n' ,df_cats.head(), '\\n', df_keywords.head()"
      ],
      "execution_count": null,
      "outputs": [
        {
          "output_type": "execute_result",
          "data": {
            "text/plain": [
              "(                                       name   category  ... csim_mean  fuzz_mean\n",
              " item_id                                                 ...                     \n",
              " 7739819  adobo,con pimienta,red top 12/28oz  Al Pastor  ...  0.078827   0.460678\n",
              " 2015836                       al barino2017  Al Pastor  ...  0.078827   0.460678\n",
              " 5435305            pork shlor slco al pstor  Al Pastor  ...  0.078827   0.460678\n",
              " 2239490                       al barino2017  Al Pastor  ...  0.078827   0.460678\n",
              " 6965346                              paster  Al Pastor  ...  0.078827   0.460678\n",
              " \n",
              " [5 rows x 7 columns],\n",
              " '\\n',\n",
              "           category  csim_mean  fuzz_mean  cat_count\n",
              " 0   Chicken Breast   0.173539   0.664589      15499\n",
              " 1            Bacon   0.176905   0.854201      14381\n",
              " 2      Ground Beef   0.134850   0.554369      10030\n",
              " 3  Italian Sausage   0.159786   0.602094      10022\n",
              " 4    Chicken Thigh   0.168362   0.698305       8899,\n",
              " '\\n',\n",
              "     keywords  counts        category\n",
              " 0  ('brst',)     488  Chicken Breast\n",
              " 1   ('b/s',)     184  Chicken Breast\n",
              " 2    ('oz',)     133  Chicken Breast\n",
              " 3     ('z',)     121  Chicken Breast\n",
              " 4  ('bnls',)      98  Chicken Breast)"
            ]
          },
          "metadata": {
            "tags": []
          },
          "execution_count": 7
        }
      ]
    },
    {
      "cell_type": "code",
      "metadata": {
        "colab": {
          "base_uri": "https://localhost:8080/",
          "height": 297
        },
        "id": "4UVfcrTxaL5h",
        "outputId": "1493e9d7-1d33-4a10-e41a-74d82f43626b"
      },
      "source": [
        "df_cats.describe()"
      ],
      "execution_count": null,
      "outputs": [
        {
          "output_type": "execute_result",
          "data": {
            "text/html": [
              "<div>\n",
              "<style scoped>\n",
              "    .dataframe tbody tr th:only-of-type {\n",
              "        vertical-align: middle;\n",
              "    }\n",
              "\n",
              "    .dataframe tbody tr th {\n",
              "        vertical-align: top;\n",
              "    }\n",
              "\n",
              "    .dataframe thead th {\n",
              "        text-align: right;\n",
              "    }\n",
              "</style>\n",
              "<table border=\"1\" class=\"dataframe\">\n",
              "  <thead>\n",
              "    <tr style=\"text-align: right;\">\n",
              "      <th></th>\n",
              "      <th>csim_mean</th>\n",
              "      <th>fuzz_mean</th>\n",
              "      <th>cat_count</th>\n",
              "    </tr>\n",
              "  </thead>\n",
              "  <tbody>\n",
              "    <tr>\n",
              "      <th>count</th>\n",
              "      <td>364.000000</td>\n",
              "      <td>364.000000</td>\n",
              "      <td>364.000000</td>\n",
              "    </tr>\n",
              "    <tr>\n",
              "      <th>mean</th>\n",
              "      <td>0.340174</td>\n",
              "      <td>0.655928</td>\n",
              "      <td>845.211538</td>\n",
              "    </tr>\n",
              "    <tr>\n",
              "      <th>std</th>\n",
              "      <td>0.276337</td>\n",
              "      <td>0.149533</td>\n",
              "      <td>1926.179592</td>\n",
              "    </tr>\n",
              "    <tr>\n",
              "      <th>min</th>\n",
              "      <td>0.036804</td>\n",
              "      <td>0.166601</td>\n",
              "      <td>1.000000</td>\n",
              "    </tr>\n",
              "    <tr>\n",
              "      <th>25%</th>\n",
              "      <td>0.158812</td>\n",
              "      <td>0.556968</td>\n",
              "      <td>11.000000</td>\n",
              "    </tr>\n",
              "    <tr>\n",
              "      <th>50%</th>\n",
              "      <td>0.214711</td>\n",
              "      <td>0.641294</td>\n",
              "      <td>116.500000</td>\n",
              "    </tr>\n",
              "    <tr>\n",
              "      <th>75%</th>\n",
              "      <td>0.424509</td>\n",
              "      <td>0.736356</td>\n",
              "      <td>712.000000</td>\n",
              "    </tr>\n",
              "    <tr>\n",
              "      <th>max</th>\n",
              "      <td>1.000000</td>\n",
              "      <td>1.000000</td>\n",
              "      <td>15499.000000</td>\n",
              "    </tr>\n",
              "  </tbody>\n",
              "</table>\n",
              "</div>"
            ],
            "text/plain": [
              "        csim_mean   fuzz_mean     cat_count\n",
              "count  364.000000  364.000000    364.000000\n",
              "mean     0.340174    0.655928    845.211538\n",
              "std      0.276337    0.149533   1926.179592\n",
              "min      0.036804    0.166601      1.000000\n",
              "25%      0.158812    0.556968     11.000000\n",
              "50%      0.214711    0.641294    116.500000\n",
              "75%      0.424509    0.736356    712.000000\n",
              "max      1.000000    1.000000  15499.000000"
            ]
          },
          "metadata": {
            "tags": []
          },
          "execution_count": 17
        }
      ]
    },
    {
      "cell_type": "code",
      "metadata": {
        "id": "uF5Ku9rP9O3x"
      },
      "source": [
        "# df_cats = df[['category', 'csim_mean', 'fuzz_mean', 'cat_count']].drop_duplicates().reset_index().drop('item_id', axis=1)\n",
        "# no longer needed after save"
      ],
      "execution_count": null,
      "outputs": []
    },
    {
      "cell_type": "code",
      "metadata": {
        "id": "Kl0ry8nYBHsW"
      },
      "source": [
        "df_cats.to_csv('cat_metrics.csv',  index=False)\n",
        "# last saved after sorting"
      ],
      "execution_count": null,
      "outputs": []
    },
    {
      "cell_type": "code",
      "metadata": {
        "id": "cHrneq_lCJNb"
      },
      "source": [
        "# df_cats.sort_values(['cat_count', 'csim_mean', 'fuzz_mean'], ascending=False, inplace=True)"
      ],
      "execution_count": null,
      "outputs": []
    },
    {
      "cell_type": "code",
      "metadata": {
        "id": "lcS4RW5lI9hY"
      },
      "source": [
        "# df_cats.reset_index(drop=True, inplace=True)"
      ],
      "execution_count": null,
      "outputs": []
    },
    {
      "cell_type": "code",
      "metadata": {
        "id": "oJqzsLIdKPHc"
      },
      "source": [
        "# first try. Mixed results. Top 20 was based solely off of cat size.\n",
        "# IGNORE ME\n",
        "top_20 = df_cats.loc[:20, 'category']\n",
        "\n",
        "df_keywords = pd.DataFrame()\n",
        "\n",
        "for cat in top_20:\n",
        "  mask = (df['category'] == cat) & (df['csim'] < df['csim_mean']) & (df['item_fuzz_score'] < .8 * df['fuzz_mean'])\n",
        "\n",
        "  words = ''\n",
        "  for names in df[mask]['name'].values:\n",
        "    words += names\n",
        "\n",
        "  tokens = words.split()\n",
        "  unigrams = Counter(ngrams(tokens, 1)).most_common(25)\n",
        "  bigrams = Counter(ngrams(tokens, 2)).most_common(25)\n",
        "  trigrams = Counter(ngrams(tokens, 3)).most_common(25)\n",
        "\n",
        "  grams = unigrams + bigrams + trigrams\n",
        "\n",
        "  df_temp = pd.DataFrame(grams, columns=['keywords', 'counts'])\n",
        "  df_temp['category'] = cat\n",
        "  \n",
        "  df_keywords = df_keywords.append(df_temp)"
      ],
      "execution_count": null,
      "outputs": []
    },
    {
      "cell_type": "code",
      "metadata": {
        "id": "94D4bj8AaTKy"
      },
      "source": [
        "# getting categories with relatively large size and low fuzz match\n",
        "count_filt = df_cats['cat_count'] > df_cats['cat_count'].quantile(.75)\n",
        "fuzz_filt = df_cats['fuzz_mean'] < df_cats['fuzz_mean'].quantile(.25)\n",
        "cats2 = df_cats[count_filt & fuzz_filt]['category']\n",
        "cats2.to_csv('test_cats.csv')"
      ],
      "execution_count": null,
      "outputs": []
    },
    {
      "cell_type": "code",
      "metadata": {
        "id": "7CIbNtvLd2pm"
      },
      "source": [
        "df_keywords = pd.DataFrame()\n",
        "\n",
        "for cat in cats2:\n",
        "  mask = (df['category'] == cat) & (df['item_fuzz_score'] < df['fuzz_mean']) & (df['csim'] > df['csim_mean'])\n",
        "\n",
        "  words = ''\n",
        "  for names in df[mask]['name'].values:\n",
        "    words += names\n",
        "\n",
        "  tokens = words.split()\n",
        "  try:\n",
        "    unigrams = list(set(ngrams(tokens, 1)))\n",
        "  except:\n",
        "    unigrams = []\n",
        "  try:\n",
        "    bigrams = list(set(ngrams(tokens, 2)))\n",
        "  except:\n",
        "    bigrams = []\n",
        "  try:\n",
        "    trigrams = list(set(ngrams(tokens, 3)))\n",
        "  except:\n",
        "    trigrams = []\n",
        "\n",
        "  if len(unigrams) > 25: unigrams = unigrams[0:26]\n",
        "  if len(bigrams) > 25: bigrams = bigrams[0:26]\n",
        "  if len(trigrams) > 25: trigrams = trigrams[0:26]\n",
        "  grams = unigrams + bigrams + trigrams\n",
        "\n",
        "  df_temp = pd.DataFrame(grams, columns=['a', 'b', 'c'])\n",
        "  df_temp['category'] = cat\n",
        "  df_temp.fillna('', inplace=True)\n",
        "  df_temp['keywords'] = df_temp[['a', 'b', 'c']].agg(', '.join, axis=1)\n",
        "  df_temp.drop(['a', 'b', 'c'], axis=1, inplace=True)\n",
        "  df_keywords = df_keywords.append(df_temp)\n",
        "\n",
        "df_keywords.reset_index(drop=True, inplace=True)"
      ],
      "execution_count": null,
      "outputs": []
    },
    {
      "cell_type": "code",
      "metadata": {
        "colab": {
          "base_uri": "https://localhost:8080/",
          "height": 419
        },
        "id": "1lnPswVdhYvk",
        "outputId": "51718104-c3e3-434e-b531-3c7fe72ed884"
      },
      "source": [
        "df_keywords"
      ],
      "execution_count": null,
      "outputs": [
        {
          "output_type": "execute_result",
          "data": {
            "text/html": [
              "<div>\n",
              "<style scoped>\n",
              "    .dataframe tbody tr th:only-of-type {\n",
              "        vertical-align: middle;\n",
              "    }\n",
              "\n",
              "    .dataframe tbody tr th {\n",
              "        vertical-align: top;\n",
              "    }\n",
              "\n",
              "    .dataframe thead th {\n",
              "        text-align: right;\n",
              "    }\n",
              "</style>\n",
              "<table border=\"1\" class=\"dataframe\">\n",
              "  <thead>\n",
              "    <tr style=\"text-align: right;\">\n",
              "      <th></th>\n",
              "      <th>category</th>\n",
              "      <th>keywords</th>\n",
              "    </tr>\n",
              "  </thead>\n",
              "  <tbody>\n",
              "    <tr>\n",
              "      <th>0</th>\n",
              "      <td>Ground Beef</td>\n",
              "      <td>refbeef,phily, ,</td>\n",
              "    </tr>\n",
              "    <tr>\n",
              "      <th>1</th>\n",
              "      <td>Ground Beef</td>\n",
              "      <td>81/19frank, ,</td>\n",
              "    </tr>\n",
              "    <tr>\n",
              "      <th>2</th>\n",
              "      <td>Ground Beef</td>\n",
              "      <td>steer, ,</td>\n",
              "    </tr>\n",
              "    <tr>\n",
              "      <th>3</th>\n",
              "      <td>Ground Beef</td>\n",
              "      <td>81/19asian, ,</td>\n",
              "    </tr>\n",
              "    <tr>\n",
              "      <th>4</th>\n",
              "      <td>Ground Beef</td>\n",
              "      <td>0x1, ,</td>\n",
              "    </tr>\n",
              "    <tr>\n",
              "      <th>...</th>\n",
              "      <td>...</td>\n",
              "      <td>...</td>\n",
              "    </tr>\n",
              "    <tr>\n",
              "      <th>2242</th>\n",
              "      <td>Pork Chop Center Cut</td>\n",
              "      <td>loin, baby, back</td>\n",
              "    </tr>\n",
              "    <tr>\n",
              "      <th>2243</th>\n",
              "      <td>Pork Chop Center Cut</td>\n",
              "      <td>bone, in, fznpork</td>\n",
              "    </tr>\n",
              "    <tr>\n",
              "      <th>2244</th>\n",
              "      <td>Pork Chop Center Cut</td>\n",
              "      <td>boneless, c/c, pork</td>\n",
              "    </tr>\n",
              "    <tr>\n",
              "      <th>2245</th>\n",
              "      <td>Pork Chop Center Cut</td>\n",
              "      <td>pork, &amp;, beanspork</td>\n",
              "    </tr>\n",
              "    <tr>\n",
              "      <th>2246</th>\n",
              "      <td>Pork Chop Center Cut</td>\n",
              "      <td>tenderloin, whole, primepork</td>\n",
              "    </tr>\n",
              "  </tbody>\n",
              "</table>\n",
              "<p>2247 rows × 2 columns</p>\n",
              "</div>"
            ],
            "text/plain": [
              "                  category                      keywords\n",
              "0              Ground Beef             refbeef,phily, , \n",
              "1              Ground Beef                81/19frank, , \n",
              "2              Ground Beef                     steer, , \n",
              "3              Ground Beef                81/19asian, , \n",
              "4              Ground Beef                       0x1, , \n",
              "...                    ...                           ...\n",
              "2242  Pork Chop Center Cut              loin, baby, back\n",
              "2243  Pork Chop Center Cut             bone, in, fznpork\n",
              "2244  Pork Chop Center Cut           boneless, c/c, pork\n",
              "2245  Pork Chop Center Cut            pork, &, beanspork\n",
              "2246  Pork Chop Center Cut  tenderloin, whole, primepork\n",
              "\n",
              "[2247 rows x 2 columns]"
            ]
          },
          "metadata": {
            "tags": []
          },
          "execution_count": 72
        }
      ]
    },
    {
      "cell_type": "code",
      "metadata": {
        "id": "aWHyMXPsXkkt"
      },
      "source": [
        "# df_keywords.to_csv('keywords2.csv', index=False)"
      ],
      "execution_count": null,
      "outputs": []
    },
    {
      "cell_type": "markdown",
      "metadata": {
        "id": "VLiOOPr2lWlg"
      },
      "source": [
        "CHICKEN BREAST TEST\n"
      ]
    },
    {
      "cell_type": "code",
      "metadata": {
        "id": "NnWui3DVd-wa"
      },
      "source": [
        "df_chixbrst = df[df['category'] == 'Chicken Breast']"
      ],
      "execution_count": null,
      "outputs": []
    },
    {
      "cell_type": "code",
      "metadata": {
        "id": "_wgQJUcYeIAt"
      },
      "source": [
        "df_chixbrst['fuzz1'] = df_chixbrst.loc[:, ['name', 'category']].apply(lambda x: fuzz.token_set_ratio(x[0], x[1]), axis=1)"
      ],
      "execution_count": null,
      "outputs": []
    },
    {
      "cell_type": "code",
      "metadata": {
        "id": "x75dZTUcgvc9"
      },
      "source": [
        "mask = (df_chixbrst['fuzz1'] > 25) & (df_chixbrst['fuzz1'] < 75)"
      ],
      "execution_count": null,
      "outputs": []
    },
    {
      "cell_type": "code",
      "metadata": {
        "id": "g9ucrWMOiLxB"
      },
      "source": [
        "df_chixbrst[mask]"
      ],
      "execution_count": null,
      "outputs": []
    },
    {
      "cell_type": "code",
      "metadata": {
        "id": "ddgafTuwjgBv"
      },
      "source": [
        "df_chixbrst['cat_mean'] = df_chixbrst['fuzz1'].mean()"
      ],
      "execution_count": null,
      "outputs": []
    },
    {
      "cell_type": "code",
      "metadata": {
        "id": "mX16BX7bjr3R"
      },
      "source": [
        "df_chixbrst.sort_values('fuzz1', ascending=False)"
      ],
      "execution_count": null,
      "outputs": []
    },
    {
      "cell_type": "code",
      "metadata": {
        "id": "wLma5tslxAGs"
      },
      "source": [
        "names = df_chixbrst['name'].values\n",
        "# line = ''\n",
        "# for name in names:\n",
        "#   print(name)\n",
        "#   name = name.strip()\n",
        "#   name = name.lower()\n",
        "#   line += name\n",
        "# tokens = line.split()\n",
        "# tokens\n",
        "\n",
        "# not what I want..."
      ],
      "execution_count": null,
      "outputs": []
    },
    {
      "cell_type": "code",
      "metadata": {
        "id": "Zfyfu2TJ1S2p"
      },
      "source": [
        "list = []\n",
        "for name in df_chixbrst['name'].values:\n",
        "  name = name.strip()\n",
        "  name = name.lower()\n",
        "  list.append(name)\n",
        "list\n",
        "\n",
        "vectorizer = CountVectorizer().fit_transform(list)\n",
        "vectors = vectorizer.toarray()\n",
        "# vectors\n",
        "\n",
        "csim = cosine_similarity(vectors)\n",
        "csim"
      ],
      "execution_count": null,
      "outputs": []
    },
    {
      "cell_type": "code",
      "metadata": {
        "id": "AhHVJiA-2fGP"
      },
      "source": [
        "csim_mean = []\n",
        "for c in csim:\n",
        "  csim_mean.append(c.mean())\n",
        "\n",
        "csim_mean"
      ],
      "execution_count": null,
      "outputs": []
    },
    {
      "cell_type": "code",
      "metadata": {
        "id": "kQHMMznV3vN9"
      },
      "source": [
        "df_chixbrst['csim'] = csim_mean"
      ],
      "execution_count": null,
      "outputs": []
    },
    {
      "cell_type": "code",
      "metadata": {
        "id": "Ya7RNeFb31rH"
      },
      "source": [
        "import seaborn as sns\n",
        "import matplotlib.pyplot as plt\n"
      ],
      "execution_count": null,
      "outputs": []
    },
    {
      "cell_type": "code",
      "metadata": {
        "id": "r7tbiPQh4dpy"
      },
      "source": [
        "fig, ax = plt.subplots(figsize=(12,6))\n",
        "plt.scatter(x=df_chixbrst['fuzz1'], y=df_chixbrst['csim'])"
      ],
      "execution_count": null,
      "outputs": []
    },
    {
      "cell_type": "markdown",
      "metadata": {
        "id": "TAErYpS1lKDN"
      },
      "source": [
        "END CHICKEN BREAST TEST\n",
        "\n",
        "RESUME REGULAR PROGRAMMING\n"
      ]
    },
    {
      "cell_type": "code",
      "metadata": {
        "id": "FXuh_Ssbvo06"
      },
      "source": [
        "df1 = df.groupby('category').filter(lambda x: len(x) > 20)"
      ],
      "execution_count": null,
      "outputs": []
    }
  ]
}