{
  "nbformat": 4,
  "nbformat_minor": 0,
  "metadata": {
    "colab": {
      "name": "serious_eats_recipe_scrape.ipynb",
      "provenance": [],
      "collapsed_sections": [],
      "mount_file_id": "1ybiLPUQKWMfVz6XdMM6muvMDE0q1msUY",
      "authorship_tag": "ABX9TyPLL4nnzPzzYbyi14N1500O",
      "include_colab_link": true
    },
    "kernelspec": {
      "name": "python3",
      "display_name": "Python 3"
    },
    "language_info": {
      "name": "python"
    }
  },
  "cells": [
    {
      "cell_type": "markdown",
      "metadata": {
        "id": "view-in-github",
        "colab_type": "text"
      },
      "source": [
        "<a href=\"https://colab.research.google.com/github/chodizzle/portfolio1/blob/main/projects/serious_eats_recipe_scrape.ipynb\" target=\"_parent\"><img src=\"https://colab.research.google.com/assets/colab-badge.svg\" alt=\"Open In Colab\"/></a>"
      ]
    },
    {
      "cell_type": "code",
      "metadata": {
        "id": "s3W00OhUS7p4"
      },
      "source": [
        "import requests\n",
        "import re\n",
        "from bs4 import BeautifulSoup\n",
        "import pandas as pd\n",
        "import sqlite3"
      ],
      "execution_count": null,
      "outputs": []
    },
    {
      "cell_type": "code",
      "metadata": {
        "colab": {
          "base_uri": "https://localhost:8080/"
        },
        "id": "AR3qQUQGk1Dn",
        "outputId": "2559fdc0-3f95-4bc4-db96-f31401e3731c"
      },
      "source": [
        "%cd drive/MyDrive/Colab\\ Notebooks/serious_recipes"
      ],
      "execution_count": null,
      "outputs": [
        {
          "output_type": "stream",
          "text": [
            "/content/drive/MyDrive/Colab Notebooks/serious_recipes\n"
          ],
          "name": "stdout"
        }
      ]
    },
    {
      "cell_type": "code",
      "metadata": {
        "colab": {
          "base_uri": "https://localhost:8080/"
        },
        "id": "8tfGOLIG-QM3",
        "outputId": "ff22fbbe-ce56-4ca0-fbe0-fd3519211464"
      },
      "source": [
        "!pwd\n",
        "%ls"
      ],
      "execution_count": null,
      "outputs": [
        {
          "output_type": "stream",
          "text": [
            "/content/drive/MyDrive/Colab Notebooks/serious_recipes\n",
            "recipes.db\n"
          ],
          "name": "stdout"
        }
      ]
    },
    {
      "cell_type": "code",
      "metadata": {
        "id": "Qp9ZLwRcfzSM"
      },
      "source": [
        "conn = sqlite3.connect('recipes.db')\n",
        "cur = conn.cursor()"
      ],
      "execution_count": null,
      "outputs": []
    },
    {
      "cell_type": "markdown",
      "metadata": {
        "id": "uDX9bnvlf8pw"
      },
      "source": [
        "Create tables then comment out for recipes"
      ]
    },
    {
      "cell_type": "code",
      "metadata": {
        "colab": {
          "base_uri": "https://localhost:8080/"
        },
        "id": "Q5dG_vIiitIR",
        "outputId": "6763efa4-ea6b-451e-9446-763382c627a7"
      },
      "source": [
        "# cur.executescript('''\n",
        "# drop table if exists Recipes;\n",
        "# drop table if exists Rec_Procedures;\n",
        "# drop table if exists Rec_Ingredients;\n",
        "# drop table if exists Ingredients;\n",
        "# drop table if exists Ingredient_Category;\n",
        "# drop table if exists Link;\n",
        "# ''')"
      ],
      "execution_count": null,
      "outputs": [
        {
          "output_type": "execute_result",
          "data": {
            "text/plain": [
              "<sqlite3.Cursor at 0x7f8f66c38880>"
            ]
          },
          "metadata": {
            "tags": []
          },
          "execution_count": 15
        }
      ]
    },
    {
      "cell_type": "code",
      "metadata": {
        "colab": {
          "base_uri": "https://localhost:8080/"
        },
        "id": "ZbUjl9fEgF3R",
        "outputId": "d760f7ef-61ed-452e-e5e7-810a967e095a"
      },
      "source": [
        "cur.executescript('''\n",
        "CREATE TABLE Recipes(\n",
        "  id INTEGER NOT NULL PRIMARY KEY AUTOINCREMENT UNIQUE,\n",
        "  name TEXT,\n",
        "  source TEXT,\n",
        "  prep_time TEXT,\n",
        "  total_time TEXT,\n",
        "  rating_5 REAL,\n",
        "  yield TEXT\n",
        ");\n",
        "\n",
        "CREATE TABLE Rec_Procedures (\n",
        "  recipe_id INTEGER NOT NULL,\n",
        "  procedure_num INTEGER NOT NULL,\n",
        "  procedure_text TEXT,\n",
        "  PRIMARY KEY (recipe_id, procedure_num),\n",
        "  FOREIGN KEY (recipe_id) REFERENCES Recipes (id)\n",
        "  ON DELETE NO ACTION ON UPDATE NO ACTION\n",
        ");\n",
        "\n",
        "CREATE TABLE Rec_Ingredients (\n",
        "  id INTEGER NOT NULL PRIMARY KEY AUTOINCREMENT UNIQUE,\n",
        "  recipe_id INTEGER NOT NULL,\n",
        "  ingredient_id INTEGER NOT NULL,\n",
        "  quantity REAL,\n",
        "  UOM TEXT,\n",
        "  prep TEXT,\n",
        "  quantity_2 REAL,\n",
        "  UOM_2 TEXT\n",
        ");\n",
        "\n",
        "CREATE TABLE Ingredients (\n",
        "  id INTEGER NOT NULL PRIMARY KEY AUTOINCREMENT UNIQUE,\n",
        "  name TEXT,\n",
        "  cat_id INTEGER\n",
        ");\n",
        "\n",
        "CREATE TABLE Ingredient_Category (\n",
        "  id INTEGER NOT NULL PRIMARY KEY AUTOINCREMENT UNIQUE,\n",
        "  name TEXT\n",
        ");\n",
        "\n",
        "CREATE TABLE Links (\n",
        "  id INTEGER NOT NULL PRIMARY KEY AUTOINCREMENT UNIQUE,\n",
        "  link_name TEXT UNIQUE,\n",
        "  visited BOOLEAN  \n",
        ");\n",
        "\n",
        "''')"
      ],
      "execution_count": null,
      "outputs": [
        {
          "output_type": "execute_result",
          "data": {
            "text/plain": [
              "<sqlite3.Cursor at 0x7f8f66c38880>"
            ]
          },
          "metadata": {
            "tags": []
          },
          "execution_count": 16
        }
      ]
    },
    {
      "cell_type": "code",
      "metadata": {
        "id": "4YXw_GlvnfNl"
      },
      "source": [
        "# cur.execute(\"Select * from sqlite_master where type='table';\")\n",
        "# tables = cur.fetchall()\n",
        "# for x in tables:\n",
        "#   x = x[1]\n",
        "#   table = pd.read_sql_query(\"select * from %s\" % x, conn)\n",
        "#   print(table)"
      ],
      "execution_count": null,
      "outputs": []
    },
    {
      "cell_type": "code",
      "metadata": {
        "colab": {
          "base_uri": "https://localhost:8080/"
        },
        "id": "NRNQ2PRhpgoZ",
        "outputId": "73cb2d32-f80a-47d2-b3c7-056158cd4d6d"
      },
      "source": [
        "cur.execute(\"select name from sqlite_master where type='table'\")\n",
        "print(cur.fetchall())"
      ],
      "execution_count": null,
      "outputs": [
        {
          "output_type": "stream",
          "text": [
            "[('Recipes',), ('sqlite_sequence',), ('Rec_Procedures',), ('Rec_Ingredients',), ('Ingredients',), ('Ingredient_Category',), ('Links',)]\n"
          ],
          "name": "stdout"
        }
      ]
    },
    {
      "cell_type": "code",
      "metadata": {
        "id": "siwOTQhkhQom"
      },
      "source": [
        "cur.execute('''select * from Recipes''')\n",
        "for row in cur:\n",
        "  print(row)"
      ],
      "execution_count": null,
      "outputs": []
    },
    {
      "cell_type": "markdown",
      "metadata": {
        "id": "uNm_v9B-fiI7"
      },
      "source": [
        "the code below is for getting links to recipes on the Serious Eats Website"
      ]
    },
    {
      "cell_type": "code",
      "metadata": {
        "colab": {
          "base_uri": "https://localhost:8080/"
        },
        "id": "FFx78iaATS4K",
        "outputId": "2e20b2ef-7fa0-4a5f-fa9a-8aec42d6c8b4"
      },
      "source": [
        "links = []\n",
        "for i in range(1, 12):\n",
        "  rec = requests.get('https://www.seriouseats.com/recipes/topics/meal/quick-dinners?page={}#recipes'.format(i)).text\n",
        "  supersoup = BeautifulSoup(rec, 'html.parser')\n",
        "  recipes = supersoup.find_all('h4', {'class':'c-card__title'})\n",
        "  \n",
        "  templinks = []\n",
        "  for recipe in recipes:\n",
        "    link = recipe.a['href']\n",
        "    if link in links: continue\n",
        "    else: links.append(link)  \n",
        "\n",
        "print(len(links))"
      ],
      "execution_count": null,
      "outputs": [
        {
          "output_type": "stream",
          "text": [
            "0\n"
          ],
          "name": "stdout"
        }
      ]
    },
    {
      "cell_type": "code",
      "metadata": {
        "id": "SbzMKzG7TxiT"
      },
      "source": [
        "for link in links:\n",
        "  recdet = requests.get(link).text\n",
        "  deets = BeautifulSoup(recdet, 'html.parser')\n",
        "\n",
        "  try:\n",
        "  name = deets.find('h1', {'class':'title recipe-title c-post__h1'}).text.strip()\n",
        "  except:\n",
        "    name = None\n",
        "\n",
        "  try:\n",
        "    abouts = deets.find('ul', {'class':'recipe-about'})\n",
        "    about_labels = abouts.find_all('span', {'class':'label'})\n",
        "    about_values = abouts.find_all('span', {'class':'info'})\n",
        "\n",
        "    del about_values[-1]\n",
        "\n",
        "    about = {}\n",
        "\n",
        "    if len(about_labels) == len(about_values):\n",
        "      for i in range(len(about_labels)):\n",
        "        label = about_labels[i].text.strip()\n",
        "        value = about_values[i].text.strip()\n",
        "        about[label] = value\n",
        "    else:\n",
        "      about = None\n",
        "    \n",
        "  except:\n",
        "    about = None\n",
        "\n",
        "  try:\n",
        "    ingredients = deets.find('div', {'class':'recipe-ingredients'}).text\n",
        "  except:\n",
        "    ingredients = None\n",
        "\n",
        "  try:\n",
        "    procedure_no = deets.find_all('div', {'class':'recipe-procedure-number'})\n",
        "    procedure_text = deets.find_all('div', {'class':'recipe-procedure-text'})\n",
        "    procedure = {}\n",
        "    if len(procedure_no) == len(procedure_text):\n",
        "      for i in range(len(procedure_no)):\n",
        "        proc_no = procedure_no[i].text\n",
        "        proc_text = procedure_text[i].text.strip()\n",
        "        procedure[proc_no] = proc_text\n",
        "    else:\n",
        "      procedure = None\n",
        "  except:\n",
        "    procedure = None\n",
        "\n",
        "  recipe = [name, about, ingredients, procedure]\n",
        "\n"
      ],
      "execution_count": null,
      "outputs": []
    },
    {
      "cell_type": "code",
      "metadata": {
        "colab": {
          "base_uri": "https://localhost:8080/"
        },
        "id": "j_UdQJPzYdzf",
        "outputId": "837ed90a-a213-4bfd-ceda-fae3c59de808"
      },
      "source": [
        "recdet = requests.get('https://www.seriouseats.com/recipes/2017/07/peruvian-style-grilled-chicken-sandwiches-recipe.html').text\n",
        "deets = BeautifulSoup(recdet, 'html.parser')\n",
        "\n",
        "try:\n",
        "  name = deets.find('h1', {'class':'title recipe-title c-post__h1'}).text.strip()\n",
        "except:\n",
        "  name = None\n",
        "\n",
        "try:\n",
        "  abouts = deets.find('ul', {'class':'recipe-about'})\n",
        "  about_labels = abouts.find_all('span', {'class':'label'})\n",
        "  about_values = abouts.find_all('span', {'class':'info'})\n",
        "\n",
        "  del about_values[-1]\n",
        "\n",
        "  about = {}\n",
        "\n",
        "  if len(about_labels) == len(about_values):\n",
        "    for i in range(len(about_labels)):\n",
        "      label = about_labels[i].text.strip()\n",
        "      value = about_values[i].text.strip()\n",
        "      about[label] = value\n",
        "  else:\n",
        "    about = None\n",
        "  \n",
        "except:\n",
        "  about = None\n",
        "\n",
        "try:\n",
        "  ingredients = deets.find('div', {'class':'recipe-ingredients'}).text\n",
        "except:\n",
        "  ingredients = None\n",
        "\n",
        "try:\n",
        "  procedure_no = deets.find_all('div', {'class':'recipe-procedure-number'})\n",
        "  procedure_text = deets.find_all('div', {'class':'recipe-procedure-text'})\n",
        "  procedure = {}\n",
        "  if len(procedure_no) == len(procedure_text):\n",
        "    for i in range(len(procedure_no)):\n",
        "      proc_no = procedure_no[i].text\n",
        "      proc_text = procedure_text[i].text.strip()\n",
        "      procedure[proc_no] = proc_text\n",
        "  else:\n",
        "    procedure = None\n",
        "except:\n",
        "  procedure = None\n",
        "\n",
        "recipe = [name, about, ingredients, procedure]\n",
        "\n",
        "for x in recipe:\n",
        "  if type(x) == dict:\n",
        "    for k,v in x.items():\n",
        "      print(k,v)\n",
        "  else:\n",
        "    print(x.strip())\n"
      ],
      "execution_count": null,
      "outputs": [
        {
          "output_type": "stream",
          "text": [
            "Peruvian-Style Grilled-Chicken Sandwiches With Spicy Green Sauce Recipe\n",
            "Yield: Serves 4\n",
            "Active time: 1 hour\n",
            "Total time: 1 hour\n",
            "Rated: 4.5\n",
            "Ingredients\n",
            "\n",
            "For the Chicken:\n",
            "3 medium cloves garlic, roughly chopped\n",
            "4 teaspoons (15g) kosher salt\n",
            "2 tablespoons ground cumin\n",
            "2 tablespoons paprika\n",
            "1 teaspoon freshly ground black pepper\n",
            "2 tablespoons (30ml) white vinegar \n",
            "2 tablespoons (30ml) vegetable or canola oil\n",
            "4 boneless, skinless chicken breasts (5 to 7 ounces/140 to 200g each), cut into 8 cutlets\n",
            "For the Sauce:\n",
            "3 whole jalapeño chilies, roughly chopped (see note)\n",
            "1 tablespoon (15ml) ají amarillo pepper paste (optional; see note)\n",
            "1 cup (1 ounce) fresh cilantro leaves\n",
            "2 medium cloves garlic\n",
            "1/2 cup (120ml) mayonnaise \n",
            "1/4 cup (60ml) sour cream\n",
            "2 teaspoons (10ml) fresh juice from 1 lime\n",
            "1 teaspoon (5ml) distilled white vinegar \n",
            "1/4 cup (60ml) extra-virgin olive oil\n",
            "Kosher salt and freshly ground black pepper\n",
            "To Serve:\n",
            "Four sturdy buns, such as telera or ciabatta\n",
            "2 ripe avocados, halved, pitted, and flesh scooped\n",
            "Thinly sliced red onion\n",
            "Crisp lettuce leaves, such as romaine\n",
            "1. For the Chicken: In a large mortar and pestle, pound garlic and salt until a smooth, sticky paste forms. Add cumin, paprika, black pepper, and vinegar and grind them together to form a paste. Drizzle in vegetable oil while grinding (see note). Transfer chicken and marinade to a large bowl and massage with your hands until all the chicken is coated in the marinade. Set aside at room temperature while you make the sauce, or cover and place in the fridge up to overnight.\n",
            "2. For the Sauce: Combine jalapeños, ají amarillo (if using), cilantro, garlic, mayonnaise, sour cream, lime juice, and vinegar in the jar of a blender. Blend on high speed, scraping down as necessary, until smooth. With blender running, slowly drizzle in olive oil. Season to taste with salt and pepper. Sauce will be quite loose at this point, but will thicken as it sits. Transfer to a sealed container and refrigerate until ready to use.\n",
            "3. To Cook: Light 1 chimney full of charcoal. When all the charcoal is lit and covered with gray ash, pour out and arrange the coals on one side of the charcoal grate. Set cooking grate in place, cover grill, and allow to preheat for 5 minutes. Alternatively, set half the burners on a gas grill to the highest heat setting, cover, and preheat for 10 minutes. Clean and oil the grilling grate.\n",
            "4. Place chicken directly over the hot side of the grill, cover, and cook, rotating the pieces occasionally (but not flipping them), until the chicken is almost completely cooked through and only a few pink spots remain on the top side, about 4 minutes. Flip chicken and cook on second side until just done, about 30 seconds. Transfer to a large plate.\n",
            "5. To Assemble: Place buns cut side down over the hot side of the grill and cook, moving and rotating them occasionally, until well toasted and starting to char, about 1 minute. Transfer to a large cutting board. Use a fork to mash half an avocado on each bottom bun. Sprinkle with a little salt. Top with red onions, lettuce, and 2 pieces of chicken each. Spread top buns with sauce and close sandwiches. Serve immediately, with any extra green sauce on the side.\n"
          ],
          "name": "stdout"
        }
      ]
    },
    {
      "cell_type": "code",
      "metadata": {
        "id": "HprOcBRFc8Ys"
      },
      "source": [
        "cur.execute('''insert into Recipes (name, about, ingredients, procedure) values (?, ?, ?, ?)''', (name, 'blah', ingredients, procedure.values()))"
      ],
      "execution_count": null,
      "outputs": []
    },
    {
      "cell_type": "code",
      "metadata": {
        "colab": {
          "base_uri": "https://localhost:8080/"
        },
        "id": "7tbNFMAKdUtg",
        "outputId": "b3ae8a61-1ce0-4b5d-87dc-cafc04d72f4b"
      },
      "source": [
        "cur.execute('''select * from Recipes''')\n",
        "print(cur.fetchall())"
      ],
      "execution_count": null,
      "outputs": [
        {
          "output_type": "stream",
          "text": [
            "[(1, 'blah', 'blah', 'blah', 'blah'), (2, 'Peruvian-Style Grilled-Chicken Sandwiches With Spicy Green Sauce Recipe', 'blah', '\\nIngredients\\n\\nFor the Chicken:\\n3 medium cloves garlic, roughly chopped\\n4 teaspoons (15g) kosher salt\\n2 tablespoons ground cumin\\n2 tablespoons paprika\\n1 teaspoon freshly ground black pepper\\n2 tablespoons (30ml) white vinegar \\n2 tablespoons (30ml) vegetable or canola oil\\n4 boneless, skinless chicken breasts (5 to 7 ounces/140 to 200g each), cut into 8 cutlets\\nFor the Sauce:\\n3 whole jalapeño chilies, roughly chopped (see note)\\n1 tablespoon (15ml) ají amarillo pepper paste (optional; see note)\\n1 cup (1 ounce) fresh cilantro leaves\\n2 medium cloves garlic\\n1/2 cup (120ml) mayonnaise \\n1/4 cup (60ml) sour cream\\n2 teaspoons (10ml) fresh juice from 1 lime\\n1 teaspoon (5ml) distilled white vinegar \\n1/4 cup (60ml) extra-virgin olive oil\\nKosher salt and freshly ground black pepper\\nTo Serve:\\nFour sturdy buns, such as telera or ciabatta\\n2 ripe avocados, halved, pitted, and flesh scooped\\nThinly sliced red onion\\nCrisp lettuce leaves, such as romaine\\n\\n\\n', 'blah')]\n"
          ],
          "name": "stdout"
        }
      ]
    },
    {
      "cell_type": "code",
      "metadata": {
        "id": "AelEucmUjqkC"
      },
      "source": [
        ""
      ],
      "execution_count": null,
      "outputs": []
    }
  ]
}