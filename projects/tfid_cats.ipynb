{
  "nbformat": 4,
  "nbformat_minor": 0,
  "metadata": {
    "colab": {
      "name": "tfid_cats.ipynb",
      "provenance": [],
      "mount_file_id": "1WdIkXCo0LpkaUAZp5WmKEGT6cF4rSUsy",
      "authorship_tag": "ABX9TyO2Aq0e4sROGS3+yQ1UY0cA",
      "include_colab_link": true
    },
    "kernelspec": {
      "name": "python3",
      "display_name": "Python 3"
    },
    "language_info": {
      "name": "python"
    }
  },
  "cells": [
    {
      "cell_type": "markdown",
      "metadata": {
        "id": "view-in-github",
        "colab_type": "text"
      },
      "source": [
        "<a href=\"https://colab.research.google.com/github/chodizzle/portfolio1/blob/main/projects/tfid_cats.ipynb\" target=\"_parent\"><img src=\"https://colab.research.google.com/assets/colab-badge.svg\" alt=\"Open In Colab\"/></a>"
      ]
    },
    {
      "cell_type": "code",
      "metadata": {
        "id": "iJ-liGcKJq7_",
        "colab": {
          "base_uri": "https://localhost:8080/"
        },
        "outputId": "6615c629-2727-4534-cd3d-10de739c2106"
      },
      "source": [
        "!pip install scikit-learn\n",
        "!pip install unidecode"
      ],
      "execution_count": null,
      "outputs": [
        {
          "output_type": "stream",
          "text": [
            "Requirement already satisfied: scikit-learn in /usr/local/lib/python3.7/dist-packages (0.22.2.post1)\n",
            "Requirement already satisfied: joblib>=0.11 in /usr/local/lib/python3.7/dist-packages (from scikit-learn) (1.0.1)\n",
            "Requirement already satisfied: scipy>=0.17.0 in /usr/local/lib/python3.7/dist-packages (from scikit-learn) (1.4.1)\n",
            "Requirement already satisfied: numpy>=1.11.0 in /usr/local/lib/python3.7/dist-packages (from scikit-learn) (1.19.5)\n",
            "Collecting unidecode\n",
            "\u001b[?25l  Downloading https://files.pythonhosted.org/packages/9e/25/723487ca2a52ebcee88a34d7d1f5a4b80b793f179ee0f62d5371938dfa01/Unidecode-1.2.0-py2.py3-none-any.whl (241kB)\n",
            "\u001b[K     |████████████████████████████████| 245kB 24.9MB/s \n",
            "\u001b[?25hInstalling collected packages: unidecode\n",
            "Successfully installed unidecode-1.2.0\n"
          ],
          "name": "stdout"
        }
      ]
    },
    {
      "cell_type": "code",
      "metadata": {
        "id": "GZ-xS3WtGlWp"
      },
      "source": [
        "import pandas as pd\n",
        "import numpy as np\n",
        "from sklearn.feature_extraction.text import TfidfVectorizer\n",
        "from sklearn.feature_extraction.text import TfidfTransformer\n",
        "from sklearn.feature_extraction.text import CountVectorizer\n",
        "import json\n",
        "import unidecode\n",
        "import time\n",
        "import re"
      ],
      "execution_count": null,
      "outputs": []
    },
    {
      "cell_type": "code",
      "metadata": {
        "colab": {
          "base_uri": "https://localhost:8080/"
        },
        "id": "XAoEzy9XKJc3",
        "outputId": "90c668c8-6e85-4280-932d-1c00cb197264"
      },
      "source": [
        "%cd drive/MyDrive/"
      ],
      "execution_count": null,
      "outputs": [
        {
          "output_type": "stream",
          "text": [
            "/content/drive/MyDrive\n"
          ],
          "name": "stdout"
        }
      ]
    },
    {
      "cell_type": "code",
      "metadata": {
        "id": "nDzoiMk8KrDA"
      },
      "source": [
        "# df = pd.read_csv('meats_v2.csv', index_col='item_id')"
      ],
      "execution_count": null,
      "outputs": []
    },
    {
      "cell_type": "code",
      "metadata": {
        "id": "fEm1MaJFLFPJ"
      },
      "source": [
        "# df['sw'] = df['sw'].apply(lambda x: x[1:-1].strip().replace('\\'', '').split(', '))"
      ],
      "execution_count": null,
      "outputs": []
    },
    {
      "cell_type": "code",
      "metadata": {
        "id": "P5tgrH_AMcnR"
      },
      "source": [
        "# df.to_pickle('meats_v2.pickle')"
      ],
      "execution_count": null,
      "outputs": []
    },
    {
      "cell_type": "code",
      "metadata": {
        "id": "YiTNl0mFOItx"
      },
      "source": [
        "df = pd.read_pickle('meats_v2.pickle')\n",
        "# pickles are good mmkay"
      ],
      "execution_count": null,
      "outputs": []
    },
    {
      "cell_type": "code",
      "metadata": {
        "id": "I7hUojNC0JOs"
      },
      "source": [
        "df.head()"
      ],
      "execution_count": null,
      "outputs": []
    },
    {
      "cell_type": "code",
      "metadata": {
        "id": "OvaDaMKlKyXM"
      },
      "source": [
        "# df['sw'] = df['sw'].apply(lambda x: ((x.strip('{}').replace('\\'', ''))).split(', '))"
      ],
      "execution_count": null,
      "outputs": []
    },
    {
      "cell_type": "code",
      "metadata": {
        "id": "h4KbCF5q9k2t"
      },
      "source": [
        "# df['sw'] = df['sw'].apply(lambda x: x[2:])"
      ],
      "execution_count": null,
      "outputs": []
    },
    {
      "cell_type": "code",
      "metadata": {
        "id": "whyFplXU_nlK"
      },
      "source": [
        "# df['sw'] = df['sw'].apply(lambda x: [v.lower() for v in x])"
      ],
      "execution_count": null,
      "outputs": []
    },
    {
      "cell_type": "code",
      "metadata": {
        "id": "ye1KlgGBKgif"
      },
      "source": [
        "# df.to_csv('meats_v2.csv', index=True)"
      ],
      "execution_count": null,
      "outputs": []
    },
    {
      "cell_type": "markdown",
      "metadata": {
        "id": "z4KBQSEIflo1"
      },
      "source": [
        "<h1> TESTING w/ Ground Beef </h1>"
      ]
    },
    {
      "cell_type": "code",
      "metadata": {
        "colab": {
          "base_uri": "https://localhost:8080/"
        },
        "id": "c_knSNJQpdig",
        "outputId": "e1bbb3ab-18ad-4484-eed5-2c404a6702cf"
      },
      "source": [
        "df['category'].value_counts()['Ground Beef']"
      ],
      "execution_count": null,
      "outputs": [
        {
          "output_type": "execute_result",
          "data": {
            "text/plain": [
              "10063"
            ]
          },
          "metadata": {
            "tags": []
          },
          "execution_count": 5
        }
      ]
    },
    {
      "cell_type": "markdown",
      "metadata": {
        "id": "Ruyo7S1Df99E"
      },
      "source": [
        "<h2> IDF & TF Concat </h2>\n",
        "add custom stop words using category names\n",
        "\n",
        "combine idf and tf dfs -> analyze for threshold\n",
        "\n",
        "rinse and repeat on a couple more categories"
      ]
    },
    {
      "cell_type": "code",
      "metadata": {
        "id": "nbJPwzpab9Ln"
      },
      "source": [
        "test_cats = pd.read_csv('test_cats.csv', index_col=0)\n",
        "test_cats = test_cats['category'].values\n",
        "test_cats"
      ],
      "execution_count": null,
      "outputs": []
    },
    {
      "cell_type": "code",
      "metadata": {
        "id": "UB9RTgzwLRFr"
      },
      "source": [
        "# for x in test_cats:\n",
        "#   if 'bone' in x.lower(): print(x)\n",
        "\n",
        "# test_cats[0:5]\n",
        "# df_test = df[df['category'] == 'Ground Beef']"
      ],
      "execution_count": null,
      "outputs": []
    },
    {
      "cell_type": "code",
      "metadata": {
        "id": "sXFWi_9-DMrz",
        "colab": {
          "base_uri": "https://localhost:8080/"
        },
        "outputId": "ee3a0cef-b49b-4fd2-9503-b8789357a937"
      },
      "source": [
        "df_test = pd.DataFrame()\n",
        "\n",
        "for cat in test_cats:\n",
        "  df_temp = df[df['category'] == cat]\n",
        "\n",
        "  # get stopwords\n",
        "  sw = df_temp.iloc[0, 2]\n",
        "  # print(sw)\n",
        "\n",
        "  # list of all names\n",
        "  docs = df_temp['name'].values\n",
        "\n",
        "  #word counts of all names in cat => vectors\n",
        "  cv = CountVectorizer(token_pattern=r\"(?u)\\b[a-zA-Z_]+\\w+\\b|\\b\\w+[a-zA-Z_]+\\b\", ngram_range=(1,2), stop_words=sw)  \n",
        "  # sklearn's default preprocessing converts 't-bone' into 't' and 'bone', which throws up an inconsistency error. I'm OK with it as I want t-bone to be my stop word.\n",
        "  # print(cv.stop_words) \n",
        "  word_count_vectorizer = cv.fit_transform(docs)\n",
        "  ind = cv.get_feature_names() #indeces for IDF and TF dfs below\n",
        "  \n",
        "  #getting IDF only\n",
        "  tfidf_transformer = TfidfTransformer(smooth_idf=True, use_idf=True)\n",
        "  tfidf_transformer.fit(word_count_vectorizer)\n",
        "  df_idf = pd.DataFrame(tfidf_transformer.idf_, index=ind, columns=['idf_weights'])\n",
        "\n",
        "  # getting TF only\n",
        "  counts = word_count_vectorizer.toarray().sum(axis=0)\n",
        "  df_tf = pd.DataFrame(counts, index=ind, columns=['counts'])\n",
        "\n",
        "  df_com = pd.concat([df_idf, df_tf], axis=1).reset_index()\n",
        "  df_com['category'] = cat\n",
        "  df_com['%_cat'] = df_com['counts'] / df_temp.shape[0]\n",
        "  df_com.rename({'index':'keyword'}, axis=1, inplace=True)\n",
        "\n",
        "  df_test = df_test.append(df_com)"
      ],
      "execution_count": null,
      "outputs": [
        {
          "output_type": "stream",
          "text": [
            "/usr/local/lib/python3.7/dist-packages/sklearn/feature_extraction/text.py:385: UserWarning: Your stop_words may be inconsistent with your preprocessing. Tokenizing the stop words generated tokens ['bone'] not in stop_words.\n",
            "  'stop_words.' % sorted(inconsistent))\n"
          ],
          "name": "stderr"
        }
      ]
    },
    {
      "cell_type": "code",
      "metadata": {
        "colab": {
          "base_uri": "https://localhost:8080/"
        },
        "id": "h7j-FjaBOuy_",
        "outputId": "5d40463c-33ce-4311-a93f-f621e6df42cf"
      },
      "source": [
        "df_test.groupby('category').describe()['%_of_cat'].min()"
      ],
      "execution_count": null,
      "outputs": [
        {
          "output_type": "execute_result",
          "data": {
            "text/plain": [
              "count    586.000000\n",
              "mean       0.000760\n",
              "std        0.002267\n",
              "min        0.000099\n",
              "25%        0.000099\n",
              "50%        0.000155\n",
              "75%        0.000397\n",
              "max        0.050436\n",
              "dtype: float64"
            ]
          },
          "metadata": {
            "tags": []
          },
          "execution_count": 166
        }
      ]
    },
    {
      "cell_type": "code",
      "metadata": {
        "id": "RXEmNMeEapPd"
      },
      "source": [
        "df_test.groupby('category').describe()['%_cat']"
      ],
      "execution_count": null,
      "outputs": []
    },
    {
      "cell_type": "code",
      "metadata": {
        "colab": {
          "base_uri": "https://localhost:8080/"
        },
        "id": "hxogzHkTP8Qo",
        "outputId": "433d351e-6628-4ed7-d62d-340fd4731a4c"
      },
      "source": [
        "df_test.groupby(['category'])['%_cat'].nlargest(2)"
      ],
      "execution_count": null,
      "outputs": [
        {
          "output_type": "execute_result",
          "data": {
            "text/plain": [
              "category                \n",
              "Baby Back Ribs      1830    0.420064\n",
              "                    1302    0.123391\n",
              "Beef Strip Steak    8090    0.121878\n",
              "                    8274    0.118558\n",
              "Bone Marrow         347     0.138000\n",
              "                              ...   \n",
              "Tri Tip             1234    0.064541\n",
              "Wagyu Beef Rib Eye  1162    0.120000\n",
              "                    163     0.109091\n",
              "Wild Boar           7863    0.157949\n",
              "                    2842    0.096582\n",
              "Name: %_cat, Length: 70, dtype: float64"
            ]
          },
          "metadata": {
            "tags": []
          },
          "execution_count": 247
        }
      ]
    },
    {
      "cell_type": "code",
      "metadata": {
        "id": "wPYY4W5WI054"
      },
      "source": [
        "df_test['%_cat_med'] = df_test['category'].map(df_test.groupby('category')['%_cat'].median())\n",
        "df_test['cat_idf_med'] = df_test['category'].map(df_test.groupby('category')['idf_weights'].median())"
      ],
      "execution_count": null,
      "outputs": []
    },
    {
      "cell_type": "code",
      "metadata": {
        "id": "0fKsvA1rN8Vk"
      },
      "source": [
        "df_test.groupby('category').describe()"
      ],
      "execution_count": null,
      "outputs": []
    },
    {
      "cell_type": "code",
      "metadata": {
        "colab": {
          "base_uri": "https://localhost:8080/"
        },
        "id": "JkmV7M5qKLCv",
        "outputId": "49ac1064-942d-4dbd-fb8f-62438ebd20dc"
      },
      "source": [
        "df_test.groupby('category').describe()['counts'].min()"
      ],
      "execution_count": null,
      "outputs": [
        {
          "output_type": "execute_result",
          "data": {
            "text/plain": [
              "count    1451.000000\n",
              "mean        1.795281\n",
              "std         3.339908\n",
              "min         1.000000\n",
              "25%         1.000000\n",
              "50%         1.000000\n",
              "75%         2.000000\n",
              "max        49.000000\n",
              "dtype: float64"
            ]
          },
          "metadata": {
            "tags": []
          },
          "execution_count": 259
        }
      ]
    },
    {
      "cell_type": "code",
      "metadata": {
        "colab": {
          "base_uri": "https://localhost:8080/",
          "height": 419
        },
        "id": "tVCkmVulXbqf",
        "outputId": "f294f895-ed9b-4a40-d1c0-2acafbe41f86"
      },
      "source": [
        "df_test.groupby('category').head(25)"
      ],
      "execution_count": null,
      "outputs": [
        {
          "output_type": "execute_result",
          "data": {
            "text/html": [
              "<div>\n",
              "<style scoped>\n",
              "    .dataframe tbody tr th:only-of-type {\n",
              "        vertical-align: middle;\n",
              "    }\n",
              "\n",
              "    .dataframe tbody tr th {\n",
              "        vertical-align: top;\n",
              "    }\n",
              "\n",
              "    .dataframe thead th {\n",
              "        text-align: right;\n",
              "    }\n",
              "</style>\n",
              "<table border=\"1\" class=\"dataframe\">\n",
              "  <thead>\n",
              "    <tr style=\"text-align: right;\">\n",
              "      <th></th>\n",
              "      <th>keyword</th>\n",
              "      <th>idf_weights</th>\n",
              "      <th>counts</th>\n",
              "      <th>category</th>\n",
              "      <th>%_cat</th>\n",
              "      <th>%_cat_med</th>\n",
              "      <th>cat_idf_med</th>\n",
              "    </tr>\n",
              "  </thead>\n",
              "  <tbody>\n",
              "    <tr>\n",
              "      <th>1830</th>\n",
              "      <td>rib</td>\n",
              "      <td>1.888530</td>\n",
              "      <td>783</td>\n",
              "      <td>Baby Back Ribs</td>\n",
              "      <td>0.420064</td>\n",
              "      <td>0.000536</td>\n",
              "      <td>7.837869</td>\n",
              "    </tr>\n",
              "    <tr>\n",
              "      <th>1302</th>\n",
              "      <td>loin</td>\n",
              "      <td>3.088599</td>\n",
              "      <td>230</td>\n",
              "      <td>Baby Back Ribs</td>\n",
              "      <td>0.123391</td>\n",
              "      <td>0.000536</td>\n",
              "      <td>7.837869</td>\n",
              "    </tr>\n",
              "    <tr>\n",
              "      <th>1246</th>\n",
              "      <td>lb</td>\n",
              "      <td>3.252902</td>\n",
              "      <td>196</td>\n",
              "      <td>Baby Back Ribs</td>\n",
              "      <td>0.105150</td>\n",
              "      <td>0.000536</td>\n",
              "      <td>7.837869</td>\n",
              "    </tr>\n",
              "    <tr>\n",
              "      <th>306</th>\n",
              "      <td>bf</td>\n",
              "      <td>3.443420</td>\n",
              "      <td>162</td>\n",
              "      <td>Baby Back Ribs</td>\n",
              "      <td>0.086910</td>\n",
              "      <td>0.000536</td>\n",
              "      <td>7.837869</td>\n",
              "    </tr>\n",
              "    <tr>\n",
              "      <th>1417</th>\n",
              "      <td>meatball</td>\n",
              "      <td>3.481160</td>\n",
              "      <td>155</td>\n",
              "      <td>Baby Back Ribs</td>\n",
              "      <td>0.083155</td>\n",
              "      <td>0.000536</td>\n",
              "      <td>7.837869</td>\n",
              "    </tr>\n",
              "    <tr>\n",
              "      <th>...</th>\n",
              "      <td>...</td>\n",
              "      <td>...</td>\n",
              "      <td>...</td>\n",
              "      <td>...</td>\n",
              "      <td>...</td>\n",
              "      <td>...</td>\n",
              "      <td>...</td>\n",
              "    </tr>\n",
              "    <tr>\n",
              "      <th>4181</th>\n",
              "      <td>lb</td>\n",
              "      <td>5.010704</td>\n",
              "      <td>70</td>\n",
              "      <td>Wild Boar</td>\n",
              "      <td>0.018125</td>\n",
              "      <td>0.000259</td>\n",
              "      <td>8.566052</td>\n",
              "    </tr>\n",
              "    <tr>\n",
              "      <th>5265</th>\n",
              "      <td>on</td>\n",
              "      <td>5.084812</td>\n",
              "      <td>67</td>\n",
              "      <td>Wild Boar</td>\n",
              "      <td>0.017349</td>\n",
              "      <td>0.000259</td>\n",
              "      <td>8.566052</td>\n",
              "    </tr>\n",
              "    <tr>\n",
              "      <th>3940</th>\n",
              "      <td>jumbo</td>\n",
              "      <td>5.054507</td>\n",
              "      <td>67</td>\n",
              "      <td>Wild Boar</td>\n",
              "      <td>0.017349</td>\n",
              "      <td>0.000259</td>\n",
              "      <td>8.566052</td>\n",
              "    </tr>\n",
              "    <tr>\n",
              "      <th>2467</th>\n",
              "      <td>farmed</td>\n",
              "      <td>5.069545</td>\n",
              "      <td>66</td>\n",
              "      <td>Wild Boar</td>\n",
              "      <td>0.017090</td>\n",
              "      <td>0.000259</td>\n",
              "      <td>8.566052</td>\n",
              "    </tr>\n",
              "    <tr>\n",
              "      <th>2616</th>\n",
              "      <td>fillets</td>\n",
              "      <td>5.069545</td>\n",
              "      <td>65</td>\n",
              "      <td>Wild Boar</td>\n",
              "      <td>0.016831</td>\n",
              "      <td>0.000259</td>\n",
              "      <td>8.566052</td>\n",
              "    </tr>\n",
              "  </tbody>\n",
              "</table>\n",
              "<p>875 rows × 7 columns</p>\n",
              "</div>"
            ],
            "text/plain": [
              "       keyword  idf_weights  counts  ...     %_cat  %_cat_med  cat_idf_med\n",
              "1830       rib     1.888530     783  ...  0.420064   0.000536     7.837869\n",
              "1302      loin     3.088599     230  ...  0.123391   0.000536     7.837869\n",
              "1246        lb     3.252902     196  ...  0.105150   0.000536     7.837869\n",
              "306         bf     3.443420     162  ...  0.086910   0.000536     7.837869\n",
              "1417  meatball     3.481160     155  ...  0.083155   0.000536     7.837869\n",
              "...        ...          ...     ...  ...       ...        ...          ...\n",
              "4181        lb     5.010704      70  ...  0.018125   0.000259     8.566052\n",
              "5265        on     5.084812      67  ...  0.017349   0.000259     8.566052\n",
              "3940     jumbo     5.054507      67  ...  0.017349   0.000259     8.566052\n",
              "2467    farmed     5.069545      66  ...  0.017090   0.000259     8.566052\n",
              "2616   fillets     5.069545      65  ...  0.016831   0.000259     8.566052\n",
              "\n",
              "[875 rows x 7 columns]"
            ]
          },
          "metadata": {
            "tags": []
          },
          "execution_count": 264
        }
      ]
    },
    {
      "cell_type": "code",
      "metadata": {
        "id": "QYkGzrMrwpRB"
      },
      "source": [
        "derp = df_test[(df_test['counts'] > 24) & (df_test['idf_weights'] > 6.0)]"
      ],
      "execution_count": null,
      "outputs": []
    },
    {
      "cell_type": "code",
      "metadata": {
        "id": "BAKqre98L38_"
      },
      "source": [
        "derp.to_csv('derp.csv')"
      ],
      "execution_count": null,
      "outputs": []
    },
    {
      "cell_type": "markdown",
      "metadata": {
        "id": "9-WqqzX5gJMH"
      },
      "source": [
        "<h2> TFIDF Score </h2>"
      ]
    },
    {
      "cell_type": "code",
      "metadata": {
        "id": "xSwZ9aNigO8x"
      },
      "source": [
        "count_vector = cv.transform(docs)\n",
        "# creates a sparse matrix of word counts in documents.... whatever that means XD\n",
        "\n",
        "tf_idf_vector = tfidf_transformer.transform(count_vector)\n",
        "# this computes the tf-idf score of docs"
      ],
      "execution_count": null,
      "outputs": []
    },
    {
      "cell_type": "code",
      "metadata": {
        "id": "mExyGz_SgvFB"
      },
      "source": [
        "features = cv.get_feature_names()\n",
        "\n",
        "first_doc_vectors = tf_idf_vector[1]\n",
        "\n",
        "df=pd.DataFrame(first_doc_vectors.T.todense(), index=features, columns=['tfidf'])\n",
        "\n",
        "print(df_test.iloc[1, 0], '\\n', df[df['tfidf']>0], '\\nsum:', df[df['tfidf']>0].values.sum())\n",
        "# this is the tfidf of first name in df_test"
      ],
      "execution_count": null,
      "outputs": []
    },
    {
      "cell_type": "markdown",
      "metadata": {
        "id": "Rt1_0ahtlICR"
      },
      "source": [
        "<h2> TFIDF Using Tfidfvectorizer </h2>"
      ]
    },
    {
      "cell_type": "code",
      "metadata": {
        "id": "HFan55zMphNf"
      },
      "source": [
        "df_temp"
      ],
      "execution_count": null,
      "outputs": []
    },
    {
      "cell_type": "code",
      "metadata": {
        "id": "nE5zYjVGahLC"
      },
      "source": [
        "docs1 = df_temp['name'].values\n",
        "sw1 = df_temp.iloc[0, 2]"
      ],
      "execution_count": null,
      "outputs": []
    },
    {
      "cell_type": "code",
      "metadata": {
        "id": "AzNmWPxKiGdb"
      },
      "source": [
        "tfidf_vectorizer = TfidfVectorizer(use_idf=True, stop_words=sw1)\n",
        "tfidf_vectorizer_vectors = tfidf_vectorizer.fit_transform(docs)"
      ],
      "execution_count": null,
      "outputs": []
    },
    {
      "cell_type": "code",
      "metadata": {
        "colab": {
          "base_uri": "https://localhost:8080/"
        },
        "id": "Rh9opDuWuhNp",
        "outputId": "7adca205-c580-4d7c-f4a1-3701b742b588"
      },
      "source": [
        "df_temp.shape"
      ],
      "execution_count": null,
      "outputs": [
        {
          "output_type": "execute_result",
          "data": {
            "text/plain": [
              "(725, 4)"
            ]
          },
          "metadata": {
            "tags": []
          },
          "execution_count": 86
        }
      ]
    },
    {
      "cell_type": "code",
      "metadata": {
        "colab": {
          "base_uri": "https://localhost:8080/"
        },
        "id": "aeu9THSouaPX",
        "outputId": "b1a8d5ad-ca05-4a62-b50d-ee6af80aeae1"
      },
      "source": [
        "len(tfidf_vectorizer.get_feature_names())"
      ],
      "execution_count": null,
      "outputs": [
        {
          "output_type": "execute_result",
          "data": {
            "text/plain": [
              "702"
            ]
          },
          "metadata": {
            "tags": []
          },
          "execution_count": 84
        }
      ]
    },
    {
      "cell_type": "code",
      "metadata": {
        "colab": {
          "base_uri": "https://localhost:8080/"
        },
        "id": "y0Zg6FuHtudM",
        "outputId": "ae6365e4-0ff3-4620-cc55-c6a61b69f4b2"
      },
      "source": [
        "print(tfidf_vectorizer_vectors.shape)"
      ],
      "execution_count": null,
      "outputs": [
        {
          "output_type": "stream",
          "text": [
            "(725, 702)\n"
          ],
          "name": "stdout"
        }
      ]
    },
    {
      "cell_type": "code",
      "metadata": {
        "colab": {
          "base_uri": "https://localhost:8080/"
        },
        "id": "NyThkKHl1TbE",
        "outputId": "dbee0efc-7ea9-4e35-dc16-4d9541261811"
      },
      "source": [
        "len(tfidf_vectorizer.idf_), len(tfidf_vectorizer.vocabulary_)"
      ],
      "execution_count": null,
      "outputs": [
        {
          "output_type": "execute_result",
          "data": {
            "text/plain": [
              "(702, 702)"
            ]
          },
          "metadata": {
            "tags": []
          },
          "execution_count": 120
        }
      ]
    },
    {
      "cell_type": "code",
      "metadata": {
        "id": "O-8Ik3tFnMqX"
      },
      "source": [
        "first_vector_tfidf_vectorizer = tfidf_vectorizer_vectors[0]\n",
        "df_tfidfv = pd.DataFrame(first_vector_tfidf_vectorizer.T.todense(), index=tfidf_vectorizer.get_feature_names(), columns=['tfidf'])\n",
        "df_tfidfv[df_tfidfv['tfidf'] > 0]"
      ],
      "execution_count": null,
      "outputs": []
    },
    {
      "cell_type": "code",
      "metadata": {
        "colab": {
          "base_uri": "https://localhost:8080/",
          "height": 80
        },
        "id": "_RFEkBmlynLS",
        "outputId": "fc2f516c-e2d7-4216-d021-2b05935f0972"
      },
      "source": [
        "# create docs of each cat as collection of all item names in each cat and put into DF\n",
        "df_docs = pd.DataFrame(columns=['category', 'sw', 'doc'])\n",
        "df_temp = df[df['category'] == 'Ground Beef']\n",
        "doc = ' '.join(df_temp['name'].values)\n",
        "doc = [{'category':'Ground Beef',  'doc': doc}]\n",
        "df_docs.append(doc, ignore_index=True)"
      ],
      "execution_count": null,
      "outputs": [
        {
          "output_type": "execute_result",
          "data": {
            "text/html": [
              "<div>\n",
              "<style scoped>\n",
              "    .dataframe tbody tr th:only-of-type {\n",
              "        vertical-align: middle;\n",
              "    }\n",
              "\n",
              "    .dataframe tbody tr th {\n",
              "        vertical-align: top;\n",
              "    }\n",
              "\n",
              "    .dataframe thead th {\n",
              "        text-align: right;\n",
              "    }\n",
              "</style>\n",
              "<table border=\"1\" class=\"dataframe\">\n",
              "  <thead>\n",
              "    <tr style=\"text-align: right;\">\n",
              "      <th></th>\n",
              "      <th>category</th>\n",
              "      <th>sw</th>\n",
              "      <th>doc</th>\n",
              "    </tr>\n",
              "  </thead>\n",
              "  <tbody>\n",
              "    <tr>\n",
              "      <th>0</th>\n",
              "      <td>Ground Beef</td>\n",
              "      <td>NaN</td>\n",
              "      <td>cab beef grnd chck fine 80/20 f ground whit op...</td>\n",
              "    </tr>\n",
              "  </tbody>\n",
              "</table>\n",
              "</div>"
            ],
            "text/plain": [
              "      category   sw                                                doc\n",
              "0  Ground Beef  NaN  cab beef grnd chck fine 80/20 f ground whit op..."
            ]
          },
          "metadata": {
            "tags": []
          },
          "execution_count": 9
        }
      ]
    },
    {
      "cell_type": "code",
      "metadata": {
        "id": "kohLuY_m2z3W"
      },
      "source": [
        "# do the same as above but for every cat in test_cats\n",
        "df_docs = pd.DataFrame(columns=['category', 'sw', 'doc'])\n",
        "\n",
        "for cat in test_cats: \n",
        "  df_temp = df[df['category'] == cat]\n",
        "  doc = ' '.join(df_temp['name'].values)\n",
        "  sw = df_temp.iloc[0,2]\n",
        "  doc_row = [{'category': cat, 'sw' : sw, 'doc': doc}]\n",
        "  df_docs = df_docs.append(doc_row, ignore_index=True)\n",
        "\n",
        "df_docs.set_index('category', inplace=True)"
      ],
      "execution_count": null,
      "outputs": []
    },
    {
      "cell_type": "markdown",
      "metadata": {
        "id": "giJfiU0_3OUH"
      },
      "source": [
        "TFIDF Vectorizer on df_docs!!!\n"
      ]
    },
    {
      "cell_type": "code",
      "metadata": {
        "id": "q2j-Ionm7K69"
      },
      "source": [
        "# TFIDF given NO stopwords and default preprocess/tokenizer\n",
        "\n",
        "tfidf_vectorizer = TfidfVectorizer(use_idf=True, token_pattern=r\"(?u)\\b[a-zA-Z_]+\\w+\\b|\\b\\w+[a-zA-Z_]+\\b\", ngram_range=(1, 2))\n",
        "tfidf_vectorizer_vectors = tfidf_vectorizer.fit_transform(df_docs['doc'])"
      ],
      "execution_count": null,
      "outputs": []
    },
    {
      "cell_type": "code",
      "metadata": {
        "colab": {
          "base_uri": "https://localhost:8080/"
        },
        "id": "OLe3rFmcDqhY",
        "outputId": "f730dbe9-ee81-4cae-d10c-e099b48ea289"
      },
      "source": [
        "tfidf_vectorizer_vectors"
      ],
      "execution_count": null,
      "outputs": [
        {
          "output_type": "execute_result",
          "data": {
            "text/plain": [
              "<35x196296 sparse matrix of type '<class 'numpy.float64'>'\n",
              "\twith 262578 stored elements in Compressed Sparse Row format>"
            ]
          },
          "metadata": {
            "tags": []
          },
          "execution_count": 16
        }
      ]
    },
    {
      "cell_type": "code",
      "metadata": {
        "colab": {
          "base_uri": "https://localhost:8080/",
          "height": 558
        },
        "id": "7x1fh5nG89gm",
        "outputId": "d9c7990e-d3c7-407a-98fc-5f51f75590fe"
      },
      "source": [
        "feature_names = tfidf_vectorizer.get_feature_names()\n",
        "\n",
        "df1 = pd.DataFrame(tfidf_vectorizer_vectors.T.todense(), index=feature_names, columns=test_cats)\n",
        "df1['total'] = df1.sum(axis=1)\n",
        "df1.sort_values(by='total', ascending=False)"
      ],
      "execution_count": null,
      "outputs": [
        {
          "output_type": "execute_result",
          "data": {
            "text/html": [
              "<div>\n",
              "<style scoped>\n",
              "    .dataframe tbody tr th:only-of-type {\n",
              "        vertical-align: middle;\n",
              "    }\n",
              "\n",
              "    .dataframe tbody tr th {\n",
              "        vertical-align: top;\n",
              "    }\n",
              "\n",
              "    .dataframe thead th {\n",
              "        text-align: right;\n",
              "    }\n",
              "</style>\n",
              "<table border=\"1\" class=\"dataframe\">\n",
              "  <thead>\n",
              "    <tr style=\"text-align: right;\">\n",
              "      <th></th>\n",
              "      <th>Ground Beef</th>\n",
              "      <th>Top Round</th>\n",
              "      <th>Hot Dog</th>\n",
              "      <th>Beef Strip Steak</th>\n",
              "      <th>New York Strip</th>\n",
              "      <th>Flat Iron Steak</th>\n",
              "      <th>Skirt Steak</th>\n",
              "      <th>Flap Meat</th>\n",
              "      <th>Ground Chuck</th>\n",
              "      <th>Wild Boar</th>\n",
              "      <th>Top Sirloin</th>\n",
              "      <th>Short Ribs</th>\n",
              "      <th>Hanger Steak</th>\n",
              "      <th>Chuck Roast</th>\n",
              "      <th>Filet Mignon</th>\n",
              "      <th>Tri Tip</th>\n",
              "      <th>Pork Rack</th>\n",
              "      <th>Chuck Roll</th>\n",
              "      <th>Prime Rib</th>\n",
              "      <th>Baby Back Ribs</th>\n",
              "      <th>Pork Head</th>\n",
              "      <th>Bone Marrow</th>\n",
              "      <th>T-Bone Steaks</th>\n",
              "      <th>Chuck Flat</th>\n",
              "      <th>Spare Ribs</th>\n",
              "      <th>Hot Link</th>\n",
              "      <th>Ham Hocks</th>\n",
              "      <th>Pork Skin</th>\n",
              "      <th>Pork Chops</th>\n",
              "      <th>Pork Neck Bones</th>\n",
              "      <th>Wagyu Beef Rib Eye</th>\n",
              "      <th>Ground Kobe Beef</th>\n",
              "      <th>Lamb</th>\n",
              "      <th>Cornish Game Hens</th>\n",
              "      <th>Pork Chop Center Cut</th>\n",
              "      <th>total</th>\n",
              "    </tr>\n",
              "  </thead>\n",
              "  <tbody>\n",
              "    <tr>\n",
              "      <th>beef</th>\n",
              "      <td>0.659779</td>\n",
              "      <td>0.219269</td>\n",
              "      <td>0.023023</td>\n",
              "      <td>0.597470</td>\n",
              "      <td>0.101513</td>\n",
              "      <td>0.398149</td>\n",
              "      <td>0.453908</td>\n",
              "      <td>0.313509</td>\n",
              "      <td>0.668517</td>\n",
              "      <td>0.000374</td>\n",
              "      <td>0.376033</td>\n",
              "      <td>0.470548</td>\n",
              "      <td>0.415892</td>\n",
              "      <td>0.497382</td>\n",
              "      <td>0.418746</td>\n",
              "      <td>0.291401</td>\n",
              "      <td>0.005485</td>\n",
              "      <td>0.363119</td>\n",
              "      <td>0.374311</td>\n",
              "      <td>0.011746</td>\n",
              "      <td>0.000239</td>\n",
              "      <td>0.472862</td>\n",
              "      <td>0.113386</td>\n",
              "      <td>0.073197</td>\n",
              "      <td>0.012770</td>\n",
              "      <td>0.000452</td>\n",
              "      <td>0.001079</td>\n",
              "      <td>0.009259</td>\n",
              "      <td>0.006195</td>\n",
              "      <td>0.030120</td>\n",
              "      <td>0.237260</td>\n",
              "      <td>0.622446</td>\n",
              "      <td>0.005910</td>\n",
              "      <td>0.000000</td>\n",
              "      <td>0.023745</td>\n",
              "      <td>8.269092</td>\n",
              "    </tr>\n",
              "    <tr>\n",
              "      <th>pork</th>\n",
              "      <td>0.013003</td>\n",
              "      <td>0.001161</td>\n",
              "      <td>0.006606</td>\n",
              "      <td>0.005130</td>\n",
              "      <td>0.002125</td>\n",
              "      <td>0.007283</td>\n",
              "      <td>0.015063</td>\n",
              "      <td>0.012280</td>\n",
              "      <td>0.013121</td>\n",
              "      <td>0.000192</td>\n",
              "      <td>0.010401</td>\n",
              "      <td>0.011002</td>\n",
              "      <td>0.002498</td>\n",
              "      <td>0.016344</td>\n",
              "      <td>0.016068</td>\n",
              "      <td>0.002553</td>\n",
              "      <td>0.269827</td>\n",
              "      <td>0.010970</td>\n",
              "      <td>0.033128</td>\n",
              "      <td>0.412005</td>\n",
              "      <td>0.009325</td>\n",
              "      <td>0.028429</td>\n",
              "      <td>0.003835</td>\n",
              "      <td>0.000000</td>\n",
              "      <td>0.438901</td>\n",
              "      <td>0.000465</td>\n",
              "      <td>0.062668</td>\n",
              "      <td>0.346308</td>\n",
              "      <td>0.530297</td>\n",
              "      <td>0.306372</td>\n",
              "      <td>0.000000</td>\n",
              "      <td>0.013208</td>\n",
              "      <td>0.003646</td>\n",
              "      <td>0.000708</td>\n",
              "      <td>0.587066</td>\n",
              "      <td>3.191987</td>\n",
              "    </tr>\n",
              "    <tr>\n",
              "      <th>rib</th>\n",
              "      <td>0.007359</td>\n",
              "      <td>0.003923</td>\n",
              "      <td>0.000000</td>\n",
              "      <td>0.043894</td>\n",
              "      <td>0.006008</td>\n",
              "      <td>0.016300</td>\n",
              "      <td>0.020651</td>\n",
              "      <td>0.019514</td>\n",
              "      <td>0.016320</td>\n",
              "      <td>0.001383</td>\n",
              "      <td>0.010695</td>\n",
              "      <td>0.303550</td>\n",
              "      <td>0.014557</td>\n",
              "      <td>0.057494</td>\n",
              "      <td>0.034729</td>\n",
              "      <td>0.006562</td>\n",
              "      <td>0.095456</td>\n",
              "      <td>0.025378</td>\n",
              "      <td>0.445825</td>\n",
              "      <td>0.277814</td>\n",
              "      <td>0.000252</td>\n",
              "      <td>0.045936</td>\n",
              "      <td>0.014984</td>\n",
              "      <td>0.004073</td>\n",
              "      <td>0.230790</td>\n",
              "      <td>0.000000</td>\n",
              "      <td>0.000570</td>\n",
              "      <td>0.003671</td>\n",
              "      <td>0.084329</td>\n",
              "      <td>0.011373</td>\n",
              "      <td>0.198797</td>\n",
              "      <td>0.024693</td>\n",
              "      <td>0.012497</td>\n",
              "      <td>0.000000</td>\n",
              "      <td>0.110687</td>\n",
              "      <td>2.150064</td>\n",
              "    </tr>\n",
              "    <tr>\n",
              "      <th>steak</th>\n",
              "      <td>0.005218</td>\n",
              "      <td>0.008016</td>\n",
              "      <td>0.000475</td>\n",
              "      <td>0.112135</td>\n",
              "      <td>0.098386</td>\n",
              "      <td>0.262472</td>\n",
              "      <td>0.309911</td>\n",
              "      <td>0.004816</td>\n",
              "      <td>0.010713</td>\n",
              "      <td>0.000663</td>\n",
              "      <td>0.037267</td>\n",
              "      <td>0.048519</td>\n",
              "      <td>0.323342</td>\n",
              "      <td>0.005938</td>\n",
              "      <td>0.057720</td>\n",
              "      <td>0.010279</td>\n",
              "      <td>0.001996</td>\n",
              "      <td>0.007211</td>\n",
              "      <td>0.167020</td>\n",
              "      <td>0.000000</td>\n",
              "      <td>0.000000</td>\n",
              "      <td>0.035376</td>\n",
              "      <td>0.009706</td>\n",
              "      <td>0.002848</td>\n",
              "      <td>0.000000</td>\n",
              "      <td>0.000000</td>\n",
              "      <td>0.008294</td>\n",
              "      <td>0.001369</td>\n",
              "      <td>0.008244</td>\n",
              "      <td>0.000000</td>\n",
              "      <td>0.027949</td>\n",
              "      <td>0.009670</td>\n",
              "      <td>0.000000</td>\n",
              "      <td>0.000000</td>\n",
              "      <td>0.002553</td>\n",
              "      <td>1.578108</td>\n",
              "    </tr>\n",
              "    <tr>\n",
              "      <th>chuck</th>\n",
              "      <td>0.057461</td>\n",
              "      <td>0.006264</td>\n",
              "      <td>0.000000</td>\n",
              "      <td>0.014059</td>\n",
              "      <td>0.010675</td>\n",
              "      <td>0.055318</td>\n",
              "      <td>0.026298</td>\n",
              "      <td>0.058471</td>\n",
              "      <td>0.267570</td>\n",
              "      <td>0.000234</td>\n",
              "      <td>0.007602</td>\n",
              "      <td>0.085829</td>\n",
              "      <td>0.019272</td>\n",
              "      <td>0.236281</td>\n",
              "      <td>0.005592</td>\n",
              "      <td>0.009328</td>\n",
              "      <td>0.000528</td>\n",
              "      <td>0.386531</td>\n",
              "      <td>0.024329</td>\n",
              "      <td>0.000000</td>\n",
              "      <td>0.000000</td>\n",
              "      <td>0.034628</td>\n",
              "      <td>0.001868</td>\n",
              "      <td>0.086244</td>\n",
              "      <td>0.003046</td>\n",
              "      <td>0.000000</td>\n",
              "      <td>0.000000</td>\n",
              "      <td>0.000000</td>\n",
              "      <td>0.000000</td>\n",
              "      <td>0.039069</td>\n",
              "      <td>0.045620</td>\n",
              "      <td>0.014626</td>\n",
              "      <td>0.010363</td>\n",
              "      <td>0.000000</td>\n",
              "      <td>0.000000</td>\n",
              "      <td>1.507108</td>\n",
              "    </tr>\n",
              "    <tr>\n",
              "      <th>...</th>\n",
              "      <td>...</td>\n",
              "      <td>...</td>\n",
              "      <td>...</td>\n",
              "      <td>...</td>\n",
              "      <td>...</td>\n",
              "      <td>...</td>\n",
              "      <td>...</td>\n",
              "      <td>...</td>\n",
              "      <td>...</td>\n",
              "      <td>...</td>\n",
              "      <td>...</td>\n",
              "      <td>...</td>\n",
              "      <td>...</td>\n",
              "      <td>...</td>\n",
              "      <td>...</td>\n",
              "      <td>...</td>\n",
              "      <td>...</td>\n",
              "      <td>...</td>\n",
              "      <td>...</td>\n",
              "      <td>...</td>\n",
              "      <td>...</td>\n",
              "      <td>...</td>\n",
              "      <td>...</td>\n",
              "      <td>...</td>\n",
              "      <td>...</td>\n",
              "      <td>...</td>\n",
              "      <td>...</td>\n",
              "      <td>...</td>\n",
              "      <td>...</td>\n",
              "      <td>...</td>\n",
              "      <td>...</td>\n",
              "      <td>...</td>\n",
              "      <td>...</td>\n",
              "      <td>...</td>\n",
              "      <td>...</td>\n",
              "      <td>...</td>\n",
              "    </tr>\n",
              "    <tr>\n",
              "      <th>install freight</th>\n",
              "      <td>0.000371</td>\n",
              "      <td>0.000000</td>\n",
              "      <td>0.000000</td>\n",
              "      <td>0.000000</td>\n",
              "      <td>0.000000</td>\n",
              "      <td>0.000000</td>\n",
              "      <td>0.000000</td>\n",
              "      <td>0.000000</td>\n",
              "      <td>0.000000</td>\n",
              "      <td>0.000000</td>\n",
              "      <td>0.000000</td>\n",
              "      <td>0.000000</td>\n",
              "      <td>0.000000</td>\n",
              "      <td>0.000000</td>\n",
              "      <td>0.000000</td>\n",
              "      <td>0.000000</td>\n",
              "      <td>0.000000</td>\n",
              "      <td>0.000000</td>\n",
              "      <td>0.000000</td>\n",
              "      <td>0.000000</td>\n",
              "      <td>0.000000</td>\n",
              "      <td>0.000000</td>\n",
              "      <td>0.000000</td>\n",
              "      <td>0.000000</td>\n",
              "      <td>0.000000</td>\n",
              "      <td>0.000000</td>\n",
              "      <td>0.000000</td>\n",
              "      <td>0.000000</td>\n",
              "      <td>0.000000</td>\n",
              "      <td>0.000000</td>\n",
              "      <td>0.000000</td>\n",
              "      <td>0.000000</td>\n",
              "      <td>0.000000</td>\n",
              "      <td>0.000000</td>\n",
              "      <td>0.000000</td>\n",
              "      <td>0.000371</td>\n",
              "    </tr>\n",
              "    <tr>\n",
              "      <th>5ir buffalo</th>\n",
              "      <td>0.000371</td>\n",
              "      <td>0.000000</td>\n",
              "      <td>0.000000</td>\n",
              "      <td>0.000000</td>\n",
              "      <td>0.000000</td>\n",
              "      <td>0.000000</td>\n",
              "      <td>0.000000</td>\n",
              "      <td>0.000000</td>\n",
              "      <td>0.000000</td>\n",
              "      <td>0.000000</td>\n",
              "      <td>0.000000</td>\n",
              "      <td>0.000000</td>\n",
              "      <td>0.000000</td>\n",
              "      <td>0.000000</td>\n",
              "      <td>0.000000</td>\n",
              "      <td>0.000000</td>\n",
              "      <td>0.000000</td>\n",
              "      <td>0.000000</td>\n",
              "      <td>0.000000</td>\n",
              "      <td>0.000000</td>\n",
              "      <td>0.000000</td>\n",
              "      <td>0.000000</td>\n",
              "      <td>0.000000</td>\n",
              "      <td>0.000000</td>\n",
              "      <td>0.000000</td>\n",
              "      <td>0.000000</td>\n",
              "      <td>0.000000</td>\n",
              "      <td>0.000000</td>\n",
              "      <td>0.000000</td>\n",
              "      <td>0.000000</td>\n",
              "      <td>0.000000</td>\n",
              "      <td>0.000000</td>\n",
              "      <td>0.000000</td>\n",
              "      <td>0.000000</td>\n",
              "      <td>0.000000</td>\n",
              "      <td>0.000371</td>\n",
              "    </tr>\n",
              "    <tr>\n",
              "      <th>5ir bf</th>\n",
              "      <td>0.000371</td>\n",
              "      <td>0.000000</td>\n",
              "      <td>0.000000</td>\n",
              "      <td>0.000000</td>\n",
              "      <td>0.000000</td>\n",
              "      <td>0.000000</td>\n",
              "      <td>0.000000</td>\n",
              "      <td>0.000000</td>\n",
              "      <td>0.000000</td>\n",
              "      <td>0.000000</td>\n",
              "      <td>0.000000</td>\n",
              "      <td>0.000000</td>\n",
              "      <td>0.000000</td>\n",
              "      <td>0.000000</td>\n",
              "      <td>0.000000</td>\n",
              "      <td>0.000000</td>\n",
              "      <td>0.000000</td>\n",
              "      <td>0.000000</td>\n",
              "      <td>0.000000</td>\n",
              "      <td>0.000000</td>\n",
              "      <td>0.000000</td>\n",
              "      <td>0.000000</td>\n",
              "      <td>0.000000</td>\n",
              "      <td>0.000000</td>\n",
              "      <td>0.000000</td>\n",
              "      <td>0.000000</td>\n",
              "      <td>0.000000</td>\n",
              "      <td>0.000000</td>\n",
              "      <td>0.000000</td>\n",
              "      <td>0.000000</td>\n",
              "      <td>0.000000</td>\n",
              "      <td>0.000000</td>\n",
              "      <td>0.000000</td>\n",
              "      <td>0.000000</td>\n",
              "      <td>0.000000</td>\n",
              "      <td>0.000371</td>\n",
              "    </tr>\n",
              "    <tr>\n",
              "      <th>blend ab</th>\n",
              "      <td>0.000371</td>\n",
              "      <td>0.000000</td>\n",
              "      <td>0.000000</td>\n",
              "      <td>0.000000</td>\n",
              "      <td>0.000000</td>\n",
              "      <td>0.000000</td>\n",
              "      <td>0.000000</td>\n",
              "      <td>0.000000</td>\n",
              "      <td>0.000000</td>\n",
              "      <td>0.000000</td>\n",
              "      <td>0.000000</td>\n",
              "      <td>0.000000</td>\n",
              "      <td>0.000000</td>\n",
              "      <td>0.000000</td>\n",
              "      <td>0.000000</td>\n",
              "      <td>0.000000</td>\n",
              "      <td>0.000000</td>\n",
              "      <td>0.000000</td>\n",
              "      <td>0.000000</td>\n",
              "      <td>0.000000</td>\n",
              "      <td>0.000000</td>\n",
              "      <td>0.000000</td>\n",
              "      <td>0.000000</td>\n",
              "      <td>0.000000</td>\n",
              "      <td>0.000000</td>\n",
              "      <td>0.000000</td>\n",
              "      <td>0.000000</td>\n",
              "      <td>0.000000</td>\n",
              "      <td>0.000000</td>\n",
              "      <td>0.000000</td>\n",
              "      <td>0.000000</td>\n",
              "      <td>0.000000</td>\n",
              "      <td>0.000000</td>\n",
              "      <td>0.000000</td>\n",
              "      <td>0.000000</td>\n",
              "      <td>0.000371</td>\n",
              "    </tr>\n",
              "    <tr>\n",
              "      <th>hems slider</th>\n",
              "      <td>0.000371</td>\n",
              "      <td>0.000000</td>\n",
              "      <td>0.000000</td>\n",
              "      <td>0.000000</td>\n",
              "      <td>0.000000</td>\n",
              "      <td>0.000000</td>\n",
              "      <td>0.000000</td>\n",
              "      <td>0.000000</td>\n",
              "      <td>0.000000</td>\n",
              "      <td>0.000000</td>\n",
              "      <td>0.000000</td>\n",
              "      <td>0.000000</td>\n",
              "      <td>0.000000</td>\n",
              "      <td>0.000000</td>\n",
              "      <td>0.000000</td>\n",
              "      <td>0.000000</td>\n",
              "      <td>0.000000</td>\n",
              "      <td>0.000000</td>\n",
              "      <td>0.000000</td>\n",
              "      <td>0.000000</td>\n",
              "      <td>0.000000</td>\n",
              "      <td>0.000000</td>\n",
              "      <td>0.000000</td>\n",
              "      <td>0.000000</td>\n",
              "      <td>0.000000</td>\n",
              "      <td>0.000000</td>\n",
              "      <td>0.000000</td>\n",
              "      <td>0.000000</td>\n",
              "      <td>0.000000</td>\n",
              "      <td>0.000000</td>\n",
              "      <td>0.000000</td>\n",
              "      <td>0.000000</td>\n",
              "      <td>0.000000</td>\n",
              "      <td>0.000000</td>\n",
              "      <td>0.000000</td>\n",
              "      <td>0.000371</td>\n",
              "    </tr>\n",
              "  </tbody>\n",
              "</table>\n",
              "<p>196296 rows × 36 columns</p>\n",
              "</div>"
            ],
            "text/plain": [
              "                 Ground Beef  Top Round  ...  Pork Chop Center Cut     total\n",
              "beef                0.659779   0.219269  ...              0.023745  8.269092\n",
              "pork                0.013003   0.001161  ...              0.587066  3.191987\n",
              "rib                 0.007359   0.003923  ...              0.110687  2.150064\n",
              "steak               0.005218   0.008016  ...              0.002553  1.578108\n",
              "chuck               0.057461   0.006264  ...              0.000000  1.507108\n",
              "...                      ...        ...  ...                   ...       ...\n",
              "install freight     0.000371   0.000000  ...              0.000000  0.000371\n",
              "5ir buffalo         0.000371   0.000000  ...              0.000000  0.000371\n",
              "5ir bf              0.000371   0.000000  ...              0.000000  0.000371\n",
              "blend ab            0.000371   0.000000  ...              0.000000  0.000371\n",
              "hems slider         0.000371   0.000000  ...              0.000000  0.000371\n",
              "\n",
              "[196296 rows x 36 columns]"
            ]
          },
          "metadata": {
            "tags": []
          },
          "execution_count": 36
        }
      ]
    },
    {
      "cell_type": "markdown",
      "metadata": {
        "id": "xFT-Civy8fSC"
      },
      "source": [
        "Testing some preprocessing"
      ]
    },
    {
      "cell_type": "code",
      "metadata": {
        "colab": {
          "base_uri": "https://localhost:8080/"
        },
        "id": "ctjZlczEA-Yj",
        "outputId": "b9c6244c-fff6-44fe-ba6c-4d61f4b593eb"
      },
      "source": [
        "!pip install fuzzywuzzy\n",
        "!pip install python-Levenshtein\n",
        "from fuzzywuzzy import fuzz\n",
        "from fuzzywuzzy import process"
      ],
      "execution_count": null,
      "outputs": [
        {
          "output_type": "stream",
          "text": [
            "Requirement already satisfied: fuzzywuzzy in /usr/local/lib/python3.7/dist-packages (0.18.0)\n",
            "Collecting python-Levenshtein\n",
            "\u001b[?25l  Downloading https://files.pythonhosted.org/packages/2a/dc/97f2b63ef0fa1fd78dcb7195aca577804f6b2b51e712516cc0e902a9a201/python-Levenshtein-0.12.2.tar.gz (50kB)\n",
            "\u001b[K     |████████████████████████████████| 51kB 5.4MB/s \n",
            "\u001b[?25hRequirement already satisfied: setuptools in /usr/local/lib/python3.7/dist-packages (from python-Levenshtein) (56.1.0)\n",
            "Building wheels for collected packages: python-Levenshtein\n",
            "  Building wheel for python-Levenshtein (setup.py) ... \u001b[?25l\u001b[?25hdone\n",
            "  Created wheel for python-Levenshtein: filename=python_Levenshtein-0.12.2-cp37-cp37m-linux_x86_64.whl size=149825 sha256=c4ee6bffbf1a5fdcd3002e7b26c7fa7b8003b7c47a2c9bea9f1109ecdfc8179e\n",
            "  Stored in directory: /root/.cache/pip/wheels/b3/26/73/4b48503bac73f01cf18e52cd250947049a7f339e940c5df8fc\n",
            "Successfully built python-Levenshtein\n",
            "Installing collected packages: python-Levenshtein\n",
            "Successfully installed python-Levenshtein-0.12.2\n"
          ],
          "name": "stdout"
        }
      ]
    },
    {
      "cell_type": "code",
      "metadata": {
        "id": "rYpR5U26317g"
      },
      "source": [
        "df_gb = df_docs.loc['Ground Beef']\n",
        "\n",
        "df_gb['doc'] = my_preprocess(df_gb['doc'])\n",
        "\n",
        "sw = df_gb['sw']\n",
        "to_match = set(df_gb['doc'].split())"
      ],
      "execution_count": null,
      "outputs": []
    },
    {
      "cell_type": "code",
      "metadata": {
        "id": "KzHDlaPaRFrr"
      },
      "source": [
        "sw"
      ],
      "execution_count": null,
      "outputs": []
    },
    {
      "cell_type": "code",
      "metadata": {
        "colab": {
          "base_uri": "https://localhost:8080/",
          "height": 374
        },
        "id": "y5fE5Bc6OMSz",
        "outputId": "f1c4a917-8aba-480c-e8a2-2c3a7c59c6ec"
      },
      "source": [
        "# sw generator\n",
        "\n",
        "new_sw = []\n",
        "# new_sw.append(sw)\n",
        "for word in sw:\n",
        "  word = re.sub('[aeiou]', '', word)\n",
        "  new_sw.append(word)\n",
        "\n",
        "new_sw"
      ],
      "execution_count": null,
      "outputs": [
        {
          "output_type": "error",
          "ename": "KeyboardInterrupt",
          "evalue": "ignored",
          "traceback": [
            "\u001b[0;31m---------------------------------------------------------------------------\u001b[0m",
            "\u001b[0;31mKeyboardInterrupt\u001b[0m                         Traceback (most recent call last)",
            "\u001b[0;32m<ipython-input-151-1dc5e1e425b7>\u001b[0m in \u001b[0;36m<module>\u001b[0;34m()\u001b[0m\n\u001b[1;32m      4\u001b[0m \u001b[0;31m# new_sw.append(sw)\u001b[0m\u001b[0;34m\u001b[0m\u001b[0;34m\u001b[0m\u001b[0;34m\u001b[0m\u001b[0m\n\u001b[1;32m      5\u001b[0m \u001b[0;32mfor\u001b[0m \u001b[0mword\u001b[0m \u001b[0;32min\u001b[0m \u001b[0msw\u001b[0m\u001b[0;34m:\u001b[0m\u001b[0;34m\u001b[0m\u001b[0;34m\u001b[0m\u001b[0m\n\u001b[0;32m----> 6\u001b[0;31m   \u001b[0mword\u001b[0m \u001b[0;34m=\u001b[0m \u001b[0mre\u001b[0m\u001b[0;34m.\u001b[0m\u001b[0msub\u001b[0m\u001b[0;34m(\u001b[0m\u001b[0;34m'[aeiou]'\u001b[0m\u001b[0;34m,\u001b[0m \u001b[0;34m''\u001b[0m\u001b[0;34m,\u001b[0m \u001b[0mword\u001b[0m\u001b[0;34m)\u001b[0m\u001b[0;34m\u001b[0m\u001b[0;34m\u001b[0m\u001b[0m\n\u001b[0m\u001b[1;32m      7\u001b[0m   \u001b[0mnew_sw\u001b[0m\u001b[0;34m.\u001b[0m\u001b[0mappend\u001b[0m\u001b[0;34m(\u001b[0m\u001b[0mword\u001b[0m\u001b[0;34m)\u001b[0m\u001b[0;34m\u001b[0m\u001b[0;34m\u001b[0m\u001b[0m\n\u001b[1;32m      8\u001b[0m \u001b[0;34m\u001b[0m\u001b[0m\n",
            "\u001b[0;32m/usr/lib/python3.7/re.py\u001b[0m in \u001b[0;36msub\u001b[0;34m(pattern, repl, string, count, flags)\u001b[0m\n\u001b[1;32m    192\u001b[0m     \u001b[0ma\u001b[0m \u001b[0mcallable\u001b[0m\u001b[0;34m,\u001b[0m \u001b[0mit\u001b[0m\u001b[0;31m'\u001b[0m\u001b[0ms\u001b[0m \u001b[0mpassed\u001b[0m \u001b[0mthe\u001b[0m \u001b[0mMatch\u001b[0m \u001b[0mobject\u001b[0m \u001b[0;32mand\u001b[0m \u001b[0mmust\u001b[0m \u001b[0;32mreturn\u001b[0m\u001b[0;34m\u001b[0m\u001b[0;34m\u001b[0m\u001b[0m\n\u001b[1;32m    193\u001b[0m     a replacement string to be used.\"\"\"\n\u001b[0;32m--> 194\u001b[0;31m     \u001b[0;32mreturn\u001b[0m \u001b[0m_compile\u001b[0m\u001b[0;34m(\u001b[0m\u001b[0mpattern\u001b[0m\u001b[0;34m,\u001b[0m \u001b[0mflags\u001b[0m\u001b[0;34m)\u001b[0m\u001b[0;34m.\u001b[0m\u001b[0msub\u001b[0m\u001b[0;34m(\u001b[0m\u001b[0mrepl\u001b[0m\u001b[0;34m,\u001b[0m \u001b[0mstring\u001b[0m\u001b[0;34m,\u001b[0m \u001b[0mcount\u001b[0m\u001b[0;34m)\u001b[0m\u001b[0;34m\u001b[0m\u001b[0;34m\u001b[0m\u001b[0m\n\u001b[0m\u001b[1;32m    195\u001b[0m \u001b[0;34m\u001b[0m\u001b[0m\n\u001b[1;32m    196\u001b[0m \u001b[0;32mdef\u001b[0m \u001b[0msubn\u001b[0m\u001b[0;34m(\u001b[0m\u001b[0mpattern\u001b[0m\u001b[0;34m,\u001b[0m \u001b[0mrepl\u001b[0m\u001b[0;34m,\u001b[0m \u001b[0mstring\u001b[0m\u001b[0;34m,\u001b[0m \u001b[0mcount\u001b[0m\u001b[0;34m=\u001b[0m\u001b[0;36m0\u001b[0m\u001b[0;34m,\u001b[0m \u001b[0mflags\u001b[0m\u001b[0;34m=\u001b[0m\u001b[0;36m0\u001b[0m\u001b[0;34m)\u001b[0m\u001b[0;34m:\u001b[0m\u001b[0;34m\u001b[0m\u001b[0;34m\u001b[0m\u001b[0m\n",
            "\u001b[0;32m/usr/lib/python3.7/re.py\u001b[0m in \u001b[0;36m_compile\u001b[0;34m(pattern, flags)\u001b[0m\n\u001b[1;32m    273\u001b[0m \u001b[0;32mdef\u001b[0m \u001b[0m_compile\u001b[0m\u001b[0;34m(\u001b[0m\u001b[0mpattern\u001b[0m\u001b[0;34m,\u001b[0m \u001b[0mflags\u001b[0m\u001b[0;34m)\u001b[0m\u001b[0;34m:\u001b[0m\u001b[0;34m\u001b[0m\u001b[0;34m\u001b[0m\u001b[0m\n\u001b[1;32m    274\u001b[0m     \u001b[0;31m# internal: compile pattern\u001b[0m\u001b[0;34m\u001b[0m\u001b[0;34m\u001b[0m\u001b[0;34m\u001b[0m\u001b[0m\n\u001b[0;32m--> 275\u001b[0;31m     \u001b[0;32mif\u001b[0m \u001b[0misinstance\u001b[0m\u001b[0;34m(\u001b[0m\u001b[0mflags\u001b[0m\u001b[0;34m,\u001b[0m \u001b[0mRegexFlag\u001b[0m\u001b[0;34m)\u001b[0m\u001b[0;34m:\u001b[0m\u001b[0;34m\u001b[0m\u001b[0;34m\u001b[0m\u001b[0m\n\u001b[0m\u001b[1;32m    276\u001b[0m         \u001b[0mflags\u001b[0m \u001b[0;34m=\u001b[0m \u001b[0mflags\u001b[0m\u001b[0;34m.\u001b[0m\u001b[0mvalue\u001b[0m\u001b[0;34m\u001b[0m\u001b[0;34m\u001b[0m\u001b[0m\n\u001b[1;32m    277\u001b[0m     \u001b[0;32mtry\u001b[0m\u001b[0;34m:\u001b[0m\u001b[0;34m\u001b[0m\u001b[0;34m\u001b[0m\u001b[0m\n",
            "\u001b[0;31mKeyboardInterrupt\u001b[0m: "
          ]
        }
      ]
    },
    {
      "cell_type": "code",
      "metadata": {
        "id": "FnoNb6kNGQqD"
      },
      "source": [
        "# preprocess df_gb['doc']\n",
        "\n",
        "def my_preprocess(text):\n",
        "  text = re.sub('[^a-zA-Z0-9 %#\\.\\/\\:-]', '', text)\n",
        "  return text"
      ],
      "execution_count": null,
      "outputs": []
    },
    {
      "cell_type": "code",
      "metadata": {
        "colab": {
          "base_uri": "https://localhost:8080/"
        },
        "id": "97ZeXaMDGLxj",
        "outputId": "2e1776f0-57f2-449f-e08a-b581a5f62370"
      },
      "source": [
        "scores = {}\n",
        "for s in sw:\n",
        "  scores[s] = {}\n",
        "  for item in to_match:\n",
        "    score = fuzz.ratio(s, item)\n",
        "    if score < 75: continue\n",
        "    scores[s][item] = score\n",
        "\n",
        "scores "
      ],
      "execution_count": null,
      "outputs": [
        {
          "output_type": "execute_result",
          "data": {
            "text/plain": [
              "{'beef': {'%beef': 89,\n",
              "  '-beef': 89,\n",
              "  'bbeef': 89,\n",
              "  'bbef': 75,\n",
              "  'bee': 86,\n",
              "  'beed': 75,\n",
              "  'beedf': 89,\n",
              "  'beeef': 89,\n",
              "  'beef': 100,\n",
              "  'beef-': 89,\n",
              "  'beef.': 89,\n",
              "  'beef/': 89,\n",
              "  'beeg': 75,\n",
              "  'beep': 75,\n",
              "  'beer': 75,\n",
              "  'beet': 75,\n",
              "  'bef': 86,\n",
              "  'beff': 75,\n",
              "  'breef': 89,\n",
              "  'eef': 86,\n",
              "  'feef': 75,\n",
              "  'g.beef': 80,\n",
              "  'grbeef': 80,\n",
              "  'hpbeef': 80,\n",
              "  'reef': 75,\n",
              "  'veef': 75},\n",
              " 'ground': {'6round': 83,\n",
              "  'background': 75,\n",
              "  'fbfground': 80,\n",
              "  'fround': 83,\n",
              "  'gound': 91,\n",
              "  'graound': 92,\n",
              "  'grnd': 80,\n",
              "  'grojnd': 83,\n",
              "  'groun': 91,\n",
              "  'ground': 100,\n",
              "  'ground-1lb': 75,\n",
              "  'ground-abf': 75,\n",
              "  'ground10lb': 75,\n",
              "  'grounds': 92,\n",
              "  'groupd': 83,\n",
              "  'grpound': 92,\n",
              "  'round': 91,\n",
              "  'ups-ground': 75}}"
            ]
          },
          "metadata": {
            "tags": []
          },
          "execution_count": 116
        }
      ]
    },
    {
      "cell_type": "code",
      "metadata": {
        "id": "4d5rBs75AEfG"
      },
      "source": [
        "process.extract?"
      ],
      "execution_count": null,
      "outputs": []
    },
    {
      "cell_type": "code",
      "metadata": {
        "id": "8Z-IDQh6Cs6C"
      },
      "source": [
        ""
      ],
      "execution_count": null,
      "outputs": []
    }
  ]
}